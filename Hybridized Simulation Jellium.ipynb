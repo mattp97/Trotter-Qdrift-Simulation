{
 "cells": [
  {
   "cell_type": "code",
   "execution_count": 2,
   "metadata": {},
   "outputs": [],
   "source": [
    "import numpy as np\n",
    "import matplotlib.pyplot as plt \n",
    "%matplotlib inline\n",
    "import scipy.linalg as la\n",
    "import math\n",
    "#import time\n",
    "from numpy import random\n",
    "import cmath\n",
    "from sympy import S, symbols, printing\n",
    "\n",
    "from compilers import *\n",
    "from utils import *\n",
    "import openfermion\n",
    "\n",
    "import json"
   ]
  },
  {
   "cell_type": "markdown",
   "metadata": {},
   "source": [
    "## Hamiltonian Initialization\n",
    "\n"
   ]
  },
  {
   "cell_type": "markdown",
   "metadata": {},
   "source": [
    "This section handles initialization of specific Hamiltonians and simulation parameters."
   ]
  },
  {
   "cell_type": "markdown",
   "metadata": {},
   "source": [
    "#### Arbitrary Tensored 4x4 Pauli"
   ]
  },
  {
   "cell_type": "code",
   "execution_count": 3,
   "metadata": {},
   "outputs": [
    {
     "name": "stdout",
     "output_type": "stream",
     "text": [
      "(8, 4, 4)\n",
      "(8, 4, 4)\n"
     ]
    }
   ],
   "source": [
    "X = np.array([[0, 1],\n",
    "     [1, 0]])\n",
    "Z = np.array([[1, 0],\n",
    "     [0, -1]])\n",
    "Y = np.array([[0, -1j],\n",
    "     [1j, 0]])\n",
    "I = np.array([[1, 0],\n",
    "     [0, 1]])\n",
    "XX = np.kron(X, X) #tensor products between two Pauli's\n",
    "XZ = np.kron(X, Z)\n",
    "ZZ = np.kron(Z, Z)\n",
    "ZX = np.kron(Z, X)\n",
    "II = np.kron(I, I)\n",
    "IX = np.kron(I, X)\n",
    "XI = np.kron(X, I)\n",
    "IZ = np.kron(I, Z)\n",
    "ZI = np.kron(Z, I)\n",
    "#List of Hamiltonian decomposition terms H_j for H = \\sum_j h_j H_j\n",
    "Hlist = np.array([XX, XZ, ZX, ZZ, IX, IZ, XI, ZI])\n",
    "hj = [1.0, 2.0, -3.0, -4.0, -2.0, 1.0, 0.5, 0.25] #list of normalized coefficients\n",
    "\n",
    "print(Hlist.shape)\n",
    "\n",
    "hamiltonian_list = []\n",
    "for i in range(len(hj)):\n",
    "    hamiltonian_list.append(hj[i] * Hlist[i, :, :])\n",
    "hamiltonian_list = np.array(hamiltonian_list)\n",
    "pauli_hamiltonian = hamiltonian_list\n",
    "print(hamiltonian_list.shape)\n",
    "#print(hamiltonian_list)"
   ]
  },
  {
   "cell_type": "markdown",
   "metadata": {},
   "source": [
    "#### Graph Hamiltonian"
   ]
  },
  {
   "cell_type": "code",
   "execution_count": 4,
   "metadata": {},
   "outputs": [],
   "source": [
    "# A simple function that computes the graph distance between two sites\n",
    "def dist(site1, site2):\n",
    "    distance_vec = site1 - site2\n",
    "    distance = np.abs(distance_vec[0]) + np.abs(distance_vec[1])\n",
    "    return distance\n",
    "\n",
    "# A simple function that initializes a graph in the form of an np.array of coordinates \n",
    "def initialize_graph(x_sites, y_sites):\n",
    "    coord_list = []\n",
    "    for i in range(x_sites):\n",
    "        for j in range(y_sites):\n",
    "            coord_list.append([i,j])\n",
    "    return np.array(coord_list)\n",
    "\n",
    "#A funciton that initializes a Pauli operator in the correct space, acting on a specific qubit\n",
    "def initialize_operator(operator_2d, acting_space, space_dimension):\n",
    "    if acting_space>space_dimension:\n",
    "        return 'error'\n",
    "    for i in range(acting_space):\n",
    "        operator_2d = np.kron(operator_2d, I)\n",
    "    for j in range(space_dimension - acting_space-1):\n",
    "        operator_2d = np.kron(I, operator_2d)\n",
    "    return operator_2d"
   ]
  },
  {
   "cell_type": "code",
   "execution_count": 5,
   "metadata": {
    "scrolled": true
   },
   "outputs": [
    {
     "name": "stdout",
     "output_type": "stream",
     "text": [
      "(36, 64, 64)\n"
     ]
    }
   ],
   "source": [
    "#Initialize Hamiltonian \n",
    "def graph_hamiltonian(x_dim, y_dim, rng_seed):\n",
    "    np.random.seed(rng_seed)\n",
    "    hamiltonian_list = []\n",
    "    graph = initialize_graph(x_dim, y_dim)\n",
    "    for i in range(x_dim*y_dim):\n",
    "        for j in range(y_dim*x_dim):\n",
    "            if i != j: #long range interaction\n",
    "                alpha = np.random.normal()\n",
    "                hamiltonian_list.append(alpha * \n",
    "                    np.matmul(initialize_operator(Z, i, x_dim*y_dim), initialize_operator(Z, j, x_dim*y_dim)) *\n",
    "                        10.0**(-dist(graph[i], graph[j]))) \n",
    "\n",
    "            # if (dist(graph[i], graph[j])==1) and (i>j): #nearest neighbour interaction\n",
    "            #     beta = np.random.normal()\n",
    "            #     hamiltonian_list.append(beta * np.matmul(initialize_operator(Y, i, x_dim*y_dim), initialize_operator(Y, j, x_dim*y_dim)))\n",
    "            \n",
    "        gamma = np.random.normal()\n",
    "        hamiltonian_list.append(4* gamma * initialize_operator(X, i, x_dim*y_dim))\n",
    "                \n",
    "    return np.array(hamiltonian_list)\n",
    "\n",
    "graph_hamiltonian_list = graph_hamiltonian(3, 2, 1)\n",
    "print(graph_hamiltonian_list.shape)"
   ]
  },
  {
   "cell_type": "markdown",
   "metadata": {},
   "source": [
    "### OpenFermion Hamiltonian List Generators"
   ]
  },
  {
   "cell_type": "code",
   "execution_count": 6,
   "metadata": {},
   "outputs": [],
   "source": [
    "from openfermion.hamiltonians import jellium_model\n",
    "from openfermion.utils import Grid, count_qubits\n",
    "from openfermion.transforms import jordan_wigner, fourier_transform, get_fermion_operator\n",
    "from openfermion.linalg import eigenspectrum, qubit_operator_sparse, get_sparse_operator\n",
    "from openfermion.ops import QubitOperator\n",
    "\n",
    "#A function to help convert from the default output of openfermion to the style we require to run our simulator, \n",
    "# a numpy array that is structured as a list of hamiltonian terms. \n",
    "def openfermion_matrix_list(qubit_operator):\n",
    "    total_qubits = count_qubits(qubit_operator)\n",
    "    matrix_list = []\n",
    "    op_list = list(qubit_operator)\n",
    "    for i in op_list:\n",
    "        matrix_list.append(get_sparse_operator(i, total_qubits).toarray()) #changed from qubit operator and made no differnce\n",
    "    return np.array(matrix_list)\n",
    "\n",
    "    #Test -- shows ops are equivalent\n",
    "def test_list_generator(openfermion_output):\n",
    "    max_val = []\n",
    "    of_generator = get_sparse_operator(openfermion_output).toarray()\n",
    "    list_generator = sum(openfermion_matrix_list(openfermion_output))\n",
    "    the_zero_op = of_generator - list_generator\n",
    "    for i in range(the_zero_op.shape[0]):\n",
    "        for j in range(the_zero_op.shape[0]):\n",
    "            max_val.append((the_zero_op)[i][j])\n",
    "    print(max(max_val))\n",
    "    norm = np.linalg.norm(the_zero_op, ord=2)\n",
    "    if norm < FLOATING_POINT_PRECISION:\n",
    "        print(\"success!\")\n",
    "    else:\n",
    "        print(\"failed!\")\n",
    "    return 0"
   ]
  },
  {
   "cell_type": "markdown",
   "metadata": {},
   "source": [
    "#### Jellium"
   ]
  },
  {
   "cell_type": "code",
   "execution_count": 7,
   "metadata": {},
   "outputs": [
    {
     "name": "stdout",
     "output_type": "stream",
     "text": [
      "[[[ 9.81986848e+01+0.j  0.00000000e+00+0.j  0.00000000e+00+0.j ...\n",
      "    0.00000000e+00+0.j  0.00000000e+00+0.j  0.00000000e+00+0.j]\n",
      "  [ 0.00000000e+00+0.j  9.81986848e+01+0.j  0.00000000e+00+0.j ...\n",
      "    0.00000000e+00+0.j  0.00000000e+00+0.j  0.00000000e+00+0.j]\n",
      "  [ 0.00000000e+00+0.j  0.00000000e+00+0.j  9.81986848e+01+0.j ...\n",
      "    0.00000000e+00+0.j  0.00000000e+00+0.j  0.00000000e+00+0.j]\n",
      "  ...\n",
      "  [ 0.00000000e+00+0.j  0.00000000e+00+0.j  0.00000000e+00+0.j ...\n",
      "    9.81986848e+01+0.j  0.00000000e+00+0.j  0.00000000e+00+0.j]\n",
      "  [ 0.00000000e+00+0.j  0.00000000e+00+0.j  0.00000000e+00+0.j ...\n",
      "    0.00000000e+00+0.j  9.81986848e+01+0.j  0.00000000e+00+0.j]\n",
      "  [ 0.00000000e+00+0.j  0.00000000e+00+0.j  0.00000000e+00+0.j ...\n",
      "    0.00000000e+00+0.j  0.00000000e+00+0.j  9.81986848e+01+0.j]]\n",
      "\n",
      " [[-3.92794739e+01+0.j  0.00000000e+00+0.j  0.00000000e+00+0.j ...\n",
      "    0.00000000e+00+0.j  0.00000000e+00+0.j  0.00000000e+00+0.j]\n",
      "  [ 0.00000000e+00+0.j -3.92794739e+01+0.j  0.00000000e+00+0.j ...\n",
      "    0.00000000e+00+0.j  0.00000000e+00+0.j  0.00000000e+00+0.j]\n",
      "  [ 0.00000000e+00+0.j  0.00000000e+00+0.j -3.92794739e+01+0.j ...\n",
      "    0.00000000e+00+0.j  0.00000000e+00+0.j  0.00000000e+00+0.j]\n",
      "  ...\n",
      "  [ 0.00000000e+00+0.j  0.00000000e+00+0.j  0.00000000e+00+0.j ...\n",
      "    3.92794739e+01+0.j  0.00000000e+00+0.j  0.00000000e+00+0.j]\n",
      "  [ 0.00000000e+00+0.j  0.00000000e+00+0.j  0.00000000e+00+0.j ...\n",
      "    0.00000000e+00+0.j  3.92794739e+01+0.j  0.00000000e+00+0.j]\n",
      "  [ 0.00000000e+00+0.j  0.00000000e+00+0.j  0.00000000e+00+0.j ...\n",
      "    0.00000000e+00+0.j  0.00000000e+00+0.j  3.92794739e+01+0.j]]\n",
      "\n",
      " [[-9.67066072e+00+0.j  0.00000000e+00+0.j  0.00000000e+00+0.j ...\n",
      "    0.00000000e+00+0.j  0.00000000e+00+0.j  0.00000000e+00+0.j]\n",
      "  [ 0.00000000e+00+0.j -9.67066072e+00+0.j  0.00000000e+00+0.j ...\n",
      "    0.00000000e+00+0.j  0.00000000e+00+0.j  0.00000000e+00+0.j]\n",
      "  [ 0.00000000e+00+0.j  0.00000000e+00+0.j -9.67066072e+00+0.j ...\n",
      "    0.00000000e+00+0.j  0.00000000e+00+0.j  0.00000000e+00+0.j]\n",
      "  ...\n",
      "  [ 0.00000000e+00+0.j  0.00000000e+00+0.j  0.00000000e+00+0.j ...\n",
      "    9.67066072e+00+0.j  0.00000000e+00+0.j  0.00000000e+00+0.j]\n",
      "  [ 0.00000000e+00+0.j  0.00000000e+00+0.j  0.00000000e+00+0.j ...\n",
      "    0.00000000e+00+0.j  9.67066072e+00+0.j  0.00000000e+00+0.j]\n",
      "  [ 0.00000000e+00+0.j  0.00000000e+00+0.j  0.00000000e+00+0.j ...\n",
      "    0.00000000e+00+0.j  0.00000000e+00+0.j  9.67066072e+00+0.j]]\n",
      "\n",
      " ...\n",
      "\n",
      " [[-7.95774715e-02+0.j  0.00000000e+00+0.j  0.00000000e+00+0.j ...\n",
      "    0.00000000e+00+0.j  0.00000000e+00+0.j  0.00000000e+00+0.j]\n",
      "  [ 0.00000000e+00+0.j -7.95774715e-02+0.j  0.00000000e+00+0.j ...\n",
      "    0.00000000e+00+0.j  0.00000000e+00+0.j  0.00000000e+00+0.j]\n",
      "  [ 0.00000000e+00+0.j  0.00000000e+00+0.j  7.95774715e-02+0.j ...\n",
      "    0.00000000e+00+0.j  0.00000000e+00+0.j  0.00000000e+00+0.j]\n",
      "  ...\n",
      "  [ 0.00000000e+00+0.j  0.00000000e+00+0.j  0.00000000e+00+0.j ...\n",
      "    7.95774715e-02+0.j  0.00000000e+00+0.j  0.00000000e+00+0.j]\n",
      "  [ 0.00000000e+00+0.j  0.00000000e+00+0.j  0.00000000e+00+0.j ...\n",
      "    0.00000000e+00+0.j -7.95774715e-02+0.j  0.00000000e+00+0.j]\n",
      "  [ 0.00000000e+00+0.j  0.00000000e+00+0.j  0.00000000e+00+0.j ...\n",
      "    0.00000000e+00+0.j  0.00000000e+00+0.j -7.95774715e-02+0.j]]\n",
      "\n",
      " [[-7.95774715e-02+0.j  0.00000000e+00+0.j  0.00000000e+00+0.j ...\n",
      "    0.00000000e+00+0.j  0.00000000e+00+0.j  0.00000000e+00+0.j]\n",
      "  [ 0.00000000e+00+0.j  7.95774715e-02+0.j  0.00000000e+00+0.j ...\n",
      "    0.00000000e+00+0.j  0.00000000e+00+0.j  0.00000000e+00+0.j]\n",
      "  [ 0.00000000e+00+0.j  0.00000000e+00+0.j  7.95774715e-02+0.j ...\n",
      "    0.00000000e+00+0.j  0.00000000e+00+0.j  0.00000000e+00+0.j]\n",
      "  ...\n",
      "  [ 0.00000000e+00+0.j  0.00000000e+00+0.j  0.00000000e+00+0.j ...\n",
      "    7.95774715e-02+0.j  0.00000000e+00+0.j  0.00000000e+00+0.j]\n",
      "  [ 0.00000000e+00+0.j  0.00000000e+00+0.j  0.00000000e+00+0.j ...\n",
      "    0.00000000e+00+0.j  7.95774715e-02+0.j  0.00000000e+00+0.j]\n",
      "  [ 0.00000000e+00+0.j  0.00000000e+00+0.j  0.00000000e+00+0.j ...\n",
      "    0.00000000e+00+0.j  0.00000000e+00+0.j -7.95774715e-02+0.j]]\n",
      "\n",
      " [[-7.95774715e-02+0.j  0.00000000e+00+0.j  0.00000000e+00+0.j ...\n",
      "    0.00000000e+00+0.j  0.00000000e+00+0.j  0.00000000e+00+0.j]\n",
      "  [ 0.00000000e+00+0.j  7.95774715e-02+0.j  0.00000000e+00+0.j ...\n",
      "    0.00000000e+00+0.j  0.00000000e+00+0.j  0.00000000e+00+0.j]\n",
      "  [ 0.00000000e+00+0.j  0.00000000e+00+0.j -7.95774715e-02+0.j ...\n",
      "    0.00000000e+00+0.j  0.00000000e+00+0.j  0.00000000e+00+0.j]\n",
      "  ...\n",
      "  [ 0.00000000e+00+0.j  0.00000000e+00+0.j  0.00000000e+00+0.j ...\n",
      "   -7.95774715e-02+0.j  0.00000000e+00+0.j  0.00000000e+00+0.j]\n",
      "  [ 0.00000000e+00+0.j  0.00000000e+00+0.j  0.00000000e+00+0.j ...\n",
      "    0.00000000e+00+0.j  7.95774715e-02+0.j  0.00000000e+00+0.j]\n",
      "  [ 0.00000000e+00+0.j  0.00000000e+00+0.j  0.00000000e+00+0.j ...\n",
      "    0.00000000e+00+0.j  0.00000000e+00+0.j -7.95774715e-02+0.j]]]\n",
      "98.19868481373146 [] +\n",
      "0.029841551829730383 [X0 X1 X2 X3] +\n",
      "-0.029841551829730383 [X0 X1 X2 Z3 X4] +\n",
      "0.029841551829730383 [X0 X1 Y2 Y3] +\n",
      "0.029841551829730383 [X0 X1 Y2 Z3 Y4] +\n",
      "0.029841551829730383 [X0 X1 X3 X4] +\n",
      "0.029841551829730383 [X0 X1 Y3 Y4] +\n",
      "0.029841551829730383 [X0 Y1 X2 Y3] +\n",
      "-0.029841551829730383 [X0 Y1 X2 Z3 Y4] +\n",
      "-0.029841551829730383 [X0 Y1 Y2 X3] +\n",
      "-0.029841551829730383 [X0 Y1 Y2 Z3 X4] +\n",
      "0.029841551829730383 [X0 Y1 X3 Y4] +\n",
      "-0.029841551829730383 [X0 Y1 Y3 X4] +\n",
      "-0.029841551829730383 [X0 Z1 X2 X3 X4] +\n",
      "0.029841551829730383 [X0 Z1 X2 Y3 Y4] +\n",
      "-0.029841551829730383 [X0 Z1 Y2 X3 Y4] +\n",
      "-0.029841551829730383 [X0 Z1 Y2 Y3 X4] +\n",
      "-0.029841551829730383 [Y0 X1 X2 Y3] +\n",
      "-0.029841551829730383 [Y0 X1 X2 Z3 Y4] +\n",
      "0.029841551829730383 [Y0 X1 Y2 X3] +\n",
      "-0.029841551829730383 [Y0 X1 Y2 Z3 X4] +\n",
      "-0.029841551829730383 [Y0 X1 X3 Y4] +\n",
      "0.029841551829730383 [Y0 X1 Y3 X4] +\n",
      "0.029841551829730383 [Y0 Y1 X2 X3] +\n",
      "0.029841551829730383 [Y0 Y1 X2 Z3 X4] +\n",
      "0.029841551829730383 [Y0 Y1 Y2 Y3] +\n",
      "-0.029841551829730383 [Y0 Y1 Y2 Z3 Y4] +\n",
      "0.029841551829730383 [Y0 Y1 X3 X4] +\n",
      "0.029841551829730383 [Y0 Y1 Y3 Y4] +\n",
      "-0.029841551829730383 [Y0 Z1 X2 X3 Y4] +\n",
      "-0.029841551829730383 [Y0 Z1 X2 Y3 X4] +\n",
      "0.029841551829730383 [Y0 Z1 Y2 X3 X4] +\n",
      "-0.029841551829730383 [Y0 Z1 Y2 Y3 Y4] +\n",
      "-39.27947392549255 [Z0] +\n",
      "-0.07957747154594767 [Z0 Z1] +\n",
      "-0.019894367886486918 [Z0 Z2] +\n",
      "-0.019894367886486918 [Z0 Z3] +\n",
      "-0.07957747154594767 [Z0 Z4] +\n",
      "0.029841551829730383 [X1 X2 X3 X4] +\n",
      "0.029841551829730383 [X1 X2 Y3 Y4] +\n",
      "0.029841551829730383 [X1 Y2 X3 Y4] +\n",
      "-0.029841551829730383 [X1 Y2 Y3 X4] +\n",
      "-0.029841551829730383 [Y1 X2 X3 Y4] +\n",
      "0.029841551829730383 [Y1 X2 Y3 X4] +\n",
      "0.029841551829730383 [Y1 Y2 X3 X4] +\n",
      "0.029841551829730383 [Y1 Y2 Y3 Y4] +\n",
      "-9.670660722224486 [Z1] +\n",
      "-0.07957747154594767 [Z1 Z2] +\n",
      "-0.019894367886486918 [Z1 Z3] +\n",
      "-0.019894367886486918 [Z1 Z4] +\n",
      "0.1989436788648692 [Z2] +\n",
      "-0.07957747154594767 [Z2 Z3] +\n",
      "-0.019894367886486918 [Z2 Z4] +\n",
      "-9.670660722224486 [Z3] +\n",
      "-0.07957747154594767 [Z3 Z4] +\n",
      "-39.27947392549255 [Z4]\n",
      "(5.684341886080802e-14+0j)\n",
      "success!\n"
     ]
    },
    {
     "data": {
      "text/plain": [
       "0"
      ]
     },
     "execution_count": 7,
     "metadata": {},
     "output_type": "execute_result"
    }
   ],
   "source": [
    "#small model in 2 dimensions\n",
    "grid = Grid(dimensions=1, length=5, scale=1.0)\n",
    "spinless = True\n",
    "\n",
    "# Get the momentum Hamiltonian.\n",
    "momentum_hamiltonian = jellium_model(grid, spinless)\n",
    "momentum_qubit_operator = jordan_wigner(momentum_hamiltonian)\n",
    "momentum_qubit_operator.compress()\n",
    "\n",
    "#Generate the matrix list\n",
    "jellium_hamiltonian_list = openfermion_matrix_list(momentum_qubit_operator) #load this into simulator\n",
    "print(jellium_hamiltonian_list)\n",
    "print(momentum_qubit_operator)\n",
    "test_list_generator(momentum_qubit_operator)"
   ]
  },
  {
   "cell_type": "markdown",
   "metadata": {},
   "source": [
    "#### LiH, Methane, and Ethane"
   ]
  },
  {
   "cell_type": "code",
   "execution_count": 8,
   "metadata": {},
   "outputs": [],
   "source": [
    "from openfermion.chem import geometry_from_pubchem\n",
    "from openfermion.chem import MolecularData\n",
    "\n",
    "basis = 'sto-3g'\n",
    "multiplicity = 1\n",
    "\n",
    "# Set Hamiltonian parameters.\n",
    "active_space_start = 1\n",
    "active_space_stop = 4"
   ]
  },
  {
   "cell_type": "code",
   "execution_count": 9,
   "metadata": {},
   "outputs": [
    {
     "name": "stdout",
     "output_type": "stream",
     "text": [
      "[('Li', (0.0, 0.0, 0.0)), ('H', (0.0, 0.0, 1.45))]\n",
      "(62, 64, 64)\n",
      "(8.881784197001252e-16+0j)\n",
      "success!\n"
     ]
    },
    {
     "data": {
      "text/plain": [
       "0"
      ]
     },
     "execution_count": 9,
     "metadata": {},
     "output_type": "execute_result"
    }
   ],
   "source": [
    "#LiH\n",
    "#LiH_geometry = geometry_from_pubchem('LiH')\n",
    "diatomic_bond_length = 1.45\n",
    "LiH_geometry = [('Li', (0., 0., 0.)), ('H', (0., 0., diatomic_bond_length))]\n",
    "print(LiH_geometry)\n",
    "\n",
    "# Generate and populate instance of MolecularData.\n",
    "LiH_molecule = MolecularData(LiH_geometry, basis, multiplicity, description=\"1.45\")\n",
    "LiH_molecule.load()\n",
    "\n",
    "# Get the Hamiltonian in an active space.\n",
    "LiH_molecular_hamiltonian = LiH_molecule.get_molecular_hamiltonian(\n",
    "    occupied_indices=range(active_space_start),\n",
    "    active_indices=range(active_space_start, active_space_stop))\n",
    "\n",
    "# Map operator to fermions and qubits.\n",
    "LiH_fermion_hamiltonian = get_fermion_operator(LiH_molecular_hamiltonian)\n",
    "LiH_qubit_hamiltonian = jordan_wigner(LiH_fermion_hamiltonian)\n",
    "LiH_hamiltonian_list = openfermion_matrix_list(LiH_qubit_hamiltonian)\n",
    "print(LiH_hamiltonian_list.shape)\n",
    "#print(list(LiH_qubit_hamiltonian))\n",
    "#print(LiH_hamiltonian_list)\n",
    "test_list_generator(LiH_qubit_hamiltonian)"
   ]
  },
  {
   "cell_type": "code",
   "execution_count": 10,
   "metadata": {},
   "outputs": [
    {
     "name": "stdout",
     "output_type": "stream",
     "text": [
      "[('C', (0, 0, 0)), ('H', (0.5541, 0.7996, 0.4965)), ('H', (0.6833, -0.8134, -0.2536)), ('H', (-0.7782, -0.3735, 0.6692)), ('H', (-0.4593, 0.3874, -0.9121))]\n"
     ]
    }
   ],
   "source": [
    "methane_geometry = geometry_from_pubchem('methane')\n",
    "print(methane_geometry)"
   ]
  },
  {
   "cell_type": "markdown",
   "metadata": {},
   "source": [
    "# TODO\n",
    "- time scale plots infidelity vs time (keep iterations fixed)\n",
    "- trace distance vs time (iterations fixed)\n",
    "- Gate counts vs time (vary iterations) to hit inf threshold\n",
    "- Will need to handle partitioning across times\n",
    "- "
   ]
  },
  {
   "cell_type": "markdown",
   "metadata": {},
   "source": [
    "# Performance Checks\n",
    "In this section we want to make sure that our simulators are performing consistently with predicted results from theory. We use a Hamiltonian consisting of two pauli operators tensor producted together. The three things we are looking for are infidelity, trace distance, and gate cost performance. Each of these is explained in greater detail below. Across all three we will use a small random sampling of input states and analyze the averages."
   ]
  },
  {
   "cell_type": "markdown",
   "metadata": {},
   "source": [
    "### Prep"
   ]
  },
  {
   "cell_type": "code",
   "execution_count": 4,
   "metadata": {},
   "outputs": [
    {
     "name": "stdout",
     "output_type": "stream",
     "text": [
      "[CompositeSim] # of Trotter terms: 8 , # of Qdrift terms:  0 , and Nb =  1\n",
      "[CompositeSim] # of Trotter terms: 0 , # of Qdrift terms:  8 , and Nb =  1\n"
     ]
    },
    {
     "data": {
      "image/png": "[encoded data removed]",
      "text/plain": [
       "<Figure size 432x288 with 1 Axes>"
      ]
     },
     "metadata": {
      "needs_background": "light"
     },
     "output_type": "display_data"
    }
   ],
   "source": [
    "iterations = 1\n",
    "times = np.geomspace(0.01, 0.5, 50)\n",
    "\n",
    "first_order_trott_sim = CompositeSim(hamiltonian_list=hamiltonian_list, inner_order=1)\n",
    "partition_sim(first_order_trott_sim, \"trotter\")\n",
    "\n",
    "second_order_trott_sim = CompositeSim(hamiltonian_list=hamiltonian_list, inner_order = 2)\n",
    "partition_sim(second_order_trott_sim, \"trotter\")\n",
    "\n",
    "qdrift_sim = CompositeSim(hamiltonian_list=hamiltonian_list)\n",
    "partition_sim(qdrift_sim, \"qdrift\")\n",
    "\n",
    "comp_sim = CompositeSim(hamiltonian_list=hamiltonian_list)\n",
    "\n",
    "def test_infidelity(simulator, t_start=1e-3, t_end=1e-1, t_steps=50, num_state_samples=5, partitions=[\"first_order_trotter\", \"qdrift\"]):\n",
    "    times = np.geomspace(t_start, t_end, t_steps)\n",
    "    results = dict()\n",
    "    for partition in partitions:\n",
    "        infs = []\n",
    "        partition_sim(simulator, partition_type=partition)\n",
    "        simulator.print_partition()\n",
    "        for t in times:\n",
    "            inf = 0\n",
    "            for _ in range(num_state_samples):\n",
    "                simulator.randomize_initial_state()\n",
    "                inf_temp, _ = single_infidelity_sample(simulator, t)\n",
    "                inf += inf_temp\n",
    "            infs.append(inf / num_state_samples)\n",
    "        results[partition] = infs\n",
    "    results[\"times\"] = times\n",
    "    for partition, infs in results.items():\n",
    "        if partition != \"times\":\n",
    "            plt.loglog(\"times\", partition, data=results, label=partition)\n",
    "    plt.legend()\n",
    "    plt.show()\n",
    "    \n",
    "test_infidelity(comp_sim)"
   ]
  },
  {
   "cell_type": "markdown",
   "metadata": {},
   "source": [
    "## Infidelity Performance\n",
    "This section compares that our compilers match theoretic predictions for infidelity scaling with respect to time. We keep iterations fixed and compare how the different compilers perform. We will use a simple kronecker product of pauli matrices for baseline testing. For the composite simulation testing we will use the probabilistic partitioning scheme and repartition at each time step with the goal of observing a transition from QDrift to Trotter scaling. \n",
    "\n",
    "- What do we do about inputs?"
   ]
  },
  {
   "cell_type": "code",
   "execution_count": 17,
   "metadata": {},
   "outputs": [],
   "source": []
  },
  {
   "cell_type": "markdown",
   "metadata": {},
   "source": [
    "## Trace Distance Performance\n",
    "This section is similar to the prior, we keep the number of iterations fixed and instead evaluate the Trace Distance."
   ]
  },
  {
   "cell_type": "code",
   "execution_count": null,
   "metadata": {},
   "outputs": [],
   "source": []
  },
  {
   "cell_type": "markdown",
   "metadata": {},
   "source": [
    "## Gate Count Performance\n",
    "We now compare how the gate count of each partitioning type varies across time while each simulator meets a specified threshold in infidelity. In this we search for the smallest number of iterations that meet the infidelity threshold, the iterations then determines the gate count. "
   ]
  },
  {
   "cell_type": "code",
   "execution_count": null,
   "metadata": {},
   "outputs": [],
   "source": []
  },
  {
   "cell_type": "markdown",
   "metadata": {},
   "source": [
    "# Partitioning Performance\n",
    "In this section we look at the relative performance of each type of partitioning, including Trotter and QDrift only partitions, with more involved Hamiltonians. This includes simulations that take a relatively long time to compute. "
   ]
  },
  {
   "cell_type": "markdown",
   "metadata": {},
   "source": [
    "## Notebook using compilers.py"
   ]
  },
  {
   "cell_type": "markdown",
   "metadata": {},
   "source": [
    "The goal is to compare the functions in compilers.py in both output and runtimes. The only part of the previous sections that this section will reference is \"Hamiltonian Initialization\""
   ]
  },
  {
   "cell_type": "markdown",
   "metadata": {},
   "source": [
    "### Trotter Simulation"
   ]
  },
  {
   "cell_type": "code",
   "execution_count": 61,
   "metadata": {},
   "outputs": [],
   "source": [
    "sim1 = TrotterSim(hamiltonian_list, order = 2)\n",
    "#sim1.initial_state = InitialState"
   ]
  },
  {
   "cell_type": "code",
   "execution_count": 62,
   "metadata": {},
   "outputs": [
    {
     "name": "stdout",
     "output_type": "stream",
     "text": [
      "(50,)\n",
      "16\n"
     ]
    }
   ],
   "source": [
    "iterations = 1\n",
    "tStart = 0.01\n",
    "tFinal = 0.5\n",
    "tSteps = 50\n",
    "times = np.geomspace(tStart, tFinal, tSteps)\n",
    "\n",
    "trot_compiler_inf = []\n",
    "for t in times:\n",
    "    trot_compiler_inf.append(sim1.infidelity(t, iterations))\n",
    "\n",
    "log_trot_compiler_inf = np.log10(trot_compiler_inf)\n",
    "log_times = np.log10(times)\n",
    "print(log_trot_compiler_inf.shape)\n",
    "print(sim1.gate_count)"
   ]
  },
  {
   "cell_type": "code",
   "execution_count": 63,
   "metadata": {},
   "outputs": [
    {
     "data": {
      "image/png": "[encoded data removed]",
      "text/plain": [
       "<Figure size 1080x504 with 1 Axes>"
      ]
     },
     "metadata": {
      "needs_background": "light"
     },
     "output_type": "display_data"
    }
   ],
   "source": [
    "#data = log_trot_compiler_inf[:, 0, 0]\n",
    "data = log_trot_compiler_inf\n",
    "plt.figure(figsize = (15, 7))\n",
    "plt.plot(log_times, data, 'bo-') \n",
    "plt.xlabel('log(time)', size = 12)\n",
    "plt.ylabel('log(infidelity)', size = 12)\n",
    "\n",
    "start_fit_points= 1  #declare the starting point to fit in the data\n",
    "end_fit_points = -30\n",
    "\n",
    "p = np.polyfit(log_times[start_fit_points: end_fit_points], data[start_fit_points: end_fit_points], 1)\n",
    "f = np.poly1d(p)\n",
    "\n",
    "t_new = np.linspace(log_times[start_fit_points], log_times[end_fit_points], 50)\n",
    "y_new = f(t_new)\n",
    "\n",
    "data = symbols(\"t\")\n",
    "poly = sum(S(\"{:6.2f}\".format(v))*data**i for i, v in enumerate(p[::-1]))\n",
    "eq_latex = printing.latex(poly)\n",
    "\n",
    "plt.plot(t_new, y_new, 'r--', label=\"${}$\".format(eq_latex))\n",
    "plt.legend(fontsize=\"large\")\n",
    "plt.show()"
   ]
  },
  {
   "cell_type": "markdown",
   "metadata": {},
   "source": [
    "### QDrift Simulation"
   ]
  },
  {
   "cell_type": "code",
   "execution_count": 5,
   "metadata": {},
   "outputs": [],
   "source": [
    "QDsim = QDriftSim(hamiltonian_list, rng_seed=1)"
   ]
  },
  {
   "cell_type": "code",
   "execution_count": 6,
   "metadata": {},
   "outputs": [
    {
     "name": "stdout",
     "output_type": "stream",
     "text": [
      "(20,)\n",
      "20\n"
     ]
    }
   ],
   "source": [
    "samples = 20\n",
    "mc_samples = 200\n",
    "\n",
    "tStart = 0.001\n",
    "tFinal = 1\n",
    "tSteps = 20\n",
    "times = np.geomspace(tStart, tFinal, tSteps) \n",
    "\n",
    "qd_compiler_inf = []\n",
    "for t in times:\n",
    "    qd_compiler_inf.append(QDsim.sample_channel_inf(t, samples, mc_samples))\n",
    "\n",
    "log_qd_compiler_inf = np.log10(qd_compiler_inf)\n",
    "log_times = np.log10(times)\n",
    "print(log_qd_compiler_inf.shape)\n",
    "print(QDsim.gate_count)\n",
    "#print(QDsim.exp_op_cache)"
   ]
  },
  {
   "cell_type": "code",
   "execution_count": 7,
   "metadata": {},
   "outputs": [
    {
     "data": {
      "image/png": "[encoded data removed]",
      "text/plain": [
       "<Figure size 1080x504 with 1 Axes>"
      ]
     },
     "metadata": {
      "needs_background": "light"
     },
     "output_type": "display_data"
    }
   ],
   "source": [
    "data1 = log_qd_compiler_inf #[:, 0, 0]\n",
    "plt.figure(figsize = (15, 7))\n",
    "plt.plot(log_times, data1, 'bo-') \n",
    "plt.xlabel('log(time)', size = 12)\n",
    "plt.ylabel('log(infidelity)', size = 12)\n",
    "\n",
    "start_fit_points=0  #declare the starting point to fit in the data\n",
    "end_fit_points = -4\n",
    "\n",
    "p = np.polyfit(log_times[start_fit_points: end_fit_points], data1[start_fit_points: end_fit_points], 1)\n",
    "f = np.poly1d(p)\n",
    "\n",
    "t_new = np.linspace(log_times[start_fit_points], log_times[end_fit_points], 50)\n",
    "y_new = f(t_new)\n",
    "\n",
    "data1 = symbols(\"t\")\n",
    "poly = sum(S(\"{:6.2f}\".format(v))*data1**i for i, v in enumerate(p[::-1]))\n",
    "eq_latex = printing.latex(poly)\n",
    "\n",
    "plt.plot(t_new, y_new, 'r--', label=\"${}$\".format(eq_latex))\n",
    "plt.legend(fontsize=\"large\")\n",
    "plt.show()"
   ]
  },
  {
   "cell_type": "markdown",
   "metadata": {},
   "source": [
    "### Composite Simulation"
   ]
  },
  {
   "cell_type": "markdown",
   "metadata": {},
   "source": [
    "##### Time Scaling"
   ]
  },
  {
   "cell_type": "code",
   "execution_count": 12,
   "metadata": {
    "scrolled": true
   },
   "outputs": [
    {
     "name": "stdout",
     "output_type": "stream",
     "text": [
      "There are 10 terms in Trotter\n",
      "There are 26 terms in QDrift\n"
     ]
    }
   ],
   "source": [
    "#Warning if nb_optimizer = True for partition attribute optimize the computation will not finish in your lifetime\n",
    "CompSim = CompositeSim(graph_hamiltonian_list, inner_order=1, outer_order=1, partition = \"chop\", weight_threshold = 0.1, nb = 8, nb_optimizer = False, initial_time = 0.1, epsilon = 0.05)\n",
    "#CompSim.simulate(0.1, 8, 2)\n",
    "#CompSim.repartition(1)"
   ]
  },
  {
   "cell_type": "code",
   "execution_count": 13,
   "metadata": {},
   "outputs": [
    {
     "ename": "KeyboardInterrupt",
     "evalue": "",
     "output_type": "error",
     "traceback": [
      "\u001b[0;31m---------------------------------------------------------------------------\u001b[0m",
      "\u001b[0;31mKeyboardInterrupt\u001b[0m                         Traceback (most recent call last)",
      "\u001b[0;32m/var/folders/1k/18s4nj3942q9d2gph57lw0ph0000gn/T/ipykernel_56242/3133066787.py\u001b[0m in \u001b[0;36m<module>\u001b[0;34m\u001b[0m\n\u001b[1;32m     12\u001b[0m \u001b[0mcomp_compiler_inf\u001b[0m \u001b[0;34m=\u001b[0m \u001b[0;34m[\u001b[0m\u001b[0;34m]\u001b[0m\u001b[0;34m\u001b[0m\u001b[0;34m\u001b[0m\u001b[0m\n\u001b[1;32m     13\u001b[0m \u001b[0;32mfor\u001b[0m \u001b[0mt\u001b[0m \u001b[0;32min\u001b[0m \u001b[0mtimes\u001b[0m\u001b[0;34m:\u001b[0m\u001b[0;34m\u001b[0m\u001b[0;34m\u001b[0m\u001b[0m\n\u001b[0;32m---> 14\u001b[0;31m     \u001b[0mcomp_compiler_inf\u001b[0m\u001b[0;34m.\u001b[0m\u001b[0mappend\u001b[0m\u001b[0;34m(\u001b[0m\u001b[0mCompSim\u001b[0m\u001b[0;34m.\u001b[0m\u001b[0msample_channel_inf\u001b[0m\u001b[0;34m(\u001b[0m\u001b[0mt\u001b[0m\u001b[0;34m,\u001b[0m \u001b[0mqd_samples\u001b[0m\u001b[0;34m,\u001b[0m \u001b[0miterations\u001b[0m\u001b[0;34m,\u001b[0m \u001b[0mmc_samples\u001b[0m\u001b[0;34m,\u001b[0m \u001b[0mexact_time_evolution\u001b[0m\u001b[0;34m(\u001b[0m\u001b[0mCompSim\u001b[0m\u001b[0;34m.\u001b[0m\u001b[0munparsed_hamiltonian\u001b[0m\u001b[0;34m,\u001b[0m \u001b[0mt\u001b[0m\u001b[0;34m,\u001b[0m \u001b[0mCompSim\u001b[0m\u001b[0;34m.\u001b[0m\u001b[0minitial_state\u001b[0m\u001b[0;34m)\u001b[0m\u001b[0;34m)\u001b[0m\u001b[0;34m)\u001b[0m\u001b[0;34m\u001b[0m\u001b[0;34m\u001b[0m\u001b[0m\n\u001b[0m\u001b[1;32m     15\u001b[0m \u001b[0;34m\u001b[0m\u001b[0m\n\u001b[1;32m     16\u001b[0m \u001b[0mlog_comp_compiler_inf\u001b[0m \u001b[0;34m=\u001b[0m \u001b[0mnp\u001b[0m\u001b[0;34m.\u001b[0m\u001b[0mlog10\u001b[0m\u001b[0;34m(\u001b[0m\u001b[0mcomp_compiler_inf\u001b[0m\u001b[0;34m)\u001b[0m\u001b[0;34m\u001b[0m\u001b[0;34m\u001b[0m\u001b[0m\n",
      "\u001b[0;32m~/Desktop/A1 Grad School Assignments/Master's Research/Simulation Code/Trotter-Qdrift-Simulation/compilers.py\u001b[0m in \u001b[0;36msample_channel_inf\u001b[0;34m(self, time, samples, iterations, mcsamples, exact_state)\u001b[0m\n\u001b[1;32m   1037\u001b[0m         \u001b[0msample_fidelity\u001b[0m \u001b[0;34m=\u001b[0m \u001b[0;36m0\u001b[0m\u001b[0;34m\u001b[0m\u001b[0;34m\u001b[0m\u001b[0m\n\u001b[1;32m   1038\u001b[0m         \u001b[0;32mfor\u001b[0m \u001b[0ms\u001b[0m \u001b[0;32min\u001b[0m \u001b[0mrange\u001b[0m\u001b[0;34m(\u001b[0m\u001b[0mmcsamples\u001b[0m\u001b[0;34m)\u001b[0m\u001b[0;34m:\u001b[0m\u001b[0;34m\u001b[0m\u001b[0;34m\u001b[0m\u001b[0m\n\u001b[0;32m-> 1039\u001b[0;31m             \u001b[0msim_state\u001b[0m \u001b[0;34m=\u001b[0m \u001b[0mself\u001b[0m\u001b[0;34m.\u001b[0m\u001b[0msimulate\u001b[0m\u001b[0;34m(\u001b[0m\u001b[0mtime\u001b[0m\u001b[0;34m,\u001b[0m \u001b[0msamples\u001b[0m\u001b[0;34m,\u001b[0m \u001b[0miterations\u001b[0m\u001b[0;34m)\u001b[0m\u001b[0;34m\u001b[0m\u001b[0;34m\u001b[0m\u001b[0m\n\u001b[0m\u001b[1;32m   1040\u001b[0m             \u001b[0msample_fidelity\u001b[0m \u001b[0;34m+=\u001b[0m \u001b[0;34m(\u001b[0m\u001b[0mnp\u001b[0m\u001b[0;34m.\u001b[0m\u001b[0mabs\u001b[0m\u001b[0;34m(\u001b[0m\u001b[0mnp\u001b[0m\u001b[0;34m.\u001b[0m\u001b[0mdot\u001b[0m\u001b[0;34m(\u001b[0m\u001b[0mexact_state\u001b[0m\u001b[0;34m.\u001b[0m\u001b[0mconj\u001b[0m\u001b[0;34m(\u001b[0m\u001b[0;34m)\u001b[0m\u001b[0;34m.\u001b[0m\u001b[0mT\u001b[0m\u001b[0;34m,\u001b[0m \u001b[0msim_state\u001b[0m\u001b[0;34m)\u001b[0m\u001b[0;34m.\u001b[0m\u001b[0mflat\u001b[0m\u001b[0;34m[\u001b[0m\u001b[0;36m0\u001b[0m\u001b[0;34m]\u001b[0m\u001b[0;34m)\u001b[0m\u001b[0;34m)\u001b[0m\u001b[0;34m**\u001b[0m\u001b[0;36m2\u001b[0m\u001b[0;34m\u001b[0m\u001b[0;34m\u001b[0m\u001b[0m\n\u001b[1;32m   1041\u001b[0m         \u001b[0minfidelity\u001b[0m \u001b[0;34m=\u001b[0m \u001b[0;36m1\u001b[0m\u001b[0;34m-\u001b[0m \u001b[0;34m(\u001b[0m\u001b[0msample_fidelity\u001b[0m \u001b[0;34m/\u001b[0m \u001b[0mmcsamples\u001b[0m\u001b[0;34m)\u001b[0m\u001b[0;34m\u001b[0m\u001b[0;34m\u001b[0m\u001b[0m\n",
      "\u001b[0;32m~/Desktop/A1 Grad School Assignments/Master's Research/Simulation Code/Trotter-Qdrift-Simulation/compilers.py\u001b[0m in \u001b[0;36msimulate\u001b[0;34m(self, time, samples, iterations)\u001b[0m\n\u001b[1;32m   1029\u001b[0m                 \u001b[0;32mif\u001b[0m \u001b[0mix\u001b[0m \u001b[0;34m==\u001b[0m \u001b[0;36m1\u001b[0m\u001b[0;34m:\u001b[0m\u001b[0;34m\u001b[0m\u001b[0;34m\u001b[0m\u001b[0m\n\u001b[1;32m   1030\u001b[0m                     \u001b[0mself\u001b[0m\u001b[0;34m.\u001b[0m\u001b[0mqdrift_sim\u001b[0m\u001b[0;34m.\u001b[0m\u001b[0mset_initial_state\u001b[0m\u001b[0;34m(\u001b[0m\u001b[0mcurrent_state\u001b[0m\u001b[0;34m)\u001b[0m\u001b[0;34m\u001b[0m\u001b[0;34m\u001b[0m\u001b[0m\n\u001b[0;32m-> 1031\u001b[0;31m                     \u001b[0mcurrent_state\u001b[0m \u001b[0;34m=\u001b[0m \u001b[0mself\u001b[0m\u001b[0;34m.\u001b[0m\u001b[0mqdrift_sim\u001b[0m\u001b[0;34m.\u001b[0m\u001b[0msimulate\u001b[0m\u001b[0;34m(\u001b[0m\u001b[0msim_time\u001b[0m\u001b[0;34m,\u001b[0m \u001b[0mself\u001b[0m\u001b[0;34m.\u001b[0m\u001b[0mnb\u001b[0m\u001b[0;34m)\u001b[0m\u001b[0;34m\u001b[0m\u001b[0;34m\u001b[0m\u001b[0m\n\u001b[0m\u001b[1;32m   1032\u001b[0m                     \u001b[0mself\u001b[0m\u001b[0;34m.\u001b[0m\u001b[0mgate_count\u001b[0m \u001b[0;34m+=\u001b[0m \u001b[0mself\u001b[0m\u001b[0;34m.\u001b[0m\u001b[0mqdrift_sim\u001b[0m\u001b[0;34m.\u001b[0m\u001b[0mgate_count\u001b[0m\u001b[0;34m\u001b[0m\u001b[0;34m\u001b[0m\u001b[0m\n\u001b[1;32m   1033\u001b[0m         \u001b[0;32mreturn\u001b[0m \u001b[0mcurrent_state\u001b[0m\u001b[0;34m\u001b[0m\u001b[0;34m\u001b[0m\u001b[0m\n",
      "\u001b[0;32m~/Desktop/A1 Grad School Assignments/Master's Research/Simulation Code/Trotter-Qdrift-Simulation/compilers.py\u001b[0m in \u001b[0;36msimulate\u001b[0;34m(self, time, samples)\u001b[0m\n\u001b[1;32m    447\u001b[0m         \u001b[0mself\u001b[0m\u001b[0;34m.\u001b[0m\u001b[0mexp_op_cache\u001b[0m\u001b[0;34m[\u001b[0m\u001b[0;34m\"samples\"\u001b[0m\u001b[0;34m]\u001b[0m \u001b[0;34m=\u001b[0m \u001b[0msamples\u001b[0m\u001b[0;34m\u001b[0m\u001b[0;34m\u001b[0m\u001b[0m\n\u001b[1;32m    448\u001b[0m         \u001b[0mfinal\u001b[0m \u001b[0;34m=\u001b[0m \u001b[0mnp\u001b[0m\u001b[0;34m.\u001b[0m\u001b[0mcopy\u001b[0m\u001b[0;34m(\u001b[0m\u001b[0mself\u001b[0m\u001b[0;34m.\u001b[0m\u001b[0minitial_state\u001b[0m\u001b[0;34m)\u001b[0m\u001b[0;34m\u001b[0m\u001b[0;34m\u001b[0m\u001b[0m\n\u001b[0;32m--> 449\u001b[0;31m         \u001b[0mobtained_samples\u001b[0m \u001b[0;34m=\u001b[0m \u001b[0mself\u001b[0m\u001b[0;34m.\u001b[0m\u001b[0mdraw_hamiltonian_samples\u001b[0m\u001b[0;34m(\u001b[0m\u001b[0msamples\u001b[0m\u001b[0;34m)\u001b[0m\u001b[0;34m\u001b[0m\u001b[0;34m\u001b[0m\u001b[0m\n\u001b[0m\u001b[1;32m    450\u001b[0m         \u001b[0;32mfor\u001b[0m \u001b[0mix\u001b[0m \u001b[0;32min\u001b[0m \u001b[0mobtained_samples\u001b[0m\u001b[0;34m:\u001b[0m\u001b[0;34m\u001b[0m\u001b[0;34m\u001b[0m\u001b[0m\n\u001b[1;32m    451\u001b[0m             \u001b[0;32mif\u001b[0m \u001b[0mix\u001b[0m \u001b[0;32min\u001b[0m \u001b[0mself\u001b[0m\u001b[0;34m.\u001b[0m\u001b[0mexp_op_cache\u001b[0m\u001b[0;34m:\u001b[0m\u001b[0;34m\u001b[0m\u001b[0;34m\u001b[0m\u001b[0m\n",
      "\u001b[0;32m~/Desktop/A1 Grad School Assignments/Master's Research/Simulation Code/Trotter-Qdrift-Simulation/compilers.py\u001b[0m in \u001b[0;36mdraw_hamiltonian_samples\u001b[0;34m(self, num_samples)\u001b[0m\n\u001b[1;32m    427\u001b[0m                     \u001b[0mindex\u001b[0m \u001b[0;34m=\u001b[0m \u001b[0mix\u001b[0m\u001b[0;34m\u001b[0m\u001b[0;34m\u001b[0m\u001b[0m\n\u001b[1;32m    428\u001b[0m                     \u001b[0;32mbreak\u001b[0m\u001b[0;34m\u001b[0m\u001b[0;34m\u001b[0m\u001b[0m\n\u001b[0;32m--> 429\u001b[0;31m                 \u001b[0mtot\u001b[0m \u001b[0;34m+=\u001b[0m \u001b[0mself\u001b[0m\u001b[0;34m.\u001b[0m\u001b[0mspectral_norms\u001b[0m\u001b[0;34m[\u001b[0m\u001b[0mix\u001b[0m\u001b[0;34m]\u001b[0m \u001b[0;34m/\u001b[0m \u001b[0mlamb\u001b[0m\u001b[0;34m\u001b[0m\u001b[0;34m\u001b[0m\u001b[0m\n\u001b[0m\u001b[1;32m    430\u001b[0m             \u001b[0msamples\u001b[0m\u001b[0;34m.\u001b[0m\u001b[0mappend\u001b[0m\u001b[0;34m(\u001b[0m\u001b[0mindex\u001b[0m\u001b[0;34m)\u001b[0m\u001b[0;34m\u001b[0m\u001b[0;34m\u001b[0m\u001b[0m\n\u001b[1;32m    431\u001b[0m         \u001b[0;32mreturn\u001b[0m \u001b[0msamples\u001b[0m\u001b[0;34m\u001b[0m\u001b[0;34m\u001b[0m\u001b[0m\n",
      "\u001b[0;31mKeyboardInterrupt\u001b[0m: "
     ]
    }
   ],
   "source": [
    "#startTime = time.time()\n",
    "\n",
    "iterations = 10\n",
    "qd_samples = 8\n",
    "mc_samples = 100\n",
    "\n",
    "tStart = 0.001\n",
    "tFinal = 0.5\n",
    "tSteps = 40\n",
    "times = np.geomspace(tStart, tFinal, tSteps)\n",
    "\n",
    "comp_compiler_inf = []\n",
    "for t in times:\n",
    "    comp_compiler_inf.append(CompSim.sample_channel_inf(t, qd_samples, iterations, mc_samples, exact_time_evolution(CompSim.unparsed_hamiltonian, t, CompSim.initial_state)))\n",
    "\n",
    "log_comp_compiler_inf = np.log10(comp_compiler_inf)\n",
    "log_times = np.log10(times)\n",
    "print(log_comp_compiler_inf.shape)\n",
    "print(CompSim.gate_count)\n",
    "\n",
    "#executionTime = (time.time() - startTime)\n",
    "#print('Execution time in seconds: ' + str(executionTime))"
   ]
  },
  {
   "cell_type": "code",
   "execution_count": 13,
   "metadata": {},
   "outputs": [
    {
     "name": "stdout",
     "output_type": "stream",
     "text": [
      "8\n"
     ]
    },
    {
     "data": {
      "image/png": "[encoded data removed]",
      "text/plain": [
       "<Figure size 1080x504 with 1 Axes>"
      ]
     },
     "metadata": {
      "needs_background": "light"
     },
     "output_type": "display_data"
    }
   ],
   "source": [
    "print(CompSim.nb)\n",
    "data1 = log_comp_compiler_inf #this dimension issue might be causing some slow down\n",
    "plt.figure(figsize = (15, 7))\n",
    "plt.plot(log_times, data1, 'bo-') \n",
    "plt.xlabel('log(time)', size = 12)\n",
    "plt.ylabel('log(infidelity)', size = 12)\n",
    "\n",
    "start_fit_points=0  #declare the starting point to fit in the data\n",
    "end_fit_points = -22\n",
    "\n",
    "p = np.polyfit(log_times[start_fit_points: end_fit_points], data1[start_fit_points: end_fit_points], 1)\n",
    "f = np.poly1d(p)\n",
    "\n",
    "t_new = np.linspace(log_times[start_fit_points], log_times[end_fit_points], 50)\n",
    "y_new = f(t_new)\n",
    "\n",
    "data1 = symbols(\"t\")\n",
    "poly = sum(S(\"{:6.2f}\".format(v))*data1**i for i, v in enumerate(p[::-1]))\n",
    "eq_latex = printing.latex(poly)\n",
    "\n",
    "#plt.ylim(-1.1, -0.8)\n",
    "#plt.locator_params('x', nbins=20)\n",
    "plt.plot(t_new, y_new, 'r--', label=\"${}$\".format(eq_latex))\n",
    "plt.legend(fontsize=\"large\")\n",
    "plt.show()"
   ]
  },
  {
   "cell_type": "markdown",
   "metadata": {},
   "source": [
    "#### Channel Gate Performance using sim_channel_performance()"
   ]
  },
  {
   "cell_type": "code",
   "execution_count": 13,
   "metadata": {},
   "outputs": [
    {
     "name": "stdout",
     "output_type": "stream",
     "text": [
      "Nb is 16\n",
      "There are 12 terms in Trotter\n",
      "There are 13 terms in QDrift\n",
      "There are 25 terms in Trotter\n",
      "There are 0 terms in QDrift\n",
      "There are 25 terms in Trotter\n",
      "There are 0 terms in QDrift\n",
      "There are 0 terms in Trotter\n",
      "There are 25 terms in QDrift\n",
      "200\n"
     ]
    }
   ],
   "source": [
    "#Load sims and test Monte-Carlo\n",
    "CompSim1 = CompositeSim(graph_hamiltonian_list, inner_order=2, outer_order=1, initial_time=0.1, partition=\"prob\", nb = , nb_optimizer=False, weight_threshold=0.5, epsilon=0.05)\n",
    "TrotSim1 = CompositeSim(graph_hamiltonian_list, inner_order=1, outer_order=1, partition=\"trotter\", nb_optimizer=False, weight_threshold=0.5, epsilon=0.05)\n",
    "TrotSim2 = CompositeSim(graph_hamiltonian_list, inner_order=2, outer_order=1, partition=\"trotter\", nb_optimizer=False, weight_threshold=0.5, epsilon=0.05)\n",
    "QDSim1  = CompositeSim(graph_hamiltonian_list, inner_order=1, outer_order=1, partition=\"qdrift\", nb_optimizer=False, weight_threshold=0.5, epsilon=0.05)\n",
    "\n",
    "t = 0.1\n",
    "samples = 120\n",
    "iterations = 1\n",
    "sample_guess = 4\n",
    "mcsamples = 200\n",
    "#mcsamples = QDSim1.sample_decider(t, samples, iterations, sample_guess) #needs to be evaluated in a region known to be convergent\n",
    "print(mcsamples)"
   ]
  },
  {
   "cell_type": "code",
   "execution_count": 14,
   "metadata": {},
   "outputs": [
    {
     "name": "stdout",
     "output_type": "stream",
     "text": [
      "[sim_channel_performance] Iterations too large, already below error threshold\n"
     ]
    }
   ],
   "source": [
    "data1 = CompSim1.sim_channel_performance(t, samples, iterations, mcsamples)\n",
    "#data2 = TrotSim1.sim_channel_performance(t, samples, iterations, mcsamples)\n",
    "#data3 = TrotSim2.sim_channel_performance(t, samples, iterations, mcsamples)\n",
    "#data4 = QDSim1.sim_channel_performance(t, samples, iterations, mcsamples)\n",
    "#print('We require ' + str(data2)  +' gates to meet an epsilon of ' + str(CompSim1.epsilon))"
   ]
  },
  {
   "cell_type": "code",
   "execution_count": 15,
   "metadata": {},
   "outputs": [
    {
     "name": "stdout",
     "output_type": "stream",
     "text": [
      "144 12 13\n"
     ]
    },
    {
     "ename": "TypeError",
     "evalue": "list indices must be integers or slices, not tuple",
     "output_type": "error",
     "traceback": [
      "\u001b[0;31m---------------------------------------------------------------------------\u001b[0m",
      "\u001b[0;31mTypeError\u001b[0m                                 Traceback (most recent call last)",
      "\u001b[0;32m/var/folders/1k/18s4nj3942q9d2gph57lw0ph0000gn/T/ipykernel_70806/3188936594.py\u001b[0m in \u001b[0;36m<module>\u001b[0;34m\u001b[0m\n\u001b[1;32m      1\u001b[0m \u001b[0mprint\u001b[0m\u001b[0;34m(\u001b[0m\u001b[0mdata1\u001b[0m\u001b[0;34m,\u001b[0m \u001b[0mlen\u001b[0m\u001b[0;34m(\u001b[0m\u001b[0mCompSim1\u001b[0m\u001b[0;34m.\u001b[0m\u001b[0ma_norms\u001b[0m\u001b[0;34m)\u001b[0m\u001b[0;34m,\u001b[0m \u001b[0mlen\u001b[0m\u001b[0;34m(\u001b[0m\u001b[0mCompSim1\u001b[0m\u001b[0;34m.\u001b[0m\u001b[0mb_norms\u001b[0m\u001b[0;34m)\u001b[0m\u001b[0;34m)\u001b[0m\u001b[0;34m\u001b[0m\u001b[0;34m\u001b[0m\u001b[0m\n\u001b[1;32m      2\u001b[0m \u001b[0mplt\u001b[0m\u001b[0;34m.\u001b[0m\u001b[0mfigure\u001b[0m\u001b[0;34m(\u001b[0m\u001b[0mfigsize\u001b[0m \u001b[0;34m=\u001b[0m \u001b[0;34m(\u001b[0m\u001b[0;36m15\u001b[0m\u001b[0;34m,\u001b[0m \u001b[0;36m7\u001b[0m\u001b[0;34m)\u001b[0m\u001b[0;34m)\u001b[0m\u001b[0;34m\u001b[0m\u001b[0;34m\u001b[0m\u001b[0m\n\u001b[0;32m----> 3\u001b[0;31m \u001b[0mplt\u001b[0m\u001b[0;34m.\u001b[0m\u001b[0mplot\u001b[0m\u001b[0;34m(\u001b[0m\u001b[0mQDSim1\u001b[0m\u001b[0;34m.\u001b[0m\u001b[0mgate_data\u001b[0m\u001b[0;34m[\u001b[0m\u001b[0;34m:\u001b[0m\u001b[0;34m,\u001b[0m\u001b[0;36m0\u001b[0m\u001b[0;34m]\u001b[0m\u001b[0;34m,\u001b[0m \u001b[0mQDSim1\u001b[0m\u001b[0;34m.\u001b[0m\u001b[0mgate_data\u001b[0m\u001b[0;34m[\u001b[0m\u001b[0;34m:\u001b[0m\u001b[0;34m,\u001b[0m\u001b[0;36m1\u001b[0m\u001b[0;34m]\u001b[0m\u001b[0;34m,\u001b[0m \u001b[0;34m'go-'\u001b[0m\u001b[0;34m)\u001b[0m\u001b[0;34m\u001b[0m\u001b[0;34m\u001b[0m\u001b[0m\n\u001b[0m\u001b[1;32m      4\u001b[0m \u001b[0mplt\u001b[0m\u001b[0;34m.\u001b[0m\u001b[0mxlabel\u001b[0m\u001b[0;34m(\u001b[0m\u001b[0;34m'gate count'\u001b[0m\u001b[0;34m,\u001b[0m \u001b[0msize\u001b[0m \u001b[0;34m=\u001b[0m \u001b[0;36m12\u001b[0m\u001b[0;34m)\u001b[0m\u001b[0;34m\u001b[0m\u001b[0;34m\u001b[0m\u001b[0m\n\u001b[1;32m      5\u001b[0m \u001b[0mplt\u001b[0m\u001b[0;34m.\u001b[0m\u001b[0mylabel\u001b[0m\u001b[0;34m(\u001b[0m\u001b[0;34m'infidelity'\u001b[0m\u001b[0;34m,\u001b[0m \u001b[0msize\u001b[0m \u001b[0;34m=\u001b[0m \u001b[0;36m12\u001b[0m\u001b[0;34m)\u001b[0m\u001b[0;34m\u001b[0m\u001b[0;34m\u001b[0m\u001b[0m\n",
      "\u001b[0;31mTypeError\u001b[0m: list indices must be integers or slices, not tuple"
     ]
    },
    {
     "data": {
      "text/plain": [
       "<Figure size 1080x504 with 0 Axes>"
      ]
     },
     "metadata": {},
     "output_type": "display_data"
    }
   ],
   "source": [
    "print(data1, len(CompSim1.a_norms), len(CompSim1.b_norms))\n",
    "plt.figure(figsize = (15, 7))\n",
    "plt.plot(QDSim1.gate_data[:,0], QDSim1.gate_data[:,1], 'go-') \n",
    "plt.xlabel('gate count', size = 12)\n",
    "plt.ylabel('infidelity', size = 12)\n",
    "\n",
    "start_fit_points=0  #declare the starting point to fit in the data\n",
    "end_fit_points = -1\n",
    "order = 1\n",
    "\n",
    "p = np.polyfit(QDSim1.gate_data[:,0][start_fit_points: end_fit_points], QDSim1.gate_data[:,1][start_fit_points: end_fit_points], order)\n",
    "f = np.poly1d(p)\n",
    "\n",
    "t_new = np.linspace(QDSim1.gate_data[:,0][start_fit_points], QDSim1.gate_data[:,0][end_fit_points], 50)\n",
    "y_new = f(t_new)\n",
    "\n",
    "data1 = symbols(\"t\")\n",
    "poly = sum(S(\"{:6.2f}\".format(v))*data1**i for i, v in enumerate(p[::-1]))\n",
    "eq_latex = printing.latex(poly)\n",
    "\n",
    "#plt.ylim(-1.1, -0.8)\n",
    "#plt.locator_params('x', nbins=20)\n",
    "plt.plot(t_new, y_new, 'b--', label=\"${}$\".format(eq_latex))\n",
    "plt.legend(fontsize=\"large\")\n",
    "plt.show()"
   ]
  },
  {
   "cell_type": "markdown",
   "metadata": {},
   "source": [
    "### Long Sim Analyzer"
   ]
  },
  {
   "cell_type": "code",
   "execution_count": 8,
   "metadata": {},
   "outputs": [
    {
     "name": "stdout",
     "output_type": "stream",
     "text": [
      "Nb is 8\n",
      "There are 12 terms in Trotter\n",
      "There are 13 terms in QDrift\n",
      "There are 25 terms in Trotter\n",
      "There are 0 terms in QDrift\n",
      "There are 25 terms in Trotter\n",
      "There are 0 terms in QDrift\n",
      "Nb is 25\n",
      "[sim_channel_performance] Iterations too large, already below error threshold\n",
      "[sim_channel_performance] Iterations too large, already below error threshold\n",
      "[sim_channel_performance] Iterations too large, already below error threshold\n",
      "Nb is 27\n",
      "[sim_channel_performance] Iterations too large, already below error threshold\n",
      "[sim_channel_performance] Iterations too large, already below error threshold\n",
      "[sim_channel_performance] Iterations too large, already below error threshold\n",
      "Nb is 29\n",
      "[sim_channel_performance] Iterations too large, already below error threshold\n",
      "[sim_channel_performance] Iterations too large, already below error threshold\n",
      "[sim_channel_performance] Iterations too large, already below error threshold\n",
      "Nb is 32\n",
      "[sim_channel_performance] Iterations too large, already below error threshold\n",
      "[sim_channel_performance] Iterations too large, already below error threshold\n",
      "[sim_channel_performance] Iterations too large, already below error threshold\n",
      "Nb is 34\n",
      "[sim_channel_performance] Iterations too large, already below error threshold\n",
      "the upper bound is 2\n",
      "[sim_channel_performance] Iterations too large, already below error threshold\n",
      "Nb is 37\n",
      "[sim_channel_performance] Iterations too large, already below error threshold\n",
      "the upper bound is 2\n",
      "[sim_channel_performance] Iterations too large, already below error threshold\n",
      "Nb is 40\n",
      "[sim_channel_performance] Iterations too large, already below error threshold\n",
      "the upper bound is 2\n",
      "[sim_channel_performance] Iterations too large, already below error threshold\n",
      "Nb is 43\n",
      "the upper bound is 2\n",
      "the upper bound is 2\n",
      "the upper bound is 2\n",
      "Nb is 47\n",
      "[sim_channel_performance] Iterations too large, already below error threshold\n",
      "0.0010019045668371307 50\n",
      "the upper bound is 4\n",
      "the upper bound is 2\n",
      "Nb is 50\n",
      "the upper bound is 2\n",
      "0.0013111780615019386 50\n",
      "the upper bound is 4\n",
      "the upper bound is 2\n",
      "Nb is 55\n",
      "the upper bound is 2\n",
      "0.002784633152513094 50\n",
      "the upper bound is 4\n",
      "the upper bound is 2\n",
      "Nb is 59\n",
      "the upper bound is 2\n",
      "0.00684502554924149 50\n",
      "0.001845835884492164 100\n",
      "the upper bound is 16\n",
      "(-0.00011213688094846488, 0.0006566156968704764, 16, 1)\n",
      "(0.00584502554924149, 0.00011213688094846488, 7, 1)\n",
      "the upper bound is 2\n",
      "Nb is 64\n",
      "the upper bound is 2\n",
      "0.013372978462076746 50\n",
      "0.003195225879893848 100\n",
      "the upper bound is 16\n",
      "(0.00045653564815195755, 0.0004627475303616837, 16, 1)\n",
      "the upper bound is 2\n",
      "Nb is 69\n",
      "0.0011399671315206472 198\n",
      "the upper bound is 4\n",
      "0.02316263463299595 50\n",
      "0.004778858275564901 100\n",
      "the upper bound is 16\n",
      "(0.0010518860118031723, 0.00028674065319689215, 16, 1)\n",
      "0.0010262425716071055 100\n",
      "the upper bound is 4\n",
      "Nb is 75\n",
      "0.007456360005492657 214\n",
      "the upper bound is 4\n",
      "0.04878243468283605 50\n",
      "0.0064012004514361065 100\n",
      "the upper bound is 16\n",
      "(0.0016442872745292556, 0.00011112271251267816, 16, 1)\n",
      "0.007609459307671873 100\n",
      "the upper bound is 4\n",
      "Nb is 81\n",
      "0.03217837547374436 218\n",
      "the upper bound is 4\n",
      "0.0737242877843497 50\n",
      "0.006834321619538453 100\n",
      "the upper bound is 16\n",
      "(0.0019798294457006324, -4.837391100731645e-05, 16, 1)\n",
      "(4.837391100731645e-05, 0.0004757036835378861, 16, 9)\n",
      "0.03196259156982939 100\n",
      "the upper bound is 4\n",
      "Nb is 88\n",
      "0.06757176705486667 232\n",
      "0.0011162502235410043 464\n",
      "the upper bound is 16\n",
      "(-0.0007844088276758301, 0.0009716458621715765, 16, 1)\n",
      "(0.06657515522674662, 0.0007824946859784623, 7, 1)\n",
      "0.049698573724104245 50\n",
      "0.0036448826761924513 100\n",
      "the upper bound is 16\n",
      "(0.0003881258141217323, 0.0004683275009079715, 16, 1)\n",
      "0.0668808953011375 100\n",
      "0.0010140886234512037 200\n",
      "the upper bound is 16\n",
      "(-0.0008058872084345517, 0.0009750397797056989, 16, 1)\n",
      "(0.0658808953011375, 0.0008058872084345517, 7, 1)\n",
      "Nb is 95\n",
      "0.07875799872080735 258\n",
      "0.0012310873320681148 516\n",
      "the upper bound is 16\n",
      "(-0.0007490685291574586, 0.0009661802271577749, 16, 1)\n",
      "(0.07775489446457517, 0.0007488309182600563, 7, 1)\n",
      "0.05089854857347498 50\n",
      "0.007744405215175942 100\n",
      "the upper bound is 16\n",
      "(0.001888582026269737, -0.00019169216001024923, 16, 1)\n",
      "(0.00019169216001024923, 0.0003422804479358268, 16, 9)\n",
      "0.0786327462124985 100\n",
      "0.0012195641958019365 200\n",
      "the upper bound is 16\n",
      "(-0.0007530324856563899, 0.000967291395818636, 16, 1)\n",
      "(0.0776327462124985, 0.0007530324856563899, 7, 1)\n",
      "Nb is 103\n",
      "0.0876296219913073 266\n",
      "0.007011027882697696 532\n",
      "the upper bound is 16\n",
      "(-0.00020779632477152445, 0.0009084690270124698, 16, 1)\n",
      "(0.08660716641798472, 0.00020269592507071634, 7, 1)\n",
      "0.11128624416327038 50\n",
      "0.010881712811002586 100\n",
      "the upper bound is 16\n",
      "(0.0010468367770707374, -0.0001432166875218197, 16, 1)\n",
      "(0.0001432166875218197, 0.00032510302912913593, 16, 9)\n",
      "0.08781202004046051 100\n",
      "0.006911085051011012 200\n",
      "the upper bound is 16\n",
      "(-0.0002387296044465961, 0.0009157906783743277, 16, 1)\n",
      "(0.08681202004046051, 0.0002387296044465961, 7, 1)\n",
      "Nb is 111\n",
      "0.051105984547667904 290\n",
      "0.004735770298685771 580\n",
      "the upper bound is 16\n",
      "(-0.0004305166197017254, 0.0009321274845180963, 16, 1)\n",
      "(0.050110686734372356, 0.0004300391486706792, 7, 1)\n",
      "0.19186387048995102 50\n",
      "0.08142263841346986 100\n",
      "0.002142960360453361 400\n",
      "the upper bound is 256\n",
      "(-0.0009713379398592617, 0.0009730985224024593, 256, 1)\n",
      "(-0.0008780322436795487, 0.0008927516616575861, 127, 1)\n",
      "(-0.0004457618748944228, 0.0005744553966670054, 63, 1)\n",
      "(0.0018707249887665043, -0.0006579400188212467, 31, 1)\n",
      "(7.433319761340849e-05, 0.0002488062482798306, 31, 17)\n",
      "0.05184060543870461 100\n",
      "0.004758255714311321 200\n",
      "the upper bound is 16\n",
      "(-0.0004207390625662324, 0.0009314557383717217, 16, 1)\n",
      "(0.05084060543870461, 0.0004207390625662324, 7, 1)\n",
      "Nb is 120\n",
      "0.1688033408165699 308\n",
      "0.09277520699255148 616\n",
      "the upper bound is 16\n",
      "(0.005677946643849131, 0.00038200069304206077, 16, 1)\n",
      "0.4629498560403602 50\n",
      "0.20181309188788155 100\n",
      "0.0015151069575987108 400\n",
      "the upper bound is 256\n",
      "(-0.0009842689774520732, 0.0009852524529755371, 256, 1)\n",
      "(-0.0009303629410731809, 0.000939056360644285, 127, 1)\n",
      "(-0.0006562134717394965, 0.000740925807861669, 63, 1)\n",
      "(0.0011061084428916077, -0.00013785570575786197, 31, 1)\n",
      "(-0.0002950283176523785, 0.0005226756352886266, 31, 17)\n",
      "(0.00013785570575786197, 0.0002950283176523785, 23, 17)\n",
      "0.17351400436020037 100\n",
      "0.09122205714373899 200\n",
      "the upper bound is 16\n",
      "(0.004980155550620481, 0.0004424073040547585, 16, 1)\n",
      "Nb is 130\n",
      "0.07204078986803775 320\n",
      "0.23302246303245966 640\n",
      "the upper bound is 16\n",
      "(0.003139127226203576, 0.0006532638735298182, 16, 1)\n",
      "0.11547952800353034 50\n",
      "0.23759525344866628 100\n",
      "0.0013419163014077862 400\n",
      "the upper bound is 256\n",
      "(-0.0009772751798212678, 0.000978639385433854, 256, 1)\n",
      "(-0.0009078165922833384, 0.0009184941632154322, 127, 1)\n",
      "(-0.0006158926578457838, 0.0006997243449438076, 63, 1)\n",
      "(0.0007606580002531569, -5.8339076716263684e-05, 31, 1)\n",
      "(-0.00029100370351653384, 0.0004906907726894829, 31, 17)\n",
      "(5.8339076716263684e-05, 0.00029100370351653384, 23, 17)\n",
      "0.07312787600654791 100\n",
      "0.23310322462819466 200\n",
      "the upper bound is 16\n",
      "(0.0031505677406799, 0.0006517739983019624, 16, 1)\n",
      "Nb is 141\n",
      "0.2530837167678349 354\n",
      "0.1061138226808076 708\n",
      "the upper bound is 16\n",
      "(0.041675390132868806, -0.001369748408114214, 16, 1)\n",
      "(0.0013690401722200604, 0.0004418800228749289, 16, 9)\n",
      "0.3458741004950676 50\n",
      "0.13768733883203044 100\n",
      "0.004191390839076159 400\n",
      "the upper bound is 256\n",
      "(-0.0009373058878505694, 0.0009410855990847891, 256, 1)\n",
      "(-0.0007432355658929515, 0.0007732481936748572, 127, 1)\n",
      "(9.818567558284117e-05, 0.00014753214316553988, 63, 1)\n",
      "0.2539439971973202 100\n",
      "0.10537738536312125 200\n",
      "the upper bound is 16\n",
      "(0.04161924731173816, -0.0013672148644861002, 16, 1)\n",
      "(0.0013672148644861002, 0.00044358107730479903, 16, 9)\n",
      "Nb is 152\n",
      "0.41156810351538975 380\n",
      "0.08160708716609599 760\n",
      "the upper bound is 16\n",
      "(0.2957938130738118, -0.006160087448473074, 16, 1)\n",
      "(0.006162767675869763, -0.0005258516724916404, 16, 9)\n",
      "(0.0020026894022775474, 0.0001349544254513049, 16, 13)\n",
      "0.4597675322055784 50\n",
      "0.4560188579929295 100\n",
      "0.004345224250494106 400\n",
      "the upper bound is 256\n",
      "(-0.0009436024700552039, 0.0009470313347802453, 256, 1)\n",
      "(-0.0007646888851241531, 0.000792656379993927, 127, 1)\n",
      "(4.5337365829013244e-05, 0.00019541156908686654, 63, 1)\n",
      "0.41195622840275237 100\n",
      "0.0819678859409706 200\n",
      "the upper bound is 16\n",
      "(0.29557163573256295, -0.006155577754474063, 16, 1)\n",
      "(0.006155577754474063, -0.0005254612542437984, 16, 9)\n",
      "(0.0020006386291948628, 0.00013615099752262074, 16, 13)\n",
      "Nb is 165\n",
      "0.5504226842584801 390\n",
      "0.2809524417796918 780\n",
      "0.0015691839379572414 3120\n",
      "the upper bound is 256\n",
      "(-0.0009992319051516088, 0.000999299309440426, 256, 1)\n",
      "(-0.0009932330464567088, 0.00099459476952135, 127, 1)\n",
      "(-0.000887672165321928, 0.0009313063372202715, 63, 1)\n",
      "(0.0018862663366997498, 6.337693610358654e-05, 31, 1)\n",
      "0.9165030094638882 50\n",
      "0.617578306413523 100\n",
      "0.008568988804585231 400\n",
      "the upper bound is 256\n",
      "(-0.0009430941516735949, 0.000946784808954936, 256, 1)\n",
      "(-0.0007252561910193736, 0.0007620430116790358, 127, 1)\n",
      "(0.0005968014908236405, -0.00016428988950478816, 63, 1)\n",
      "(-0.0004452348118648688, 0.0005454056193341375, 63, 33)\n",
      "(-0.00011681647284300569, 0.00030880043152559013, 47, 33)\n",
      "(0.00016428988950478816, 0.00011681647284300569, 39, 33)\n",
      "0.5334434239079637 100\n",
      "0.2637701802197422 200\n",
      "0.0012736306367431283 800\n",
      "the upper bound is 256\n",
      "(-0.0009997188342508725, 0.0009997519064259821, 256, 1)\n",
      "(-0.0009951716272029723, 0.0009962439335542408, 127, 1)\n",
      "(-0.000909131467458967, 0.0009454345223892649, 63, 1)\n",
      "(0.001314259458841006, 0.000236422048164763, 31, 1)\n",
      "Nb is 178\n",
      "0.6493522848320264 444\n",
      "0.4907863545565343 888\n",
      "0.003664662217511494 3552\n",
      "the upper bound is 256\n",
      "(-0.0009992350078954484, 0.0009993253174203067, 256, 1)\n",
      "(-0.0009868704787097107, 0.000989789340722024, 127, 1)\n",
      "(-0.0007507624023114215, 0.0008507690266180692, 63, 1)\n",
      "(0.0059393649461867435, -0.0011607092374148484, 31, 1)\n",
      "(-9.19982216662776e-05, 0.0005496655851737744, 31, 17)\n",
      "(0.00116071864143208, 9.204970449760898e-05, 23, 17)\n",
      "0.4807423854448214 50\n",
      "0.8708741155718175 100\n",
      "0.008782359656390293 400\n",
      "the upper bound is 256\n",
      "(-0.0009149150933426267, 0.0009198843844624429, 256, 1)\n",
      "(-0.0006659201773222536, 0.0007042566133876873, 127, 1)\n",
      "(0.0005254661150838622, -0.00014786032076852338, 63, 1)\n",
      "(-0.00039487097034085396, 0.0004887540675424509, 63, 33)\n",
      "(-9.890333211026638e-05, 0.00027027147270919285, 47, 33)\n",
      "(0.00014786032076852338, 9.890333211026638e-05, 39, 33)\n",
      "0.6493619537461848 100\n",
      "0.4906692741339973 200\n",
      "0.003669277837520357 800\n",
      "the upper bound is 256\n",
      "(-0.0009992364465229988, 0.0009993262823703155, 256, 1)\n",
      "(-0.0009868639651207092, 0.0009897842219083177, 127, 1)\n",
      "(-0.0007504908739670571, 0.0008506088192752328, 63, 1)\n",
      "(0.005949039028175785, -0.0011633878745765944, 31, 1)\n",
      "(-9.088811752755357e-05, 0.0005491256112661871, 31, 17)\n",
      "(0.0011633878745765944, 9.088811752755357e-05, 23, 17)\n",
      "Nb is 193\n",
      "0.4900937571069963 462\n",
      "0.27629903881603124 924\n",
      "0.007690548169419276 3696\n",
      "the upper bound is 256\n",
      "(-0.0009985552929289146, 0.0009987183034032556, 256, 1)\n",
      "(-0.0009758648384005078, 0.0009812026614329774, 127, 1)\n",
      "(-0.0005472857987655058, 0.0007281710077818851, 63, 1)\n",
      "(0.012489929632556462, -0.002932164428881002, 31, 1)\n",
      "(0.0006407513462013412, 0.00018435985405118507, 31, 17)\n",
      "0.28847434721230725 50\n",
      "0.6177487998747133 100\n",
      "0.05675884728824765 400\n",
      "the upper bound is 256\n",
      "(-0.0008340520849197111, 0.0008442753570342401, 256, 1)\n",
      "(-0.0002734246146023347, 0.00036473165233075113, 127, 1)\n",
      "(0.0030301467290662085, -0.0019112859433187976, 63, 1)\n",
      "(0.00040883103756472836, -0.0001660232175095819, 63, 33)\n",
      "(-1.7697678154181794e-05, 0.0001603232900508891, 63, 49)\n",
      "(0.0001660232175095819, 1.7697678154181794e-05, 55, 49)\n",
      "0.48786723521670305 100\n",
      "0.2761479423843012 200\n",
      "0.007698280820447212 800\n",
      "the upper bound is 256\n",
      "(-0.0009985924498867585, 0.0009987579679150418, 256, 1)\n",
      "(-0.0009758688485270719, 0.000981223663759189, 127, 1)\n",
      "(-0.0005468218344624179, 0.0007279459996892826, 63, 1)\n",
      "(0.012560149921838848, -0.0029402333646135767, 31, 1)\n",
      "(0.0006435196064473745, 0.00018345869833546937, 31, 17)\n",
      "Nb is 209\n",
      "0.9256635453886413 490\n",
      "0.6949242939207434 980\n",
      "0.025560719929184406 3920\n",
      "the upper bound is 256\n",
      "(-0.0009960807730443602, 0.0009965511128420248, 256, 1)\n",
      "(-0.0009343826892046483, 0.0009490123581000756, 127, 1)\n",
      "(0.00028374003854281325, 0.0002401028225763593, 63, 1)\n",
      "0.7808324435411877 50\n",
      "0.9024032921663123 100\n",
      "0.1944550093183809 400\n",
      "the upper bound is 256\n",
      "(-0.0007011725587113818, 0.0007214725566786475, 256, 1)\n",
      "(0.0006007537452288334, -0.00037055015929177235, 127, 1)\n",
      "(-0.00041431678378545025, 0.00046861890905780437, 127, 65)\n",
      "(-8.799523155389368e-05, 0.0001910445724857537, 95, 65)\n",
      "(0.00018591661030031934, -3.572215007019517e-05, 79, 65)\n",
      "(3.572215007019517e-05, 8.799523155389368e-05, 79, 73)\n",
      "0.9261891396262317 100\n",
      "0.6963916782453629 200\n",
      "0.025615478041871476 800\n",
      "the upper bound is 256\n",
      "(-0.000996160904763065, 0.000996612837080412, 256, 1)\n",
      "(-0.0009336800730315167, 0.0009484594245416913, 127, 1)\n",
      "(0.00029516570371590587, 0.00023203568999774406, 63, 1)\n",
      "Nb is 226\n",
      "0.9563851068307611 536\n",
      "0.5449816312871446 1072\n",
      "0.08264943875573527 4288\n",
      "the upper bound is 256\n",
      "(-0.0009904691762036002, 0.0009915916982602404, 256, 1)\n",
      "(-0.0008360421462901826, 0.0008725201950581232, 127, 1)\n",
      "(0.0021904166793578215, -0.0008898090895618225, 63, 1)\n",
      "(-0.0004523114652392737, 0.0006093570217849944, 63, 33)\n",
      "(0.00019438285372419626, 0.00020690443138637795, 47, 33)\n",
      "0.915812169723058 50\n",
      "0.7878978112445588 100\n",
      "0.33118520764468784 400\n",
      "the upper bound is 256\n",
      "(-0.0005360621578326388, 0.0005678246036177051, 256, 1)\n",
      "(0.0016134679512227476, -0.0012194494980046775, 127, 1)\n",
      "(-8.084226891358261e-05, 0.00016792678816623854, 127, 65)\n",
      "(0.0004508455064975445, -0.0002814539566630145, 95, 65)\n",
      "(0.0001399893990388099, -2.0679745993846567e-05, 95, 81)\n",
      "(2.0679745993846567e-05, 8.084226891358261e-05, 95, 89)\n",
      "0.9562502688130833 100\n",
      "0.5448754757724434 200\n",
      "0.08265745092192534 800\n",
      "the upper bound is 256\n",
      "(-0.000990489695184448, 0.0009916086739724097, 256, 1)\n",
      "(-0.000836213281611208, 0.000872658857922203, 127, 1)\n",
      "(0.0021890666791786204, -0.000888842188815576, 63, 1)\n",
      "(-0.0004526632093967411, 0.0006096688602456038, 63, 33)\n",
      "(0.00019365036512020237, 0.0002074388295761889, 47, 33)\n",
      "Nb is 245\n",
      "0.9513539467082219 558\n",
      "0.9941975010866915 1116\n",
      "0.3756744341462678 4464\n",
      "the upper bound is 256\n",
      "(-0.0009765005709323473, 0.0009791992609035063, 256, 1)\n",
      "(-0.0005929964991908667, 0.0006842467049166237, 127, 1)\n",
      "(0.007465288780957758, -0.003900535213907542, 63, 1)\n",
      "(0.0003774754813751233, 2.257155757889786e-05, 63, 33)\n",
      "0.9169225188054662 50\n",
      "0.7568239774156136 100\n",
      "0.20065908037607805 400\n",
      "the upper bound is 256\n",
      "(-0.0004387698133077036, 0.00048014084988556773, 256, 1)\n",
      "(0.0027100746132031625, -0.0020997953662061928, 127, 1)\n",
      "(0.00017976317080570323, -5.834036811480734e-05, 127, 65)\n",
      "(-0.00021267734485408332, 0.0002804208834374924, 127, 97)\n",
      "(-4.553713260590977e-05, 0.00013504405442810088, 111, 97)\n",
      "(5.834036811480734e-05, 4.553713260590977e-05, 103, 97)\n",
      "0.9496856974738375 100\n",
      "0.993947193354453 200\n",
      "0.375797386393912 800\n",
      "the upper bound is 256\n",
      "(-0.0009764418253085374, 0.0009792169118993934, 256, 1)\n",
      "(-0.0005905799663272751, 0.0006821737700563038, 127, 1)\n",
      "(0.007497206321931072, -0.00391948139462417, 63, 1)\n",
      "(0.00038483266167988004, 1.675507410103718e-05, 63, 33)\n"
     ]
    }
   ],
   "source": [
    "#beware of runtime\n",
    "CompSim = CompositeSim(graph_hamiltonian_list, inner_order=2, outer_order=1, initial_time=0.01, partition=\"optimal prob\", nb_optimizer=False, weight_threshold=0.5, epsilon=0.001)\n",
    "TrotSim1 = CompositeSim(graph_hamiltonian_list, inner_order=1, outer_order=1, partition=\"trotter\", epsilon=0.001)\n",
    "TrotSim2 = CompositeSim(graph_hamiltonian_list, inner_order=2, outer_order=1, partition=\"trotter\", epsilon=0.001)\n",
    "QDSim  = CompositeSim(graph_hamiltonian_list, inner_order=1, outer_order=1, partition=\"qdrift\", epsilon=0.001)\n",
    "\n",
    "iterations = 1\n",
    "samples = 1\n",
    "mc_samples = 150\n",
    "\n",
    "tStart = 0.1\n",
    "tFinal = 2\n",
    "tSteps = 20\n",
    "times = np.geomspace(tStart, tFinal, tSteps)\n",
    "\n",
    "CompSim_results = dict()\n",
    "TrotSim1_results = dict()\n",
    "TrotSim2_results = dict()\n",
    "QDSim_results = dict()\n",
    "\n",
    "partition_dist = []\n",
    "\n",
    "for t in times:\n",
    "    #CompSim.repartition(t)\n",
    "    #CompSim_results[t] = CompSim.sim_channel_performance(t, samples, iterations, mc_samples) #uncomment for non-optimized methods\n",
    "    \n",
    "    CompSim.time = t\n",
    "    CompSim.partitioning(weight_threshold=2)\n",
    "    CompSim_results[t] = CompSim.optimized_gatecost\n",
    "    partition_dist.append([len(CompSim.a_norms), len(CompSim.b_norms)])\n",
    "    TrotSim1_results[t] = TrotSim1.sim_channel_performance(t, samples, iterations, mc_samples)\n",
    "    TrotSim2_results[t] = TrotSim2.sim_channel_performance(t, samples, iterations, mc_samples)\n",
    "    QDSim_results[t] = QDSim.sim_channel_performance(t, samples, iterations, mc_samples)\n",
    "\n",
    "partition_dist = np.array(partition_dist)\n",
    "\n",
    "outfile = open(\"sim_channel_performance_with_prob_repartitioning_June_01.json\", \"w\")\n",
    "json.dump(CompSim_results, outfile)\n",
    "json.dump(TrotSim1_results, outfile)\n",
    "json.dump(TrotSim2_results, outfile)\n",
    "json.dump(QDSim_results, outfile)\n",
    "outfile.close()\n",
    "    "
   ]
  },
  {
   "cell_type": "code",
   "execution_count": 9,
   "metadata": {},
   "outputs": [
    {
     "data": {
      "image/png": "[encoded data removed]",
      "text/plain": [
       "<Figure size 432x288 with 1 Axes>"
      ]
     },
     "metadata": {
      "needs_background": "light"
     },
     "output_type": "display_data"
    }
   ],
   "source": [
    "\n",
    "plt.title(\"(5,1) Graph Hamiltonian Gate Cost Comparison: Infidelity threshold=0.001,\\n MC Samples = 150, Prob Partition, Composite Nb = paper, repartitioned\")\n",
    "plt.loglog(times, list(CompSim_results.values()), label=\"CompositeProb\")\n",
    "plt.loglog(times, list(TrotSim1_results.values()), label=\"Trotter1\")\n",
    "plt.loglog(times, list(TrotSim2_results.values()), label=\"Trotter2\")\n",
    "#plt.loglog(times, list(QDSim_results.values()), label=\"QDrift\")\n",
    "plt.legend()\n",
    "plt.show()"
   ]
  },
  {
   "cell_type": "code",
   "execution_count": 10,
   "metadata": {},
   "outputs": [
    {
     "data": {
      "text/plain": [
       "<function matplotlib.pyplot.show(close=None, block=None)>"
      ]
     },
     "execution_count": 10,
     "metadata": {},
     "output_type": "execute_result"
    },
    {
     "data": {
      "image/png": "[encoded data removed]",
      "text/plain": [
       "<Figure size 432x288 with 1 Axes>"
      ]
     },
     "metadata": {
      "needs_background": "light"
     },
     "output_type": "display_data"
    }
   ],
   "source": [
    "plt.title(\"Partitioning Scheme vs Time\")\n",
    "plt.plot(times, partition_dist[:,0], label=\"TrotterTerms\")\n",
    "plt.plot(times, partition_dist[:,1], label = \"QDrift Terms\")\n",
    "#plt.plot(times, partition_dist[:,0]/partition_dist[:,1], label = \"A/B ratio\")\n",
    "plt.legend()\n",
    "plt.show"
   ]
  },
  {
   "cell_type": "markdown",
   "metadata": {},
   "source": [
    "# Code Profiling"
   ]
  },
  {
   "cell_type": "code",
   "execution_count": 6,
   "metadata": {},
   "outputs": [
    {
     "name": "stdout",
     "output_type": "stream",
     "text": [
      "Nb is 28\n",
      "There are 11 terms in Trotter\n",
      "There are 5 terms in QDrift\n"
     ]
    }
   ],
   "source": [
    "#Use the @profile decorator above any function in the notebook \n",
    "# and then simply execute the function from the classes defined below\n",
    "QDtest = QDriftSim(graph_hamiltonian_list)\n",
    "TrotTest = TrotterSim(graph_hamiltonian_list, order = 2)\n",
    "CompTest = CompositeSim(graph_hamiltonian_list, inner_order =2, partition = \"prob\")"
   ]
  },
  {
   "cell_type": "code",
   "execution_count": 9,
   "metadata": {},
   "outputs": [
    {
     "name": "stdout",
     "output_type": "stream",
     "text": [
      "         218970 function calls (218942 primitive calls) in 0.653 seconds\n",
      "\n",
      "   Ordered by: cumulative time\n",
      "\n",
      "   ncalls  tottime  percall  cumtime  percall filename:lineno(function)\n",
      "        1    0.004    0.004    0.653    0.653 /Users/matthewpocrnic/Desktop/A1 Grad School Assignments/Master's Research/Simulation Code/Trotter-Qdrift-Simulation/compilers.py:709(simulate)\n",
      "      500    0.066    0.000    0.584    0.001 /Users/matthewpocrnic/Desktop/A1 Grad School Assignments/Master's Research/Simulation Code/Trotter-Qdrift-Simulation/compilers.py:369(simulate)\n",
      "      500    0.154    0.000    0.495    0.001 /Users/matthewpocrnic/Desktop/A1 Grad School Assignments/Master's Research/Simulation Code/Trotter-Qdrift-Simulation/compilers.py:355(draw_hamiltonian_samples)\n",
      "    14500    0.013    0.000    0.331    0.000 <__array_function__ internals>:2(sum)\n",
      "16206/16179    0.013    0.000    0.327    0.000 {built-in method numpy.core._multiarray_umath.implement_array_function}\n",
      "    14500    0.030    0.000    0.305    0.000 /opt/anaconda3/lib/python3.7/site-packages/numpy/core/fromnumeric.py:2123(sum)\n",
      "    14527    0.049    0.000    0.271    0.000 /opt/anaconda3/lib/python3.7/site-packages/numpy/core/fromnumeric.py:69(_wrapreduction)\n",
      "    14770    0.195    0.000    0.195    0.000 {method 'reduce' of 'numpy.ufunc' objects}\n",
      "      500    0.052    0.000    0.065    0.000 /Users/matthewpocrnic/Desktop/A1 Grad School Assignments/Master's Research/Simulation Code/Trotter-Qdrift-Simulation/compilers.py:249(simulate)\n",
      "    14000    0.017    0.000    0.017    0.000 {method 'random' of 'numpy.random.mtrand.RandomState' objects}\n",
      "    14814    0.017    0.000    0.017    0.000 {built-in method builtins.getattr}\n",
      "       27    0.000    0.000    0.014    0.001 /opt/anaconda3/lib/python3.7/site-packages/scipy/linalg/matfuncs.py:210(expm)\n",
      "       27    0.000    0.000    0.014    0.001 /opt/anaconda3/lib/python3.7/site-packages/scipy/sparse/linalg/matfuncs.py:546(expm)\n",
      "       27    0.000    0.000    0.014    0.001 /opt/anaconda3/lib/python3.7/site-packages/scipy/sparse/linalg/matfuncs.py:594(_expm)\n",
      "    14527    0.011    0.000    0.011    0.000 /opt/anaconda3/lib/python3.7/site-packages/numpy/core/fromnumeric.py:70(<dictcomp>)\n",
      "     1501    0.002    0.000    0.009    0.000 <__array_function__ internals>:2(copy)\n",
      "     1501    0.001    0.000    0.005    0.000 /opt/anaconda3/lib/python3.7/site-packages/numpy/lib/function_base.py:726(copy)\n",
      "     1501    0.004    0.000    0.004    0.000 {built-in method numpy.array}\n",
      "    14976    0.004    0.000    0.004    0.000 {built-in method builtins.isinstance}\n",
      "       27    0.001    0.000    0.003    0.000 /opt/anaconda3/lib/python3.7/site-packages/scipy/sparse/linalg/matfuncs.py:820(_ell)\n",
      "       27    0.000    0.000    0.003    0.000 /opt/anaconda3/lib/python3.7/site-packages/scipy/sparse/linalg/matfuncs.py:684(_solve_P_Q)\n",
      "       81    0.000    0.000    0.003    0.000 /opt/anaconda3/lib/python3.7/site-packages/scipy/sparse/linalg/_expm_multiply.py:24(_exact_1_norm)\n",
      "    15997    0.002    0.000    0.002    0.000 {built-in method builtins.len}\n",
      "    14500    0.002    0.000    0.002    0.000 /opt/anaconda3/lib/python3.7/site-packages/numpy/core/fromnumeric.py:2118(_sum_dispatcher)\n",
      "       81    0.000    0.000    0.002    0.000 <__array_function__ internals>:2(norm)\n",
      "    14527    0.002    0.000    0.002    0.000 {method 'items' of 'dict' objects}\n",
      "       27    0.000    0.000    0.002    0.000 /opt/anaconda3/lib/python3.7/site-packages/scipy/sparse/linalg/matfuncs.py:440(d4_loose)\n",
      "    14447    0.002    0.000    0.002    0.000 {method 'get' of 'dict' objects}\n",
      "       27    0.000    0.000    0.002    0.000 /opt/anaconda3/lib/python3.7/site-packages/scipy/sparse/linalg/matfuncs.py:416(d4_tight)\n",
      "       81    0.001    0.000    0.002    0.000 /opt/anaconda3/lib/python3.7/site-packages/numpy/linalg/linalg.py:2363(norm)\n",
      "    14016    0.002    0.000    0.002    0.000 {method 'append' of 'list' objects}\n",
      "      108    0.001    0.000    0.002    0.000 /opt/anaconda3/lib/python3.7/site-packages/scipy/sparse/linalg/matfuncs.py:129(_smart_matrix_product)\n",
      "       27    0.000    0.000    0.002    0.000 /opt/anaconda3/lib/python3.7/site-packages/scipy/sparse/linalg/matfuncs.py:114(_is_upper_triangular)\n",
      "       27    0.000    0.000    0.002    0.000 /opt/anaconda3/lib/python3.7/site-packages/scipy/sparse/linalg/matfuncs.py:81(_onenorm_matrix_power_nnm)\n",
      "       27    0.000    0.000    0.002    0.000 <__array_function__ internals>:2(tril)\n",
      "       27    0.000    0.000    0.001    0.000 /opt/anaconda3/lib/python3.7/site-packages/numpy/lib/twodim_base.py:436(tril)\n",
      "       27    0.000    0.000    0.001    0.000 /opt/anaconda3/lib/python3.7/site-packages/scipy/sparse/linalg/matfuncs.py:452(d6_loose)\n",
      "       27    0.000    0.000    0.001    0.000 /opt/anaconda3/lib/python3.7/site-packages/scipy/sparse/linalg/matfuncs.py:422(d6_tight)\n",
      "      221    0.001    0.000    0.001    0.000 {method 'dot' of 'numpy.ndarray' objects}\n",
      "        8    0.001    0.000    0.001    0.000 /opt/anaconda3/lib/python3.7/site-packages/scipy/linalg/basic.py:40(solve)\n",
      "       27    0.001    0.000    0.001    0.000 /opt/anaconda3/lib/python3.7/site-packages/scipy/sparse/linalg/matfuncs.py:488(pade3)\n",
      "       54    0.000    0.000    0.001    0.000 /opt/anaconda3/lib/python3.7/site-packages/scipy/sparse/linalg/matfuncs.py:388(A4)\n",
      "       54    0.000    0.000    0.001    0.000 /opt/anaconda3/lib/python3.7/site-packages/scipy/_lib/_util.py:247(_asarray_validated)\n",
      "       27    0.000    0.000    0.001    0.000 /opt/anaconda3/lib/python3.7/site-packages/numpy/lib/twodim_base.py:370(tri)\n",
      "       19    0.000    0.000    0.001    0.000 /opt/anaconda3/lib/python3.7/site-packages/scipy/linalg/basic.py:264(solve_triangular)\n",
      "      135    0.000    0.000    0.001    0.000 /opt/anaconda3/lib/python3.7/site-packages/scipy/sparse/linalg/matfuncs.py:381(A2)\n",
      "       54    0.000    0.000    0.001    0.000 /opt/anaconda3/lib/python3.7/site-packages/numpy/lib/function_base.py:422(asarray_chkfinite)\n",
      "       54    0.001    0.000    0.001    0.000 {built-in method numpy.arange}\n",
      "       27    0.000    0.000    0.001    0.000 /opt/anaconda3/lib/python3.7/site-packages/scipy/sparse/linalg/matfuncs.py:347(__init__)\n",
      "       27    0.000    0.000    0.000    0.000 /opt/anaconda3/lib/python3.7/site-packages/scipy/sparse/linalg/matfuncs.py:395(A6)\n",
      "       27    0.000    0.000    0.000    0.000 /opt/anaconda3/lib/python3.7/site-packages/scipy/sparse/linalg/_expm_multiply.py:44(_ident_like)\n",
      "       27    0.000    0.000    0.000    0.000 <__array_function__ internals>:2(amax)\n",
      "       81    0.000    0.000    0.000    0.000 {method 'max' of 'numpy.ndarray' objects}\n",
      "       54    0.000    0.000    0.000    0.000 {method 'all' of 'numpy.ndarray' objects}\n",
      "       27    0.000    0.000    0.000    0.000 /opt/anaconda3/lib/python3.7/site-packages/numpy/core/fromnumeric.py:2638(amax)\n",
      "       54    0.000    0.000    0.000    0.000 /opt/anaconda3/lib/python3.7/site-packages/numpy/core/_methods.py:60(_all)\n",
      "     1501    0.000    0.000    0.000    0.000 /opt/anaconda3/lib/python3.7/site-packages/numpy/lib/function_base.py:722(_copy_dispatcher)\n",
      "       81    0.000    0.000    0.000    0.000 /opt/anaconda3/lib/python3.7/site-packages/numpy/core/_methods.py:38(_amax)\n",
      "      314    0.000    0.000    0.000    0.000 /opt/anaconda3/lib/python3.7/site-packages/scipy/sparse/sputils.py:344(is_pydata_spmatrix)\n",
      "      500    0.000    0.000    0.000    0.000 /Users/matthewpocrnic/Desktop/A1 Grad School Assignments/Master's Research/Simulation Code/Trotter-Qdrift-Simulation/compilers.py:336(set_initial_state)\n",
      "       27    0.000    0.000    0.000    0.000 /opt/anaconda3/lib/python3.7/site-packages/numpy/lib/twodim_base.py:161(eye)\n",
      "       27    0.000    0.000    0.000    0.000 /opt/anaconda3/lib/python3.7/site-packages/numpy/core/numeric.py:149(ones)\n",
      "      119    0.000    0.000    0.000    0.000 /opt/anaconda3/lib/python3.7/site-packages/scipy/linalg/blas.py:383(getter)\n",
      "      500    0.000    0.000    0.000    0.000 /Users/matthewpocrnic/Desktop/A1 Grad School Assignments/Master's Research/Simulation Code/Trotter-Qdrift-Simulation/compilers.py:239(set_initial_state)\n",
      "       27    0.000    0.000    0.000    0.000 {method 'any' of 'numpy.ndarray' objects}\n",
      "       27    0.000    0.000    0.000    0.000 {method 'outer' of 'numpy.ufunc' objects}\n",
      "      368    0.000    0.000    0.000    0.000 /opt/anaconda3/lib/python3.7/site-packages/scipy/sparse/base.py:1205(isspmatrix)\n",
      "       27    0.000    0.000    0.000    0.000 <__array_function__ internals>:2(where)\n",
      "       27    0.000    0.000    0.000    0.000 /opt/anaconda3/lib/python3.7/site-packages/numpy/core/_methods.py:54(_any)\n",
      "       27    0.000    0.000    0.000    0.000 <__array_function__ internals>:2(copyto)\n",
      "       54    0.000    0.000    0.000    0.000 /opt/anaconda3/lib/python3.7/site-packages/numpy/lib/twodim_base.py:32(_min_int)\n",
      "       27    0.000    0.000    0.000    0.000 /opt/anaconda3/lib/python3.7/site-packages/numpy/core/numerictypes.py:358(issubdtype)\n",
      "       27    0.000    0.000    0.000    0.000 {built-in method builtins.abs}\n",
      "       57    0.000    0.000    0.000    0.000 {built-in method numpy.zeros}\n",
      "       54    0.000    0.000    0.000    0.000 /opt/anaconda3/lib/python3.7/site-packages/numpy/core/numerictypes.py:284(issubclass_)\n",
      "      162    0.000    0.000    0.000    0.000 {built-in method builtins.issubclass}\n",
      "        8    0.000    0.000    0.000    0.000 <__array_function__ internals>:2(atleast_2d)\n",
      "        8    0.000    0.000    0.000    0.000 <__array_function__ internals>:2(atleast_1d)\n",
      "       27    0.000    0.000    0.000    0.000 {built-in method numpy.empty}\n",
      "       27    0.000    0.000    0.000    0.000 /opt/anaconda3/lib/python3.7/site-packages/scipy/_lib/_util.py:166(float_factorial)\n",
      "       54    0.000    0.000    0.000    0.000 /opt/anaconda3/lib/python3.7/site-packages/numpy/core/getlimits.py:538(max)\n",
      "       27    0.000    0.000    0.000    0.000 /opt/anaconda3/lib/python3.7/site-packages/scipy/special/_basic.py:2170(comb)\n",
      "       54    0.000    0.000    0.000    0.000 {built-in method builtins.max}\n",
      "      162    0.000    0.000    0.000    0.000 {built-in method numpy.core._multiarray_umath.normalize_axis_index}\n",
      "       54    0.000    0.000    0.000    0.000 /opt/anaconda3/lib/python3.7/site-packages/numpy/core/getlimits.py:525(min)\n",
      "       24    0.000    0.000    0.000    0.000 /opt/anaconda3/lib/python3.7/site-packages/scipy/linalg/basic.py:23(_solve_check)\n",
      "        1    0.000    0.000    0.000    0.000 /Users/matthewpocrnic/Desktop/A1 Grad School Assignments/Master's Research/Simulation Code/Trotter-Qdrift-Simulation/compilers.py:486(reset_init_state)\n",
      "      135    0.000    0.000    0.000    0.000 {built-in method numpy.asarray}\n",
      "        8    0.000    0.000    0.000    0.000 /opt/anaconda3/lib/python3.7/site-packages/numpy/core/shape_base.py:81(atleast_2d)\n",
      "       54    0.000    0.000    0.000    0.000 /opt/anaconda3/lib/python3.7/site-packages/numpy/ma/core.py:6374(isMaskedArray)\n",
      "       27    0.000    0.000    0.000    0.000 {scipy.special._comb._comb_int}\n",
      "        8    0.000    0.000    0.000    0.000 /opt/anaconda3/lib/python3.7/site-packages/numpy/core/shape_base.py:23(atleast_1d)\n",
      "       27    0.000    0.000    0.000    0.000 {method 'astype' of 'numpy.ndarray' objects}\n",
      "       81    0.000    0.000    0.000    0.000 /opt/anaconda3/lib/python3.7/site-packages/numpy/linalg/linalg.py:2359(_norm_dispatcher)\n",
      "       27    0.000    0.000    0.000    0.000 /opt/anaconda3/lib/python3.7/site-packages/numpy/lib/twodim_base.py:432(_trilu_dispatcher)\n",
      "       27    0.000    0.000    0.000    0.000 {built-in method math.factorial}\n",
      "      3/2    0.000    0.000    0.000    0.000 /Users/matthewpocrnic/Desktop/A1 Grad School Assignments/Master's Research/Simulation Code/Trotter-Qdrift-Simulation/compilers.py:153(compute_trotter_timesteps)\n",
      "       43    0.000    0.000    0.000    0.000 {built-in method numpy.asanyarray}\n",
      "        2    0.000    0.000    0.000    0.000 {method 'clear' of 'dict' objects}\n",
      "       27    0.000    0.000    0.000    0.000 /opt/anaconda3/lib/python3.7/site-packages/numpy/core/fromnumeric.py:2633(_amax_dispatcher)\n",
      "       27    0.000    0.000    0.000    0.000 /opt/anaconda3/lib/python3.7/site-packages/numpy/core/multiarray.py:1071(copyto)\n",
      "        1    0.000    0.000    0.000    0.000 /Users/matthewpocrnic/Desktop/A1 Grad School Assignments/Master's Research/Simulation Code/Trotter-Qdrift-Simulation/compilers.py:242(reset_init_state)\n",
      "       35    0.000    0.000    0.000    0.000 /opt/anaconda3/lib/python3.7/site-packages/scipy/linalg/misc.py:180(_datacopied)\n",
      "       27    0.000    0.000    0.000    0.000 /opt/anaconda3/lib/python3.7/site-packages/numpy/core/multiarray.py:341(where)\n",
      "        1    0.000    0.000    0.000    0.000 /Users/matthewpocrnic/Desktop/A1 Grad School Assignments/Master's Research/Simulation Code/Trotter-Qdrift-Simulation/compilers.py:339(reset_init_state)\n",
      "        8    0.000    0.000    0.000    0.000 /opt/anaconda3/lib/python3.7/site-packages/numpy/core/shape_base.py:77(_atleast_2d_dispatcher)\n",
      "        2    0.000    0.000    0.000    0.000 /Users/matthewpocrnic/Desktop/A1 Grad School Assignments/Master's Research/Simulation Code/Trotter-Qdrift-Simulation/compilers.py:159(<listcomp>)\n",
      "        8    0.000    0.000    0.000    0.000 /opt/anaconda3/lib/python3.7/site-packages/numpy/core/shape_base.py:19(_atleast_1d_dispatcher)\n",
      "        1    0.000    0.000    0.000    0.000 {method 'copy' of 'list' objects}\n",
      "        1    0.000    0.000    0.000    0.000 {method 'reverse' of 'list' objects}\n",
      "        1    0.000    0.000    0.000    0.000 {method 'disable' of '_lsprof.Profiler' objects}\n",
      "\n",
      "\n",
      "\n"
     ]
    },
    {
     "data": {
      "text/plain": [
       "array([[ 0.04657303+8.98447138e-03j],\n",
       "       [-0.0081226 -1.05209938e-01j],\n",
       "       [ 0.00043893+4.53157983e-03j],\n",
       "       [ 0.0104241 -1.15266977e-02j],\n",
       "       [-0.03289562+1.12467799e-01j],\n",
       "       [ 0.26043223+4.73684174e-03j],\n",
       "       [-0.01007516-1.15135397e-03j],\n",
       "       [ 0.01950316+2.80811059e-02j],\n",
       "       [ 0.05212141-1.40581937e-01j],\n",
       "       [-0.3312342 -2.74534659e-02j],\n",
       "       [ 0.01443539-5.90420141e-04j],\n",
       "       [-0.03004891-3.93644517e-02j],\n",
       "       [ 0.34153119+1.03827494e-01j],\n",
       "       [ 0.02018393-7.92414014e-01j],\n",
       "       [-0.00339412+2.90928113e-02j],\n",
       "       [ 0.08686583-6.11311439e-02j]])"
      ]
     },
     "execution_count": 9,
     "metadata": {},
     "output_type": "execute_result"
    }
   ],
   "source": [
    "CompTest.simulate(1, 40, 500)"
   ]
  },
  {
   "cell_type": "markdown",
   "metadata": {},
   "source": [
    "# Density Matrix Sim"
   ]
  },
  {
   "cell_type": "code",
   "execution_count": 109,
   "metadata": {},
   "outputs": [
    {
     "name": "stdout",
     "output_type": "stream",
     "text": [
      "mixed states not supported\n",
      "There are 56 terms in Trotter\n",
      "There are 0 terms in QDrift\n",
      "[98.19868481373146, 39.27947392549255, 9.670660722224486, 9.670660722224486, 39.27947392549255, 0.029841551829730383, 0.029841551829730383, 0.029841551829730383, 0.029841551829730383, 0.029841551829730383, 0.029841551829730383, 0.029841551829730383, 0.029841551829730383, 0.1989436788648692, 0.019894367886486918, 0.029841551829730383, 0.029841551829730383, 0.029841551829730383, 0.029841551829730383, 0.029841551829730383, 0.029841551829730383, 0.029841551829730383, 0.029841551829730383, 0.019894367886486918, 0.029841551829730383, 0.029841551829730383, 0.029841551829730383, 0.029841551829730383, 0.029841551829730383, 0.029841551829730383, 0.029841551829730383, 0.029841551829730383, 0.029841551829730383, 0.029841551829730383, 0.029841551829730383, 0.029841551829730383, 0.029841551829730383, 0.029841551829730383, 0.029841551829730383, 0.029841551829730383, 0.019894367886486918, 0.019894367886486918, 0.029841551829730383, 0.029841551829730383, 0.029841551829730383, 0.029841551829730383, 0.029841551829730383, 0.029841551829730383, 0.029841551829730383, 0.029841551829730383, 0.019894367886486918, 0.07957747154594767, 0.07957747154594767, 0.07957747154594767, 0.07957747154594767, 0.07957747154594767]\n"
     ]
    }
   ],
   "source": [
    "dms = DensityMatrixSim(hamiltonian_list = jellium_hamiltonian_list, inner_order=2, outer_order=1, partition=\"trotter\", weight_threshold= 0.01, state_rand=True, pure=False)\n",
    "#dms.sim_trace_distance(0.01, 11, 1)\n",
    "print(dms.spectral_norms)"
   ]
  },
  {
   "cell_type": "code",
   "execution_count": 110,
   "metadata": {},
   "outputs": [
    {
     "name": "stdout",
     "output_type": "stream",
     "text": [
      "448\n"
     ]
    }
   ],
   "source": [
    "iterations = 4\n",
    "qd_samples = 1\n",
    "\n",
    "tStart = 0.001\n",
    "tFinal = 0.2\n",
    "tSteps = 20\n",
    "times = np.geomspace(tStart, tFinal, tSteps)\n",
    "\n",
    "trace_distance = []\n",
    "for t in times:\n",
    "    trace_distance.append(dms.sim_trace_distance(t, qd_samples, iterations))\n",
    "\n",
    "log_trace_distance = np.log10(trace_distance)\n",
    "log_times = np.log10(times)\n",
    "#print(log_trace_distance.shape)\n",
    "print(dms.gate_count)"
   ]
  },
  {
   "cell_type": "code",
   "execution_count": 111,
   "metadata": {},
   "outputs": [
    {
     "data": {
      "image/png": "[encoded data removed]",
      "text/plain": [
       "<Figure size 1080x504 with 1 Axes>"
      ]
     },
     "metadata": {
      "needs_background": "light"
     },
     "output_type": "display_data"
    }
   ],
   "source": [
    "data1 = log_trace_distance #[:, 0, 0]\n",
    "plt.figure(figsize = (15, 7))\n",
    "plt.plot(log_times, data1, 'bo-') \n",
    "plt.xlabel('log(time)', size = 12)\n",
    "plt.ylabel('log(infidelity)', size = 12)\n",
    "\n",
    "start_fit_points=0 #declare the starting point to fit in the data\n",
    "end_fit_points = -8\n",
    "\n",
    "p = np.polyfit(log_times[start_fit_points: end_fit_points], data1[start_fit_points: end_fit_points], 1)\n",
    "f = np.poly1d(p)\n",
    "\n",
    "t_new = np.linspace(log_times[start_fit_points], log_times[end_fit_points], 50)\n",
    "y_new = f(t_new)\n",
    "\n",
    "data1 = symbols(\"t\")\n",
    "poly = sum(S(\"{:6.2f}\".format(v))*data1**i for i, v in enumerate(p[::-1]))\n",
    "eq_latex = printing.latex(poly)\n",
    "\n",
    "plt.plot(t_new, y_new, 'r--', label=\"${}$\".format(eq_latex))\n",
    "plt.legend(fontsize=\"large\")\n",
    "plt.show()"
   ]
  },
  {
   "cell_type": "code",
   "execution_count": 18,
   "metadata": {},
   "outputs": [
    {
     "name": "stdout",
     "output_type": "stream",
     "text": [
      "mixed states not supported\n",
      "Nb is 11\n",
      "There are 19 terms in Trotter\n",
      "There are 24 terms in QDrift\n",
      "mixed states not supported\n",
      "Nb is 10\n",
      "There are 43 terms in Trotter\n",
      "There are 0 terms in QDrift\n",
      "Nb is equal to 10\n",
      "There are 43 terms in Trotter\n",
      "There are 0 terms in QDrift\n",
      "There are 43 terms in Trotter\n",
      "There are 0 terms in QDrift\n",
      "mixed states not supported\n",
      "There are 0 terms in Trotter\n",
      "There are 43 terms in QDrift\n",
      "Nb is 11\n"
     ]
    },
    {
     "name": "stderr",
     "output_type": "stream",
     "text": [
      "/opt/anaconda3/lib/python3.7/site-packages/scipy/optimize/_minimize.py:536: RuntimeWarning: Method Nelder-Mead cannot handle constraints nor bounds.\n",
      "  RuntimeWarning)\n"
     ]
    },
    {
     "name": "stdout",
     "output_type": "stream",
     "text": [
      "[sim_channel_performance] Iterations too large, already below error threshold\n",
      "Nb is 10\n",
      "[sim_channel_performance] Iterations too large, already below error threshold\n",
      "[sim_channel_performance] Iterations too large, already below error threshold\n",
      "[sim_channel_performance] Iterations too large, already below error threshold\n",
      "AT TIME 0.001\n",
      "Nb is 13\n",
      "[sim_channel_performance] Iterations too large, already below error threshold\n",
      "Nb is 13\n",
      "[sim_channel_performance] Iterations too large, already below error threshold\n",
      "[sim_channel_performance] Iterations too large, already below error threshold\n",
      "[sim_channel_performance] Iterations too large, already below error threshold\n",
      "AT TIME 0.0014303261869275461\n",
      "Nb is 15\n",
      "[sim_channel_performance] Iterations too large, already below error threshold\n",
      "Nb is 15\n",
      "[sim_channel_performance] Iterations too large, already below error threshold\n",
      "[sim_channel_performance] Iterations too large, already below error threshold\n",
      "[sim_channel_performance] Iterations too large, already below error threshold\n",
      "AT TIME 0.002045833001010693\n",
      "Nb is 18\n",
      "[sim_channel_performance] Iterations too large, already below error threshold\n",
      "Nb is 18\n",
      "[sim_channel_performance] Iterations too large, already below error threshold\n",
      "[sim_channel_performance] Iterations too large, already below error threshold\n",
      "AT TIME 0.0029262085154261636\n",
      "Nb is 22\n",
      "[sim_channel_performance] Iterations too large, already below error threshold\n",
      "Nb is 21\n",
      "[sim_channel_performance] Iterations too large, already below error threshold\n",
      "[sim_channel_performance] Iterations too large, already below error threshold\n",
      "AT TIME 0.00418543266802442\n",
      "Nb is 26\n",
      "[sim_channel_performance] Iterations too large, already below error threshold\n",
      "Nb is 26\n",
      "[sim_channel_performance] Iterations too large, already below error threshold\n",
      "[sim_channel_performance] Iterations too large, already below error threshold\n",
      "AT TIME 0.005986533948697348\n",
      "Nb is 31\n",
      "Nb is 31\n",
      "[sim_channel_performance] Iterations too large, already below error threshold\n",
      "[sim_channel_performance] Iterations too large, already below error threshold\n",
      "AT TIME 0.008562696275752584\n",
      "Nb is 37\n",
      "[sim_channel_performance] Iterations too large, already below error threshold\n",
      "Nb is 37\n",
      "[sim_channel_performance] Iterations too large, already below error threshold\n",
      "[sim_channel_performance] Iterations too large, already below error threshold\n",
      "AT TIME 0.012247448713915893\n",
      "Nb is 44\n",
      "Nb is 44\n",
      "AT TIME 0.017517846618565997\n",
      "Nb is 53\n",
      "Nb is 52\n",
      "AT TIME 0.025056234757115107\n",
      "Nb is 63\n",
      "Nb is 63\n",
      "AT TIME 0.0358385887189059\n",
      "Nb is 75\n",
      "Nb is 75\n",
      "AT TIME 0.05126087194717722\n",
      "Nb is 90\n",
      "Nb is 90\n",
      "AT TIME 0.0733197675107872\n",
      "Nb is 108\n",
      "Nb is 107\n",
      "AT TIME 0.10487118349011837\n",
      "Nb is 129\n",
      "Nb is 128\n",
      "AT TIME 0.15\n"
     ]
    }
   ],
   "source": [
    "#beware of runtime\n",
    "tStart = 0.01/10\n",
    "tFinal = 1.5/10\n",
    "tSteps = 15\n",
    "times = np.geomspace(tStart, tFinal, tSteps)\n",
    "\n",
    "CompSim = DensityMatrixSim(graph_hamiltonian_list, inner_order=2, outer_order=1, initial_time=tStart, partition=\"prob\", nb=15, nb_optimizer=False, weight_threshold=0.5, pure=False, epsilon=0.0001)\n",
    "CompSim2 = DensityMatrixSim(graph_hamiltonian_list, inner_order=2, outer_order=1, initial_time=tStart, partition=\"prob\", nb=15, nb_optimizer=True, weight_threshold=0.5, pure=False, epsilon=0.0001)\n",
    "TrotSim1 = DensityMatrixSim(graph_hamiltonian_list, inner_order=1, outer_order=1, partition=\"trotter\", pure = True, epsilon=0.0001)\n",
    "TrotSim2 = DensityMatrixSim(graph_hamiltonian_list, inner_order=2, outer_order=1, partition=\"trotter\", pure = True, epsilon=0.0001)\n",
    "QDSim  = DensityMatrixSim(graph_hamiltonian_list, inner_order=1, outer_order=1, partition=\"qdrift\", pure = False, epsilon=0.0001)\n",
    "\n",
    "CompSim_results = dict()\n",
    "CompSim2_results = dict()\n",
    "TrotSim1_results = dict()\n",
    "TrotSim2_results = dict()\n",
    "\n",
    "partition_dist = [] #partition distribution\n",
    "nb_t = []\n",
    "\n",
    "for t in times:\n",
    "    CompSim.time = t\n",
    "    CompSim.repartition(t)\n",
    "    CompSim_results[t] = CompSim.sim_channel_performance(t) #uncomment for non-optimized methods\n",
    "    #CompSim_results[t] = CompSim.optimized_gatecost\n",
    "    partition_dist.append([len(CompSim.a_norms), len(CompSim.b_norms)])\n",
    "    nb_t.append(CompSim.nb)\n",
    "\n",
    "    CompSim2.time = t\n",
    "    CompSim2.repartition(t)\n",
    "    CompSim2_results[t] = CompSim2.sim_channel_performance(t)\n",
    "    #CompSim2_results[t] = CompSim2.optimized_gatecost\n",
    "    partition_dist.append([len(CompSim2.a_norms), len(CompSim2.b_norms)])\n",
    "    nb_t.append(CompSim2.nb)\n",
    "\n",
    "    TrotSim1_results[t] = TrotSim1.sim_channel_performance(t)\n",
    "    TrotSim2_results[t] = TrotSim2.sim_channel_performance(t)\n",
    "    print(\"AT TIME \" + str(t))\n"
   ]
  },
  {
   "cell_type": "code",
   "execution_count": 13,
   "metadata": {},
   "outputs": [
    {
     "name": "stdout",
     "output_type": "stream",
     "text": [
      "AT QD TIME 0.001\n",
      "AT QD TIME 0.0014303261869275461\n",
      "AT QD TIME 0.002045833001010693\n",
      "AT QD TIME 0.0029262085154261636\n",
      "AT QD TIME 0.00418543266802442\n",
      "AT QD TIME 0.005986533948697348\n",
      "AT QD TIME 0.008562696275752584\n",
      "AT QD TIME 0.012247448713915893\n"
     ]
    }
   ],
   "source": [
    "QDSim_results = dict()\n",
    "for t in times[:8]:\n",
    "    QDSim_results[t] = QDSim.sim_channel_performance(t)\n",
    "    print(\"AT QD TIME \" + str(t))\n",
    "\n",
    "partition_dist = np.array(partition_dist)\n",
    "nb_t = np.array(nb_t)\n",
    "\n",
    "outfile = open(\"sim_channel_performance_with_optimized_repartitioning_June_13.json\", \"w\")\n",
    "json.dump(CompSim_results, outfile)\n",
    "json.dump(TrotSim1_results, outfile)\n",
    "json.dump(TrotSim2_results, outfile)\n",
    "json.dump(QDSim_results, outfile)\n",
    "outfile.close()"
   ]
  },
  {
   "cell_type": "code",
   "execution_count": 19,
   "metadata": {},
   "outputs": [
    {
     "data": {
      "image/png": "[encoded data removed]",
      "text/plain": [
       "<Figure size 1080x504 with 1 Axes>"
      ]
     },
     "metadata": {
      "needs_background": "light"
     },
     "output_type": "display_data"
    }
   ],
   "source": [
    "plt.figure(figsize = (15, 7))\n",
    "plt.title(\"(3,2) Graph Hamiltonian Gate Cost Comparison: Infidelity threshold=0.0001,\\n Optimal Partition, Composite Nb = 15, repartitioned\")\n",
    "plt.xlabel('time', size = 12)\n",
    "plt.ylabel('Gate Cost', size = 12)\n",
    "plt.loglog(times, list(CompSim_results.values()), label=\"Prob\")\n",
    "plt.loglog(times, list(CompSim2_results.values()), label=\"ProbOpt\")\n",
    "plt.loglog(times, list(TrotSim1_results.values()), label=\"Trotter1\")\n",
    "plt.loglog(times, list(TrotSim2_results.values()), label=\"Trotter2\")\n",
    "plt.loglog(times[:8], list(QDSim_results.values())[:8], label=\"QDrift\")\n",
    "plt.legend()\n",
    "plt.show()"
   ]
  },
  {
   "cell_type": "code",
   "execution_count": 17,
   "metadata": {},
   "outputs": [
    {
     "ename": "ValueError",
     "evalue": "x and y must have same first dimension, but have shapes (15,) and (45,)",
     "output_type": "error",
     "traceback": [
      "\u001b[0;31m---------------------------------------------------------------------------\u001b[0m",
      "\u001b[0;31mValueError\u001b[0m                                Traceback (most recent call last)",
      "\u001b[0;32m/var/folders/1k/18s4nj3942q9d2gph57lw0ph0000gn/T/ipykernel_20983/3813266973.py\u001b[0m in \u001b[0;36m<module>\u001b[0;34m\u001b[0m\n\u001b[1;32m      1\u001b[0m \u001b[0mplt\u001b[0m\u001b[0;34m.\u001b[0m\u001b[0mtitle\u001b[0m\u001b[0;34m(\u001b[0m\u001b[0;34m\"Partitioning Scheme vs Time\"\u001b[0m\u001b[0;34m)\u001b[0m\u001b[0;34m\u001b[0m\u001b[0;34m\u001b[0m\u001b[0m\n\u001b[0;32m----> 2\u001b[0;31m \u001b[0mplt\u001b[0m\u001b[0;34m.\u001b[0m\u001b[0mplot\u001b[0m\u001b[0;34m(\u001b[0m\u001b[0mtimes\u001b[0m\u001b[0;34m,\u001b[0m \u001b[0mpartition_dist\u001b[0m\u001b[0;34m[\u001b[0m\u001b[0;34m:\u001b[0m\u001b[0;34m,\u001b[0m\u001b[0;36m0\u001b[0m\u001b[0;34m]\u001b[0m\u001b[0;34m,\u001b[0m \u001b[0mlabel\u001b[0m\u001b[0;34m=\u001b[0m\u001b[0;34m\"TrotterTerms\"\u001b[0m\u001b[0;34m)\u001b[0m\u001b[0;34m\u001b[0m\u001b[0;34m\u001b[0m\u001b[0m\n\u001b[0m\u001b[1;32m      3\u001b[0m \u001b[0mplt\u001b[0m\u001b[0;34m.\u001b[0m\u001b[0mplot\u001b[0m\u001b[0;34m(\u001b[0m\u001b[0mtimes\u001b[0m\u001b[0;34m,\u001b[0m \u001b[0mpartition_dist\u001b[0m\u001b[0;34m[\u001b[0m\u001b[0;34m:\u001b[0m\u001b[0;34m,\u001b[0m\u001b[0;36m1\u001b[0m\u001b[0;34m]\u001b[0m\u001b[0;34m,\u001b[0m \u001b[0mlabel\u001b[0m \u001b[0;34m=\u001b[0m \u001b[0;34m\"QDrift Terms\"\u001b[0m\u001b[0;34m)\u001b[0m\u001b[0;34m\u001b[0m\u001b[0;34m\u001b[0m\u001b[0m\n\u001b[1;32m      4\u001b[0m \u001b[0mplt\u001b[0m\u001b[0;34m.\u001b[0m\u001b[0mplot\u001b[0m\u001b[0;34m(\u001b[0m\u001b[0mtimes\u001b[0m\u001b[0;34m,\u001b[0m \u001b[0mnb_t\u001b[0m\u001b[0;34m,\u001b[0m \u001b[0mlabel\u001b[0m \u001b[0;34m=\u001b[0m \u001b[0;34m\"nb\"\u001b[0m\u001b[0;34m)\u001b[0m\u001b[0;34m\u001b[0m\u001b[0;34m\u001b[0m\u001b[0m\n\u001b[1;32m      5\u001b[0m \u001b[0mplt\u001b[0m\u001b[0;34m.\u001b[0m\u001b[0mlegend\u001b[0m\u001b[0;34m(\u001b[0m\u001b[0;34m)\u001b[0m\u001b[0;34m\u001b[0m\u001b[0;34m\u001b[0m\u001b[0m\n",
      "\u001b[0;32m/opt/anaconda3/lib/python3.7/site-packages/matplotlib/pyplot.py\u001b[0m in \u001b[0;36mplot\u001b[0;34m(scalex, scaley, data, *args, **kwargs)\u001b[0m\n\u001b[1;32m   2757\u001b[0m     return gca().plot(\n\u001b[1;32m   2758\u001b[0m         \u001b[0;34m*\u001b[0m\u001b[0margs\u001b[0m\u001b[0;34m,\u001b[0m \u001b[0mscalex\u001b[0m\u001b[0;34m=\u001b[0m\u001b[0mscalex\u001b[0m\u001b[0;34m,\u001b[0m \u001b[0mscaley\u001b[0m\u001b[0;34m=\u001b[0m\u001b[0mscaley\u001b[0m\u001b[0;34m,\u001b[0m\u001b[0;34m\u001b[0m\u001b[0;34m\u001b[0m\u001b[0m\n\u001b[0;32m-> 2759\u001b[0;31m         **({\"data\": data} if data is not None else {}), **kwargs)\n\u001b[0m\u001b[1;32m   2760\u001b[0m \u001b[0;34m\u001b[0m\u001b[0m\n\u001b[1;32m   2761\u001b[0m \u001b[0;34m\u001b[0m\u001b[0m\n",
      "\u001b[0;32m/opt/anaconda3/lib/python3.7/site-packages/matplotlib/axes/_axes.py\u001b[0m in \u001b[0;36mplot\u001b[0;34m(self, scalex, scaley, data, *args, **kwargs)\u001b[0m\n\u001b[1;32m   1630\u001b[0m         \"\"\"\n\u001b[1;32m   1631\u001b[0m         \u001b[0mkwargs\u001b[0m \u001b[0;34m=\u001b[0m \u001b[0mcbook\u001b[0m\u001b[0;34m.\u001b[0m\u001b[0mnormalize_kwargs\u001b[0m\u001b[0;34m(\u001b[0m\u001b[0mkwargs\u001b[0m\u001b[0;34m,\u001b[0m \u001b[0mmlines\u001b[0m\u001b[0;34m.\u001b[0m\u001b[0mLine2D\u001b[0m\u001b[0;34m)\u001b[0m\u001b[0;34m\u001b[0m\u001b[0;34m\u001b[0m\u001b[0m\n\u001b[0;32m-> 1632\u001b[0;31m         \u001b[0mlines\u001b[0m \u001b[0;34m=\u001b[0m \u001b[0;34m[\u001b[0m\u001b[0;34m*\u001b[0m\u001b[0mself\u001b[0m\u001b[0;34m.\u001b[0m\u001b[0m_get_lines\u001b[0m\u001b[0;34m(\u001b[0m\u001b[0;34m*\u001b[0m\u001b[0margs\u001b[0m\u001b[0;34m,\u001b[0m \u001b[0mdata\u001b[0m\u001b[0;34m=\u001b[0m\u001b[0mdata\u001b[0m\u001b[0;34m,\u001b[0m \u001b[0;34m**\u001b[0m\u001b[0mkwargs\u001b[0m\u001b[0;34m)\u001b[0m\u001b[0;34m]\u001b[0m\u001b[0;34m\u001b[0m\u001b[0;34m\u001b[0m\u001b[0m\n\u001b[0m\u001b[1;32m   1633\u001b[0m         \u001b[0;32mfor\u001b[0m \u001b[0mline\u001b[0m \u001b[0;32min\u001b[0m \u001b[0mlines\u001b[0m\u001b[0;34m:\u001b[0m\u001b[0;34m\u001b[0m\u001b[0;34m\u001b[0m\u001b[0m\n\u001b[1;32m   1634\u001b[0m             \u001b[0mself\u001b[0m\u001b[0;34m.\u001b[0m\u001b[0madd_line\u001b[0m\u001b[0;34m(\u001b[0m\u001b[0mline\u001b[0m\u001b[0;34m)\u001b[0m\u001b[0;34m\u001b[0m\u001b[0;34m\u001b[0m\u001b[0m\n",
      "\u001b[0;32m/opt/anaconda3/lib/python3.7/site-packages/matplotlib/axes/_base.py\u001b[0m in \u001b[0;36m__call__\u001b[0;34m(self, data, *args, **kwargs)\u001b[0m\n\u001b[1;32m    310\u001b[0m                 \u001b[0mthis\u001b[0m \u001b[0;34m+=\u001b[0m \u001b[0margs\u001b[0m\u001b[0;34m[\u001b[0m\u001b[0;36m0\u001b[0m\u001b[0;34m]\u001b[0m\u001b[0;34m,\u001b[0m\u001b[0;34m\u001b[0m\u001b[0;34m\u001b[0m\u001b[0m\n\u001b[1;32m    311\u001b[0m                 \u001b[0margs\u001b[0m \u001b[0;34m=\u001b[0m \u001b[0margs\u001b[0m\u001b[0;34m[\u001b[0m\u001b[0;36m1\u001b[0m\u001b[0;34m:\u001b[0m\u001b[0;34m]\u001b[0m\u001b[0;34m\u001b[0m\u001b[0;34m\u001b[0m\u001b[0m\n\u001b[0;32m--> 312\u001b[0;31m             \u001b[0;32myield\u001b[0m \u001b[0;32mfrom\u001b[0m \u001b[0mself\u001b[0m\u001b[0;34m.\u001b[0m\u001b[0m_plot_args\u001b[0m\u001b[0;34m(\u001b[0m\u001b[0mthis\u001b[0m\u001b[0;34m,\u001b[0m \u001b[0mkwargs\u001b[0m\u001b[0;34m)\u001b[0m\u001b[0;34m\u001b[0m\u001b[0;34m\u001b[0m\u001b[0m\n\u001b[0m\u001b[1;32m    313\u001b[0m \u001b[0;34m\u001b[0m\u001b[0m\n\u001b[1;32m    314\u001b[0m     \u001b[0;32mdef\u001b[0m \u001b[0mget_next_color\u001b[0m\u001b[0;34m(\u001b[0m\u001b[0mself\u001b[0m\u001b[0;34m)\u001b[0m\u001b[0;34m:\u001b[0m\u001b[0;34m\u001b[0m\u001b[0;34m\u001b[0m\u001b[0m\n",
      "\u001b[0;32m/opt/anaconda3/lib/python3.7/site-packages/matplotlib/axes/_base.py\u001b[0m in \u001b[0;36m_plot_args\u001b[0;34m(self, tup, kwargs, return_kwargs)\u001b[0m\n\u001b[1;32m    496\u001b[0m \u001b[0;34m\u001b[0m\u001b[0m\n\u001b[1;32m    497\u001b[0m         \u001b[0;32mif\u001b[0m \u001b[0mx\u001b[0m\u001b[0;34m.\u001b[0m\u001b[0mshape\u001b[0m\u001b[0;34m[\u001b[0m\u001b[0;36m0\u001b[0m\u001b[0;34m]\u001b[0m \u001b[0;34m!=\u001b[0m \u001b[0my\u001b[0m\u001b[0;34m.\u001b[0m\u001b[0mshape\u001b[0m\u001b[0;34m[\u001b[0m\u001b[0;36m0\u001b[0m\u001b[0;34m]\u001b[0m\u001b[0;34m:\u001b[0m\u001b[0;34m\u001b[0m\u001b[0;34m\u001b[0m\u001b[0m\n\u001b[0;32m--> 498\u001b[0;31m             raise ValueError(f\"x and y must have same first dimension, but \"\n\u001b[0m\u001b[1;32m    499\u001b[0m                              f\"have shapes {x.shape} and {y.shape}\")\n\u001b[1;32m    500\u001b[0m         \u001b[0;32mif\u001b[0m \u001b[0mx\u001b[0m\u001b[0;34m.\u001b[0m\u001b[0mndim\u001b[0m \u001b[0;34m>\u001b[0m \u001b[0;36m2\u001b[0m \u001b[0;32mor\u001b[0m \u001b[0my\u001b[0m\u001b[0;34m.\u001b[0m\u001b[0mndim\u001b[0m \u001b[0;34m>\u001b[0m \u001b[0;36m2\u001b[0m\u001b[0;34m:\u001b[0m\u001b[0;34m\u001b[0m\u001b[0;34m\u001b[0m\u001b[0m\n",
      "\u001b[0;31mValueError\u001b[0m: x and y must have same first dimension, but have shapes (15,) and (45,)"
     ]
    },
    {
     "data": {
      "image/png": "[encoded data removed]",
      "text/plain": [
       "<Figure size 432x288 with 1 Axes>"
      ]
     },
     "metadata": {
      "needs_background": "light"
     },
     "output_type": "display_data"
    }
   ],
   "source": [
    "plt.title(\"Partitioning Scheme vs Time\")\n",
    "plt.plot(times, partition_dist[:,0], label=\"TrotterTerms\")\n",
    "plt.plot(times, partition_dist[:,1], label = \"QDrift Terms\")\n",
    "plt.plot(times, nb_t, label = \"nb\")\n",
    "plt.legend()\n",
    "plt.show"
   ]
  },
  {
   "cell_type": "code",
   "execution_count": null,
   "metadata": {},
   "outputs": [],
   "source": []
  }
 ],
 "metadata": {
  "interpreter": {
   "hash": "afb1ca3bc18ae6171bd7b97235144abe7d96909f3d20e7ef21e9d03b321837d0"
  },
  "kernelspec": {
   "display_name": "Python 3.9.7 ('base')",
   "language": "python",
   "name": "python3"
  },
  "language_info": {
   "codemirror_mode": {
    "name": "ipython",
    "version": 3
   },
   "file_extension": ".py",
   "mimetype": "text/x-python",
   "name": "python",
   "nbconvert_exporter": "python",
   "pygments_lexer": "ipython3",
   "version": "3.9.7"
  }
 },
 "nbformat": 4,
 "nbformat_minor": 2
}
