{
 "cells": [
  {
   "cell_type": "code",
   "execution_count": 1,
   "metadata": {},
   "outputs": [],
   "source": [
    "#Remove 3 in \"pip3\" if conda pip installed\n",
    "try:\n",
    "    import openfermion\n",
    "except ImportError:\n",
    "    !pip3 install git+https://github.com/quantumlib/OpenFermion.git@master#egg=openfermion"
   ]
  },
  {
   "cell_type": "code",
   "execution_count": 1,
   "metadata": {},
   "outputs": [],
   "source": [
    "import numpy as np\n",
    "import matplotlib.pyplot as plt \n",
    "%matplotlib inline\n",
    "import scipy.linalg as la\n",
    "import math\n",
    "from numpy import random\n",
    "import cmath\n",
    "import time\n",
    "from sympy import S, symbols, printing"
   ]
  },
  {
   "cell_type": "markdown",
   "metadata": {},
   "source": [
    " ### Hamiltonian Initialization"
   ]
  },
  {
   "cell_type": "markdown",
   "metadata": {},
   "source": [
    "#### Arbitrary Tensored 4x4 Pauli"
   ]
  },
  {
   "cell_type": "code",
   "execution_count": 2,
   "metadata": {},
   "outputs": [],
   "source": [
    "X = np.array([[0, 1],\n",
    "     [1, 0]])\n",
    "Z = np.array([[1, 0],\n",
    "     [0, -1]])\n",
    "I = np.array([[1, 0],\n",
    "     [0, 1]])\n",
    "XX = np.kron(X, X) #tensor products between two Pauli's\n",
    "XZ = np.kron(X, Z)\n",
    "ZZ = np.kron(Z, Z)\n",
    "ZX = np.kron(Z, X)\n",
    "II = np.kron(I, I)\n",
    "IX = np.kron(I, X)\n",
    "XI = np.kron(X, I)\n",
    "IZ = np.kron(I, Z)\n",
    "ZI = np.kron(Z, I)"
   ]
  },
  {
   "cell_type": "code",
   "execution_count": 3,
   "metadata": {},
   "outputs": [
    {
     "name": "stdout",
     "output_type": "stream",
     "text": [
      "(8, 4, 4)\n",
      "(8, 4, 4)\n"
     ]
    }
   ],
   "source": [
    "#List of Hamiltonian decomposition terms H_j for H = \\sum_j h_j H_j\n",
    "Hlist = np.array([XX, XZ, ZX, ZZ, IX, IZ, XI, ZI])\n",
    "hj = [1.0, 2.0, 3.0, 4.0, 2.0, 1.0, 0.5, 0.25] #list of normalized coefficients\n",
    "\n",
    "print(Hlist.shape)\n",
    "\n",
    "hamiltonian_list = []\n",
    "for i in range(len(hj)):\n",
    "    hamiltonian_list.append(hj[i] * Hlist[i, :, :]);\n",
    "hamiltonian_list = np.array(hamiltonian_list)\n",
    "print(hamiltonian_list.shape)"
   ]
  },
  {
   "cell_type": "markdown",
   "metadata": {},
   "source": [
    "#### Graph Hamiltonian"
   ]
  },
  {
   "cell_type": "code",
   "execution_count": null,
   "metadata": {},
   "outputs": [],
   "source": []
  },
  {
   "cell_type": "markdown",
   "metadata": {},
   "source": [
    "#### Jellium Hamiltonian"
   ]
  },
  {
   "cell_type": "code",
   "execution_count": 16,
   "metadata": {},
   "outputs": [
    {
     "name": "stdout",
     "output_type": "stream",
     "text": [
      "116.28666108133152 [] +\n",
      "0.019894367886486918 [X0 X1 X3 Z4 X5] +\n",
      "0.019894367886486915 [X0 X1 X3 Z4 Z5 Z6 X7] +\n",
      "0.019894367886486918 [X0 X1 Y3 Z4 Y5] +\n",
      "-0.019894367886486915 [X0 X1 Y3 Z4 Z5 Z6 Y7] +\n",
      "0.019894367886486915 [X0 X1 X4 X5] +\n",
      "-0.019894367886486915 [X0 X1 X4 Z5 X6] +\n",
      "0.019894367886486915 [X0 X1 Y4 Y5] +\n",
      "0.019894367886486915 [X0 X1 Y4 Z5 Y6] +\n",
      "0.019894367886486915 [X0 X1 X6 Z7 X8] +\n",
      "0.019894367886486915 [X0 X1 Y6 Z7 Y8] +\n",
      "0.019894367886486918 [X0 X1 X7 X8] +\n",
      "0.019894367886486918 [X0 X1 Y7 Y8] +\n",
      "-0.019894367886486918 [X0 Y1 X3 Z4 Y5] +\n",
      "0.019894367886486915 [X0 Y1 X3 Z4 Z5 Z6 Y7] +\n",
      "0.019894367886486918 [X0 Y1 Y3 Z4 X5] +\n",
      "0.019894367886486915 [X0 Y1 Y3 Z4 Z5 Z6 X7] +\n",
      "0.019894367886486915 [X0 Y1 X4 Y5] +\n",
      "-0.019894367886486915 [X0 Y1 X4 Z5 Y6] +\n",
      "-0.019894367886486915 [X0 Y1 Y4 X5] +\n",
      "-0.019894367886486915 [X0 Y1 Y4 Z5 X6] +\n",
      "-0.019894367886486915 [X0 Y1 X6 Z7 Y8] +\n",
      "0.019894367886486915 [X0 Y1 Y6 Z7 X8] +\n",
      "0.019894367886486918 [X0 Y1 X7 Y8] +\n",
      "-0.019894367886486918 [X0 Y1 Y7 X8] +\n",
      "0.019894367886486915 [X0 Z1 X2 X3 X4] +\n",
      "0.019894367886486915 [X0 Z1 X2 X3 Z4 Z5 Z6 Z7 X8] +\n",
      "0.019894367886486915 [X0 Z1 X2 Y3 Y4] +\n",
      "-0.019894367886486915 [X0 Z1 X2 Y3 Z4 Z5 Z6 Z7 Y8] +\n",
      "0.019894367886486918 [X0 Z1 X2 X4 X5] +\n",
      "0.019894367886486918 [X0 Z1 X2 Y4 Y5] +\n",
      "-0.019894367886486915 [X0 Z1 X2 X5 X6] +\n",
      "0.019894367886486915 [X0 Z1 X2 Y5 Y6] +\n",
      "0.019894367886486918 [X0 Z1 X2 X6 X7] +\n",
      "0.019894367886486918 [X0 Z1 X2 Y6 Y7] +\n",
      "0.019894367886486915 [X0 Z1 X2 X7 X8] +\n",
      "0.019894367886486915 [X0 Z1 X2 Y7 Y8] +\n",
      "-0.019894367886486915 [X0 Z1 Y2 X3 Y4] +\n",
      "0.019894367886486915 [X0 Z1 Y2 X3 Z4 Z5 Z6 Z7 Y8] +\n",
      "0.019894367886486915 [X0 Z1 Y2 Y3 X4] +\n",
      "0.019894367886486915 [X0 Z1 Y2 Y3 Z4 Z5 Z6 Z7 X8] +\n",
      "-0.019894367886486918 [X0 Z1 Y2 X4 Y5] +\n",
      "0.019894367886486918 [X0 Z1 Y2 Y4 X5] +\n",
      "-0.019894367886486915 [X0 Z1 Y2 X5 Y6] +\n",
      "-0.019894367886486915 [X0 Z1 Y2 Y5 X6] +\n",
      "-0.019894367886486918 [X0 Z1 Y2 X6 Y7] +\n",
      "0.019894367886486918 [X0 Z1 Y2 Y6 X7] +\n",
      "-0.019894367886486915 [X0 Z1 Y2 X7 Y8] +\n",
      "0.019894367886486915 [X0 Z1 Y2 Y7 X8] +\n",
      "0.019894367886486915 [X0 Z1 Z2 X3 X4 Z5 Z6 X7] +\n",
      "0.019894367886486915 [X0 Z1 Z2 X3 Y4 Z5 Z6 Y7] +\n",
      "0.019894367886486915 [X0 Z1 Z2 X3 X5 Z6 Z7 X8] +\n",
      "0.019894367886486915 [X0 Z1 Z2 X3 Y5 Z6 Z7 Y8] +\n",
      "0.019894367886486915 [X0 Z1 Z2 Y3 X4 Z5 Z6 Y7] +\n",
      "-0.019894367886486915 [X0 Z1 Z2 Y3 Y4 Z5 Z6 X7] +\n",
      "0.019894367886486915 [X0 Z1 Z2 Y3 X5 Z6 Z7 Y8] +\n",
      "-0.019894367886486915 [X0 Z1 Z2 Y3 Y5 Z6 Z7 X8] +\n",
      "0.019894367886486915 [X0 Z1 Z2 Z3 X4 X6 X7] +\n",
      "-0.019894367886486915 [X0 Z1 Z2 Z3 X4 Y6 Y7] +\n",
      "0.019894367886486915 [X0 Z1 Z2 Z3 Y4 X6 Y7] +\n",
      "0.019894367886486915 [X0 Z1 Z2 Z3 Y4 Y6 X7] +\n",
      "0.019894367886486915 [X0 Z1 Z2 Z3 Z4 X5 X6 Z7 X8] +\n",
      "-0.019894367886486915 [X0 Z1 Z2 Z3 Z4 X5 Y6 Z7 Y8] +\n",
      "0.019894367886486915 [X0 Z1 Z2 Z3 Z4 Y5 X6 Z7 Y8] +\n",
      "0.019894367886486915 [X0 Z1 Z2 Z3 Z4 Y5 Y6 Z7 X8] +\n",
      "0.019894367886486918 [Y0 X1 X3 Z4 Y5] +\n",
      "0.019894367886486915 [Y0 X1 X3 Z4 Z5 Z6 Y7] +\n",
      "-0.019894367886486918 [Y0 X1 Y3 Z4 X5] +\n",
      "0.019894367886486915 [Y0 X1 Y3 Z4 Z5 Z6 X7] +\n",
      "-0.019894367886486915 [Y0 X1 X4 Y5] +\n",
      "-0.019894367886486915 [Y0 X1 X4 Z5 Y6] +\n",
      "0.019894367886486915 [Y0 X1 Y4 X5] +\n",
      "-0.019894367886486915 [Y0 X1 Y4 Z5 X6] +\n",
      "0.019894367886486915 [Y0 X1 X6 Z7 Y8] +\n",
      "-0.019894367886486915 [Y0 X1 Y6 Z7 X8] +\n",
      "-0.019894367886486918 [Y0 X1 X7 Y8] +\n",
      "0.019894367886486918 [Y0 X1 Y7 X8] +\n",
      "0.019894367886486918 [Y0 Y1 X3 Z4 X5] +\n",
      "-0.019894367886486915 [Y0 Y1 X3 Z4 Z5 Z6 X7] +\n",
      "0.019894367886486918 [Y0 Y1 Y3 Z4 Y5] +\n",
      "0.019894367886486915 [Y0 Y1 Y3 Z4 Z5 Z6 Y7] +\n",
      "0.019894367886486915 [Y0 Y1 X4 X5] +\n",
      "0.019894367886486915 [Y0 Y1 X4 Z5 X6] +\n",
      "0.019894367886486915 [Y0 Y1 Y4 Y5] +\n",
      "-0.019894367886486915 [Y0 Y1 Y4 Z5 Y6] +\n",
      "0.019894367886486915 [Y0 Y1 X6 Z7 X8] +\n",
      "0.019894367886486915 [Y0 Y1 Y6 Z7 Y8] +\n",
      "0.019894367886486918 [Y0 Y1 X7 X8] +\n",
      "0.019894367886486918 [Y0 Y1 Y7 Y8] +\n",
      "0.019894367886486915 [Y0 Z1 X2 X3 Y4] +\n",
      "0.019894367886486915 [Y0 Z1 X2 X3 Z4 Z5 Z6 Z7 Y8] +\n",
      "-0.019894367886486915 [Y0 Z1 X2 Y3 X4] +\n",
      "0.019894367886486915 [Y0 Z1 X2 Y3 Z4 Z5 Z6 Z7 X8] +\n",
      "0.019894367886486918 [Y0 Z1 X2 X4 Y5] +\n",
      "-0.019894367886486918 [Y0 Z1 X2 Y4 X5] +\n",
      "-0.019894367886486915 [Y0 Z1 X2 X5 Y6] +\n",
      "-0.019894367886486915 [Y0 Z1 X2 Y5 X6] +\n",
      "0.019894367886486918 [Y0 Z1 X2 X6 Y7] +\n",
      "-0.019894367886486918 [Y0 Z1 X2 Y6 X7] +\n",
      "0.019894367886486915 [Y0 Z1 X2 X7 Y8] +\n",
      "-0.019894367886486915 [Y0 Z1 X2 Y7 X8] +\n",
      "0.019894367886486915 [Y0 Z1 Y2 X3 X4] +\n",
      "-0.019894367886486915 [Y0 Z1 Y2 X3 Z4 Z5 Z6 Z7 X8] +\n",
      "0.019894367886486915 [Y0 Z1 Y2 Y3 Y4] +\n",
      "0.019894367886486915 [Y0 Z1 Y2 Y3 Z4 Z5 Z6 Z7 Y8] +\n",
      "0.019894367886486918 [Y0 Z1 Y2 X4 X5] +\n",
      "0.019894367886486918 [Y0 Z1 Y2 Y4 Y5] +\n",
      "0.019894367886486915 [Y0 Z1 Y2 X5 X6] +\n",
      "-0.019894367886486915 [Y0 Z1 Y2 Y5 Y6] +\n",
      "0.019894367886486918 [Y0 Z1 Y2 X6 X7] +\n",
      "0.019894367886486918 [Y0 Z1 Y2 Y6 Y7] +\n",
      "0.019894367886486915 [Y0 Z1 Y2 X7 X8] +\n",
      "0.019894367886486915 [Y0 Z1 Y2 Y7 Y8] +\n",
      "-0.019894367886486915 [Y0 Z1 Z2 X3 X4 Z5 Z6 Y7] +\n",
      "0.019894367886486915 [Y0 Z1 Z2 X3 Y4 Z5 Z6 X7] +\n",
      "-0.019894367886486915 [Y0 Z1 Z2 X3 X5 Z6 Z7 Y8] +\n",
      "0.019894367886486915 [Y0 Z1 Z2 X3 Y5 Z6 Z7 X8] +\n",
      "0.019894367886486915 [Y0 Z1 Z2 Y3 X4 Z5 Z6 X7] +\n",
      "0.019894367886486915 [Y0 Z1 Z2 Y3 Y4 Z5 Z6 Y7] +\n",
      "0.019894367886486915 [Y0 Z1 Z2 Y3 X5 Z6 Z7 X8] +\n",
      "0.019894367886486915 [Y0 Z1 Z2 Y3 Y5 Z6 Z7 Y8] +\n",
      "0.019894367886486915 [Y0 Z1 Z2 Z3 X4 X6 Y7] +\n",
      "0.019894367886486915 [Y0 Z1 Z2 Z3 X4 Y6 X7] +\n",
      "-0.019894367886486915 [Y0 Z1 Z2 Z3 Y4 X6 X7] +\n",
      "0.019894367886486915 [Y0 Z1 Z2 Z3 Y4 Y6 Y7] +\n",
      "0.019894367886486915 [Y0 Z1 Z2 Z3 Z4 X5 X6 Z7 Y8] +\n",
      "0.019894367886486915 [Y0 Z1 Z2 Z3 Z4 X5 Y6 Z7 X8] +\n",
      "-0.019894367886486915 [Y0 Z1 Z2 Z3 Z4 Y5 X6 Z7 X8] +\n",
      "0.019894367886486915 [Y0 Z1 Z2 Z3 Z4 Y5 Y6 Z7 Y8] +\n",
      "-19.26174397290304 [Z0] +\n",
      "-0.07957747154594767 [Z0 Z1] +\n",
      "-0.07957747154594767 [Z0 Z2] +\n",
      "-0.07957747154594767 [Z0 Z3] +\n",
      "-0.039788735772973836 [Z0 Z4] +\n",
      "-0.039788735772973836 [Z0 Z5] +\n",
      "-0.07957747154594767 [Z0 Z6] +\n",
      "-0.039788735772973836 [Z0 Z7] +\n",
      "-0.039788735772973836 [Z0 Z8] +\n",
      "0.019894367886486918 [X1 X2 X3 X4] +\n",
      "0.019894367886486915 [X1 X2 X3 Z4 X5] +\n",
      "0.019894367886486918 [X1 X2 Y3 Y4] +\n",
      "0.019894367886486915 [X1 X2 Y3 Z4 Y5] +\n",
      "0.019894367886486915 [X1 X2 X4 Z5 Z6 Z7 X8] +\n",
      "-0.019894367886486915 [X1 X2 Y4 Z5 Z6 Z7 Y8] +\n",
      "-0.019894367886486915 [X1 X2 X5 Z6 X7] +\n",
      "0.019894367886486915 [X1 X2 Y5 Z6 Y7] +\n",
      "0.019894367886486915 [X1 X2 X6 X7] +\n",
      "0.019894367886486918 [X1 X2 X6 Z7 X8] +\n",
      "0.019894367886486915 [X1 X2 Y6 Y7] +\n",
      "0.019894367886486918 [X1 X2 Y6 Z7 Y8] +\n",
      "0.019894367886486918 [X1 Y2 X3 Y4] +\n",
      "-0.019894367886486915 [X1 Y2 X3 Z4 Y5] +\n",
      "-0.019894367886486918 [X1 Y2 Y3 X4] +\n",
      "0.019894367886486915 [X1 Y2 Y3 Z4 X5] +\n",
      "0.019894367886486915 [X1 Y2 X4 Z5 Z6 Z7 Y8] +\n",
      "0.019894367886486915 [X1 Y2 Y4 Z5 Z6 Z7 X8] +\n",
      "-0.019894367886486915 [X1 Y2 X5 Z6 Y7] +\n",
      "-0.019894367886486915 [X1 Y2 Y5 Z6 X7] +\n",
      "0.019894367886486915 [X1 Y2 X6 Y7] +\n",
      "-0.019894367886486918 [X1 Y2 X6 Z7 Y8] +\n",
      "-0.019894367886486915 [X1 Y2 Y6 X7] +\n",
      "0.019894367886486918 [X1 Y2 Y6 Z7 X8] +\n",
      "-0.019894367886486915 [X1 Z2 X3 X4 Z5 X6] +\n",
      "-0.019894367886486915 [X1 Z2 X3 Y4 Z5 Y6] +\n",
      "-0.019894367886486915 [X1 Z2 X3 X6 X7] +\n",
      "0.019894367886486915 [X1 Z2 X3 Y6 Y7] +\n",
      "-0.019894367886486915 [X1 Z2 Y3 X4 Z5 Y6] +\n",
      "0.019894367886486915 [X1 Z2 Y3 Y4 Z5 X6] +\n",
      "-0.019894367886486915 [X1 Z2 Y3 X6 Y7] +\n",
      "-0.019894367886486915 [X1 Z2 Y3 Y6 X7] +\n",
      "0.019894367886486915 [X1 Z2 Z3 X4 X5 Z6 Z7 X8] +\n",
      "0.019894367886486915 [X1 Z2 Z3 X4 Y5 Z6 Z7 Y8] +\n",
      "0.019894367886486915 [X1 Z2 Z3 Y4 X5 Z6 Z7 Y8] +\n",
      "-0.019894367886486915 [X1 Z2 Z3 Y4 Y5 Z6 Z7 X8] +\n",
      "0.019894367886486915 [X1 Z2 Z3 Z4 X5 X7 X8] +\n",
      "-0.019894367886486915 [X1 Z2 Z3 Z4 X5 Y7 Y8] +\n",
      "0.019894367886486915 [X1 Z2 Z3 Z4 Y5 X7 Y8] +\n",
      "0.019894367886486915 [X1 Z2 Z3 Z4 Y5 Y7 X8] +\n",
      "-0.019894367886486918 [Y1 X2 X3 Y4] +\n",
      "0.019894367886486915 [Y1 X2 X3 Z4 Y5] +\n",
      "0.019894367886486918 [Y1 X2 Y3 X4] +\n",
      "-0.019894367886486915 [Y1 X2 Y3 Z4 X5] +\n",
      "0.019894367886486915 [Y1 X2 X4 Z5 Z6 Z7 Y8] +\n",
      "0.019894367886486915 [Y1 X2 Y4 Z5 Z6 Z7 X8] +\n",
      "-0.019894367886486915 [Y1 X2 X5 Z6 Y7] +\n",
      "-0.019894367886486915 [Y1 X2 Y5 Z6 X7] +\n",
      "-0.019894367886486915 [Y1 X2 X6 Y7] +\n",
      "0.019894367886486918 [Y1 X2 X6 Z7 Y8] +\n",
      "0.019894367886486915 [Y1 X2 Y6 X7] +\n",
      "-0.019894367886486918 [Y1 X2 Y6 Z7 X8] +\n",
      "0.019894367886486918 [Y1 Y2 X3 X4] +\n",
      "0.019894367886486915 [Y1 Y2 X3 Z4 X5] +\n",
      "0.019894367886486918 [Y1 Y2 Y3 Y4] +\n",
      "0.019894367886486915 [Y1 Y2 Y3 Z4 Y5] +\n",
      "-0.019894367886486915 [Y1 Y2 X4 Z5 Z6 Z7 X8] +\n",
      "0.019894367886486915 [Y1 Y2 Y4 Z5 Z6 Z7 Y8] +\n",
      "0.019894367886486915 [Y1 Y2 X5 Z6 X7] +\n",
      "-0.019894367886486915 [Y1 Y2 Y5 Z6 Y7] +\n",
      "0.019894367886486915 [Y1 Y2 X6 X7] +\n",
      "0.019894367886486918 [Y1 Y2 X6 Z7 X8] +\n",
      "0.019894367886486915 [Y1 Y2 Y6 Y7] +\n",
      "0.019894367886486918 [Y1 Y2 Y6 Z7 Y8] +\n",
      "0.019894367886486915 [Y1 Z2 X3 X4 Z5 Y6] +\n",
      "-0.019894367886486915 [Y1 Z2 X3 Y4 Z5 X6] +\n",
      "-0.019894367886486915 [Y1 Z2 X3 X6 Y7] +\n",
      "-0.019894367886486915 [Y1 Z2 X3 Y6 X7] +\n",
      "-0.019894367886486915 [Y1 Z2 Y3 X4 Z5 X6] +\n",
      "-0.019894367886486915 [Y1 Z2 Y3 Y4 Z5 Y6] +\n",
      "0.019894367886486915 [Y1 Z2 Y3 X6 X7] +\n",
      "-0.019894367886486915 [Y1 Z2 Y3 Y6 Y7] +\n",
      "-0.019894367886486915 [Y1 Z2 Z3 X4 X5 Z6 Z7 Y8] +\n",
      "0.019894367886486915 [Y1 Z2 Z3 X4 Y5 Z6 Z7 X8] +\n",
      "0.019894367886486915 [Y1 Z2 Z3 Y4 X5 Z6 Z7 X8] +\n",
      "0.019894367886486915 [Y1 Z2 Z3 Y4 Y5 Z6 Z7 Y8] +\n",
      "0.019894367886486915 [Y1 Z2 Z3 Z4 X5 X7 Y8] +\n",
      "0.019894367886486915 [Y1 Z2 Z3 Z4 X5 Y7 X8] +\n",
      "-0.019894367886486915 [Y1 Z2 Z3 Z4 Y5 X7 X8] +\n",
      "0.019894367886486915 [Y1 Z2 Z3 Z4 Y5 Y7 Y8] +\n",
      "-9.392139571813669 [Z1] +\n",
      "-0.07957747154594767 [Z1 Z2] +\n",
      "-0.039788735772973836 [Z1 Z3] +\n",
      "-0.07957747154594767 [Z1 Z4] +\n",
      "-0.039788735772973836 [Z1 Z5] +\n",
      "-0.039788735772973836 [Z1 Z6] +\n",
      "-0.07957747154594767 [Z1 Z7] +\n",
      "-0.039788735772973836 [Z1 Z8] +\n",
      "-0.019894367886486915 [X2 X3 X5 X6] +\n",
      "-0.019894367886486915 [X2 X3 Y5 Y6] +\n",
      "-0.019894367886486915 [X2 X3 X6 Z7 X8] +\n",
      "0.019894367886486915 [X2 X3 Y6 Z7 Y8] +\n",
      "-0.019894367886486915 [X2 Y3 X5 Y6] +\n",
      "0.019894367886486915 [X2 Y3 Y5 X6] +\n",
      "-0.019894367886486915 [X2 Y3 X6 Z7 Y8] +\n",
      "-0.019894367886486915 [X2 Y3 Y6 Z7 X8] +\n",
      "-0.019894367886486915 [X2 Z3 X4 X5 Z6 X7] +\n",
      "-0.019894367886486915 [X2 Z3 X4 Y5 Z6 Y7] +\n",
      "-0.019894367886486915 [X2 Z3 X4 X7 X8] +\n",
      "0.019894367886486915 [X2 Z3 X4 Y7 Y8] +\n",
      "-0.019894367886486915 [X2 Z3 Y4 X5 Z6 Y7] +\n",
      "0.019894367886486915 [X2 Z3 Y4 Y5 Z6 X7] +\n",
      "-0.019894367886486915 [X2 Z3 Y4 X7 Y8] +\n",
      "-0.019894367886486915 [X2 Z3 Y4 Y7 X8] +\n",
      "0.019894367886486915 [Y2 X3 X5 Y6] +\n",
      "-0.019894367886486915 [Y2 X3 Y5 X6] +\n",
      "-0.019894367886486915 [Y2 X3 X6 Z7 Y8] +\n",
      "-0.019894367886486915 [Y2 X3 Y6 Z7 X8] +\n",
      "-0.019894367886486915 [Y2 Y3 X5 X6] +\n",
      "-0.019894367886486915 [Y2 Y3 Y5 Y6] +\n",
      "0.019894367886486915 [Y2 Y3 X6 Z7 X8] +\n",
      "-0.019894367886486915 [Y2 Y3 Y6 Z7 Y8] +\n",
      "0.019894367886486915 [Y2 Z3 X4 X5 Z6 Y7] +\n",
      "-0.019894367886486915 [Y2 Z3 X4 Y5 Z6 X7] +\n",
      "-0.019894367886486915 [Y2 Z3 X4 X7 Y8] +\n",
      "-0.019894367886486915 [Y2 Z3 X4 Y7 X8] +\n",
      "-0.019894367886486915 [Y2 Z3 Y4 X5 Z6 X7] +\n",
      "-0.019894367886486915 [Y2 Z3 Y4 Y5 Z6 Y7] +\n",
      "0.019894367886486915 [Y2 Z3 Y4 X7 X8] +\n",
      "-0.019894367886486915 [Y2 Z3 Y4 Y7 Y8] +\n",
      "-19.26174397290304 [Z2] +\n",
      "-0.039788735772973836 [Z2 Z3] +\n",
      "-0.039788735772973836 [Z2 Z4] +\n",
      "-0.07957747154594767 [Z2 Z5] +\n",
      "-0.039788735772973836 [Z2 Z6] +\n",
      "-0.039788735772973836 [Z2 Z7] +\n",
      "-0.07957747154594767 [Z2 Z8] +\n",
      "0.019894367886486918 [X3 X4 X6 Z7 X8] +\n",
      "0.019894367886486918 [X3 X4 Y6 Z7 Y8] +\n",
      "0.019894367886486915 [X3 X4 X7 X8] +\n",
      "0.019894367886486915 [X3 X4 Y7 Y8] +\n",
      "-0.019894367886486918 [X3 Y4 X6 Z7 Y8] +\n",
      "0.019894367886486918 [X3 Y4 Y6 Z7 X8] +\n",
      "0.019894367886486915 [X3 Y4 X7 Y8] +\n",
      "-0.019894367886486915 [X3 Y4 Y7 X8] +\n",
      "0.019894367886486915 [X3 Z4 X5 X6 X7] +\n",
      "0.019894367886486915 [X3 Z4 X5 Y6 Y7] +\n",
      "0.019894367886486918 [X3 Z4 X5 X7 X8] +\n",
      "0.019894367886486918 [X3 Z4 X5 Y7 Y8] +\n",
      "-0.019894367886486915 [X3 Z4 Y5 X6 Y7] +\n",
      "0.019894367886486915 [X3 Z4 Y5 Y6 X7] +\n",
      "-0.019894367886486918 [X3 Z4 Y5 X7 Y8] +\n",
      "0.019894367886486918 [X3 Z4 Y5 Y7 X8] +\n",
      "0.019894367886486918 [Y3 X4 X6 Z7 Y8] +\n",
      "-0.019894367886486918 [Y3 X4 Y6 Z7 X8] +\n",
      "-0.019894367886486915 [Y3 X4 X7 Y8] +\n",
      "0.019894367886486915 [Y3 X4 Y7 X8] +\n",
      "0.019894367886486918 [Y3 Y4 X6 Z7 X8] +\n",
      "0.019894367886486918 [Y3 Y4 Y6 Z7 Y8] +\n",
      "0.019894367886486915 [Y3 Y4 X7 X8] +\n",
      "0.019894367886486915 [Y3 Y4 Y7 Y8] +\n",
      "0.019894367886486915 [Y3 Z4 X5 X6 Y7] +\n",
      "-0.019894367886486915 [Y3 Z4 X5 Y6 X7] +\n",
      "0.019894367886486918 [Y3 Z4 X5 X7 Y8] +\n",
      "-0.019894367886486918 [Y3 Z4 X5 Y7 X8] +\n",
      "0.019894367886486915 [Y3 Z4 Y5 X6 X7] +\n",
      "0.019894367886486915 [Y3 Z4 Y5 Y6 Y7] +\n",
      "0.019894367886486918 [Y3 Z4 Y5 X7 X8] +\n",
      "0.019894367886486918 [Y3 Z4 Y5 Y7 Y8] +\n",
      "-9.392139571813669 [Z3] +\n",
      "-0.07957747154594767 [Z3 Z4] +\n",
      "-0.07957747154594767 [Z3 Z5] +\n",
      "-0.07957747154594767 [Z3 Z6] +\n",
      "-0.039788735772973836 [Z3 Z7] +\n",
      "-0.039788735772973836 [Z3 Z8] +\n",
      "0.019894367886486918 [X4 X5 X6 X7] +\n",
      "0.019894367886486915 [X4 X5 X6 Z7 X8] +\n",
      "0.019894367886486918 [X4 X5 Y6 Y7] +\n",
      "0.019894367886486915 [X4 X5 Y6 Z7 Y8] +\n",
      "0.019894367886486918 [X4 Y5 X6 Y7] +\n",
      "-0.019894367886486915 [X4 Y5 X6 Z7 Y8] +\n",
      "-0.019894367886486918 [X4 Y5 Y6 X7] +\n",
      "0.019894367886486915 [X4 Y5 Y6 Z7 X8] +\n",
      "-0.019894367886486918 [Y4 X5 X6 Y7] +\n",
      "0.019894367886486915 [Y4 X5 X6 Z7 Y8] +\n",
      "0.019894367886486918 [Y4 X5 Y6 X7] +\n",
      "-0.019894367886486915 [Y4 X5 Y6 Z7 X8] +\n",
      "0.019894367886486918 [Y4 Y5 X6 X7] +\n",
      "0.019894367886486915 [Y4 Y5 X6 Z7 X8] +\n",
      "0.019894367886486918 [Y4 Y5 Y6 Y7] +\n",
      "0.019894367886486915 [Y4 Y5 Y6 Z7 Y8] +\n",
      "0.4774648292756859 [Z4] +\n",
      "-0.07957747154594767 [Z4 Z5] +\n",
      "-0.039788735772973836 [Z4 Z6] +\n",
      "-0.07957747154594767 [Z4 Z7] +\n",
      "-0.039788735772973836 [Z4 Z8] +\n",
      "-9.392139571813669 [Z5] +\n",
      "-0.039788735772973836 [Z5 Z6] +\n",
      "-0.039788735772973836 [Z5 Z7] +\n",
      "-0.07957747154594767 [Z5 Z8] +\n",
      "-19.26174397290304 [Z6] +\n",
      "-0.07957747154594767 [Z6 Z7] +\n",
      "-0.07957747154594767 [Z6 Z8] +\n",
      "-9.392139571813669 [Z7] +\n",
      "-0.07957747154594767 [Z7 Z8] +\n",
      "-19.26174397290304 [Z8]\n"
     ]
    }
   ],
   "source": [
    "from openfermion.hamiltonians import jellium_model\n",
    "from openfermion.utils import Grid\n",
    "from openfermion.linalg import eigenspectrum\n",
    "from openfermion.transforms import jordan_wigner, fourier_transform\n",
    "\n",
    "#small model in 2 dimensions\n",
    "grid = Grid(dimensions=2, length=3, scale=1.0)\n",
    "spinless = True\n",
    "\n",
    "# Get the momentum Hamiltonian.\n",
    "momentum_hamiltonian = jellium_model(grid, spinless)\n",
    "momentum_qubit_operator = jordan_wigner(momentum_hamiltonian)\n",
    "momentum_qubit_operator.compress()\n",
    "print(momentum_qubit_operator)"
   ]
  },
  {
   "cell_type": "markdown",
   "metadata": {},
   "source": [
    "## Notebook using compilers.py"
   ]
  },
  {
   "cell_type": "markdown",
   "metadata": {},
   "source": [
    "The goal is to compare the functions in compilers.py to the ones witten here in both output and runtimes. The only part of the previous sections that this section will reference is \"Hamiltonian Initialization\""
   ]
  },
  {
   "cell_type": "markdown",
   "metadata": {},
   "source": [
    "### Trotter Simulation"
   ]
  },
  {
   "cell_type": "code",
   "execution_count": null,
   "metadata": {},
   "outputs": [],
   "source": [
    "from compilers import TrotterSim"
   ]
  },
  {
   "cell_type": "code",
   "execution_count": null,
   "metadata": {},
   "outputs": [],
   "source": [
    "#Example, does not need to be run\n",
    "#use array hamiltonian_list\n",
    "sim = TrotterSim([np.array([[0,1], [1,0]])])\n",
    "print(sim.simulate(np.pi / 2, 4)) #output state should be sigma_X |0> = |1>"
   ]
  },
  {
   "cell_type": "code",
   "execution_count": null,
   "metadata": {},
   "outputs": [],
   "source": [
    "sim1 = TrotterSim(hamiltonian_list, 2)\n",
    "#sim1.initial_state = InitialState"
   ]
  },
  {
   "cell_type": "code",
   "execution_count": null,
   "metadata": {},
   "outputs": [],
   "source": [
    "startTime = time.time()\n",
    "\n",
    "tStart = 0.001\n",
    "tFinal = 0.1\n",
    "tSteps = 100\n",
    "times = np.linspace(tStart, tFinal, tSteps)\n",
    "\n",
    "trot_compiler_inf = []\n",
    "for t in times:\n",
    "    trot_compiler_inf.append(sim1.infidelity(t, 1))\n",
    "\n",
    "log_trot_compiler_inf = np.log10(trot_compiler_inf)\n",
    "log_times = np.log10(times)\n",
    "print(log_trot_compiler_inf.shape)\n",
    "\n",
    "executionTime = (time.time() - startTime)\n",
    "print('Execution time in seconds: ' + str(executionTime))"
   ]
  },
  {
   "cell_type": "code",
   "execution_count": null,
   "metadata": {},
   "outputs": [],
   "source": [
    "#data = log_trot_compiler_inf[:, 0, 0]\n",
    "data = log_trot_compiler_inf\n",
    "plt.figure(figsize = (15, 7))\n",
    "plt.plot(log_times, data, 'bo-') \n",
    "plt.xlabel('log(time)', size = 12)\n",
    "plt.ylabel('log(infidelity)', size = 12)\n",
    "\n",
    "fit_points = 5 #declare the starting point to fit in the data\n",
    "\n",
    "p = np.polyfit(log_times[fit_points: -10], data[fit_points: -10], 1)\n",
    "f = np.poly1d(p)\n",
    "\n",
    "t_new = np.linspace(log_times[fit_points], log_times[-10], 50)\n",
    "y_new = f(t_new)\n",
    "\n",
    "data = symbols(\"t\")\n",
    "poly = sum(S(\"{:6.2f}\".format(v))*data**i for i, v in enumerate(p[::-1]))\n",
    "eq_latex = printing.latex(poly)\n",
    "\n",
    "plt.plot(t_new, y_new, 'r--', label=\"${}$\".format(eq_latex))\n",
    "plt.legend(fontsize=\"large\")\n",
    "plt.show()"
   ]
  },
  {
   "cell_type": "markdown",
   "metadata": {},
   "source": [
    "### Trotter Sim with Matrix Vector Mult."
   ]
  },
  {
   "cell_type": "code",
   "execution_count": 14,
   "metadata": {},
   "outputs": [
    {
     "name": "stdout",
     "output_type": "stream",
     "text": [
      "[[-0.34669678+0.61684153j]\n",
      " [-0.15327789+0.16834413j]\n",
      " [ 0.49972255-0.11401224j]\n",
      " [-0.40785376+0.13567572j]]\n"
     ]
    }
   ],
   "source": [
    "from compilers import TrotterSim2 #fourth order is broken\n",
    "sim2 = TrotterSim2(hamiltonian_list, 2)\n",
    "print(sim2.simulate(1, 1))"
   ]
  },
  {
   "cell_type": "code",
   "execution_count": 45,
   "metadata": {},
   "outputs": [
    {
     "name": "stdout",
     "output_type": "stream",
     "text": [
      "(100,)\n",
      "Execution time in seconds: 0.44732117652893066\n"
     ]
    }
   ],
   "source": [
    "startTime = time.time()\n",
    "\n",
    "tStart = 0.0001\n",
    "tFinal = 0.01\n",
    "tSteps = 100\n",
    "times = np.geomspace(tStart, tFinal, tSteps) #logspace with endpoints specified\n",
    "\n",
    "trot_compiler_inf = []\n",
    "for t in times:\n",
    "    trot_compiler_inf.append(sim2.infidelity(t, 1))\n",
    "\n",
    "log_trot_compiler_inf = np.log10(trot_compiler_inf)\n",
    "log_times = np.log10(times)\n",
    "print(log_trot_compiler_inf.shape)\n",
    "\n",
    "#data = log_trot_compiler_inf[:, 0, 0]\n",
    "#data = log_trot_compiler_inf\n",
    "executionTime = (time.time() - startTime)\n",
    "print('Execution time in seconds: ' + str(executionTime))"
   ]
  },
  {
   "cell_type": "code",
   "execution_count": 46,
   "metadata": {},
   "outputs": [
    {
     "data": {
      "image/png": "[encoded data removed]",
      "text/plain": [
       "<Figure size 1080x504 with 1 Axes>"
      ]
     },
     "metadata": {
      "needs_background": "light"
     },
     "output_type": "display_data"
    }
   ],
   "source": [
    "data = log_trot_compiler_inf\n",
    "plt.figure(figsize = (15, 7))\n",
    "plt.plot(log_times, data, 'bo-') \n",
    "plt.xlabel('log(time)', size = 12)\n",
    "plt.ylabel('log(infidelity)', size = 12)\n",
    "\n",
    "fit_points = 10 #declare the starting point to fit in the data\n",
    "\n",
    "p = np.polyfit(log_times[fit_points: -1], data[fit_points: -1], 1)\n",
    "f = np.poly1d(p)\n",
    "\n",
    "t_new = np.linspace(log_times[fit_points], log_times[-1], 50)\n",
    "y_new = f(t_new)\n",
    "\n",
    "data = symbols(\"t\")\n",
    "poly = sum(S(\"{:6.2f}\".format(v))*data**i for i, v in enumerate(p[::-1]))\n",
    "eq_latex = printing.latex(poly)\n",
    "\n",
    "plt.plot(t_new, y_new, 'r--', label=\"${}$\".format(eq_latex))\n",
    "plt.legend(fontsize=\"large\")\n",
    "plt.show()"
   ]
  },
  {
   "cell_type": "markdown",
   "metadata": {},
   "source": [
    "### QDrift Simulation"
   ]
  },
  {
   "cell_type": "code",
   "execution_count": 47,
   "metadata": {},
   "outputs": [],
   "source": [
    "from compilers import QDriftSimulator"
   ]
  },
  {
   "cell_type": "code",
   "execution_count": 48,
   "metadata": {},
   "outputs": [
    {
     "data": {
      "text/plain": [
       "array([[ 0.01713949+0.825171j  ],\n",
       "       [-0.24180231+0.41591016j],\n",
       "       [-0.03865737-0.06627492j],\n",
       "       [-0.0062236 -0.28534882j]])"
      ]
     },
     "execution_count": 48,
     "metadata": {},
     "output_type": "execute_result"
    }
   ],
   "source": [
    "QDsim = QDriftSimulator(hamiltonian_list)\n",
    "QDsim.simulate(1, 1000)"
   ]
  },
  {
   "cell_type": "code",
   "execution_count": 52,
   "metadata": {},
   "outputs": [
    {
     "data": {
      "text/plain": [
       "array([[0.52175069]])"
      ]
     },
     "execution_count": 52,
     "metadata": {},
     "output_type": "execute_result"
    }
   ],
   "source": [
    "QDsim.sample_channel_inf(1, 1, 40)"
   ]
  },
  {
   "cell_type": "code",
   "execution_count": 53,
   "metadata": {},
   "outputs": [
    {
     "name": "stdout",
     "output_type": "stream",
     "text": [
      "(100, 1, 1)\n",
      "Execution time in seconds: 68.49342203140259\n"
     ]
    }
   ],
   "source": [
    "startTime = time.time()\n",
    "\n",
    "tStart = 0.0001\n",
    "tFinal = 0.05\n",
    "tSteps = 100\n",
    "times = np.geomspace(tStart, tFinal, tSteps) #using logspace seems to break the scaling in the figure?\n",
    "\n",
    "qd_compiler_inf = []\n",
    "for t in times:\n",
    "    qd_compiler_inf.append(QDsim.sample_channel_inf(t, 10, 200))\n",
    "\n",
    "log_qd_compiler_inf = np.log10(qd_compiler_inf)\n",
    "log_times = np.log10(times)\n",
    "print(log_qd_compiler_inf.shape)\n",
    "\n",
    "executionTime = (time.time() - startTime)\n",
    "print('Execution time in seconds: ' + str(executionTime))"
   ]
  },
  {
   "cell_type": "code",
   "execution_count": 54,
   "metadata": {},
   "outputs": [
    {
     "data": {
      "image/png": "[encoded data removed]",
      "text/plain": [
       "<Figure size 1080x504 with 1 Axes>"
      ]
     },
     "metadata": {
      "needs_background": "light"
     },
     "output_type": "display_data"
    }
   ],
   "source": [
    "data1 = log_qd_compiler_inf[:, 0, 0]\n",
    "plt.figure(figsize = (15, 7))\n",
    "plt.plot(log_times, data1, 'bo-') \n",
    "plt.xlabel('log(time)', size = 12)\n",
    "plt.ylabel('log(infidelity)', size = 12)\n",
    "\n",
    "fit_points = 5 #declare the starting point to fit in the data\n",
    "\n",
    "p = np.polyfit(log_times[fit_points: -1], data1[fit_points: -1], 1)\n",
    "f = np.poly1d(p)\n",
    "\n",
    "t_new = np.linspace(log_times[fit_points], log_times[-1], 50)\n",
    "y_new = f(t_new)\n",
    "\n",
    "data1 = symbols(\"t\")\n",
    "poly = sum(S(\"{:6.2f}\".format(v))*data1**i for i, v in enumerate(p[::-1]))\n",
    "eq_latex = printing.latex(poly)\n",
    "\n",
    "plt.plot(t_new, y_new, 'r--', label=\"${}$\".format(eq_latex))\n",
    "plt.legend(fontsize=\"large\")\n",
    "plt.show()"
   ]
  },
  {
   "cell_type": "markdown",
   "metadata": {},
   "source": [
    "### Composite Simulation"
   ]
  },
  {
   "cell_type": "code",
   "execution_count": 4,
   "metadata": {},
   "outputs": [],
   "source": [
    "from compilers import CompositeSim"
   ]
  },
  {
   "cell_type": "code",
   "execution_count": 14,
   "metadata": {},
   "outputs": [
    {
     "name": "stdout",
     "output_type": "stream",
     "text": [
      "There are 0 terms in Trotter\n",
      "There are 8 terms in QDrift\n"
     ]
    },
    {
     "data": {
      "text/plain": [
       "array([[ 0.7367757 +0.23772344j],\n",
       "       [-0.08371538+0.46922386j],\n",
       "       [-0.02876504+0.34365371j],\n",
       "       [ 0.17069916+0.15939365j]])"
      ]
     },
     "execution_count": 14,
     "metadata": {},
     "output_type": "execute_result"
    }
   ],
   "source": [
    "#Warning if nb_optimizer = True the computation will not finish in your lifetime\n",
    "CompSim = CompositeSim(hamiltonian_list, order = 2, partition = \"qdrift\", rng_seed = 9, nb_optimizer = False, weight_threshold = 2)\n",
    "CompSim.simulate(0.1, 10, 10, False) "
   ]
  },
  {
   "cell_type": "code",
   "execution_count": 15,
   "metadata": {},
   "outputs": [
    {
     "name": "stdout",
     "output_type": "stream",
     "text": [
      "(30, 1, 1)\n",
      "Execution time in seconds: 20.716777086257935\n"
     ]
    }
   ],
   "source": [
    "startTime = time.time()\n",
    "\n",
    "tStart = 0.001\n",
    "tFinal = 0.1\n",
    "tSteps = 30\n",
    "times = np.geomspace(tStart, tFinal, tSteps)\n",
    "\n",
    "comp_compiler_inf = []\n",
    "for t in times:\n",
    "    comp_compiler_inf.append(CompSim.sample_channel_inf(t, 25, 10, 100, False))\n",
    "\n",
    "log_comp_compiler_inf = np.log10(comp_compiler_inf)\n",
    "log_times = np.log10(times)\n",
    "print(log_comp_compiler_inf.shape)\n",
    "\n",
    "executionTime = (time.time() - startTime)\n",
    "print('Execution time in seconds: ' + str(executionTime))"
   ]
  },
  {
   "cell_type": "code",
   "execution_count": 16,
   "metadata": {},
   "outputs": [
    {
     "data": {
      "image/png": "[encoded data removed]",
      "text/plain": [
       "<Figure size 1080x504 with 1 Axes>"
      ]
     },
     "metadata": {
      "needs_background": "light"
     },
     "output_type": "display_data"
    }
   ],
   "source": [
    "data1 = log_comp_compiler_inf[:, 0, 0]\n",
    "plt.figure(figsize = (15, 7))\n",
    "plt.plot(log_times, data1, 'bo-') \n",
    "plt.xlabel('log(time)', size = 12)\n",
    "plt.ylabel('log(infidelity)', size = 12)\n",
    "\n",
    "start_fit_points= 1 #declare the starting point to fit in the data\n",
    "end_fit_points = -12\n",
    "\n",
    "p = np.polyfit(log_times[start_fit_points: end_fit_points], data1[start_fit_points: end_fit_points], 1)\n",
    "f = np.poly1d(p)\n",
    "\n",
    "t_new = np.linspace(log_times[start_fit_points], log_times[end_fit_points], 50)\n",
    "y_new = f(t_new)\n",
    "\n",
    "data1 = symbols(\"t\")\n",
    "poly = sum(S(\"{:6.2f}\".format(v))*data1**i for i, v in enumerate(p[::-1]))\n",
    "eq_latex = printing.latex(poly)\n",
    "\n",
    "#plt.ylim(-1.1, -0.8)\n",
    "#plt.locator_params('x', nbins=20)\n",
    "plt.plot(t_new, y_new, 'r--', label=\"${}$\".format(eq_latex))\n",
    "plt.legend(fontsize=\"large\")\n",
    "plt.show()"
   ]
  },
  {
   "cell_type": "code",
   "execution_count": 12,
   "metadata": {},
   "outputs": [
    {
     "data": {
      "text/plain": [
       "array([[0.00279837]])"
      ]
     },
     "execution_count": 12,
     "metadata": {},
     "output_type": "execute_result"
    }
   ],
   "source": [
    "#Testing for single times, potentially test convergence of mc_samples below\n",
    "t = 0.1 \n",
    "samples = 10\n",
    "iterations = 20\n",
    "mcsamples = 100\n",
    "do_outer_loop = True\n",
    "CompSim.sample_channel_inf(t, samples, iterations, mcsamples, do_outer_loop)"
   ]
  },
  {
   "cell_type": "code",
   "execution_count": null,
   "metadata": {},
   "outputs": [],
   "source": []
  }
 ],
 "metadata": {
  "kernelspec": {
   "display_name": "Python 3",
   "language": "python",
   "name": "python3"
  },
  "language_info": {
   "codemirror_mode": {
    "name": "ipython",
    "version": 3
   },
   "file_extension": ".py",
   "mimetype": "text/x-python",
   "name": "python",
   "nbconvert_exporter": "python",
   "pygments_lexer": "ipython3",
   "version": "3.7.4"
  }
 },
 "nbformat": 4,
 "nbformat_minor": 2
}
