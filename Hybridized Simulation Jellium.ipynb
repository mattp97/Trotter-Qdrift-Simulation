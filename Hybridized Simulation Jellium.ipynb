{
 "cells": [
  {
   "cell_type": "code",
   "execution_count": 13,
   "metadata": {},
   "outputs": [],
   "source": [
    "#Remove 3 in \"pip3\" if conda pip installed\n",
    "try:\n",
    "    import openfermion\n",
    "except ImportError:\n",
    "    !pip3 install git+https://github.com/quantumlib/OpenFermion.git@master#egg=openfermion"
   ]
  },
  {
   "cell_type": "code",
   "execution_count": 1,
   "metadata": {},
   "outputs": [
    {
     "name": "stdout",
     "output_type": "stream",
     "text": [
      "test\n"
     ]
    }
   ],
   "source": [
    "import numpy as np\n",
    "import matplotlib.pyplot as plt \n",
    "%matplotlib inline\n",
    "import scipy.linalg as la\n",
    "import math\n",
    "#import time\n",
    "from numpy import random\n",
    "import cmath\n",
    "from sympy import S, symbols, printing\n",
    "\n",
    "from compilers import *"
   ]
  },
  {
   "cell_type": "markdown",
   "metadata": {},
   "source": [
    " ### Hamiltonian Initialization"
   ]
  },
  {
   "cell_type": "markdown",
   "metadata": {},
   "source": [
    "#### Arbitrary Tensored 4x4 Pauli"
   ]
  },
  {
   "cell_type": "code",
   "execution_count": 2,
   "metadata": {},
   "outputs": [
    {
     "name": "stdout",
     "output_type": "stream",
     "text": [
      "(8, 4, 4)\n",
      "(8, 4, 4)\n"
     ]
    }
   ],
   "source": [
    "X = np.array([[0, 1],\n",
    "     [1, 0]])\n",
    "Z = np.array([[1, 0],\n",
    "     [0, -1]])\n",
    "Y = np.array([[0, -1j],\n",
    "     [1j, 0]])\n",
    "I = np.array([[1, 0],\n",
    "     [0, 1]])\n",
    "XX = np.kron(X, X) #tensor products between two Pauli's\n",
    "XZ = np.kron(X, Z)\n",
    "ZZ = np.kron(Z, Z)\n",
    "ZX = np.kron(Z, X)\n",
    "II = np.kron(I, I)\n",
    "IX = np.kron(I, X)\n",
    "XI = np.kron(X, I)\n",
    "IZ = np.kron(I, Z)\n",
    "ZI = np.kron(Z, I)\n",
    "#List of Hamiltonian decomposition terms H_j for H = \\sum_j h_j H_j\n",
    "Hlist = np.array([XX, XZ, ZX, ZZ, IX, IZ, XI, ZI])\n",
    "hj = [1.0, 2.0, 3.0, 4.0, 2.0, 1.0, 0.5, 0.25] #list of normalized coefficients\n",
    "\n",
    "print(Hlist.shape)\n",
    "\n",
    "hamiltonian_list = []\n",
    "for i in range(len(hj)):\n",
    "    hamiltonian_list.append(hj[i] * Hlist[i, :, :]);\n",
    "hamiltonian_list = np.array(hamiltonian_list)\n",
    "pauli_hamiltonian = hamiltonian_list\n",
    "print(hamiltonian_list.shape)\n",
    "#print(hamiltonian_list)"
   ]
  },
  {
   "cell_type": "markdown",
   "metadata": {},
   "source": [
    "#### Graph Hamiltonian"
   ]
  },
  {
   "cell_type": "code",
   "execution_count": 3,
   "metadata": {},
   "outputs": [],
   "source": [
    "def dist(site1, site2):\n",
    "    distance_vec = site1 - site2\n",
    "    distance = np.abs(distance_vec[0]) + np.abs(distance_vec[1])\n",
    "    return distance\n",
    "\n",
    "def initialize_graph(x_sites, y_sites):\n",
    "    coord_list = []\n",
    "    for i in range(x_sites):\n",
    "        for j in range(y_sites):\n",
    "            coord_list.append([i,j])\n",
    "    return np.array(coord_list)\n",
    "\n",
    "def initialize_operator(operator_2d, acting_space, space_dimension):\n",
    "    if acting_space>space_dimension:\n",
    "        return 'error'\n",
    "    for i in range(acting_space):\n",
    "        operator_2d = np.kron(operator_2d, I)\n",
    "    for j in range(space_dimension - acting_space-1):\n",
    "        operator_2d = np.kron(I, operator_2d)\n",
    "    return operator_2d"
   ]
  },
  {
   "cell_type": "code",
   "execution_count": 4,
   "metadata": {},
   "outputs": [
    {
     "name": "stdout",
     "output_type": "stream",
     "text": [
      "[[0 0]\n",
      " [0 1]\n",
      " [1 0]\n",
      " [1 1]\n",
      " [2 0]\n",
      " [2 1]]\n",
      "1\n",
      "[[ 1  0  0  0]\n",
      " [ 0 -1  0  0]\n",
      " [ 0  0  1  0]\n",
      " [ 0  0  0 -1]]\n"
     ]
    }
   ],
   "source": [
    "#Tests\n",
    "graph = initialize_graph(3,2)\n",
    "print(graph)\n",
    "print(dist(graph[0], graph[2]))\n",
    "op = initialize_operator(Z, 0 , 2)\n",
    "print(op)"
   ]
  },
  {
   "cell_type": "code",
   "execution_count": 5,
   "metadata": {
    "scrolled": true
   },
   "outputs": [
    {
     "name": "stdout",
     "output_type": "stream",
     "text": [
      "(16, 16, 16)\n"
     ]
    }
   ],
   "source": [
    "#Initialize Hamiltonian \n",
    "def graph_hamiltonian(x_dim, y_dim, rng_seed):\n",
    "    np.random.seed(rng_seed)\n",
    "    hamiltonian_list = []\n",
    "    graph = initialize_graph(x_dim, y_dim)\n",
    "    for i in range(x_dim*y_dim):\n",
    "        for j in range(y_dim*x_dim):\n",
    "            if i != j:\n",
    "                alpha = np.random.normal()\n",
    "                hamiltonian_list.append(alpha * \n",
    "                    np.matmul(initialize_operator(Z, i, x_dim*y_dim), initialize_operator(Z, j, x_dim*y_dim)) *\n",
    "                        10.0**(-dist(graph[i], graph[j])))\n",
    "            \n",
    "        alpha = np.random.normal()\n",
    "        hamiltonian_list.append(4* alpha * initialize_operator(X, i, x_dim*y_dim))\n",
    "                \n",
    "    return np.array(hamiltonian_list)\n",
    "\n",
    "graph_hamiltonian_list = graph_hamiltonian(4, 1, 1)\n",
    "print(graph_hamiltonian_list.shape)"
   ]
  },
  {
   "cell_type": "markdown",
   "metadata": {},
   "source": [
    "### OpenFermion Hamiltonian List Generators"
   ]
  },
  {
   "cell_type": "code",
   "execution_count": 33,
   "metadata": {},
   "outputs": [],
   "source": [
    "from openfermion.hamiltonians import jellium_model\n",
    "from openfermion.utils import Grid, count_qubits\n",
    "from openfermion.transforms import jordan_wigner, fourier_transform, get_fermion_operator\n",
    "from openfermion.linalg import eigenspectrum, qubit_operator_sparse, get_sparse_operator\n",
    "from openfermion.ops import QubitOperator\n",
    "\n",
    "#A function to help convert from the default output of openfermion to the style we require to run our simulator, \n",
    "# a numpy array that is structured as a list of hamiltonian terms. \n",
    "def openfermion_matrix_list(qubit_operator):\n",
    "    total_qubits = count_qubits(qubit_operator)\n",
    "    matrix_list = []\n",
    "    op_list = list(qubit_operator)\n",
    "    for i in op_list:\n",
    "        matrix_list.append(qubit_operator_sparse(i, total_qubits).toarray())\n",
    "    return np.array(matrix_list)"
   ]
  },
  {
   "cell_type": "markdown",
   "metadata": {},
   "source": [
    "#### Jellium"
   ]
  },
  {
   "cell_type": "code",
   "execution_count": 31,
   "metadata": {},
   "outputs": [
    {
     "name": "stdout",
     "output_type": "stream",
     "text": [
      "(334, 512, 512)\n",
      "(116.28666108133152+0j) [] +\n",
      "(0.019894367886486918+0j) [X0 X1 X3 Z4 X5] +\n",
      "(0.019894367886486915+0j) [X0 X1 X3 Z4 Z5 Z6 X7] +\n",
      "(0.019894367886486918+0j) [X0 X1 Y3 Z4 Y5] +\n",
      "(-0.019894367886486915+0j) [X0 X1 Y3 Z4 Z5 Z6 Y7] +\n",
      "(0.019894367886486915+0j) [X0 X1 X4 X5] +\n",
      "(-0.019894367886486915+0j) [X0 X1 X4 Z5 X6] +\n",
      "(0.019894367886486915+0j) [X0 X1 Y4 Y5] +\n",
      "(0.019894367886486915+0j) [X0 X1 Y4 Z5 Y6] +\n",
      "(0.019894367886486915+0j) [X0 X1 X6 Z7 X8] +\n",
      "(0.019894367886486915+0j) [X0 X1 Y6 Z7 Y8] +\n",
      "(0.019894367886486918+0j) [X0 X1 X7 X8] +\n",
      "(0.019894367886486918+0j) [X0 X1 Y7 Y8] +\n",
      "(-0.019894367886486918+0j) [X0 Y1 X3 Z4 Y5] +\n",
      "(0.019894367886486915+0j) [X0 Y1 X3 Z4 Z5 Z6 Y7] +\n",
      "(0.019894367886486918+0j) [X0 Y1 Y3 Z4 X5] +\n",
      "(0.019894367886486915+0j) [X0 Y1 Y3 Z4 Z5 Z6 X7] +\n",
      "(0.019894367886486915+0j) [X0 Y1 X4 Y5] +\n",
      "(-0.019894367886486915+0j) [X0 Y1 X4 Z5 Y6] +\n",
      "(-0.019894367886486915+0j) [X0 Y1 Y4 X5] +\n",
      "(-0.019894367886486915+0j) [X0 Y1 Y4 Z5 X6] +\n",
      "(-0.019894367886486915+0j) [X0 Y1 X6 Z7 Y8] +\n",
      "(0.019894367886486915+0j) [X0 Y1 Y6 Z7 X8] +\n",
      "(0.019894367886486918+0j) [X0 Y1 X7 Y8] +\n",
      "(-0.019894367886486918+0j) [X0 Y1 Y7 X8] +\n",
      "(0.019894367886486915+0j) [X0 Z1 X2 X3 X4] +\n",
      "(0.019894367886486915+0j) [X0 Z1 X2 X3 Z4 Z5 Z6 Z7 X8] +\n",
      "(0.019894367886486915+0j) [X0 Z1 X2 Y3 Y4] +\n",
      "(-0.019894367886486915+0j) [X0 Z1 X2 Y3 Z4 Z5 Z6 Z7 Y8] +\n",
      "(0.019894367886486918+0j) [X0 Z1 X2 X4 X5] +\n",
      "(0.019894367886486918+0j) [X0 Z1 X2 Y4 Y5] +\n",
      "(-0.019894367886486915+0j) [X0 Z1 X2 X5 X6] +\n",
      "(0.019894367886486915+0j) [X0 Z1 X2 Y5 Y6] +\n",
      "(0.019894367886486918+0j) [X0 Z1 X2 X6 X7] +\n",
      "(0.019894367886486918+0j) [X0 Z1 X2 Y6 Y7] +\n",
      "(0.019894367886486915+0j) [X0 Z1 X2 X7 X8] +\n",
      "(0.019894367886486915+0j) [X0 Z1 X2 Y7 Y8] +\n",
      "(-0.019894367886486915+0j) [X0 Z1 Y2 X3 Y4] +\n",
      "(0.019894367886486915+0j) [X0 Z1 Y2 X3 Z4 Z5 Z6 Z7 Y8] +\n",
      "(0.019894367886486915+0j) [X0 Z1 Y2 Y3 X4] +\n",
      "(0.019894367886486915+0j) [X0 Z1 Y2 Y3 Z4 Z5 Z6 Z7 X8] +\n",
      "(-0.019894367886486918+0j) [X0 Z1 Y2 X4 Y5] +\n",
      "(0.019894367886486918+0j) [X0 Z1 Y2 Y4 X5] +\n",
      "(-0.019894367886486915+0j) [X0 Z1 Y2 X5 Y6] +\n",
      "(-0.019894367886486915+0j) [X0 Z1 Y2 Y5 X6] +\n",
      "(-0.019894367886486918+0j) [X0 Z1 Y2 X6 Y7] +\n",
      "(0.019894367886486918+0j) [X0 Z1 Y2 Y6 X7] +\n",
      "(-0.019894367886486915+0j) [X0 Z1 Y2 X7 Y8] +\n",
      "(0.019894367886486915+0j) [X0 Z1 Y2 Y7 X8] +\n",
      "(0.019894367886486915+0j) [X0 Z1 Z2 X3 X4 Z5 Z6 X7] +\n",
      "(0.019894367886486915+0j) [X0 Z1 Z2 X3 Y4 Z5 Z6 Y7] +\n",
      "(0.019894367886486915+0j) [X0 Z1 Z2 X3 X5 Z6 Z7 X8] +\n",
      "(0.019894367886486915+0j) [X0 Z1 Z2 X3 Y5 Z6 Z7 Y8] +\n",
      "(0.019894367886486915+0j) [X0 Z1 Z2 Y3 X4 Z5 Z6 Y7] +\n",
      "(-0.019894367886486915+0j) [X0 Z1 Z2 Y3 Y4 Z5 Z6 X7] +\n",
      "(0.019894367886486915+0j) [X0 Z1 Z2 Y3 X5 Z6 Z7 Y8] +\n",
      "(-0.019894367886486915+0j) [X0 Z1 Z2 Y3 Y5 Z6 Z7 X8] +\n",
      "(0.019894367886486915+0j) [X0 Z1 Z2 Z3 X4 X6 X7] +\n",
      "(-0.019894367886486915+0j) [X0 Z1 Z2 Z3 X4 Y6 Y7] +\n",
      "(0.019894367886486915+0j) [X0 Z1 Z2 Z3 Y4 X6 Y7] +\n",
      "(0.019894367886486915+0j) [X0 Z1 Z2 Z3 Y4 Y6 X7] +\n",
      "(0.019894367886486915+0j) [X0 Z1 Z2 Z3 Z4 X5 X6 Z7 X8] +\n",
      "(-0.019894367886486915+0j) [X0 Z1 Z2 Z3 Z4 X5 Y6 Z7 Y8] +\n",
      "(0.019894367886486915+0j) [X0 Z1 Z2 Z3 Z4 Y5 X6 Z7 Y8] +\n",
      "(0.019894367886486915+0j) [X0 Z1 Z2 Z3 Z4 Y5 Y6 Z7 X8] +\n",
      "(0.019894367886486918+0j) [Y0 X1 X3 Z4 Y5] +\n",
      "(0.019894367886486915+0j) [Y0 X1 X3 Z4 Z5 Z6 Y7] +\n",
      "(-0.019894367886486918+0j) [Y0 X1 Y3 Z4 X5] +\n",
      "(0.019894367886486915+0j) [Y0 X1 Y3 Z4 Z5 Z6 X7] +\n",
      "(-0.019894367886486915+0j) [Y0 X1 X4 Y5] +\n",
      "(-0.019894367886486915+0j) [Y0 X1 X4 Z5 Y6] +\n",
      "(0.019894367886486915+0j) [Y0 X1 Y4 X5] +\n",
      "(-0.019894367886486915+0j) [Y0 X1 Y4 Z5 X6] +\n",
      "(0.019894367886486915+0j) [Y0 X1 X6 Z7 Y8] +\n",
      "(-0.019894367886486915+0j) [Y0 X1 Y6 Z7 X8] +\n",
      "(-0.019894367886486918+0j) [Y0 X1 X7 Y8] +\n",
      "(0.019894367886486918+0j) [Y0 X1 Y7 X8] +\n",
      "(0.019894367886486918+0j) [Y0 Y1 X3 Z4 X5] +\n",
      "(-0.019894367886486915+0j) [Y0 Y1 X3 Z4 Z5 Z6 X7] +\n",
      "(0.019894367886486918+0j) [Y0 Y1 Y3 Z4 Y5] +\n",
      "(0.019894367886486915+0j) [Y0 Y1 Y3 Z4 Z5 Z6 Y7] +\n",
      "(0.019894367886486915+0j) [Y0 Y1 X4 X5] +\n",
      "(0.019894367886486915+0j) [Y0 Y1 X4 Z5 X6] +\n",
      "(0.019894367886486915+0j) [Y0 Y1 Y4 Y5] +\n",
      "(-0.019894367886486915+0j) [Y0 Y1 Y4 Z5 Y6] +\n",
      "(0.019894367886486915+0j) [Y0 Y1 X6 Z7 X8] +\n",
      "(0.019894367886486915+0j) [Y0 Y1 Y6 Z7 Y8] +\n",
      "(0.019894367886486918+0j) [Y0 Y1 X7 X8] +\n",
      "(0.019894367886486918+0j) [Y0 Y1 Y7 Y8] +\n",
      "(0.019894367886486915+0j) [Y0 Z1 X2 X3 Y4] +\n",
      "(0.019894367886486915+0j) [Y0 Z1 X2 X3 Z4 Z5 Z6 Z7 Y8] +\n",
      "(-0.019894367886486915+0j) [Y0 Z1 X2 Y3 X4] +\n",
      "(0.019894367886486915+0j) [Y0 Z1 X2 Y3 Z4 Z5 Z6 Z7 X8] +\n",
      "(0.019894367886486918+0j) [Y0 Z1 X2 X4 Y5] +\n",
      "(-0.019894367886486918+0j) [Y0 Z1 X2 Y4 X5] +\n",
      "(-0.019894367886486915+0j) [Y0 Z1 X2 X5 Y6] +\n",
      "(-0.019894367886486915+0j) [Y0 Z1 X2 Y5 X6] +\n",
      "(0.019894367886486918+0j) [Y0 Z1 X2 X6 Y7] +\n",
      "(-0.019894367886486918+0j) [Y0 Z1 X2 Y6 X7] +\n",
      "(0.019894367886486915+0j) [Y0 Z1 X2 X7 Y8] +\n",
      "(-0.019894367886486915+0j) [Y0 Z1 X2 Y7 X8] +\n",
      "(0.019894367886486915+0j) [Y0 Z1 Y2 X3 X4] +\n",
      "(-0.019894367886486915+0j) [Y0 Z1 Y2 X3 Z4 Z5 Z6 Z7 X8] +\n",
      "(0.019894367886486915+0j) [Y0 Z1 Y2 Y3 Y4] +\n",
      "(0.019894367886486915+0j) [Y0 Z1 Y2 Y3 Z4 Z5 Z6 Z7 Y8] +\n",
      "(0.019894367886486918+0j) [Y0 Z1 Y2 X4 X5] +\n",
      "(0.019894367886486918+0j) [Y0 Z1 Y2 Y4 Y5] +\n",
      "(0.019894367886486915+0j) [Y0 Z1 Y2 X5 X6] +\n",
      "(-0.019894367886486915+0j) [Y0 Z1 Y2 Y5 Y6] +\n",
      "(0.019894367886486918+0j) [Y0 Z1 Y2 X6 X7] +\n",
      "(0.019894367886486918+0j) [Y0 Z1 Y2 Y6 Y7] +\n",
      "(0.019894367886486915+0j) [Y0 Z1 Y2 X7 X8] +\n",
      "(0.019894367886486915+0j) [Y0 Z1 Y2 Y7 Y8] +\n",
      "(-0.019894367886486915+0j) [Y0 Z1 Z2 X3 X4 Z5 Z6 Y7] +\n",
      "(0.019894367886486915+0j) [Y0 Z1 Z2 X3 Y4 Z5 Z6 X7] +\n",
      "(-0.019894367886486915+0j) [Y0 Z1 Z2 X3 X5 Z6 Z7 Y8] +\n",
      "(0.019894367886486915+0j) [Y0 Z1 Z2 X3 Y5 Z6 Z7 X8] +\n",
      "(0.019894367886486915+0j) [Y0 Z1 Z2 Y3 X4 Z5 Z6 X7] +\n",
      "(0.019894367886486915+0j) [Y0 Z1 Z2 Y3 Y4 Z5 Z6 Y7] +\n",
      "(0.019894367886486915+0j) [Y0 Z1 Z2 Y3 X5 Z6 Z7 X8] +\n",
      "(0.019894367886486915+0j) [Y0 Z1 Z2 Y3 Y5 Z6 Z7 Y8] +\n",
      "(0.019894367886486915+0j) [Y0 Z1 Z2 Z3 X4 X6 Y7] +\n",
      "(0.019894367886486915+0j) [Y0 Z1 Z2 Z3 X4 Y6 X7] +\n",
      "(-0.019894367886486915+0j) [Y0 Z1 Z2 Z3 Y4 X6 X7] +\n",
      "(0.019894367886486915+0j) [Y0 Z1 Z2 Z3 Y4 Y6 Y7] +\n",
      "(0.019894367886486915+0j) [Y0 Z1 Z2 Z3 Z4 X5 X6 Z7 Y8] +\n",
      "(0.019894367886486915+0j) [Y0 Z1 Z2 Z3 Z4 X5 Y6 Z7 X8] +\n",
      "(-0.019894367886486915+0j) [Y0 Z1 Z2 Z3 Z4 Y5 X6 Z7 X8] +\n",
      "(0.019894367886486915+0j) [Y0 Z1 Z2 Z3 Z4 Y5 Y6 Z7 Y8] +\n",
      "(-19.26174397290304+0j) [Z0] +\n",
      "(-0.07957747154594767+0j) [Z0 Z1] +\n",
      "(-0.07957747154594767+0j) [Z0 Z2] +\n",
      "(-0.07957747154594767+0j) [Z0 Z3] +\n",
      "(-0.039788735772973836+0j) [Z0 Z4] +\n",
      "(-0.039788735772973836+0j) [Z0 Z5] +\n",
      "(-0.07957747154594767+0j) [Z0 Z6] +\n",
      "(-0.039788735772973836+0j) [Z0 Z7] +\n",
      "(-0.039788735772973836+0j) [Z0 Z8] +\n",
      "(0.019894367886486918+0j) [X1 X2 X3 X4] +\n",
      "(0.019894367886486915+0j) [X1 X2 X3 Z4 X5] +\n",
      "(0.019894367886486918+0j) [X1 X2 Y3 Y4] +\n",
      "(0.019894367886486915+0j) [X1 X2 Y3 Z4 Y5] +\n",
      "(0.019894367886486915+0j) [X1 X2 X4 Z5 Z6 Z7 X8] +\n",
      "(-0.019894367886486915+0j) [X1 X2 Y4 Z5 Z6 Z7 Y8] +\n",
      "(-0.019894367886486915+0j) [X1 X2 X5 Z6 X7] +\n",
      "(0.019894367886486915+0j) [X1 X2 Y5 Z6 Y7] +\n",
      "(0.019894367886486915+0j) [X1 X2 X6 X7] +\n",
      "(0.019894367886486918+0j) [X1 X2 X6 Z7 X8] +\n",
      "(0.019894367886486915+0j) [X1 X2 Y6 Y7] +\n",
      "(0.019894367886486918+0j) [X1 X2 Y6 Z7 Y8] +\n",
      "(0.019894367886486918+0j) [X1 Y2 X3 Y4] +\n",
      "(-0.019894367886486915+0j) [X1 Y2 X3 Z4 Y5] +\n",
      "(-0.019894367886486918+0j) [X1 Y2 Y3 X4] +\n",
      "(0.019894367886486915+0j) [X1 Y2 Y3 Z4 X5] +\n",
      "(0.019894367886486915+0j) [X1 Y2 X4 Z5 Z6 Z7 Y8] +\n",
      "(0.019894367886486915+0j) [X1 Y2 Y4 Z5 Z6 Z7 X8] +\n",
      "(-0.019894367886486915+0j) [X1 Y2 X5 Z6 Y7] +\n",
      "(-0.019894367886486915+0j) [X1 Y2 Y5 Z6 X7] +\n",
      "(0.019894367886486915+0j) [X1 Y2 X6 Y7] +\n",
      "(-0.019894367886486918+0j) [X1 Y2 X6 Z7 Y8] +\n",
      "(-0.019894367886486915+0j) [X1 Y2 Y6 X7] +\n",
      "(0.019894367886486918+0j) [X1 Y2 Y6 Z7 X8] +\n",
      "(-0.019894367886486915+0j) [X1 Z2 X3 X4 Z5 X6] +\n",
      "(-0.019894367886486915+0j) [X1 Z2 X3 Y4 Z5 Y6] +\n",
      "(-0.019894367886486915+0j) [X1 Z2 X3 X6 X7] +\n",
      "(0.019894367886486915+0j) [X1 Z2 X3 Y6 Y7] +\n",
      "(-0.019894367886486915+0j) [X1 Z2 Y3 X4 Z5 Y6] +\n",
      "(0.019894367886486915+0j) [X1 Z2 Y3 Y4 Z5 X6] +\n",
      "(-0.019894367886486915+0j) [X1 Z2 Y3 X6 Y7] +\n",
      "(-0.019894367886486915+0j) [X1 Z2 Y3 Y6 X7] +\n",
      "(0.019894367886486915+0j) [X1 Z2 Z3 X4 X5 Z6 Z7 X8] +\n",
      "(0.019894367886486915+0j) [X1 Z2 Z3 X4 Y5 Z6 Z7 Y8] +\n",
      "(0.019894367886486915+0j) [X1 Z2 Z3 Y4 X5 Z6 Z7 Y8] +\n",
      "(-0.019894367886486915+0j) [X1 Z2 Z3 Y4 Y5 Z6 Z7 X8] +\n",
      "(0.019894367886486915+0j) [X1 Z2 Z3 Z4 X5 X7 X8] +\n",
      "(-0.019894367886486915+0j) [X1 Z2 Z3 Z4 X5 Y7 Y8] +\n",
      "(0.019894367886486915+0j) [X1 Z2 Z3 Z4 Y5 X7 Y8] +\n",
      "(0.019894367886486915+0j) [X1 Z2 Z3 Z4 Y5 Y7 X8] +\n",
      "(-0.019894367886486918+0j) [Y1 X2 X3 Y4] +\n",
      "(0.019894367886486915+0j) [Y1 X2 X3 Z4 Y5] +\n",
      "(0.019894367886486918+0j) [Y1 X2 Y3 X4] +\n",
      "(-0.019894367886486915+0j) [Y1 X2 Y3 Z4 X5] +\n",
      "(0.019894367886486915+0j) [Y1 X2 X4 Z5 Z6 Z7 Y8] +\n",
      "(0.019894367886486915+0j) [Y1 X2 Y4 Z5 Z6 Z7 X8] +\n",
      "(-0.019894367886486915+0j) [Y1 X2 X5 Z6 Y7] +\n",
      "(-0.019894367886486915+0j) [Y1 X2 Y5 Z6 X7] +\n",
      "(-0.019894367886486915+0j) [Y1 X2 X6 Y7] +\n",
      "(0.019894367886486918+0j) [Y1 X2 X6 Z7 Y8] +\n",
      "(0.019894367886486915+0j) [Y1 X2 Y6 X7] +\n",
      "(-0.019894367886486918+0j) [Y1 X2 Y6 Z7 X8] +\n",
      "(0.019894367886486918+0j) [Y1 Y2 X3 X4] +\n",
      "(0.019894367886486915+0j) [Y1 Y2 X3 Z4 X5] +\n",
      "(0.019894367886486918+0j) [Y1 Y2 Y3 Y4] +\n",
      "(0.019894367886486915+0j) [Y1 Y2 Y3 Z4 Y5] +\n",
      "(-0.019894367886486915+0j) [Y1 Y2 X4 Z5 Z6 Z7 X8] +\n",
      "(0.019894367886486915+0j) [Y1 Y2 Y4 Z5 Z6 Z7 Y8] +\n",
      "(0.019894367886486915+0j) [Y1 Y2 X5 Z6 X7] +\n",
      "(-0.019894367886486915+0j) [Y1 Y2 Y5 Z6 Y7] +\n",
      "(0.019894367886486915+0j) [Y1 Y2 X6 X7] +\n",
      "(0.019894367886486918+0j) [Y1 Y2 X6 Z7 X8] +\n",
      "(0.019894367886486915+0j) [Y1 Y2 Y6 Y7] +\n",
      "(0.019894367886486918+0j) [Y1 Y2 Y6 Z7 Y8] +\n",
      "(0.019894367886486915+0j) [Y1 Z2 X3 X4 Z5 Y6] +\n",
      "(-0.019894367886486915+0j) [Y1 Z2 X3 Y4 Z5 X6] +\n",
      "(-0.019894367886486915+0j) [Y1 Z2 X3 X6 Y7] +\n",
      "(-0.019894367886486915+0j) [Y1 Z2 X3 Y6 X7] +\n",
      "(-0.019894367886486915+0j) [Y1 Z2 Y3 X4 Z5 X6] +\n",
      "(-0.019894367886486915+0j) [Y1 Z2 Y3 Y4 Z5 Y6] +\n",
      "(0.019894367886486915+0j) [Y1 Z2 Y3 X6 X7] +\n",
      "(-0.019894367886486915+0j) [Y1 Z2 Y3 Y6 Y7] +\n",
      "(-0.019894367886486915+0j) [Y1 Z2 Z3 X4 X5 Z6 Z7 Y8] +\n",
      "(0.019894367886486915+0j) [Y1 Z2 Z3 X4 Y5 Z6 Z7 X8] +\n",
      "(0.019894367886486915+0j) [Y1 Z2 Z3 Y4 X5 Z6 Z7 X8] +\n",
      "(0.019894367886486915+0j) [Y1 Z2 Z3 Y4 Y5 Z6 Z7 Y8] +\n",
      "(0.019894367886486915+0j) [Y1 Z2 Z3 Z4 X5 X7 Y8] +\n",
      "(0.019894367886486915+0j) [Y1 Z2 Z3 Z4 X5 Y7 X8] +\n",
      "(-0.019894367886486915+0j) [Y1 Z2 Z3 Z4 Y5 X7 X8] +\n",
      "(0.019894367886486915+0j) [Y1 Z2 Z3 Z4 Y5 Y7 Y8] +\n",
      "(-9.392139571813669+0j) [Z1] +\n",
      "(-0.07957747154594767+0j) [Z1 Z2] +\n",
      "(-0.039788735772973836+0j) [Z1 Z3] +\n",
      "(-0.07957747154594767+0j) [Z1 Z4] +\n",
      "(-0.039788735772973836+0j) [Z1 Z5] +\n",
      "(-0.039788735772973836+0j) [Z1 Z6] +\n",
      "(-0.07957747154594767+0j) [Z1 Z7] +\n",
      "(-0.039788735772973836+0j) [Z1 Z8] +\n",
      "(-0.019894367886486915+0j) [X2 X3 X5 X6] +\n",
      "(-0.019894367886486915+0j) [X2 X3 Y5 Y6] +\n",
      "(-0.019894367886486915+0j) [X2 X3 X6 Z7 X8] +\n",
      "(0.019894367886486915+0j) [X2 X3 Y6 Z7 Y8] +\n",
      "(-0.019894367886486915+0j) [X2 Y3 X5 Y6] +\n",
      "(0.019894367886486915+0j) [X2 Y3 Y5 X6] +\n",
      "(-0.019894367886486915+0j) [X2 Y3 X6 Z7 Y8] +\n",
      "(-0.019894367886486915+0j) [X2 Y3 Y6 Z7 X8] +\n",
      "(-0.019894367886486915+0j) [X2 Z3 X4 X5 Z6 X7] +\n",
      "(-0.019894367886486915+0j) [X2 Z3 X4 Y5 Z6 Y7] +\n",
      "(-0.019894367886486915+0j) [X2 Z3 X4 X7 X8] +\n",
      "(0.019894367886486915+0j) [X2 Z3 X4 Y7 Y8] +\n",
      "(-0.019894367886486915+0j) [X2 Z3 Y4 X5 Z6 Y7] +\n",
      "(0.019894367886486915+0j) [X2 Z3 Y4 Y5 Z6 X7] +\n",
      "(-0.019894367886486915+0j) [X2 Z3 Y4 X7 Y8] +\n",
      "(-0.019894367886486915+0j) [X2 Z3 Y4 Y7 X8] +\n",
      "(0.019894367886486915+0j) [Y2 X3 X5 Y6] +\n",
      "(-0.019894367886486915+0j) [Y2 X3 Y5 X6] +\n",
      "(-0.019894367886486915+0j) [Y2 X3 X6 Z7 Y8] +\n",
      "(-0.019894367886486915+0j) [Y2 X3 Y6 Z7 X8] +\n",
      "(-0.019894367886486915+0j) [Y2 Y3 X5 X6] +\n",
      "(-0.019894367886486915+0j) [Y2 Y3 Y5 Y6] +\n",
      "(0.019894367886486915+0j) [Y2 Y3 X6 Z7 X8] +\n",
      "(-0.019894367886486915+0j) [Y2 Y3 Y6 Z7 Y8] +\n",
      "(0.019894367886486915+0j) [Y2 Z3 X4 X5 Z6 Y7] +\n",
      "(-0.019894367886486915+0j) [Y2 Z3 X4 Y5 Z6 X7] +\n",
      "(-0.019894367886486915+0j) [Y2 Z3 X4 X7 Y8] +\n",
      "(-0.019894367886486915+0j) [Y2 Z3 X4 Y7 X8] +\n",
      "(-0.019894367886486915+0j) [Y2 Z3 Y4 X5 Z6 X7] +\n",
      "(-0.019894367886486915+0j) [Y2 Z3 Y4 Y5 Z6 Y7] +\n",
      "(0.019894367886486915+0j) [Y2 Z3 Y4 X7 X8] +\n",
      "(-0.019894367886486915+0j) [Y2 Z3 Y4 Y7 Y8] +\n",
      "(-19.26174397290304+0j) [Z2] +\n",
      "(-0.039788735772973836+0j) [Z2 Z3] +\n",
      "(-0.039788735772973836+0j) [Z2 Z4] +\n",
      "(-0.07957747154594767+0j) [Z2 Z5] +\n",
      "(-0.039788735772973836+0j) [Z2 Z6] +\n",
      "(-0.039788735772973836+0j) [Z2 Z7] +\n",
      "(-0.07957747154594767+0j) [Z2 Z8] +\n",
      "(0.019894367886486918+0j) [X3 X4 X6 Z7 X8] +\n",
      "(0.019894367886486918+0j) [X3 X4 Y6 Z7 Y8] +\n",
      "(0.019894367886486915+0j) [X3 X4 X7 X8] +\n",
      "(0.019894367886486915+0j) [X3 X4 Y7 Y8] +\n",
      "(-0.019894367886486918+0j) [X3 Y4 X6 Z7 Y8] +\n",
      "(0.019894367886486918+0j) [X3 Y4 Y6 Z7 X8] +\n",
      "(0.019894367886486915+0j) [X3 Y4 X7 Y8] +\n",
      "(-0.019894367886486915+0j) [X3 Y4 Y7 X8] +\n",
      "(0.019894367886486915+0j) [X3 Z4 X5 X6 X7] +\n",
      "(0.019894367886486915+0j) [X3 Z4 X5 Y6 Y7] +\n",
      "(0.019894367886486918+0j) [X3 Z4 X5 X7 X8] +\n",
      "(0.019894367886486918+0j) [X3 Z4 X5 Y7 Y8] +\n",
      "(-0.019894367886486915+0j) [X3 Z4 Y5 X6 Y7] +\n",
      "(0.019894367886486915+0j) [X3 Z4 Y5 Y6 X7] +\n",
      "(-0.019894367886486918+0j) [X3 Z4 Y5 X7 Y8] +\n",
      "(0.019894367886486918+0j) [X3 Z4 Y5 Y7 X8] +\n",
      "(0.019894367886486918+0j) [Y3 X4 X6 Z7 Y8] +\n",
      "(-0.019894367886486918+0j) [Y3 X4 Y6 Z7 X8] +\n",
      "(-0.019894367886486915+0j) [Y3 X4 X7 Y8] +\n",
      "(0.019894367886486915+0j) [Y3 X4 Y7 X8] +\n",
      "(0.019894367886486918+0j) [Y3 Y4 X6 Z7 X8] +\n",
      "(0.019894367886486918+0j) [Y3 Y4 Y6 Z7 Y8] +\n",
      "(0.019894367886486915+0j) [Y3 Y4 X7 X8] +\n",
      "(0.019894367886486915+0j) [Y3 Y4 Y7 Y8] +\n",
      "(0.019894367886486915+0j) [Y3 Z4 X5 X6 Y7] +\n",
      "(-0.019894367886486915+0j) [Y3 Z4 X5 Y6 X7] +\n",
      "(0.019894367886486918+0j) [Y3 Z4 X5 X7 Y8] +\n",
      "(-0.019894367886486918+0j) [Y3 Z4 X5 Y7 X8] +\n",
      "(0.019894367886486915+0j) [Y3 Z4 Y5 X6 X7] +\n",
      "(0.019894367886486915+0j) [Y3 Z4 Y5 Y6 Y7] +\n",
      "(0.019894367886486918+0j) [Y3 Z4 Y5 X7 X8] +\n",
      "(0.019894367886486918+0j) [Y3 Z4 Y5 Y7 Y8] +\n",
      "(-9.392139571813669+0j) [Z3] +\n",
      "(-0.07957747154594767+0j) [Z3 Z4] +\n",
      "(-0.07957747154594767+0j) [Z3 Z5] +\n",
      "(-0.07957747154594767+0j) [Z3 Z6] +\n",
      "(-0.039788735772973836+0j) [Z3 Z7] +\n",
      "(-0.039788735772973836+0j) [Z3 Z8] +\n",
      "(0.019894367886486918+0j) [X4 X5 X6 X7] +\n",
      "(0.019894367886486915+0j) [X4 X5 X6 Z7 X8] +\n",
      "(0.019894367886486918+0j) [X4 X5 Y6 Y7] +\n",
      "(0.019894367886486915+0j) [X4 X5 Y6 Z7 Y8] +\n",
      "(0.019894367886486918+0j) [X4 Y5 X6 Y7] +\n",
      "(-0.019894367886486915+0j) [X4 Y5 X6 Z7 Y8] +\n",
      "(-0.019894367886486918+0j) [X4 Y5 Y6 X7] +\n",
      "(0.019894367886486915+0j) [X4 Y5 Y6 Z7 X8] +\n",
      "(-0.019894367886486918+0j) [Y4 X5 X6 Y7] +\n",
      "(0.019894367886486915+0j) [Y4 X5 X6 Z7 Y8] +\n",
      "(0.019894367886486918+0j) [Y4 X5 Y6 X7] +\n",
      "(-0.019894367886486915+0j) [Y4 X5 Y6 Z7 X8] +\n",
      "(0.019894367886486918+0j) [Y4 Y5 X6 X7] +\n",
      "(0.019894367886486915+0j) [Y4 Y5 X6 Z7 X8] +\n",
      "(0.019894367886486918+0j) [Y4 Y5 Y6 Y7] +\n",
      "(0.019894367886486915+0j) [Y4 Y5 Y6 Z7 Y8] +\n",
      "(0.4774648292756859+0j) [Z4] +\n",
      "(-0.07957747154594767+0j) [Z4 Z5] +\n",
      "(-0.039788735772973836+0j) [Z4 Z6] +\n",
      "(-0.07957747154594767+0j) [Z4 Z7] +\n",
      "(-0.039788735772973836+0j) [Z4 Z8] +\n",
      "(-9.392139571813669+0j) [Z5] +\n",
      "(-0.039788735772973836+0j) [Z5 Z6] +\n",
      "(-0.039788735772973836+0j) [Z5 Z7] +\n",
      "(-0.07957747154594767+0j) [Z5 Z8] +\n",
      "(-19.26174397290304+0j) [Z6] +\n",
      "(-0.07957747154594767+0j) [Z6 Z7] +\n",
      "(-0.07957747154594767+0j) [Z6 Z8] +\n",
      "(-9.392139571813669+0j) [Z7] +\n",
      "(-0.07957747154594767+0j) [Z7 Z8] +\n",
      "(-19.26174397290304+0j) [Z8]\n"
     ]
    }
   ],
   "source": [
    "#small model in 2 dimensions\n",
    "grid = Grid(dimensions=2, length=3, scale=1.0)\n",
    "spinless = True\n",
    "\n",
    "# Get the momentum Hamiltonian.\n",
    "momentum_hamiltonian = jellium_model(grid, spinless)\n",
    "momentum_qubit_operator = jordan_wigner(momentum_hamiltonian)\n",
    "#momentum_qubit_operator.compress()\n",
    "\n",
    "#Generate the matrix list\n",
    "jellium_hamiltonian_list = openfermion_matrix_list(momentum_qubit_operator) #load this into simulator\n",
    "print(jellium_hamiltonian_list.shape)\n",
    "print((momentum_qubit_operator))"
   ]
  },
  {
   "cell_type": "markdown",
   "metadata": {},
   "source": [
    "#### LiH, Methane, and Ethane"
   ]
  },
  {
   "cell_type": "code",
   "execution_count": 35,
   "metadata": {},
   "outputs": [],
   "source": [
    "from openfermion.chem import geometry_from_pubchem\n",
    "from openfermion.chem import MolecularData\n",
    "\n",
    "basis = 'sto-3g'\n",
    "multiplicity = 1\n",
    "\n",
    "# Set Hamiltonian parameters.\n",
    "active_space_start = 1\n",
    "active_space_stop = 3"
   ]
  },
  {
   "cell_type": "code",
   "execution_count": 39,
   "metadata": {},
   "outputs": [
    {
     "name": "stdout",
     "output_type": "stream",
     "text": [
      "[('Li', (3, 0, 0)), ('H', (2, 0, 0))]\n",
      "(27, 16, 16)\n",
      "[[[-7.4989469 +0.j  0.        +0.j  0.        +0.j ...  0.        +0.j\n",
      "    0.        +0.j  0.        +0.j]\n",
      "  [ 0.        +0.j -7.4989469 +0.j  0.        +0.j ...  0.        +0.j\n",
      "    0.        +0.j  0.        +0.j]\n",
      "  [ 0.        +0.j  0.        +0.j -7.4989469 +0.j ...  0.        +0.j\n",
      "    0.        +0.j  0.        +0.j]\n",
      "  ...\n",
      "  [ 0.        +0.j  0.        +0.j  0.        +0.j ... -7.4989469 +0.j\n",
      "    0.        +0.j  0.        +0.j]\n",
      "  [ 0.        +0.j  0.        +0.j  0.        +0.j ...  0.        +0.j\n",
      "   -7.4989469 +0.j  0.        +0.j]\n",
      "  [ 0.        +0.j  0.        +0.j  0.        +0.j ...  0.        +0.j\n",
      "    0.        +0.j -7.4989469 +0.j]]\n",
      "\n",
      " [[ 0.16199475+0.j  0.        +0.j  0.        +0.j ...  0.        +0.j\n",
      "    0.        +0.j  0.        +0.j]\n",
      "  [ 0.        +0.j  0.16199475+0.j  0.        +0.j ...  0.        +0.j\n",
      "    0.        +0.j  0.        +0.j]\n",
      "  [ 0.        +0.j  0.        +0.j  0.16199475+0.j ...  0.        +0.j\n",
      "    0.        +0.j  0.        +0.j]\n",
      "  ...\n",
      "  [ 0.        +0.j  0.        +0.j  0.        +0.j ... -0.16199475+0.j\n",
      "    0.        +0.j  0.        +0.j]\n",
      "  [ 0.        +0.j  0.        +0.j  0.        +0.j ...  0.        +0.j\n",
      "   -0.16199475+0.j  0.        +0.j]\n",
      "  [ 0.        +0.j  0.        +0.j  0.        +0.j ...  0.        +0.j\n",
      "    0.        +0.j -0.16199475+0.j]]\n",
      "\n",
      " [[ 0.        +0.j  0.        +0.j  0.        +0.j ...  0.        +0.j\n",
      "    0.        +0.j  0.        +0.j]\n",
      "  [ 0.        +0.j  0.        +0.j  0.        +0.j ...  0.        +0.j\n",
      "    0.        +0.j  0.        +0.j]\n",
      "  [ 0.        +0.j  0.        +0.j  0.        +0.j ...  0.        +0.j\n",
      "    0.        +0.j  0.        +0.j]\n",
      "  ...\n",
      "  [ 0.        +0.j  0.        +0.j  0.        +0.j ...  0.        +0.j\n",
      "    0.        +0.j  0.        +0.j]\n",
      "  [ 0.        +0.j  0.        +0.j  0.        +0.j ...  0.        +0.j\n",
      "    0.        +0.j  0.        +0.j]\n",
      "  [ 0.        +0.j  0.        +0.j  0.        +0.j ...  0.        +0.j\n",
      "    0.        +0.j  0.        +0.j]]\n",
      "\n",
      " ...\n",
      "\n",
      " [[ 0.        +0.j  0.        +0.j  0.        +0.j ...  0.        +0.j\n",
      "    0.        +0.j  0.        +0.j]\n",
      "  [ 0.        +0.j  0.        +0.j  0.        +0.j ...  0.        +0.j\n",
      "    0.        +0.j  0.        +0.j]\n",
      "  [ 0.        +0.j  0.        +0.j  0.        +0.j ...  0.        +0.j\n",
      "    0.        +0.j  0.        +0.j]\n",
      "  ...\n",
      "  [ 0.        +0.j  0.        +0.j  0.        +0.j ...  0.        +0.j\n",
      "    0.        +0.j  0.        +0.j]\n",
      "  [ 0.        +0.j  0.        +0.j  0.        +0.j ...  0.        +0.j\n",
      "    0.        +0.j  0.        +0.j]\n",
      "  [ 0.        +0.j  0.        +0.j  0.        +0.j ...  0.        +0.j\n",
      "    0.        +0.j  0.        +0.j]]\n",
      "\n",
      " [[ 0.05413045+0.j  0.        +0.j  0.        +0.j ...  0.        +0.j\n",
      "    0.        +0.j  0.        +0.j]\n",
      "  [ 0.        +0.j -0.05413045+0.j  0.        +0.j ...  0.        +0.j\n",
      "    0.        +0.j  0.        +0.j]\n",
      "  [ 0.        +0.j  0.        +0.j  0.05413045+0.j ...  0.        +0.j\n",
      "    0.        +0.j  0.        +0.j]\n",
      "  ...\n",
      "  [ 0.        +0.j  0.        +0.j  0.        +0.j ...  0.05413045+0.j\n",
      "    0.        +0.j  0.        +0.j]\n",
      "  [ 0.        +0.j  0.        +0.j  0.        +0.j ...  0.        +0.j\n",
      "   -0.05413045+0.j  0.        +0.j]\n",
      "  [ 0.        +0.j  0.        +0.j  0.        +0.j ...  0.        +0.j\n",
      "    0.        +0.j  0.05413045+0.j]]\n",
      "\n",
      " [[ 0.0847961 +0.j  0.        +0.j  0.        +0.j ...  0.        +0.j\n",
      "    0.        +0.j  0.        +0.j]\n",
      "  [ 0.        +0.j -0.0847961 +0.j  0.        +0.j ...  0.        +0.j\n",
      "    0.        +0.j  0.        +0.j]\n",
      "  [ 0.        +0.j  0.        +0.j -0.0847961 +0.j ...  0.        +0.j\n",
      "    0.        +0.j  0.        +0.j]\n",
      "  ...\n",
      "  [ 0.        +0.j  0.        +0.j  0.        +0.j ... -0.0847961 +0.j\n",
      "    0.        +0.j  0.        +0.j]\n",
      "  [ 0.        +0.j  0.        +0.j  0.        +0.j ...  0.        +0.j\n",
      "   -0.0847961 +0.j  0.        +0.j]\n",
      "  [ 0.        +0.j  0.        +0.j  0.        +0.j ...  0.        +0.j\n",
      "    0.        +0.j  0.0847961 +0.j]]]\n"
     ]
    }
   ],
   "source": [
    "#LiH\n",
    "LiH_geometry = geometry_from_pubchem('LiH')\n",
    "print(LiH_geometry)\n",
    "\n",
    "# Generate and populate instance of MolecularData.\n",
    "LiH_molecule = MolecularData(LiH_geometry, basis, multiplicity, description=\"1.45\")\n",
    "LiH_molecule.load()\n",
    "\n",
    "# Get the Hamiltonian in an active space.\n",
    "LiH_molecular_hamiltonian = LiH_molecule.get_molecular_hamiltonian(\n",
    "    occupied_indices=range(active_space_start),\n",
    "    active_indices=range(active_space_start, active_space_stop))\n",
    "\n",
    "# Map operator to fermions and qubits.\n",
    "LiH_fermion_hamiltonian = get_fermion_operator(LiH_molecular_hamiltonian)\n",
    "LiH_qubit_hamiltonian = jordan_wigner(LiH_fermion_hamiltonian)\n",
    "LiH_hamiltonian_list = openfermion_matrix_list(LiH_qubit_hamiltonian)\n",
    "print(LiH_hamiltonian_list.shape)\n",
    "print(LiH_hamiltonian_list)"
   ]
  },
  {
   "cell_type": "code",
   "execution_count": 37,
   "metadata": {},
   "outputs": [
    {
     "name": "stdout",
     "output_type": "stream",
     "text": [
      "[('C', (0, 0, 0)), ('H', (0.5541, 0.7996, 0.4965)), ('H', (0.6833, -0.8134, -0.2536)), ('H', (-0.7782, -0.3735, 0.6692)), ('H', (-0.4593, 0.3874, -0.9121))]\n"
     ]
    },
    {
     "ename": "MissingCalculationError",
     "evalue": "Missing integral calculation in /opt/anaconda3/lib/python3.7/site-packages/openfermion/testing/data/H4-C1_sto-3g_singlet_1.45, run before loading integrals.",
     "output_type": "error",
     "traceback": [
      "\u001b[0;31m---------------------------------------------------------------------------\u001b[0m",
      "\u001b[0;31mMissingCalculationError\u001b[0m                   Traceback (most recent call last)",
      "\u001b[0;32m/var/folders/1k/18s4nj3942q9d2gph57lw0ph0000gn/T/ipykernel_48802/433776476.py\u001b[0m in \u001b[0;36m<module>\u001b[0;34m\u001b[0m\n\u001b[1;32m      9\u001b[0m methane_molecular_hamiltonian = methane_molecule.get_molecular_hamiltonian(\n\u001b[1;32m     10\u001b[0m     \u001b[0moccupied_indices\u001b[0m\u001b[0;34m=\u001b[0m\u001b[0mrange\u001b[0m\u001b[0;34m(\u001b[0m\u001b[0mactive_space_start\u001b[0m\u001b[0;34m)\u001b[0m\u001b[0;34m,\u001b[0m\u001b[0;34m\u001b[0m\u001b[0;34m\u001b[0m\u001b[0m\n\u001b[0;32m---> 11\u001b[0;31m     active_indices=range(active_space_start, active_space_stop))\n\u001b[0m\u001b[1;32m     12\u001b[0m \u001b[0;34m\u001b[0m\u001b[0m\n\u001b[1;32m     13\u001b[0m \u001b[0;31m# Map operator to fermions and qubits.\u001b[0m\u001b[0;34m\u001b[0m\u001b[0;34m\u001b[0m\u001b[0;34m\u001b[0m\u001b[0m\n",
      "\u001b[0;32m/opt/anaconda3/lib/python3.7/site-packages/openfermion/chem/molecular_data.py\u001b[0m in \u001b[0;36mget_molecular_hamiltonian\u001b[0;34m(self, occupied_indices, active_indices)\u001b[0m\n\u001b[1;32m    901\u001b[0m         \u001b[0;32melse\u001b[0m\u001b[0;34m:\u001b[0m\u001b[0;34m\u001b[0m\u001b[0;34m\u001b[0m\u001b[0m\n\u001b[1;32m    902\u001b[0m             \u001b[0mcore_adjustment\u001b[0m\u001b[0;34m,\u001b[0m \u001b[0mone_body_integrals\u001b[0m\u001b[0;34m,\u001b[0m \u001b[0mtwo_body_integrals\u001b[0m \u001b[0;34m=\u001b[0m \u001b[0mself\u001b[0m\u001b[0;34m.\u001b[0m\u001b[0;31m \u001b[0m\u001b[0;31m\\\u001b[0m\u001b[0;34m\u001b[0m\u001b[0;34m\u001b[0m\u001b[0m\n\u001b[0;32m--> 903\u001b[0;31m                 \u001b[0mget_active_space_integrals\u001b[0m\u001b[0;34m(\u001b[0m\u001b[0moccupied_indices\u001b[0m\u001b[0;34m,\u001b[0m \u001b[0mactive_indices\u001b[0m\u001b[0;34m)\u001b[0m\u001b[0;34m\u001b[0m\u001b[0;34m\u001b[0m\u001b[0m\n\u001b[0m\u001b[1;32m    904\u001b[0m             \u001b[0mconstant\u001b[0m \u001b[0;34m=\u001b[0m \u001b[0mself\u001b[0m\u001b[0;34m.\u001b[0m\u001b[0mnuclear_repulsion\u001b[0m \u001b[0;34m+\u001b[0m \u001b[0mcore_adjustment\u001b[0m\u001b[0;34m\u001b[0m\u001b[0;34m\u001b[0m\u001b[0m\n\u001b[1;32m    905\u001b[0m \u001b[0;34m\u001b[0m\u001b[0m\n",
      "\u001b[0;32m/opt/anaconda3/lib/python3.7/site-packages/openfermion/chem/molecular_data.py\u001b[0m in \u001b[0;36mget_active_space_integrals\u001b[0;34m(self, occupied_indices, active_indices)\u001b[0m\n\u001b[1;32m    871\u001b[0m \u001b[0;34m\u001b[0m\u001b[0m\n\u001b[1;32m    872\u001b[0m         \u001b[0;31m# Get integrals.\u001b[0m\u001b[0;34m\u001b[0m\u001b[0;34m\u001b[0m\u001b[0;34m\u001b[0m\u001b[0m\n\u001b[0;32m--> 873\u001b[0;31m         \u001b[0mone_body_integrals\u001b[0m\u001b[0;34m,\u001b[0m \u001b[0mtwo_body_integrals\u001b[0m \u001b[0;34m=\u001b[0m \u001b[0mself\u001b[0m\u001b[0;34m.\u001b[0m\u001b[0mget_integrals\u001b[0m\u001b[0;34m(\u001b[0m\u001b[0;34m)\u001b[0m\u001b[0;34m\u001b[0m\u001b[0;34m\u001b[0m\u001b[0m\n\u001b[0m\u001b[1;32m    874\u001b[0m         return reps.get_active_space_integrals(one_body_integrals,\n\u001b[1;32m    875\u001b[0m                                                \u001b[0mtwo_body_integrals\u001b[0m\u001b[0;34m,\u001b[0m\u001b[0;34m\u001b[0m\u001b[0;34m\u001b[0m\u001b[0m\n",
      "\u001b[0;32m/opt/anaconda3/lib/python3.7/site-packages/openfermion/chem/molecular_data.py\u001b[0m in \u001b[0;36mget_integrals\u001b[0;34m(self)\u001b[0m\n\u001b[1;32m    834\u001b[0m             raise MissingCalculationError(\n\u001b[1;32m    835\u001b[0m                 \u001b[0;34m'Missing integral calculation in {}, run before loading '\u001b[0m\u001b[0;34m\u001b[0m\u001b[0;34m\u001b[0m\u001b[0m\n\u001b[0;32m--> 836\u001b[0;31m                 'integrals.'.format(self.filename))\n\u001b[0m\u001b[1;32m    837\u001b[0m         \u001b[0;32mreturn\u001b[0m \u001b[0mself\u001b[0m\u001b[0;34m.\u001b[0m\u001b[0mone_body_integrals\u001b[0m\u001b[0;34m,\u001b[0m \u001b[0mself\u001b[0m\u001b[0;34m.\u001b[0m\u001b[0mtwo_body_integrals\u001b[0m\u001b[0;34m\u001b[0m\u001b[0;34m\u001b[0m\u001b[0m\n\u001b[1;32m    838\u001b[0m \u001b[0;34m\u001b[0m\u001b[0m\n",
      "\u001b[0;31mMissingCalculationError\u001b[0m: Missing integral calculation in /opt/anaconda3/lib/python3.7/site-packages/openfermion/testing/data/H4-C1_sto-3g_singlet_1.45, run before loading integrals."
     ]
    }
   ],
   "source": [
    "#METHANE\n",
    "methane_geometry = geometry_from_pubchem('methane')\n",
    "print(methane_geometry)\n",
    "\n",
    "# Generate and populate instance of MolecularData.\n",
    "methane_molecule = MolecularData(methane_geometry, basis, multiplicity, description=\"1.45\")\n",
    "methane_molecule.load()\n",
    "\n",
    "# Get the Hamiltonian in an active space.\n",
    "methane_molecular_hamiltonian = methane_molecule.get_molecular_hamiltonian(\n",
    "    occupied_indices=range(active_space_start),\n",
    "    active_indices=range(active_space_start, active_space_stop))\n",
    "\n",
    "# Map operator to fermions and qubits.\n",
    "methane_fermion_hamiltonian = get_fermion_operator(methane_molecular_hamiltonian)\n",
    "methane_qubit_hamiltonian = jordan_wigner(methane_fermion_hamiltonian)\n",
    "methane_hamiltonian_list = openfermion_matrix_list(methane_qubit_hamiltonian)\n",
    "print(methane_hamiltonian_list.shape)\n",
    "print(methane_hamiltonian_list)"
   ]
  },
  {
   "cell_type": "code",
   "execution_count": null,
   "metadata": {},
   "outputs": [],
   "source": [
    "#ETHANE\n",
    "ethane_geometry = geometry_from_pubchem('ethane')\n",
    "print(ethane_geometry)\n",
    "\n",
    "# Generate and populate instance of MolecularData.\n",
    "ethane_molecule = MolecularData(ethane_geometry, basis, multiplicity, description=\"1.45\")\n",
    "ethane_molecule.load()\n",
    "\n",
    "# Get the Hamiltonian in an active space.\n",
    "ethane_molecular_hamiltonian = ethane_molecule.get_molecular_hamiltonian(\n",
    "    occupied_indices=range(active_space_start),\n",
    "    active_indices=range(active_space_start, active_space_stop))\n",
    "\n",
    "# Map operator to fermions and qubits.\n",
    "ethane_fermion_hamiltonian = get_fermion_operator(ethane_molecular_hamiltonian)\n",
    "ethane_qubit_hamiltonian = jordan_wigner(ethane_fermion_hamiltonian)\n",
    "ethane_hamiltonian_list = openfermion_matrix_list(ethane_qubit_hamiltonian)\n",
    "print(ethane_hamiltonian_list.shape)\n",
    "print(ethane_hamiltonian_list)"
   ]
  },
  {
   "cell_type": "markdown",
   "metadata": {},
   "source": [
    "## Notebook using compilers.py"
   ]
  },
  {
   "cell_type": "markdown",
   "metadata": {},
   "source": [
    "The goal is to compare the functions in compilers.py in both output and runtimes. The only part of the previous sections that this section will reference is \"Hamiltonian Initialization\""
   ]
  },
  {
   "cell_type": "markdown",
   "metadata": {},
   "source": [
    "### Trotter Simulation"
   ]
  },
  {
   "cell_type": "code",
   "execution_count": 7,
   "metadata": {},
   "outputs": [
    {
     "name": "stdout",
     "output_type": "stream",
     "text": [
      "[0.+0.j 0.+1.j]\n"
     ]
    }
   ],
   "source": [
    "#Example, does not need to be run\n",
    "#use array hamiltonian_list\n",
    "sim = TrotterSim([np.array([[0,1], [1,0]])])\n",
    "print(sim.simulate(np.pi / 2, 1)) #output state should be sigma_X |0> = |1>"
   ]
  },
  {
   "cell_type": "code",
   "execution_count": 4,
   "metadata": {},
   "outputs": [],
   "source": [
    "sim1 = TrotterSim(hamiltonian_list, order =4)\n",
    "#sim1.initial_state = InitialState"
   ]
  },
  {
   "cell_type": "code",
   "execution_count": 5,
   "metadata": {},
   "outputs": [
    {
     "name": "stdout",
     "output_type": "stream",
     "text": [
      "(50,)\n",
      "160\n"
     ]
    }
   ],
   "source": [
    "iterations = 2\n",
    "tStart = 0.01\n",
    "tFinal = 0.1\n",
    "tSteps = 50\n",
    "times = np.geomspace(tStart, tFinal, tSteps)\n",
    "\n",
    "trot_compiler_inf = []\n",
    "for t in times:\n",
    "    trot_compiler_inf.append(sim1.infidelity(t, iterations))\n",
    "\n",
    "log_trot_compiler_inf = np.log10(trot_compiler_inf)\n",
    "log_times = np.log10(times)\n",
    "print(log_trot_compiler_inf.shape)\n",
    "print(sim1.gate_count)"
   ]
  },
  {
   "cell_type": "code",
   "execution_count": 6,
   "metadata": {},
   "outputs": [
    {
     "data": {
      "image/png": "[encoded data removed]",
      "text/plain": [
       "<Figure size 1080x504 with 1 Axes>"
      ]
     },
     "metadata": {
      "needs_background": "light"
     },
     "output_type": "display_data"
    }
   ],
   "source": [
    "#data = log_trot_compiler_inf[:, 0, 0]\n",
    "data = log_trot_compiler_inf\n",
    "plt.figure(figsize = (15, 7))\n",
    "plt.plot(log_times, data, 'bo-') \n",
    "plt.xlabel('log(time)', size = 12)\n",
    "plt.ylabel('log(infidelity)', size = 12)\n",
    "\n",
    "start_fit_points= 20  #declare the starting point to fit in the data\n",
    "end_fit_points = -1\n",
    "\n",
    "p = np.polyfit(log_times[start_fit_points: end_fit_points], data[start_fit_points: end_fit_points], 1)\n",
    "f = np.poly1d(p)\n",
    "\n",
    "t_new = np.linspace(log_times[start_fit_points], log_times[end_fit_points], 50)\n",
    "y_new = f(t_new)\n",
    "\n",
    "data = symbols(\"t\")\n",
    "poly = sum(S(\"{:6.2f}\".format(v))*data**i for i, v in enumerate(p[::-1]))\n",
    "eq_latex = printing.latex(poly)\n",
    "\n",
    "plt.plot(t_new, y_new, 'r--', label=\"${}$\".format(eq_latex))\n",
    "plt.legend(fontsize=\"large\")\n",
    "plt.show()"
   ]
  },
  {
   "cell_type": "markdown",
   "metadata": {},
   "source": [
    "### QDrift Simulation"
   ]
  },
  {
   "cell_type": "code",
   "execution_count": 5,
   "metadata": {},
   "outputs": [],
   "source": [
    "QDsim = QDriftSim(hamiltonian_list)\n",
    "#QDsim.simulate(1, 1000)"
   ]
  },
  {
   "cell_type": "code",
   "execution_count": 11,
   "metadata": {},
   "outputs": [
    {
     "name": "stdout",
     "output_type": "stream",
     "text": [
      "(20,)\n",
      "20\n"
     ]
    }
   ],
   "source": [
    "samples = 20\n",
    "mc_samples = 256\n",
    "\n",
    "tStart = 0.01\n",
    "tFinal = 0.5\n",
    "tSteps = 20\n",
    "times = np.geomspace(tStart, tFinal, tSteps) \n",
    "\n",
    "qd_compiler_inf = []\n",
    "for t in times:\n",
    "    qd_compiler_inf.append(QDsim.sample_channel_inf(t, samples, mc_samples))\n",
    "\n",
    "log_qd_compiler_inf = np.log10(qd_compiler_inf)\n",
    "log_times = np.log10(times)\n",
    "print(log_qd_compiler_inf.shape)\n",
    "print(QDsim.gate_count)"
   ]
  },
  {
   "cell_type": "code",
   "execution_count": 12,
   "metadata": {},
   "outputs": [
    {
     "data": {
      "image/png": "[encoded data removed]",
      "text/plain": [
       "<Figure size 1080x504 with 1 Axes>"
      ]
     },
     "metadata": {
      "needs_background": "light"
     },
     "output_type": "display_data"
    }
   ],
   "source": [
    "data1 = log_qd_compiler_inf #[:, 0, 0]\n",
    "plt.figure(figsize = (15, 7))\n",
    "plt.plot(log_times, data1, 'bo-') \n",
    "plt.xlabel('log(time)', size = 12)\n",
    "plt.ylabel('log(infidelity)', size = 12)\n",
    "\n",
    "start_fit_points=1  #declare the starting point to fit in the data\n",
    "end_fit_points = -1\n",
    "\n",
    "p = np.polyfit(log_times[start_fit_points: end_fit_points], data1[start_fit_points: end_fit_points], 1)\n",
    "f = np.poly1d(p)\n",
    "\n",
    "t_new = np.linspace(log_times[start_fit_points], log_times[end_fit_points], 50)\n",
    "y_new = f(t_new)\n",
    "\n",
    "data1 = symbols(\"t\")\n",
    "poly = sum(S(\"{:6.2f}\".format(v))*data1**i for i, v in enumerate(p[::-1]))\n",
    "eq_latex = printing.latex(poly)\n",
    "\n",
    "plt.plot(t_new, y_new, 'r--', label=\"${}$\".format(eq_latex))\n",
    "plt.legend(fontsize=\"large\")\n",
    "plt.show()"
   ]
  },
  {
   "cell_type": "markdown",
   "metadata": {},
   "source": [
    "### Composite Simulation"
   ]
  },
  {
   "cell_type": "markdown",
   "metadata": {},
   "source": [
    "##### Time Scaling"
   ]
  },
  {
   "cell_type": "code",
   "execution_count": 10,
   "metadata": {
    "scrolled": true
   },
   "outputs": [
    {
     "name": "stdout",
     "output_type": "stream",
     "text": [
      "There are 8 terms in Trotter\n",
      "There are 0 terms in QDrift\n"
     ]
    }
   ],
   "source": [
    "#Warning if nb_optimizer = True for partition attribute optimize the computation will not finish in your lifetime\n",
    "CompSim = CompositeSim(hamiltonian_list, inner_order=2, outer_order=1, partition = \"trotter\", rng_seed = 30, weight_threshold = 0.6, nb = 1, nb_optimizer = False, initial_time = 0.01)\n",
    "#CompSim.simulate(0.1, 70, 4)"
   ]
  },
  {
   "cell_type": "code",
   "execution_count": 11,
   "metadata": {},
   "outputs": [
    {
     "name": "stdout",
     "output_type": "stream",
     "text": [
      "(40, 1, 1)\n",
      "48\n"
     ]
    }
   ],
   "source": [
    "#startTime = time.time()\n",
    "\n",
    "iterations = 3\n",
    "qd_samples = 1\n",
    "mc_samples = 1\n",
    "\n",
    "tStart = 0.01\n",
    "tFinal = 2\n",
    "tSteps = 40\n",
    "times = np.geomspace(tStart, tFinal, tSteps)\n",
    "\n",
    "comp_compiler_inf = []\n",
    "for t in times:\n",
    "    comp_compiler_inf.append(CompSim.sample_channel_inf(t, qd_samples, iterations, mc_samples))\n",
    "\n",
    "log_comp_compiler_inf = np.log10(comp_compiler_inf)\n",
    "log_times = np.log10(times)\n",
    "print(log_comp_compiler_inf.shape)\n",
    "print(CompSim.gate_count)\n",
    "\n",
    "#executionTime = (time.time() - startTime)\n",
    "#print('Execution time in seconds: ' + str(executionTime))"
   ]
  },
  {
   "cell_type": "code",
   "execution_count": 12,
   "metadata": {},
   "outputs": [
    {
     "data": {
      "image/png": "[encoded data removed]",
      "text/plain": [
       "<Figure size 1080x504 with 1 Axes>"
      ]
     },
     "metadata": {
      "needs_background": "light"
     },
     "output_type": "display_data"
    }
   ],
   "source": [
    "#print(list(log_comp_compiler_inf[:, 0, 0]))\n",
    "data1 = log_comp_compiler_inf[:, 0, 0] #this dimension issue might be causing some slow down\n",
    "plt.figure(figsize = (15, 7))\n",
    "plt.plot(log_times, data1, 'bo-') \n",
    "plt.xlabel('log(time)', size = 12)\n",
    "plt.ylabel('log(infidelity)', size = 12)\n",
    "\n",
    "start_fit_points=11  #declare the starting point to fit in the data\n",
    "end_fit_points = -18\n",
    "\n",
    "p = np.polyfit(log_times[start_fit_points: end_fit_points], data1[start_fit_points: end_fit_points], 1)\n",
    "f = np.poly1d(p)\n",
    "\n",
    "t_new = np.linspace(log_times[start_fit_points], log_times[end_fit_points], 50)\n",
    "y_new = f(t_new)\n",
    "\n",
    "data1 = symbols(\"t\")\n",
    "poly = sum(S(\"{:6.2f}\".format(v))*data1**i for i, v in enumerate(p[::-1]))\n",
    "eq_latex = printing.latex(poly)\n",
    "\n",
    "#plt.ylim(-1.1, -0.8)\n",
    "#plt.locator_params('x', nbins=20)\n",
    "plt.plot(t_new, y_new, 'r--', label=\"${}$\".format(eq_latex))\n",
    "plt.legend(fontsize=\"large\")\n",
    "plt.show()"
   ]
  },
  {
   "cell_type": "markdown",
   "metadata": {},
   "source": [
    "##### Gate Infidelity Scaling"
   ]
  },
  {
   "cell_type": "markdown",
   "metadata": {},
   "source": [
    "In this section we are evaluating the gate performance to achieve an infidelity of at most `0.05`, which corresponds to a fidelity of at least `0.95`. We initially develop our benchmarks with the simple pauli hamiltonian. For Trotter we can determine the number of gates fairly easily, but for the other two channels there are a few possible points of randomization which make this harder:\n",
    "* Number of QDrift samples (NB)\n",
    "* Monte carlo sampling due to using vectors as opposed to density matrices\n",
    "* Additional sampling may be required if using a probabilistic partition.\n",
    "\n",
    "Due to this randomization we need to introduce another arbitrary metric to evaluate how confident we are that the emprical mean infidelity is above this threshold. Since we have no estimates for the true variance of our infidelity estimator, we have to rely on the sample variance which introduces yet another point of decision as we have to set a limit for how many samples must be taken. Our way around this is that we want our empirical mean to be high enough that if we were to take a gaussian `g` with the empirical mean `m` and the empirical variance `v` then we want `Pr[x > 0.95] > 0.99`, where `x ~ g`. This corresponds to our empiric mean being at least two standard deviations above 0.95 (this is incorrect with `Pr[x > 0.95] > 0.99` but this way is simpler until i compute real number of standard devs needed). This might be absurdly costly to achieve and may need to be relaxed. This still leaves the question, how many samples are needed and how do we split with QD and MC?"
   ]
  },
  {
   "cell_type": "markdown",
   "metadata": {},
   "source": [
    "The below section is aimed at understanding how many gates are needed for Trotter, QDrift, and Composite to hit our infidelity targets with the pauli hamiltonian and `t=1`. We also only compare low order trotter and use first order trotter for our composite channel. "
   ]
  },
  {
   "cell_type": "code",
   "execution_count": 4,
   "metadata": {
    "scrolled": true
   },
   "outputs": [
    {
     "name": "stdout",
     "output_type": "stream",
     "text": [
      "There are 2 terms in Trotter\n",
      "There are 6 terms in QDrift\n",
      "There are 6 terms in Trotter\n",
      "There are 2 terms in QDrift\n"
     ]
    }
   ],
   "source": [
    "t = 1.\n",
    "first_order_trott = TrotterSim(pauli_hamiltonian, order=1)\n",
    "second_order_trott = TrotterSim(pauli_hamiltonian, order=2)\n",
    "qdrift_sim = QDriftSim(pauli_hamiltonian)\n",
    "comp_high_thresh = CompositeSim(pauli_hamiltonian, partition=\"chop\", weight_threshold=2.5)\n",
    "comp_low_thresh = CompositeSim(pauli_hamiltonian, partition=\"chop\", weight_threshold=0.6)\n"
   ]
  },
  {
   "cell_type": "code",
   "execution_count": 5,
   "metadata": {},
   "outputs": [
    {
     "name": "stdout",
     "output_type": "stream",
     "text": [
      "256\n"
     ]
    },
    {
     "data": {
      "text/plain": [
       "(0.0009867360368346345, 512)"
      ]
     },
     "execution_count": 5,
     "metadata": {},
     "output_type": "execute_result"
    }
   ],
   "source": [
    "t = 0.5 \n",
    "samples = 1\n",
    "iterations = 4\n",
    "sample_guess = 4\n",
    "mcsamples = 256\n",
    "#mcsamples = CompSim1.sample_decider(t, samples, iterations, sample_guess) #needs to be evaluated in a region known to be convergent\n",
    "print(mcsamples)"
   ]
  },
  {
   "cell_type": "code",
   "execution_count": 6,
   "metadata": {},
   "outputs": [
    {
     "name": "stdout",
     "output_type": "stream",
     "text": [
      "the upper bound is 64\n",
      "(array([[-6.56468492e-05]]), array([[0.00024424]]), 64, 4)\n",
      "(array([[0.00125718]]), array([[-0.0006397]]), 30, 4)\n",
      "(array([[0.00338332]]), array([[-0.00156756]]), 30, 15)\n",
      "(array([[0.00189669]]), array([[-0.00102798]]), 30, 9)\n",
      "(array([[0.00222336]]), array([[-0.00131197]]), 30, 12)\n",
      "(array([[0.00223192]]), array([[-0.00121235]]), 30, 11)\n",
      "(array([[0.00226196]]), array([[-0.00108847]]), 30, 11)\n",
      "(array([[0.00242197]]), array([[-0.00120698]]), 30, 11)\n",
      "(array([[0.00229803]]), array([[-0.00114799]]), 30, 11)\n",
      "(array([[0.00227326]]), array([[-0.00116635]]), 30, 11)\n",
      "(array([[0.00223446]]), array([[-0.00113632]]), 30, 11)\n",
      "(array([[0.00237435]]), array([[-0.00120529]]), 30, 11)\n",
      "(array([[0.00240921]]), array([[-0.00119616]]), 30, 11)\n",
      "(array([[0.00229266]]), array([[-0.0011404]]), 30, 11)\n",
      "(array([[0.00248046]]), array([[-0.00123945]]), 30, 11)\n",
      "(array([[0.00241217]]), array([[-0.00113726]]), 30, 11)\n",
      "(array([[0.0024409]]), array([[-0.00122659]]), 30, 11)\n",
      "(array([[0.00227344]]), array([[-0.00118683]]), 30, 11)\n",
      "(array([[0.00230963]]), array([[-0.0011665]]), 30, 11)\n",
      "(array([[0.0023709]]), array([[-0.00110777]]), 30, 11)\n",
      "(array([[0.00224574]]), array([[-0.00117625]]), 30, 11)\n",
      "(array([[0.00222136]]), array([[-0.00110175]]), 30, 11)\n",
      "(array([[0.00230873]]), array([[-0.00118465]]), 30, 11)\n",
      "(array([[0.00242135]]), array([[-0.00134646]]), 30, 11)\n",
      "(array([[0.00214192]]), array([[-0.00122026]]), 30, 11)\n",
      "(array([[0.00216716]]), array([[-0.00123485]]), 30, 11)\n",
      "(array([[0.0023946]]), array([[-0.00124956]]), 30, 11)\n",
      "(array([[0.00231948]]), array([[-0.00113675]]), 30, 11)\n",
      "(array([[0.00229918]]), array([[-0.00120997]]), 30, 11)\n"
     ]
    },
    {
     "ename": "KeyboardInterrupt",
     "evalue": "",
     "output_type": "error",
     "traceback": [
      "\u001b[0;31m---------------------------------------------------------------------------\u001b[0m",
      "\u001b[0;31mKeyboardInterrupt\u001b[0m                         Traceback (most recent call last)",
      "\u001b[0;32m/var/folders/1k/18s4nj3942q9d2gph57lw0ph0000gn/T/ipykernel_8473/2161555853.py\u001b[0m in \u001b[0;36m<module>\u001b[0;34m\u001b[0m\n\u001b[0;32m----> 1\u001b[0;31m \u001b[0mdata2\u001b[0m \u001b[0;34m=\u001b[0m \u001b[0mCompSim1\u001b[0m\u001b[0;34m.\u001b[0m\u001b[0msim_channel_performance\u001b[0m\u001b[0;34m(\u001b[0m\u001b[0mt\u001b[0m\u001b[0;34m,\u001b[0m \u001b[0msamples\u001b[0m\u001b[0;34m,\u001b[0m \u001b[0miterations\u001b[0m\u001b[0;34m,\u001b[0m \u001b[0mmcsamples\u001b[0m\u001b[0;34m)\u001b[0m\u001b[0;34m\u001b[0m\u001b[0;34m\u001b[0m\u001b[0m\n\u001b[0m\u001b[1;32m      2\u001b[0m \u001b[0mprint\u001b[0m\u001b[0;34m(\u001b[0m\u001b[0;34m'We require '\u001b[0m \u001b[0;34m+\u001b[0m \u001b[0mstr\u001b[0m\u001b[0;34m(\u001b[0m\u001b[0mdata2\u001b[0m\u001b[0;34m)\u001b[0m  \u001b[0;34m+\u001b[0m\u001b[0;34m' gates to meet an epsilon of '\u001b[0m \u001b[0;34m+\u001b[0m \u001b[0mstr\u001b[0m\u001b[0;34m(\u001b[0m\u001b[0mCompSim1\u001b[0m\u001b[0;34m.\u001b[0m\u001b[0mepsilon\u001b[0m\u001b[0;34m)\u001b[0m\u001b[0;34m)\u001b[0m\u001b[0;34m\u001b[0m\u001b[0;34m\u001b[0m\u001b[0m\n",
      "\u001b[0;32m~/Desktop/A1 Grad School Assignments/Master's Research/Simulation Code/Trotter-Qdrift-Simulation/compilers.py\u001b[0m in \u001b[0;36msim_channel_performance\u001b[0;34m(self, time, samples, iterations, mcsamples)\u001b[0m\n\u001b[1;32m    628\u001b[0m                 \u001b[0minf_minus\u001b[0m \u001b[0;34m=\u001b[0m \u001b[0;34m[\u001b[0m\u001b[0;34m]\u001b[0m\u001b[0;34m\u001b[0m\u001b[0;34m\u001b[0m\u001b[0m\n\u001b[1;32m    629\u001b[0m                 \u001b[0;32mfor\u001b[0m \u001b[0mn\u001b[0m \u001b[0;32min\u001b[0m \u001b[0mrange\u001b[0m\u001b[0;34m(\u001b[0m\u001b[0;36m5\u001b[0m\u001b[0;34m)\u001b[0m\u001b[0;34m:\u001b[0m\u001b[0;34m\u001b[0m\u001b[0;34m\u001b[0m\u001b[0m\n\u001b[0;32m--> 630\u001b[0;31m                     \u001b[0minf_plus\u001b[0m\u001b[0;34m.\u001b[0m\u001b[0mappend\u001b[0m\u001b[0;34m(\u001b[0m\u001b[0mself\u001b[0m\u001b[0;34m.\u001b[0m\u001b[0msample_channel_inf\u001b[0m\u001b[0;34m(\u001b[0m\u001b[0mtime\u001b[0m\u001b[0;34m,\u001b[0m \u001b[0msamples\u001b[0m\u001b[0;34m,\u001b[0m \u001b[0mmid\u001b[0m \u001b[0;34m+\u001b[0m \u001b[0;36m2\u001b[0m\u001b[0;34m,\u001b[0m \u001b[0mmcsamples\u001b[0m\u001b[0;34m)\u001b[0m\u001b[0;34m)\u001b[0m\u001b[0;34m\u001b[0m\u001b[0;34m\u001b[0m\u001b[0m\n\u001b[0m\u001b[1;32m    631\u001b[0m                     \u001b[0minf_minus\u001b[0m\u001b[0;34m.\u001b[0m\u001b[0mappend\u001b[0m\u001b[0;34m(\u001b[0m\u001b[0mself\u001b[0m\u001b[0;34m.\u001b[0m\u001b[0msample_channel_inf\u001b[0m\u001b[0;34m(\u001b[0m\u001b[0mtime\u001b[0m\u001b[0;34m,\u001b[0m \u001b[0msamples\u001b[0m\u001b[0;34m,\u001b[0m \u001b[0mmid\u001b[0m \u001b[0;34m-\u001b[0m \u001b[0;36m2\u001b[0m\u001b[0;34m,\u001b[0m \u001b[0mmcsamples\u001b[0m\u001b[0;34m)\u001b[0m\u001b[0;34m)\u001b[0m\u001b[0;34m\u001b[0m\u001b[0;34m\u001b[0m\u001b[0m\n\u001b[1;32m    632\u001b[0m                 \u001b[0mmed_inf_plus\u001b[0m \u001b[0;34m=\u001b[0m \u001b[0mstatistics\u001b[0m\u001b[0;34m.\u001b[0m\u001b[0mmedian\u001b[0m\u001b[0;34m(\u001b[0m\u001b[0minf_plus\u001b[0m\u001b[0;34m)\u001b[0m\u001b[0;34m\u001b[0m\u001b[0;34m\u001b[0m\u001b[0m\n",
      "\u001b[0;32m~/Desktop/A1 Grad School Assignments/Master's Research/Simulation Code/Trotter-Qdrift-Simulation/compilers.py\u001b[0m in \u001b[0;36msample_channel_inf\u001b[0;34m(self, time, samples, iterations, mcsamples)\u001b[0m\n\u001b[1;32m    543\u001b[0m         \u001b[0msample_fidelity\u001b[0m \u001b[0;34m=\u001b[0m \u001b[0;36m0\u001b[0m\u001b[0;34m\u001b[0m\u001b[0;34m\u001b[0m\u001b[0m\n\u001b[1;32m    544\u001b[0m         \u001b[0;32mfor\u001b[0m \u001b[0ms\u001b[0m \u001b[0;32min\u001b[0m \u001b[0mrange\u001b[0m\u001b[0;34m(\u001b[0m\u001b[0mmcsamples\u001b[0m\u001b[0;34m)\u001b[0m\u001b[0;34m:\u001b[0m\u001b[0;34m\u001b[0m\u001b[0;34m\u001b[0m\u001b[0m\n\u001b[0;32m--> 545\u001b[0;31m             \u001b[0msim_state\u001b[0m \u001b[0;34m=\u001b[0m \u001b[0mself\u001b[0m\u001b[0;34m.\u001b[0m\u001b[0msimulate\u001b[0m\u001b[0;34m(\u001b[0m\u001b[0mtime\u001b[0m\u001b[0;34m,\u001b[0m \u001b[0msamples\u001b[0m\u001b[0;34m,\u001b[0m \u001b[0miterations\u001b[0m\u001b[0;34m)\u001b[0m\u001b[0;34m\u001b[0m\u001b[0;34m\u001b[0m\u001b[0m\n\u001b[0m\u001b[1;32m    546\u001b[0m             \u001b[0mgood_state\u001b[0m \u001b[0;34m=\u001b[0m \u001b[0mnp\u001b[0m\u001b[0;34m.\u001b[0m\u001b[0mdot\u001b[0m\u001b[0;34m(\u001b[0m\u001b[0mlinalg\u001b[0m\u001b[0;34m.\u001b[0m\u001b[0mexpm\u001b[0m\u001b[0;34m(\u001b[0m\u001b[0;36m1j\u001b[0m \u001b[0;34m*\u001b[0m \u001b[0msum\u001b[0m\u001b[0;34m(\u001b[0m\u001b[0mself\u001b[0m\u001b[0;34m.\u001b[0m\u001b[0munparsed_hamiltonian\u001b[0m\u001b[0;34m)\u001b[0m \u001b[0;34m*\u001b[0m \u001b[0mtime\u001b[0m\u001b[0;34m)\u001b[0m\u001b[0;34m,\u001b[0m \u001b[0mself\u001b[0m\u001b[0;34m.\u001b[0m\u001b[0minitial_state\u001b[0m\u001b[0;34m)\u001b[0m\u001b[0;34m\u001b[0m\u001b[0;34m\u001b[0m\u001b[0m\n\u001b[1;32m    547\u001b[0m             \u001b[0msample_fidelity\u001b[0m \u001b[0;34m+=\u001b[0m \u001b[0;34m(\u001b[0m\u001b[0mnp\u001b[0m\u001b[0;34m.\u001b[0m\u001b[0mabs\u001b[0m\u001b[0;34m(\u001b[0m\u001b[0mnp\u001b[0m\u001b[0;34m.\u001b[0m\u001b[0mdot\u001b[0m\u001b[0;34m(\u001b[0m\u001b[0mgood_state\u001b[0m\u001b[0;34m.\u001b[0m\u001b[0mconj\u001b[0m\u001b[0;34m(\u001b[0m\u001b[0;34m)\u001b[0m\u001b[0;34m.\u001b[0m\u001b[0mT\u001b[0m\u001b[0;34m,\u001b[0m \u001b[0msim_state\u001b[0m\u001b[0;34m)\u001b[0m\u001b[0;34m)\u001b[0m\u001b[0;34m)\u001b[0m\u001b[0;34m**\u001b[0m\u001b[0;36m2\u001b[0m\u001b[0;34m\u001b[0m\u001b[0;34m\u001b[0m\u001b[0m\n",
      "\u001b[0;32m~/Desktop/A1 Grad School Assignments/Master's Research/Simulation Code/Trotter-Qdrift-Simulation/compilers.py\u001b[0m in \u001b[0;36msimulate\u001b[0;34m(self, time, samples, iterations)\u001b[0m\n\u001b[1;32m    531\u001b[0m                 \u001b[0;32mif\u001b[0m \u001b[0mix\u001b[0m \u001b[0;34m==\u001b[0m \u001b[0;36m0\u001b[0m\u001b[0;34m:\u001b[0m\u001b[0;34m\u001b[0m\u001b[0;34m\u001b[0m\u001b[0m\n\u001b[1;32m    532\u001b[0m                     \u001b[0mself\u001b[0m\u001b[0;34m.\u001b[0m\u001b[0mtrotter_sim\u001b[0m\u001b[0;34m.\u001b[0m\u001b[0mset_initial_state\u001b[0m\u001b[0;34m(\u001b[0m\u001b[0mcurrent_state\u001b[0m\u001b[0;34m)\u001b[0m\u001b[0;34m\u001b[0m\u001b[0;34m\u001b[0m\u001b[0m\n\u001b[0;32m--> 533\u001b[0;31m                     \u001b[0mcurrent_state\u001b[0m \u001b[0;34m=\u001b[0m \u001b[0mself\u001b[0m\u001b[0;34m.\u001b[0m\u001b[0mtrotter_sim\u001b[0m\u001b[0;34m.\u001b[0m\u001b[0msimulate\u001b[0m\u001b[0;34m(\u001b[0m\u001b[0msim_time\u001b[0m\u001b[0;34m,\u001b[0m \u001b[0;36m1\u001b[0m\u001b[0;34m)\u001b[0m\u001b[0;34m\u001b[0m\u001b[0;34m\u001b[0m\u001b[0m\n\u001b[0m\u001b[1;32m    534\u001b[0m                     \u001b[0mself\u001b[0m\u001b[0;34m.\u001b[0m\u001b[0mgate_count\u001b[0m \u001b[0;34m+=\u001b[0m \u001b[0mself\u001b[0m\u001b[0;34m.\u001b[0m\u001b[0mtrotter_sim\u001b[0m\u001b[0;34m.\u001b[0m\u001b[0mgate_count\u001b[0m\u001b[0;34m\u001b[0m\u001b[0;34m\u001b[0m\u001b[0m\n\u001b[1;32m    535\u001b[0m                 \u001b[0;32mif\u001b[0m \u001b[0mix\u001b[0m \u001b[0;34m==\u001b[0m \u001b[0;36m1\u001b[0m\u001b[0;34m:\u001b[0m\u001b[0;34m\u001b[0m\u001b[0;34m\u001b[0m\u001b[0m\n",
      "\u001b[0;32m~/Desktop/A1 Grad School Assignments/Master's Research/Simulation Code/Trotter-Qdrift-Simulation/compilers.py\u001b[0m in \u001b[0;36msimulate\u001b[0;34m(self, time, iterations)\u001b[0m\n\u001b[1;32m    119\u001b[0m         \u001b[0mpsi\u001b[0m \u001b[0;34m=\u001b[0m \u001b[0mself\u001b[0m\u001b[0;34m.\u001b[0m\u001b[0minitial_state\u001b[0m\u001b[0;34m\u001b[0m\u001b[0;34m\u001b[0m\u001b[0m\n\u001b[1;32m    120\u001b[0m         \u001b[0;32mfor\u001b[0m \u001b[0;34m(\u001b[0m\u001b[0mix\u001b[0m\u001b[0;34m,\u001b[0m \u001b[0mtimestep\u001b[0m\u001b[0;34m)\u001b[0m \u001b[0;32min\u001b[0m \u001b[0msteps\u001b[0m \u001b[0;34m*\u001b[0m \u001b[0miterations\u001b[0m\u001b[0;34m:\u001b[0m\u001b[0;34m\u001b[0m\u001b[0;34m\u001b[0m\u001b[0m\n\u001b[0;32m--> 121\u001b[0;31m             \u001b[0mpsi\u001b[0m \u001b[0;34m=\u001b[0m \u001b[0mlinalg\u001b[0m\u001b[0;34m.\u001b[0m\u001b[0mexpm\u001b[0m\u001b[0;34m(\u001b[0m\u001b[0;36m1j\u001b[0m \u001b[0;34m*\u001b[0m \u001b[0mself\u001b[0m\u001b[0;34m.\u001b[0m\u001b[0mhamiltonian_list\u001b[0m\u001b[0;34m[\u001b[0m\u001b[0mix\u001b[0m\u001b[0;34m]\u001b[0m \u001b[0;34m*\u001b[0m \u001b[0mself\u001b[0m\u001b[0;34m.\u001b[0m\u001b[0mspectral_norms\u001b[0m\u001b[0;34m[\u001b[0m\u001b[0mix\u001b[0m\u001b[0;34m]\u001b[0m \u001b[0;34m*\u001b[0m \u001b[0mtimestep\u001b[0m\u001b[0;34m)\u001b[0m \u001b[0;34m@\u001b[0m \u001b[0mpsi\u001b[0m\u001b[0;34m\u001b[0m\u001b[0;34m\u001b[0m\u001b[0m\n\u001b[0m\u001b[1;32m    122\u001b[0m             \u001b[0mself\u001b[0m\u001b[0;34m.\u001b[0m\u001b[0mgate_count\u001b[0m \u001b[0;34m+=\u001b[0m \u001b[0;36m1\u001b[0m\u001b[0;34m\u001b[0m\u001b[0;34m\u001b[0m\u001b[0m\n\u001b[1;32m    123\u001b[0m         \u001b[0;32mreturn\u001b[0m \u001b[0mpsi\u001b[0m\u001b[0;34m\u001b[0m\u001b[0;34m\u001b[0m\u001b[0m\n",
      "\u001b[0;32m/opt/anaconda3/lib/python3.7/site-packages/scipy/linalg/matfuncs.py\u001b[0m in \u001b[0;36mexpm\u001b[0;34m(A)\u001b[0m\n\u001b[1;32m    253\u001b[0m     \u001b[0;31m# Input checking and conversion is provided by sparse.linalg.expm().\u001b[0m\u001b[0;34m\u001b[0m\u001b[0;34m\u001b[0m\u001b[0;34m\u001b[0m\u001b[0m\n\u001b[1;32m    254\u001b[0m     \u001b[0;32mimport\u001b[0m \u001b[0mscipy\u001b[0m\u001b[0;34m.\u001b[0m\u001b[0msparse\u001b[0m\u001b[0;34m.\u001b[0m\u001b[0mlinalg\u001b[0m\u001b[0;34m\u001b[0m\u001b[0;34m\u001b[0m\u001b[0m\n\u001b[0;32m--> 255\u001b[0;31m     \u001b[0;32mreturn\u001b[0m \u001b[0mscipy\u001b[0m\u001b[0;34m.\u001b[0m\u001b[0msparse\u001b[0m\u001b[0;34m.\u001b[0m\u001b[0mlinalg\u001b[0m\u001b[0;34m.\u001b[0m\u001b[0mexpm\u001b[0m\u001b[0;34m(\u001b[0m\u001b[0mA\u001b[0m\u001b[0;34m)\u001b[0m\u001b[0;34m\u001b[0m\u001b[0;34m\u001b[0m\u001b[0m\n\u001b[0m\u001b[1;32m    256\u001b[0m \u001b[0;34m\u001b[0m\u001b[0m\n\u001b[1;32m    257\u001b[0m \u001b[0;34m\u001b[0m\u001b[0m\n",
      "\u001b[0;32m/opt/anaconda3/lib/python3.7/site-packages/scipy/sparse/linalg/matfuncs.py\u001b[0m in \u001b[0;36mexpm\u001b[0;34m(A)\u001b[0m\n\u001b[1;32m    589\u001b[0m             [  0.        ,   0.        ,  20.08553692]])\n\u001b[1;32m    590\u001b[0m     \"\"\"\n\u001b[0;32m--> 591\u001b[0;31m     \u001b[0;32mreturn\u001b[0m \u001b[0m_expm\u001b[0m\u001b[0;34m(\u001b[0m\u001b[0mA\u001b[0m\u001b[0;34m,\u001b[0m \u001b[0muse_exact_onenorm\u001b[0m\u001b[0;34m=\u001b[0m\u001b[0;34m'auto'\u001b[0m\u001b[0;34m)\u001b[0m\u001b[0;34m\u001b[0m\u001b[0;34m\u001b[0m\u001b[0m\n\u001b[0m\u001b[1;32m    592\u001b[0m \u001b[0;34m\u001b[0m\u001b[0m\n\u001b[1;32m    593\u001b[0m \u001b[0;34m\u001b[0m\u001b[0m\n",
      "\u001b[0;32m/opt/anaconda3/lib/python3.7/site-packages/scipy/sparse/linalg/matfuncs.py\u001b[0m in \u001b[0;36m_expm\u001b[0;34m(A, use_exact_onenorm)\u001b[0m\n\u001b[1;32m    627\u001b[0m \u001b[0;34m\u001b[0m\u001b[0m\n\u001b[1;32m    628\u001b[0m     \u001b[0;31m# Detect upper triangularity.\u001b[0m\u001b[0;34m\u001b[0m\u001b[0;34m\u001b[0m\u001b[0;34m\u001b[0m\u001b[0m\n\u001b[0;32m--> 629\u001b[0;31m     \u001b[0mstructure\u001b[0m \u001b[0;34m=\u001b[0m \u001b[0mUPPER_TRIANGULAR\u001b[0m \u001b[0;32mif\u001b[0m \u001b[0m_is_upper_triangular\u001b[0m\u001b[0;34m(\u001b[0m\u001b[0mA\u001b[0m\u001b[0;34m)\u001b[0m \u001b[0;32melse\u001b[0m \u001b[0;32mNone\u001b[0m\u001b[0;34m\u001b[0m\u001b[0;34m\u001b[0m\u001b[0m\n\u001b[0m\u001b[1;32m    630\u001b[0m \u001b[0;34m\u001b[0m\u001b[0m\n\u001b[1;32m    631\u001b[0m     \u001b[0;32mif\u001b[0m \u001b[0muse_exact_onenorm\u001b[0m \u001b[0;34m==\u001b[0m \u001b[0;34m\"auto\"\u001b[0m\u001b[0;34m:\u001b[0m\u001b[0;34m\u001b[0m\u001b[0;34m\u001b[0m\u001b[0m\n",
      "\u001b[0;32m/opt/anaconda3/lib/python3.7/site-packages/scipy/sparse/linalg/matfuncs.py\u001b[0m in \u001b[0;36m_is_upper_triangular\u001b[0;34m(A)\u001b[0m\n\u001b[1;32m    124\u001b[0m         \u001b[0;32mreturn\u001b[0m \u001b[0mlower_part\u001b[0m\u001b[0;34m.\u001b[0m\u001b[0mnnz\u001b[0m \u001b[0;34m==\u001b[0m \u001b[0;36m0\u001b[0m\u001b[0;34m\u001b[0m\u001b[0;34m\u001b[0m\u001b[0m\n\u001b[1;32m    125\u001b[0m     \u001b[0;32melse\u001b[0m\u001b[0;34m:\u001b[0m\u001b[0;34m\u001b[0m\u001b[0;34m\u001b[0m\u001b[0m\n\u001b[0;32m--> 126\u001b[0;31m         \u001b[0;32mreturn\u001b[0m \u001b[0;32mnot\u001b[0m \u001b[0mnp\u001b[0m\u001b[0;34m.\u001b[0m\u001b[0mtril\u001b[0m\u001b[0;34m(\u001b[0m\u001b[0mA\u001b[0m\u001b[0;34m,\u001b[0m \u001b[0;34m-\u001b[0m\u001b[0;36m1\u001b[0m\u001b[0;34m)\u001b[0m\u001b[0;34m.\u001b[0m\u001b[0many\u001b[0m\u001b[0;34m(\u001b[0m\u001b[0;34m)\u001b[0m\u001b[0;34m\u001b[0m\u001b[0;34m\u001b[0m\u001b[0m\n\u001b[0m\u001b[1;32m    127\u001b[0m \u001b[0;34m\u001b[0m\u001b[0m\n\u001b[1;32m    128\u001b[0m \u001b[0;34m\u001b[0m\u001b[0m\n",
      "\u001b[0;32m<__array_function__ internals>\u001b[0m in \u001b[0;36mtril\u001b[0;34m(*args, **kwargs)\u001b[0m\n",
      "\u001b[0;32m/opt/anaconda3/lib/python3.7/site-packages/numpy/lib/twodim_base.py\u001b[0m in \u001b[0;36mtril\u001b[0;34m(m, k)\u001b[0m\n\u001b[1;32m    470\u001b[0m     \u001b[0mmask\u001b[0m \u001b[0;34m=\u001b[0m \u001b[0mtri\u001b[0m\u001b[0;34m(\u001b[0m\u001b[0;34m*\u001b[0m\u001b[0mm\u001b[0m\u001b[0;34m.\u001b[0m\u001b[0mshape\u001b[0m\u001b[0;34m[\u001b[0m\u001b[0;34m-\u001b[0m\u001b[0;36m2\u001b[0m\u001b[0;34m:\u001b[0m\u001b[0;34m]\u001b[0m\u001b[0;34m,\u001b[0m \u001b[0mk\u001b[0m\u001b[0;34m=\u001b[0m\u001b[0mk\u001b[0m\u001b[0;34m,\u001b[0m \u001b[0mdtype\u001b[0m\u001b[0;34m=\u001b[0m\u001b[0mbool\u001b[0m\u001b[0;34m)\u001b[0m\u001b[0;34m\u001b[0m\u001b[0;34m\u001b[0m\u001b[0m\n\u001b[1;32m    471\u001b[0m \u001b[0;34m\u001b[0m\u001b[0m\n\u001b[0;32m--> 472\u001b[0;31m     \u001b[0;32mreturn\u001b[0m \u001b[0mwhere\u001b[0m\u001b[0;34m(\u001b[0m\u001b[0mmask\u001b[0m\u001b[0;34m,\u001b[0m \u001b[0mm\u001b[0m\u001b[0;34m,\u001b[0m \u001b[0mzeros\u001b[0m\u001b[0;34m(\u001b[0m\u001b[0;36m1\u001b[0m\u001b[0;34m,\u001b[0m \u001b[0mm\u001b[0m\u001b[0;34m.\u001b[0m\u001b[0mdtype\u001b[0m\u001b[0;34m)\u001b[0m\u001b[0;34m)\u001b[0m\u001b[0;34m\u001b[0m\u001b[0;34m\u001b[0m\u001b[0m\n\u001b[0m\u001b[1;32m    473\u001b[0m \u001b[0;34m\u001b[0m\u001b[0m\n\u001b[1;32m    474\u001b[0m \u001b[0;34m\u001b[0m\u001b[0m\n",
      "\u001b[0;32m<__array_function__ internals>\u001b[0m in \u001b[0;36mwhere\u001b[0;34m(*args, **kwargs)\u001b[0m\n",
      "\u001b[0;31mKeyboardInterrupt\u001b[0m: "
     ]
    }
   ],
   "source": [
    "data2 = CompSim1.sim_channel_performance(t, samples, iterations, mcsamples)\n",
    "print('We require ' + str(data2)  +' gates to meet an epsilon of ' + str(CompSim1.epsilon))"
   ]
  },
  {
   "cell_type": "code",
   "execution_count": null,
   "metadata": {},
   "outputs": [
    {
     "ename": "NameError",
     "evalue": "name 'CompSim1' is not defined",
     "output_type": "error",
     "traceback": [
      "\u001b[0;31m---------------------------------------------------------------------------\u001b[0m",
      "\u001b[0;31mNameError\u001b[0m                                 Traceback (most recent call last)",
      "\u001b[0;32m/var/folders/1k/18s4nj3942q9d2gph57lw0ph0000gn/T/ipykernel_99188/776120864.py\u001b[0m in \u001b[0;36m<module>\u001b[0;34m\u001b[0m\n\u001b[1;32m      1\u001b[0m \u001b[0mplt\u001b[0m\u001b[0;34m.\u001b[0m\u001b[0mfigure\u001b[0m\u001b[0;34m(\u001b[0m\u001b[0mfigsize\u001b[0m \u001b[0;34m=\u001b[0m \u001b[0;34m(\u001b[0m\u001b[0;36m15\u001b[0m\u001b[0;34m,\u001b[0m \u001b[0;36m7\u001b[0m\u001b[0;34m)\u001b[0m\u001b[0;34m)\u001b[0m\u001b[0;34m\u001b[0m\u001b[0;34m\u001b[0m\u001b[0m\n\u001b[0;32m----> 2\u001b[0;31m \u001b[0mplt\u001b[0m\u001b[0;34m.\u001b[0m\u001b[0mplot\u001b[0m\u001b[0;34m(\u001b[0m\u001b[0mCompSim1\u001b[0m\u001b[0;34m.\u001b[0m\u001b[0mgate_data\u001b[0m\u001b[0;34m[\u001b[0m\u001b[0;34m:\u001b[0m\u001b[0;34m,\u001b[0m\u001b[0;36m0\u001b[0m\u001b[0;34m]\u001b[0m\u001b[0;34m,\u001b[0m \u001b[0mCompSim1\u001b[0m\u001b[0;34m.\u001b[0m\u001b[0mgate_data\u001b[0m\u001b[0;34m[\u001b[0m\u001b[0;34m:\u001b[0m\u001b[0;34m,\u001b[0m\u001b[0;36m1\u001b[0m\u001b[0;34m]\u001b[0m\u001b[0;34m,\u001b[0m \u001b[0;34m'go-'\u001b[0m\u001b[0;34m)\u001b[0m\u001b[0;34m\u001b[0m\u001b[0;34m\u001b[0m\u001b[0m\n\u001b[0m\u001b[1;32m      3\u001b[0m \u001b[0mplt\u001b[0m\u001b[0;34m.\u001b[0m\u001b[0mxlabel\u001b[0m\u001b[0;34m(\u001b[0m\u001b[0;34m'gate count'\u001b[0m\u001b[0;34m,\u001b[0m \u001b[0msize\u001b[0m \u001b[0;34m=\u001b[0m \u001b[0;36m12\u001b[0m\u001b[0;34m)\u001b[0m\u001b[0;34m\u001b[0m\u001b[0;34m\u001b[0m\u001b[0m\n\u001b[1;32m      4\u001b[0m \u001b[0mplt\u001b[0m\u001b[0;34m.\u001b[0m\u001b[0mylabel\u001b[0m\u001b[0;34m(\u001b[0m\u001b[0;34m'infidelity'\u001b[0m\u001b[0;34m,\u001b[0m \u001b[0msize\u001b[0m \u001b[0;34m=\u001b[0m \u001b[0;36m12\u001b[0m\u001b[0;34m)\u001b[0m\u001b[0;34m\u001b[0m\u001b[0;34m\u001b[0m\u001b[0m\n\u001b[1;32m      5\u001b[0m \u001b[0;34m\u001b[0m\u001b[0m\n",
      "\u001b[0;31mNameError\u001b[0m: name 'CompSim1' is not defined"
     ]
    },
    {
     "data": {
      "text/plain": [
       "<Figure size 1080x504 with 0 Axes>"
      ]
     },
     "metadata": {},
     "output_type": "display_data"
    }
   ],
   "source": [
    "plt.figure(figsize = (15, 7))\n",
    "plt.plot(CompSim1.gate_data[:,0], CompSim1.gate_data[:,1], 'go-') \n",
    "plt.xlabel('gate count', size = 12)\n",
    "plt.ylabel('infidelity', size = 12)\n",
    "\n",
    "start_fit_points=0  #declare the starting point to fit in the data\n",
    "end_fit_points = -2\n",
    "order = 1\n",
    "\n",
    "p = np.polyfit(CompSim1.gate_data[:,0][start_fit_points: end_fit_points], CompSim1.gate_data[:,1][start_fit_points: end_fit_points], order)\n",
    "f = np.poly1d(p)\n",
    "\n",
    "t_new = np.linspace(CompSim1.gate_data[:,0][start_fit_points], CompSim1.gate_data[:,0][end_fit_points], 50)\n",
    "y_new = f(t_new)\n",
    "\n",
    "data1 = symbols(\"t\")\n",
    "poly = sum(S(\"{:6.2f}\".format(v))*data1**i for i, v in enumerate(p[::-1]))\n",
    "eq_latex = printing.latex(poly)\n",
    "\n",
    "#plt.ylim(-1.1, -0.8)\n",
    "#plt.locator_params('x', nbins=20)\n",
    "plt.plot(t_new, y_new, 'b--', label=\"${}$\".format(eq_latex))\n",
    "plt.legend(fontsize=\"large\")\n",
    "plt.show()"
   ]
  },
  {
   "cell_type": "code",
   "execution_count": 30,
   "metadata": {},
   "outputs": [
    {
     "name": "stdout",
     "output_type": "stream",
     "text": [
      "There are 8 terms in Trotter\n",
      "There are 0 terms in QDrift\n"
     ]
    },
    {
     "data": {
      "text/plain": [
       "array([[0.21203541]])"
      ]
     },
     "execution_count": 30,
     "metadata": {},
     "output_type": "execute_result"
    }
   ],
   "source": [
    "#Testing for single times, potentially test convergence of mc_samples below\n",
    "CompSim1 = CompositeSim(hamiltonian_list, inner_order = 2, partition = \"trotter\", rng_seed = 9, nb_optimizer = False, weight_threshold = 2, epsilon = 0.001)\n",
    "CompSim1.sample_channel_inf(t, samples, iterations, mcsamples)"
   ]
  },
  {
   "cell_type": "markdown",
   "metadata": {},
   "source": [
    "#### Channel Gate Performance"
   ]
  },
  {
   "cell_type": "markdown",
   "metadata": {},
   "source": [
    "## WARNING: RUN AT YOUR OWN RISK: 223 MIN RUNTIME"
   ]
  },
  {
   "cell_type": "code",
   "execution_count": 13,
   "metadata": {},
   "outputs": [
    {
     "name": "stdout",
     "output_type": "stream",
     "text": [
      "There are 4 terms in Trotter\n",
      "There are 12 terms in QDrift\n",
      "[find_optimal_iterations] beginning search with lower, upper: 1 1\n",
      "[find_optimal_iterations] iters: 1 , inf_mean:  4.981671053450043e-08  +- ( 0.0 )\n",
      "[find_optimal_iterations] Average cost: 16.0\n",
      "[find_optimal_iterations] beginning search with lower, upper: 1 1\n",
      "[find_optimal_iterations] iters: 1 , inf_mean:  0.028213563545527908  +- ( 0.007971359885475959 )\n",
      "[find_optimal_iterations] Average cost: 1.0\n",
      "[find_optimal_iterations] beginning search with lower, upper: 1 1\n",
      "[find_optimal_iterations] iters: 1 , inf_mean:  1.2972052589654836e-06  +- ( 7.208976705323271e-07 )\n",
      "[find_optimal_iterations] Average cost: 5.0\n",
      "[find_optimal_iterations] beginning search with lower, upper: 1 1\n",
      "[find_optimal_iterations] iters: 1 , inf_mean:  1.5158060695519282e-07  +- ( 0.0 )\n",
      "[find_optimal_iterations] Average cost: 16.0\n",
      "[find_optimal_iterations] beginning search with lower, upper: 1 2\n",
      "[find_optimal_iterations] iters: 2 , inf_mean:  0.019520610241073544  +- ( 0.008642480452727428 )\n",
      "[find_optimal_iterations] Average cost: 2.0\n",
      "[find_optimal_iterations] beginning search with lower, upper: 1 1\n",
      "[find_optimal_iterations] iters: 1 , inf_mean:  3.024607722401651e-06  +- ( 1.9448949301287607e-06 )\n",
      "[find_optimal_iterations] Average cost: 5.0\n",
      "[find_optimal_iterations] beginning search with lower, upper: 1 1\n",
      "[find_optimal_iterations] iters: 1 , inf_mean:  4.6030417599762785e-07  +- ( 0.0 )\n",
      "[find_optimal_iterations] Average cost: 16.0\n",
      "[find_optimal_iterations] beginning search with lower, upper: 2 4\n",
      "[find_optimal_iterations] iters: 3 , inf_mean:  0.022521671604143367  +- ( 0.01227827440505389 )\n",
      "[find_optimal_iterations] Average cost: 3.0\n",
      "[find_optimal_iterations] beginning search with lower, upper: 1 1\n",
      "[find_optimal_iterations] iters: 1 , inf_mean:  1.428270632412021e-05  +- ( 5.881659734384166e-06 )\n",
      "[find_optimal_iterations] Average cost: 5.0\n",
      "[find_optimal_iterations] beginning search with lower, upper: 1 1\n",
      "[find_optimal_iterations] iters: 1 , inf_mean:  1.392922973741939e-06  +- ( 0.0 )\n",
      "[find_optimal_iterations] Average cost: 16.0\n",
      "[find_optimal_iterations] beginning search with lower, upper: 8 16\n",
      "[find_optimal_iterations] iters: 16 , inf_mean:  0.008381215094213768  +- ( 0.007861124704269553 )\n",
      "[find_optimal_iterations] Average cost: 16.0\n",
      "[find_optimal_iterations] beginning search with lower, upper: 1 1\n",
      "[find_optimal_iterations] iters: 1 , inf_mean:  4.5898957180445785e-05  +- ( 1.4971612772272539e-05 )\n",
      "[find_optimal_iterations] Average cost: 5.0\n",
      "[find_optimal_iterations] beginning search with lower, upper: 1 1\n",
      "[find_optimal_iterations] iters: 1 , inf_mean:  4.1893214013377644e-06  +- ( 0.0 )\n",
      "[find_optimal_iterations] Average cost: 16.0\n",
      "[find_optimal_iterations] beginning search with lower, upper: 8 16\n",
      "[find_optimal_iterations] iters: 9 , inf_mean:  0.02516293327859658  +- ( 0.02443939811155685 )\n",
      "[find_optimal_iterations] Average cost: 9.0\n",
      "[find_optimal_iterations] beginning search with lower, upper: 1 1\n",
      "[find_optimal_iterations] iters: 1 , inf_mean:  0.00012253004557162274  +- ( 4.880367310453109e-05 )\n",
      "[find_optimal_iterations] Average cost: 5.0\n",
      "[find_optimal_iterations] beginning search with lower, upper: 1 1\n",
      "[find_optimal_iterations] iters: 1 , inf_mean:  1.2464339516848888e-05  +- ( 0.0 )\n",
      "[find_optimal_iterations] Average cost: 16.0\n",
      "[find_optimal_iterations] beginning search with lower, upper: 16 32\n",
      "[find_optimal_iterations] iters: 32 , inf_mean:  0.014957775050946098  +- ( 0.00800872066399586 )\n",
      "[find_optimal_iterations] Average cost: 32.0\n",
      "[find_optimal_iterations] beginning search with lower, upper: 1 1\n",
      "[find_optimal_iterations] iters: 1 , inf_mean:  0.00037402019572918555  +- ( 0.00011699004704981591 )\n",
      "[find_optimal_iterations] Average cost: 5.0\n",
      "[find_optimal_iterations] beginning search with lower, upper: 1 1\n",
      "[find_optimal_iterations] iters: 1 , inf_mean:  3.638370713943129e-05  +- ( 0.0 )\n",
      "[find_optimal_iterations] Average cost: 16.0\n",
      "[find_optimal_iterations] beginning search with lower, upper: 16 32\n",
      "[find_optimal_iterations] iters: 17 , inf_mean:  0.05145909450251601  +- ( 0.023766565557809607 )\n",
      "[find_optimal_iterations] Average cost: 17.0\n",
      "[find_optimal_iterations] beginning search with lower, upper: 1 1\n",
      "[find_optimal_iterations] iters: 1 , inf_mean:  0.0008403898745590443  +- ( 0.0003599177807568609 )\n",
      "[find_optimal_iterations] Average cost: 5.0\n",
      "[find_optimal_iterations] beginning search with lower, upper: 1 1\n",
      "[find_optimal_iterations] iters: 1 , inf_mean:  0.00010267118994289337  +- ( 0.0 )\n",
      "[find_optimal_iterations] Average cost: 16.0\n",
      "[find_optimal_iterations] beginning search with lower, upper: 64 128\n",
      "[find_optimal_iterations] iters: 112 , inf_mean:  0.014440403923586077  +- ( 0.008617070200524022 )\n",
      "[find_optimal_iterations] Average cost: 112.0\n",
      "[find_optimal_iterations] beginning search with lower, upper: 1 1\n",
      "[find_optimal_iterations] iters: 1 , inf_mean:  0.002012321887113666  +- ( 0.0007558568791906053 )\n",
      "[find_optimal_iterations] Average cost: 5.0\n",
      "[find_optimal_iterations] beginning search with lower, upper: 1 1\n",
      "[find_optimal_iterations] iters: 1 , inf_mean:  0.00027291035707432965  +- ( 0.0 )\n",
      "[find_optimal_iterations] Average cost: 16.0\n",
      "[find_optimal_iterations] beginning search with lower, upper: 128 256\n",
      "[find_optimal_iterations] iters: 256 , inf_mean:  0.01239274101952389  +- ( 0.009726775421661622 )\n",
      "[find_optimal_iterations] Average cost: 256.0\n",
      "[find_optimal_iterations] beginning search with lower, upper: 1 1\n",
      "[find_optimal_iterations] iters: 1 , inf_mean:  0.004208604410070149  +- ( 0.0010156049665306242 )\n",
      "[find_optimal_iterations] Average cost: 5.0\n",
      "[find_optimal_iterations] beginning search with lower, upper: 1 1\n",
      "[find_optimal_iterations] iters: 1 , inf_mean:  0.0006551534075190935  +- ( 0.0 )\n",
      "[find_optimal_iterations] Average cost: 16.0\n",
      "[find_optimal_iterations] beginning search with lower, upper: 256 512\n",
      "[find_optimal_iterations] iters: 512 , inf_mean:  0.003909933817534595  +- ( 0.0023597966112848087 )\n",
      "[find_optimal_iterations] Average cost: 512.0\n",
      "[find_optimal_iterations] beginning search with lower, upper: 1 1\n",
      "[find_optimal_iterations] iters: 1 , inf_mean:  0.007463576515890824  +- ( 0.0008154831892707074 )\n",
      "[find_optimal_iterations] Average cost: 5.0\n",
      "[find_optimal_iterations] beginning search with lower, upper: 1 1\n",
      "[find_optimal_iterations] iters: 1 , inf_mean:  0.001359508715612523  +- ( 0.0 )\n",
      "[find_optimal_iterations] Average cost: 16.0\n",
      "[find_optimal_iterations] beginning search with lower, upper: 256 512\n",
      "[find_optimal_iterations] iters: 289 , inf_mean:  0.027487181646055438  +- ( 0.025184875588392993 )\n",
      "[find_optimal_iterations] Average cost: 289.0\n",
      "[find_optimal_iterations] beginning search with lower, upper: 1 1\n",
      "[find_optimal_iterations] iters: 1 , inf_mean:  0.012703884639588936  +- ( 0.0024036744104520115 )\n",
      "[find_optimal_iterations] Average cost: 5.0\n",
      "[find_optimal_iterations] beginning search with lower, upper: 1 1\n",
      "[find_optimal_iterations] iters: 1 , inf_mean:  0.002582897713409249  +- ( 0.0 )\n",
      "[find_optimal_iterations] Average cost: 16.0\n",
      "[find_optimal_iterations] beginning search with lower, upper: 512 1024\n",
      "[find_optimal_iterations] iters: 1024 , inf_mean:  0.012902649941502187  +- ( 0.005302708237286312 )\n",
      "[find_optimal_iterations] Average cost: 1024.0\n",
      "[find_optimal_iterations] beginning search with lower, upper: 1 1\n",
      "[find_optimal_iterations] iters: 1 , inf_mean:  0.025982803824244106  +- ( 0.0016625148564866242 )\n",
      "[find_optimal_iterations] Average cost: 5.0\n",
      "[find_optimal_iterations] beginning search with lower, upper: 1 1\n",
      "[find_optimal_iterations] iters: 1 , inf_mean:  0.004689360717387903  +- ( 0.0 )\n",
      "[find_optimal_iterations] Average cost: 16.0\n",
      "[find_optimal_iterations] beginning search with lower, upper: 512 1024\n",
      "[find_optimal_iterations] iters: 641 , inf_mean:  0.02982476468303965  +- ( 0.021387966920329564 )\n",
      "[find_optimal_iterations] Average cost: 641.0\n",
      "[find_optimal_iterations] beginning search with lower, upper: 1 2\n",
      "[find_optimal_iterations] iters: 2 , inf_mean:  0.01707390228571747  +- ( 0.0048425140415584884 )\n",
      "[find_optimal_iterations] Average cost: 10.0\n",
      "[find_optimal_iterations] beginning search with lower, upper: 1 1\n",
      "[find_optimal_iterations] iters: 1 , inf_mean:  0.0037488275432988605  +- ( 0.0 )\n",
      "[find_optimal_iterations] Average cost: 16.0\n",
      "[find_optimal_iterations] beginning search with lower, upper: 2048 4096\n",
      "[find_optimal_iterations] iters: 4096 , inf_mean:  0.015668547685106792  +- ( 0.009165559650961497 )\n",
      "[find_optimal_iterations] Average cost: 4096.0\n",
      "[find_optimal_iterations] beginning search with lower, upper: 1 2\n",
      "[find_optimal_iterations] iters: 2 , inf_mean:  0.015237669741796888  +- ( 0.009872089821832302 )\n",
      "[find_optimal_iterations] Average cost: 10.0\n",
      "[find_optimal_iterations] beginning search with lower, upper: 1 1\n",
      "[find_optimal_iterations] iters: 1 , inf_mean:  0.010483743570636417  +- ( 0.0 )\n",
      "[find_optimal_iterations] Average cost: 16.0\n",
      "[find_optimal_iterations] beginning search with lower, upper: 2048 4096\n",
      "[find_optimal_iterations] iters: 2081 , inf_mean:  0.03912655389696057  +- ( 0.033051539551161704 )\n",
      "[find_optimal_iterations] Average cost: 2081.0\n",
      "[find_optimal_iterations] beginning search with lower, upper: 2 4\n",
      "[find_optimal_iterations] iters: 4 , inf_mean:  0.019384258396871457  +- ( 0.008315917190611127 )\n",
      "[find_optimal_iterations] Average cost: 20.0\n",
      "[find_optimal_iterations] beginning search with lower, upper: 1 1\n",
      "[find_optimal_iterations] iters: 1 , inf_mean:  0.02405280660638132  +- ( 3.469446951953614e-18 )\n",
      "[find_optimal_iterations] Average cost: 16.0\n",
      "[find_optimal_iterations] beginning search with lower, upper: 8192 16384\n",
      "[find_optimal_iterations] iters: 16384 , inf_mean:  0.005975391858962076  +- ( 0.002922080855597458 )\n",
      "[find_optimal_iterations] Average cost: 16384.0\n",
      "[find_optimal_iterations] beginning search with lower, upper: 4 8\n",
      "[find_optimal_iterations] iters: 8 , inf_mean:  0.01835203615022447  +- ( 0.005573280786263975 )\n",
      "[find_optimal_iterations] Average cost: 40.0\n",
      "[find_optimal_iterations] beginning search with lower, upper: 1 1\n",
      "[find_optimal_iterations] iters: 1 , inf_mean:  0.020526966859133803  +- ( 3.469446951953614e-18 )\n",
      "[find_optimal_iterations] Average cost: 16.0\n",
      "[find_optimal_iterations] beginning search with lower, upper: 8192 16384\n",
      "[find_optimal_iterations] iters: 15616 , inf_mean:  0.015175918826271551  +- ( 0.005306201179282022 )\n",
      "[find_optimal_iterations] Average cost: 15616.0\n",
      "[find_optimal_iterations] beginning search with lower, upper: 4 8\n",
      "[find_optimal_iterations] iters: 5 , inf_mean:  0.0670293741889913  +- ( 0.021382307462961134 )\n",
      "[find_optimal_iterations] Average cost: 25.0\n",
      "[find_optimal_iterations] beginning search with lower, upper: 1 1\n",
      "[find_optimal_iterations] iters: 1 , inf_mean:  0.029206677884319632  +- ( 0.0 )\n",
      "[find_optimal_iterations] Average cost: 16.0\n",
      "[find_optimal_iterations] beginning search with lower, upper: 16384 32768\n",
      "[find_optimal_iterations] iters: 32768 , inf_mean:  0.01126701827687363  +- ( 0.006880424234814618 )\n",
      "[find_optimal_iterations] Average cost: 32768.0\n",
      "[find_optimal_iterations] beginning search with lower, upper: 8 16\n",
      "[find_optimal_iterations] iters: 9 , inf_mean:  0.03716871792948704  +- ( 0.017235981619208546 )\n",
      "[find_optimal_iterations] Average cost: 45.0\n",
      "[find_optimal_iterations] beginning search with lower, upper: 1 1\n",
      "[find_optimal_iterations] iters: 1 , inf_mean:  0.007878462753554527  +- ( 0.0 )\n",
      "[find_optimal_iterations] Average cost: 16.0\n",
      "[find_optimal_iterations] beginning search with lower, upper: 8192 16384\n",
      "[find_optimal_iterations] iters: 8193 , inf_mean:  0.038863518298654885  +- ( 0.021618762534648162 )\n",
      "[find_optimal_iterations] Average cost: 8193.0\n",
      "[find_optimal_iterations] beginning search with lower, upper: 16 32\n",
      "[find_optimal_iterations] iters: 17 , inf_mean:  0.028785948645070482  +- ( 0.01087976279691842 )\n",
      "[find_optimal_iterations] Average cost: 85.0\n",
      "[find_optimal_iterations] beginning search with lower, upper: 1 2\n",
      "[find_optimal_iterations] iters: 2 , inf_mean:  0.014463220009940053  +- ( 5.204170427930421e-18 )\n",
      "[find_optimal_iterations] Average cost: 32.0\n",
      "[find_optimal_iterations] beginning search with lower, upper: 32768 65536\n",
      "[find_optimal_iterations] iters: 32769 , inf_mean:  0.027550494735048038  +- ( 0.027473087683042154 )\n",
      "[find_optimal_iterations] Average cost: 32769.0\n",
      "[find_optimal_iterations] beginning search with lower, upper: 32 64\n",
      "[find_optimal_iterations] iters: 62 , inf_mean:  0.02364533712443422  +- ( 0.014849075135358096 )\n",
      "[find_optimal_iterations] Average cost: 310.0\n"
     ]
    }
   ],
   "source": [
    "qdsim = QDriftSim(graph_hamiltonian_list)\n",
    "compsim = CompositeSim(graph_hamiltonian_list, partition=\"chop\", nb=8)\n",
    "trottsim = TrotterSim(graph_hamiltonian_list)\n",
    "\n",
    "tStart = 0.01\n",
    "tFinal = 2\n",
    "tSteps = 20\n",
    "times = np.geomspace(tStart, tFinal, tSteps)\n",
    "\n",
    "trott_results = dict()\n",
    "qd_results = dict()\n",
    "comp_results = dict()\n",
    "\n",
    "for t in times:\n",
    "    trott_results[t] = find_optimal_iterations(trottsim, graph_hamiltonian_list, time=t)\n",
    "    qd_results[t] = find_optimal_iterations(qdsim, graph_hamiltonian_list, time=t, mc_samples=10)\n",
    "    comp_results[t] = find_optimal_iterations(compsim, graph_hamiltonian_list, time=t, mc_samples=10)\n",
    "\n"
   ]
  },
  {
   "cell_type": "code",
   "execution_count": 14,
   "metadata": {},
   "outputs": [],
   "source": [
    "import json\n",
    "outfile = open(\"channel_gate_performanc_vs_time_MAR25_01.json\", \"w\")\n",
    "json.dump(trott_results, outfile)\n",
    "json.dump(qd_results, outfile)\n",
    "json.dump(comp_results, outfile)\n",
    "outfile.close()"
   ]
  },
  {
   "cell_type": "code",
   "execution_count": 28,
   "metadata": {},
   "outputs": [
    {
     "name": "stdout",
     "output_type": "stream",
     "text": [
      "20\n",
      "20\n",
      "20\n"
     ]
    },
    {
     "data": {
      "image/png": "[encoded data removed]",
      "text/plain": [
       "<Figure size 432x288 with 1 Axes>"
      ]
     },
     "metadata": {
      "needs_background": "light"
     },
     "output_type": "display_data"
    }
   ],
   "source": [
    "trott_mean = []\n",
    "trott_std = []\n",
    "qd_mean = []\n",
    "qd_std = []\n",
    "comp_mean = []\n",
    "comp_std = []\n",
    "\n",
    "for t in times:\n",
    "    trott_infs, trott_costs = zip(*trott_results.get(t))\n",
    "    qd_infs, qd_costs = zip(*qd_results.get(t))\n",
    "    comp_infs, comp_costs = zip(*comp_results.get(t))\n",
    "\n",
    "    trott_mean.append(np.mean(list(trott_costs)))\n",
    "    trott_std.append(np.std(list(trott_costs)))\n",
    "\n",
    "    qd_mean.append(np.mean(list(qd_costs)))\n",
    "    qd_std.append(np.std(list(qd_costs)))\n",
    "\n",
    "    comp_mean.append(np.mean(list(comp_costs)))\n",
    "    comp_std.append(np.std(list(comp_costs)))\n",
    "\n",
    "print(len(qd_std))\n",
    "print(len(comp_std))\n",
    "print(len(trott_std))\n",
    "\n",
    "plt.title(\"(4,1) Graph Hamiltonian Gate Cost Comparison: Infidelity threshold=0.05,\\n MC Samples = 10, Chop Partition, Composite Nb = 8\")\n",
    "plt.loglog(times, trott_mean, label=\"Trotter\")\n",
    "plt.loglog(times, qd_mean, label=\"QDrift\")\n",
    "plt.loglog(times, comp_mean, label=\"Composite\")\n",
    "plt.legend()\n",
    "plt.show()\n"
   ]
  }
 ],
 "metadata": {
  "interpreter": {
   "hash": "afb1ca3bc18ae6171bd7b97235144abe7d96909f3d20e7ef21e9d03b321837d0"
  },
  "kernelspec": {
   "display_name": "Python 3.9.7 ('base')",
   "language": "python",
   "name": "python3"
  },
  "language_info": {
   "codemirror_mode": {
    "name": "ipython",
    "version": 3
   },
   "file_extension": ".py",
   "mimetype": "text/x-python",
   "name": "python",
   "nbconvert_exporter": "python",
   "pygments_lexer": "ipython3",
   "version": "3.9.7"
  }
 },
 "nbformat": 4,
 "nbformat_minor": 2
}
