{
 "cells": [
  {
   "cell_type": "code",
   "execution_count": 2,
   "metadata": {},
   "outputs": [],
   "source": [
    "import numpy as np\n",
    "import matplotlib.pyplot as plt \n",
    "%matplotlib inline\n",
    "import scipy.linalg as la\n",
    "import math\n",
    "#import time\n",
    "from numpy import random\n",
    "import cmath\n",
    "from sympy import S, symbols, printing\n",
    "\n",
    "from compilers import *\n",
    "import openfermion"
   ]
  },
  {
   "cell_type": "markdown",
   "metadata": {},
   "source": [
    "## Hamiltonian Initialization"
   ]
  },
  {
   "cell_type": "markdown",
   "metadata": {},
   "source": [
    "#### Arbitrary Tensored 4x4 Pauli"
   ]
  },
  {
   "cell_type": "code",
   "execution_count": 3,
   "metadata": {},
   "outputs": [
    {
     "name": "stdout",
     "output_type": "stream",
     "text": [
      "(8, 4, 4)\n",
      "(8, 4, 4)\n"
     ]
    }
   ],
   "source": [
    "X = np.array([[0, 1],\n",
    "     [1, 0]])\n",
    "Z = np.array([[1, 0],\n",
    "     [0, -1]])\n",
    "Y = np.array([[0, -1j],\n",
    "     [1j, 0]])\n",
    "I = np.array([[1, 0],\n",
    "     [0, 1]])\n",
    "XX = np.kron(X, X) #tensor products between two Pauli's\n",
    "XZ = np.kron(X, Z)\n",
    "ZZ = np.kron(Z, Z)\n",
    "ZX = np.kron(Z, X)\n",
    "II = np.kron(I, I)\n",
    "IX = np.kron(I, X)\n",
    "XI = np.kron(X, I)\n",
    "IZ = np.kron(I, Z)\n",
    "ZI = np.kron(Z, I)\n",
    "#List of Hamiltonian decomposition terms H_j for H = \\sum_j h_j H_j\n",
    "Hlist = np.array([XX, XZ, ZX, ZZ, IX, IZ, XI, ZI])\n",
    "hj = [1.0, 2.0, 3.0, 4.0, 2.0, 1.0, 0.5, 0.25] #list of normalized coefficients\n",
    "\n",
    "print(Hlist.shape)\n",
    "\n",
    "hamiltonian_list = []\n",
    "for i in range(len(hj)):\n",
    "    hamiltonian_list.append(hj[i] * Hlist[i, :, :])\n",
    "hamiltonian_list = np.array(hamiltonian_list)\n",
    "pauli_hamiltonian = hamiltonian_list\n",
    "print(hamiltonian_list.shape)\n",
    "#print(hamiltonian_list)"
   ]
  },
  {
   "cell_type": "markdown",
   "metadata": {},
   "source": [
    "#### Graph Hamiltonian"
   ]
  },
  {
   "cell_type": "code",
   "execution_count": 4,
   "metadata": {},
   "outputs": [],
   "source": [
    "# A simple function that computes the graph distance between two sites\n",
    "def dist(site1, site2):\n",
    "    distance_vec = site1 - site2\n",
    "    distance = np.abs(distance_vec[0]) + np.abs(distance_vec[1])\n",
    "    return distance\n",
    "\n",
    "# A simple function that initializes a graph in the form of an np.array of coordinates \n",
    "def initialize_graph(x_sites, y_sites):\n",
    "    coord_list = []\n",
    "    for i in range(x_sites):\n",
    "        for j in range(y_sites):\n",
    "            coord_list.append([i,j])\n",
    "    return np.array(coord_list)\n",
    "\n",
    "#A funciton that initializes a Pauli operator in the correct space, acting on a specific qubit\n",
    "def initialize_operator(operator_2d, acting_space, space_dimension):\n",
    "    if acting_space>space_dimension:\n",
    "        return 'error'\n",
    "    for i in range(acting_space):\n",
    "        operator_2d = np.kron(operator_2d, I)\n",
    "    for j in range(space_dimension - acting_space-1):\n",
    "        operator_2d = np.kron(I, operator_2d)\n",
    "    return operator_2d"
   ]
  },
  {
   "cell_type": "code",
   "execution_count": 5,
   "metadata": {
    "scrolled": true
   },
   "outputs": [
    {
     "name": "stdout",
     "output_type": "stream",
     "text": [
      "(16, 16, 16)\n"
     ]
    }
   ],
   "source": [
    "#Initialize Hamiltonian \n",
    "def graph_hamiltonian(x_dim, y_dim, rng_seed):\n",
    "    np.random.seed(rng_seed)\n",
    "    hamiltonian_list = []\n",
    "    graph = initialize_graph(x_dim, y_dim)\n",
    "    for i in range(x_dim*y_dim):\n",
    "        for j in range(y_dim*x_dim):\n",
    "            if i != j:\n",
    "                alpha = np.random.normal()\n",
    "                hamiltonian_list.append(alpha * \n",
    "                    np.matmul(initialize_operator(Z, i, x_dim*y_dim), initialize_operator(Z, j, x_dim*y_dim)) *\n",
    "                        10.0**(-dist(graph[i], graph[j])))\n",
    "            \n",
    "        alpha = np.random.normal()\n",
    "        hamiltonian_list.append(4* alpha * initialize_operator(X, i, x_dim*y_dim))\n",
    "                \n",
    "    return np.array(hamiltonian_list)\n",
    "\n",
    "graph_hamiltonian_list = graph_hamiltonian(4, 1, 1)\n",
    "print(graph_hamiltonian_list.shape)"
   ]
  },
  {
   "cell_type": "markdown",
   "metadata": {},
   "source": [
    "### OpenFermion Hamiltonian List Generators"
   ]
  },
  {
   "cell_type": "code",
   "execution_count": 6,
   "metadata": {},
   "outputs": [],
   "source": [
    "from openfermion.hamiltonians import jellium_model\n",
    "from openfermion.utils import Grid, count_qubits\n",
    "from openfermion.transforms import jordan_wigner, fourier_transform, get_fermion_operator\n",
    "from openfermion.linalg import eigenspectrum, qubit_operator_sparse, get_sparse_operator\n",
    "from openfermion.ops import QubitOperator\n",
    "\n",
    "#A function to help convert from the default output of openfermion to the style we require to run our simulator, \n",
    "# a numpy array that is structured as a list of hamiltonian terms. \n",
    "def openfermion_matrix_list(qubit_operator):\n",
    "    total_qubits = count_qubits(qubit_operator)\n",
    "    matrix_list = []\n",
    "    op_list = list(qubit_operator)\n",
    "    for i in op_list:\n",
    "        matrix_list.append(get_sparse_operator(i, total_qubits).toarray()) #changed from qubit operator and made no differnce\n",
    "    return np.array(matrix_list)\n",
    "\n",
    "    #Test -- shows ops are equivalent\n",
    "def test_list_generator(openfermion_output):\n",
    "    max_val = []\n",
    "    of_generator = get_sparse_operator(openfermion_output).toarray()\n",
    "    list_generator = sum(openfermion_matrix_list(openfermion_output))\n",
    "    the_zero_op = of_generator - list_generator\n",
    "    for i in range(the_zero_op.shape[0]):\n",
    "        for j in range(the_zero_op.shape[0]):\n",
    "            max_val.append((the_zero_op)[i][j])\n",
    "    print(max(max_val))\n",
    "    norm = np.linalg.norm(the_zero_op, ord=2)\n",
    "    if norm < FLOATING_POINT_PRECISION:\n",
    "        print(\"success!\")\n",
    "    else:\n",
    "        print(\"failed!\")\n",
    "    return 0"
   ]
  },
  {
   "cell_type": "markdown",
   "metadata": {},
   "source": [
    "#### Jellium"
   ]
  },
  {
   "cell_type": "code",
   "execution_count": 93,
   "metadata": {},
   "outputs": [
    {
     "name": "stdout",
     "output_type": "stream",
     "text": [
      "(56, 32, 32)\n",
      "98.19868481373146 [] +\n",
      "0.029841551829730383 [X0 X1 X2 X3] +\n",
      "-0.029841551829730383 [X0 X1 X2 Z3 X4] +\n",
      "0.029841551829730383 [X0 X1 Y2 Y3] +\n",
      "0.029841551829730383 [X0 X1 Y2 Z3 Y4] +\n",
      "0.029841551829730383 [X0 X1 X3 X4] +\n",
      "0.029841551829730383 [X0 X1 Y3 Y4] +\n",
      "0.029841551829730383 [X0 Y1 X2 Y3] +\n",
      "-0.029841551829730383 [X0 Y1 X2 Z3 Y4] +\n",
      "-0.029841551829730383 [X0 Y1 Y2 X3] +\n",
      "-0.029841551829730383 [X0 Y1 Y2 Z3 X4] +\n",
      "0.029841551829730383 [X0 Y1 X3 Y4] +\n",
      "-0.029841551829730383 [X0 Y1 Y3 X4] +\n",
      "-0.029841551829730383 [X0 Z1 X2 X3 X4] +\n",
      "0.029841551829730383 [X0 Z1 X2 Y3 Y4] +\n",
      "-0.029841551829730383 [X0 Z1 Y2 X3 Y4] +\n",
      "-0.029841551829730383 [X0 Z1 Y2 Y3 X4] +\n",
      "-0.029841551829730383 [Y0 X1 X2 Y3] +\n",
      "-0.029841551829730383 [Y0 X1 X2 Z3 Y4] +\n",
      "0.029841551829730383 [Y0 X1 Y2 X3] +\n",
      "-0.029841551829730383 [Y0 X1 Y2 Z3 X4] +\n",
      "-0.029841551829730383 [Y0 X1 X3 Y4] +\n",
      "0.029841551829730383 [Y0 X1 Y3 X4] +\n",
      "0.029841551829730383 [Y0 Y1 X2 X3] +\n",
      "0.029841551829730383 [Y0 Y1 X2 Z3 X4] +\n",
      "0.029841551829730383 [Y0 Y1 Y2 Y3] +\n",
      "-0.029841551829730383 [Y0 Y1 Y2 Z3 Y4] +\n",
      "0.029841551829730383 [Y0 Y1 X3 X4] +\n",
      "0.029841551829730383 [Y0 Y1 Y3 Y4] +\n",
      "-0.029841551829730383 [Y0 Z1 X2 X3 Y4] +\n",
      "-0.029841551829730383 [Y0 Z1 X2 Y3 X4] +\n",
      "0.029841551829730383 [Y0 Z1 Y2 X3 X4] +\n",
      "-0.029841551829730383 [Y0 Z1 Y2 Y3 Y4] +\n",
      "-39.27947392549255 [Z0] +\n",
      "-0.07957747154594767 [Z0 Z1] +\n",
      "-0.019894367886486918 [Z0 Z2] +\n",
      "-0.019894367886486918 [Z0 Z3] +\n",
      "-0.07957747154594767 [Z0 Z4] +\n",
      "0.029841551829730383 [X1 X2 X3 X4] +\n",
      "0.029841551829730383 [X1 X2 Y3 Y4] +\n",
      "0.029841551829730383 [X1 Y2 X3 Y4] +\n",
      "-0.029841551829730383 [X1 Y2 Y3 X4] +\n",
      "-0.029841551829730383 [Y1 X2 X3 Y4] +\n",
      "0.029841551829730383 [Y1 X2 Y3 X4] +\n",
      "0.029841551829730383 [Y1 Y2 X3 X4] +\n",
      "0.029841551829730383 [Y1 Y2 Y3 Y4] +\n",
      "-9.670660722224486 [Z1] +\n",
      "-0.07957747154594767 [Z1 Z2] +\n",
      "-0.019894367886486918 [Z1 Z3] +\n",
      "-0.019894367886486918 [Z1 Z4] +\n",
      "0.1989436788648692 [Z2] +\n",
      "-0.07957747154594767 [Z2 Z3] +\n",
      "-0.019894367886486918 [Z2 Z4] +\n",
      "-9.670660722224486 [Z3] +\n",
      "-0.07957747154594767 [Z3 Z4] +\n",
      "-39.27947392549255 [Z4]\n",
      "(5.684341886080802e-14+0j)\n",
      "success!\n"
     ]
    },
    {
     "data": {
      "text/plain": [
       "0"
      ]
     },
     "execution_count": 93,
     "metadata": {},
     "output_type": "execute_result"
    }
   ],
   "source": [
    "#small model in 2 dimensions\n",
    "grid = Grid(dimensions=1, length=5, scale=1.0)\n",
    "spinless = True\n",
    "\n",
    "# Get the momentum Hamiltonian.\n",
    "momentum_hamiltonian = jellium_model(grid, spinless)\n",
    "momentum_qubit_operator = jordan_wigner(momentum_hamiltonian)\n",
    "momentum_qubit_operator.compress()\n",
    "\n",
    "#Generate the matrix list\n",
    "jellium_hamiltonian_list = openfermion_matrix_list(momentum_qubit_operator) #load this into simulator\n",
    "print(jellium_hamiltonian_list.shape)\n",
    "print(momentum_qubit_operator)\n",
    "test_list_generator(momentum_qubit_operator)"
   ]
  },
  {
   "cell_type": "markdown",
   "metadata": {},
   "source": [
    "#### LiH, Methane, and Ethane"
   ]
  },
  {
   "cell_type": "code",
   "execution_count": 28,
   "metadata": {},
   "outputs": [],
   "source": [
    "from openfermion.chem import geometry_from_pubchem\n",
    "from openfermion.chem import MolecularData\n",
    "\n",
    "basis = 'sto-3g'\n",
    "multiplicity = 1\n",
    "\n",
    "# Set Hamiltonian parameters.\n",
    "active_space_start = 1\n",
    "active_space_stop = 3"
   ]
  },
  {
   "cell_type": "code",
   "execution_count": 30,
   "metadata": {},
   "outputs": [
    {
     "name": "stdout",
     "output_type": "stream",
     "text": [
      "[('Li', (0.0, 0.0, 0.0)), ('H', (0.0, 0.0, 1.45))]\n",
      "(27, 16, 16)\n",
      "(8.881784197001252e-16+0j)\n",
      "success!\n"
     ]
    },
    {
     "data": {
      "text/plain": [
       "0"
      ]
     },
     "execution_count": 30,
     "metadata": {},
     "output_type": "execute_result"
    }
   ],
   "source": [
    "#LiH\n",
    "#LiH_geometry = geometry_from_pubchem('LiH')\n",
    "diatomic_bond_length = 1.45\n",
    "LiH_geometry = [('Li', (0., 0., 0.)), ('H', (0., 0., diatomic_bond_length))]\n",
    "print(LiH_geometry)\n",
    "\n",
    "# Generate and populate instance of MolecularData.\n",
    "LiH_molecule = MolecularData(LiH_geometry, basis, multiplicity, description=\"1.45\")\n",
    "LiH_molecule.load()\n",
    "\n",
    "# Get the Hamiltonian in an active space.\n",
    "LiH_molecular_hamiltonian = LiH_molecule.get_molecular_hamiltonian(\n",
    "    occupied_indices=range(active_space_start),\n",
    "    active_indices=range(active_space_start, active_space_stop))\n",
    "\n",
    "# Map operator to fermions and qubits.\n",
    "LiH_fermion_hamiltonian = get_fermion_operator(LiH_molecular_hamiltonian)\n",
    "LiH_qubit_hamiltonian = jordan_wigner(LiH_fermion_hamiltonian)\n",
    "LiH_hamiltonian_list = openfermion_matrix_list(LiH_qubit_hamiltonian)\n",
    "print(LiH_hamiltonian_list.shape)\n",
    "#print(list(LiH_qubit_hamiltonian))\n",
    "#print(LiH_hamiltonian_list)\n",
    "test_list_generator(LiH_qubit_hamiltonian)"
   ]
  },
  {
   "cell_type": "code",
   "execution_count": 37,
   "metadata": {},
   "outputs": [
    {
     "name": "stdout",
     "output_type": "stream",
     "text": [
      "[('C', (0, 0, 0)), ('H', (0.5541, 0.7996, 0.4965)), ('H', (0.6833, -0.8134, -0.2536)), ('H', (-0.7782, -0.3735, 0.6692)), ('H', (-0.4593, 0.3874, -0.9121))]\n"
     ]
    },
    {
     "ename": "MissingCalculationError",
     "evalue": "Missing integral calculation in /opt/anaconda3/lib/python3.7/site-packages/openfermion/testing/data/H4-C1_sto-3g_singlet_1.45, run before loading integrals.",
     "output_type": "error",
     "traceback": [
      "\u001b[0;31m---------------------------------------------------------------------------\u001b[0m",
      "\u001b[0;31mMissingCalculationError\u001b[0m                   Traceback (most recent call last)",
      "\u001b[0;32m/var/folders/1k/18s4nj3942q9d2gph57lw0ph0000gn/T/ipykernel_48802/433776476.py\u001b[0m in \u001b[0;36m<module>\u001b[0;34m\u001b[0m\n\u001b[1;32m      9\u001b[0m methane_molecular_hamiltonian = methane_molecule.get_molecular_hamiltonian(\n\u001b[1;32m     10\u001b[0m     \u001b[0moccupied_indices\u001b[0m\u001b[0;34m=\u001b[0m\u001b[0mrange\u001b[0m\u001b[0;34m(\u001b[0m\u001b[0mactive_space_start\u001b[0m\u001b[0;34m)\u001b[0m\u001b[0;34m,\u001b[0m\u001b[0;34m\u001b[0m\u001b[0;34m\u001b[0m\u001b[0m\n\u001b[0;32m---> 11\u001b[0;31m     active_indices=range(active_space_start, active_space_stop))\n\u001b[0m\u001b[1;32m     12\u001b[0m \u001b[0;34m\u001b[0m\u001b[0m\n\u001b[1;32m     13\u001b[0m \u001b[0;31m# Map operator to fermions and qubits.\u001b[0m\u001b[0;34m\u001b[0m\u001b[0;34m\u001b[0m\u001b[0;34m\u001b[0m\u001b[0m\n",
      "\u001b[0;32m/opt/anaconda3/lib/python3.7/site-packages/openfermion/chem/molecular_data.py\u001b[0m in \u001b[0;36mget_molecular_hamiltonian\u001b[0;34m(self, occupied_indices, active_indices)\u001b[0m\n\u001b[1;32m    901\u001b[0m         \u001b[0;32melse\u001b[0m\u001b[0;34m:\u001b[0m\u001b[0;34m\u001b[0m\u001b[0;34m\u001b[0m\u001b[0m\n\u001b[1;32m    902\u001b[0m             \u001b[0mcore_adjustment\u001b[0m\u001b[0;34m,\u001b[0m \u001b[0mone_body_integrals\u001b[0m\u001b[0;34m,\u001b[0m \u001b[0mtwo_body_integrals\u001b[0m \u001b[0;34m=\u001b[0m \u001b[0mself\u001b[0m\u001b[0;34m.\u001b[0m\u001b[0;31m \u001b[0m\u001b[0;31m\\\u001b[0m\u001b[0;34m\u001b[0m\u001b[0;34m\u001b[0m\u001b[0m\n\u001b[0;32m--> 903\u001b[0;31m                 \u001b[0mget_active_space_integrals\u001b[0m\u001b[0;34m(\u001b[0m\u001b[0moccupied_indices\u001b[0m\u001b[0;34m,\u001b[0m \u001b[0mactive_indices\u001b[0m\u001b[0;34m)\u001b[0m\u001b[0;34m\u001b[0m\u001b[0;34m\u001b[0m\u001b[0m\n\u001b[0m\u001b[1;32m    904\u001b[0m             \u001b[0mconstant\u001b[0m \u001b[0;34m=\u001b[0m \u001b[0mself\u001b[0m\u001b[0;34m.\u001b[0m\u001b[0mnuclear_repulsion\u001b[0m \u001b[0;34m+\u001b[0m \u001b[0mcore_adjustment\u001b[0m\u001b[0;34m\u001b[0m\u001b[0;34m\u001b[0m\u001b[0m\n\u001b[1;32m    905\u001b[0m \u001b[0;34m\u001b[0m\u001b[0m\n",
      "\u001b[0;32m/opt/anaconda3/lib/python3.7/site-packages/openfermion/chem/molecular_data.py\u001b[0m in \u001b[0;36mget_active_space_integrals\u001b[0;34m(self, occupied_indices, active_indices)\u001b[0m\n\u001b[1;32m    871\u001b[0m \u001b[0;34m\u001b[0m\u001b[0m\n\u001b[1;32m    872\u001b[0m         \u001b[0;31m# Get integrals.\u001b[0m\u001b[0;34m\u001b[0m\u001b[0;34m\u001b[0m\u001b[0;34m\u001b[0m\u001b[0m\n\u001b[0;32m--> 873\u001b[0;31m         \u001b[0mone_body_integrals\u001b[0m\u001b[0;34m,\u001b[0m \u001b[0mtwo_body_integrals\u001b[0m \u001b[0;34m=\u001b[0m \u001b[0mself\u001b[0m\u001b[0;34m.\u001b[0m\u001b[0mget_integrals\u001b[0m\u001b[0;34m(\u001b[0m\u001b[0;34m)\u001b[0m\u001b[0;34m\u001b[0m\u001b[0;34m\u001b[0m\u001b[0m\n\u001b[0m\u001b[1;32m    874\u001b[0m         return reps.get_active_space_integrals(one_body_integrals,\n\u001b[1;32m    875\u001b[0m                                                \u001b[0mtwo_body_integrals\u001b[0m\u001b[0;34m,\u001b[0m\u001b[0;34m\u001b[0m\u001b[0;34m\u001b[0m\u001b[0m\n",
      "\u001b[0;32m/opt/anaconda3/lib/python3.7/site-packages/openfermion/chem/molecular_data.py\u001b[0m in \u001b[0;36mget_integrals\u001b[0;34m(self)\u001b[0m\n\u001b[1;32m    834\u001b[0m             raise MissingCalculationError(\n\u001b[1;32m    835\u001b[0m                 \u001b[0;34m'Missing integral calculation in {}, run before loading '\u001b[0m\u001b[0;34m\u001b[0m\u001b[0;34m\u001b[0m\u001b[0m\n\u001b[0;32m--> 836\u001b[0;31m                 'integrals.'.format(self.filename))\n\u001b[0m\u001b[1;32m    837\u001b[0m         \u001b[0;32mreturn\u001b[0m \u001b[0mself\u001b[0m\u001b[0;34m.\u001b[0m\u001b[0mone_body_integrals\u001b[0m\u001b[0;34m,\u001b[0m \u001b[0mself\u001b[0m\u001b[0;34m.\u001b[0m\u001b[0mtwo_body_integrals\u001b[0m\u001b[0;34m\u001b[0m\u001b[0;34m\u001b[0m\u001b[0m\n\u001b[1;32m    838\u001b[0m \u001b[0;34m\u001b[0m\u001b[0m\n",
      "\u001b[0;31mMissingCalculationError\u001b[0m: Missing integral calculation in /opt/anaconda3/lib/python3.7/site-packages/openfermion/testing/data/H4-C1_sto-3g_singlet_1.45, run before loading integrals."
     ]
    }
   ],
   "source": [
    "#METHANE\n",
    "methane_geometry = geometry_from_pubchem('methane')\n",
    "print(methane_geometry)\n",
    "\n",
    "# Generate and populate instance of MolecularData.\n",
    "methane_molecule = MolecularData(methane_geometry, basis, multiplicity, description=\"1.45\")\n",
    "methane_molecule.load()\n",
    "\n",
    "# Get the Hamiltonian in an active space.\n",
    "methane_molecular_hamiltonian = methane_molecule.get_molecular_hamiltonian(\n",
    "    occupied_indices=range(active_space_start),\n",
    "    active_indices=range(active_space_start, active_space_stop))\n",
    "\n",
    "# Map operator to fermions and qubits.\n",
    "methane_fermion_hamiltonian = get_fermion_operator(methane_molecular_hamiltonian)\n",
    "methane_qubit_hamiltonian = jordan_wigner(methane_fermion_hamiltonian)\n",
    "methane_hamiltonian_list = openfermion_matrix_list(methane_qubit_hamiltonian)\n",
    "print(methane_hamiltonian_list.shape)\n",
    "print(methane_hamiltonian_list)"
   ]
  },
  {
   "cell_type": "code",
   "execution_count": null,
   "metadata": {},
   "outputs": [],
   "source": [
    "#ETHANE\n",
    "ethane_geometry = geometry_from_pubchem('ethane')\n",
    "print(ethane_geometry)\n",
    "\n",
    "# Generate and populate instance of MolecularData.\n",
    "ethane_molecule = MolecularData(ethane_geometry, basis, multiplicity, description=\"1.45\")\n",
    "ethane_molecule.load()\n",
    "\n",
    "# Get the Hamiltonian in an active space.\n",
    "ethane_molecular_hamiltonian = ethane_molecule.get_molecular_hamiltonian(\n",
    "    occupied_indices=range(active_space_start),\n",
    "    active_indices=range(active_space_start, active_space_stop))\n",
    "\n",
    "# Map operator to fermions and qubits.\n",
    "ethane_fermion_hamiltonian = get_fermion_operator(ethane_molecular_hamiltonian)\n",
    "ethane_qubit_hamiltonian = jordan_wigner(ethane_fermion_hamiltonian)\n",
    "ethane_hamiltonian_list = openfermion_matrix_list(ethane_qubit_hamiltonian)\n",
    "print(ethane_hamiltonian_list.shape)\n",
    "print(ethane_hamiltonian_list)"
   ]
  },
  {
   "cell_type": "markdown",
   "metadata": {},
   "source": [
    "## Notebook using compilers.py"
   ]
  },
  {
   "cell_type": "markdown",
   "metadata": {},
   "source": [
    "The goal is to compare the functions in compilers.py in both output and runtimes. The only part of the previous sections that this section will reference is \"Hamiltonian Initialization\""
   ]
  },
  {
   "cell_type": "markdown",
   "metadata": {},
   "source": [
    "### Trotter Simulation"
   ]
  },
  {
   "cell_type": "code",
   "execution_count": 104,
   "metadata": {},
   "outputs": [
    {
     "name": "stdout",
     "output_type": "stream",
     "text": [
      "[0.+0.j 0.+1.j]\n"
     ]
    }
   ],
   "source": [
    "#Example, does not need to be run\n",
    "#use array hamiltonian_list\n",
    "sim = TrotterSim([np.array([[0,1], [1,0]])])\n",
    "print(sim.simulate(np.pi / 2, 1)) #output state should be sigma_X |0> = |1>"
   ]
  },
  {
   "cell_type": "code",
   "execution_count": 108,
   "metadata": {},
   "outputs": [],
   "source": [
    "sim1 = TrotterSim(graph_hamiltonian_list, order = 2)\n",
    "#sim1.initial_state = InitialState"
   ]
  },
  {
   "cell_type": "code",
   "execution_count": 109,
   "metadata": {},
   "outputs": [
    {
     "name": "stdout",
     "output_type": "stream",
     "text": [
      "(50,)\n",
      "320\n"
     ]
    }
   ],
   "source": [
    "iterations = 10\n",
    "tStart = 0.01\n",
    "tFinal = 1\n",
    "tSteps = 50\n",
    "times = np.geomspace(tStart, tFinal, tSteps)\n",
    "\n",
    "trot_compiler_inf = []\n",
    "for t in times:\n",
    "    trot_compiler_inf.append(sim1.infidelity(t, iterations))\n",
    "\n",
    "log_trot_compiler_inf = np.log10(trot_compiler_inf)\n",
    "log_times = np.log10(times)\n",
    "print(log_trot_compiler_inf.shape)\n",
    "print(sim1.gate_count)"
   ]
  },
  {
   "cell_type": "code",
   "execution_count": 110,
   "metadata": {},
   "outputs": [
    {
     "data": {
      "image/png": "[encoded data removed]",
      "text/plain": [
       "<Figure size 1080x504 with 1 Axes>"
      ]
     },
     "metadata": {
      "needs_background": "light"
     },
     "output_type": "display_data"
    }
   ],
   "source": [
    "#data = log_trot_compiler_inf[:, 0, 0]\n",
    "data = log_trot_compiler_inf\n",
    "plt.figure(figsize = (15, 7))\n",
    "plt.plot(log_times, data, 'bo-') \n",
    "plt.xlabel('log(time)', size = 12)\n",
    "plt.ylabel('log(infidelity)', size = 12)\n",
    "\n",
    "start_fit_points= 1  #declare the starting point to fit in the data\n",
    "end_fit_points = -15\n",
    "\n",
    "p = np.polyfit(log_times[start_fit_points: end_fit_points], data[start_fit_points: end_fit_points], 1)\n",
    "f = np.poly1d(p)\n",
    "\n",
    "t_new = np.linspace(log_times[start_fit_points], log_times[end_fit_points], 50)\n",
    "y_new = f(t_new)\n",
    "\n",
    "data = symbols(\"t\")\n",
    "poly = sum(S(\"{:6.2f}\".format(v))*data**i for i, v in enumerate(p[::-1]))\n",
    "eq_latex = printing.latex(poly)\n",
    "\n",
    "plt.plot(t_new, y_new, 'r--', label=\"${}$\".format(eq_latex))\n",
    "plt.legend(fontsize=\"large\")\n",
    "plt.show()"
   ]
  },
  {
   "cell_type": "markdown",
   "metadata": {},
   "source": [
    "### QDrift Simulation"
   ]
  },
  {
   "cell_type": "code",
   "execution_count": 53,
   "metadata": {},
   "outputs": [],
   "source": [
    "QDsim = QDriftSim(hamiltonian_list, rng_seed=1)"
   ]
  },
  {
   "cell_type": "code",
   "execution_count": 54,
   "metadata": {},
   "outputs": [
    {
     "name": "stdout",
     "output_type": "stream",
     "text": [
      "(20,)\n",
      "20\n"
     ]
    }
   ],
   "source": [
    "samples = 20\n",
    "mc_samples = 200\n",
    "\n",
    "tStart = 0.001\n",
    "tFinal = 1\n",
    "tSteps = 20\n",
    "times = np.geomspace(tStart, tFinal, tSteps) \n",
    "\n",
    "qd_compiler_inf = []\n",
    "for t in times:\n",
    "    qd_compiler_inf.append(QDsim.sample_channel_inf(t, samples, mc_samples))\n",
    "\n",
    "log_qd_compiler_inf = np.log10(qd_compiler_inf)\n",
    "log_times = np.log10(times)\n",
    "print(log_qd_compiler_inf.shape)\n",
    "print(QDsim.gate_count)\n",
    "#print(QDsim.exp_op_cache)"
   ]
  },
  {
   "cell_type": "code",
   "execution_count": 55,
   "metadata": {},
   "outputs": [
    {
     "data": {
      "image/png": "[encoded data removed]",
      "text/plain": [
       "<Figure size 1080x504 with 1 Axes>"
      ]
     },
     "metadata": {
      "needs_background": "light"
     },
     "output_type": "display_data"
    }
   ],
   "source": [
    "data1 = log_qd_compiler_inf #[:, 0, 0]\n",
    "plt.figure(figsize = (15, 7))\n",
    "plt.plot(log_times, data1, 'bo-') \n",
    "plt.xlabel('log(time)', size = 12)\n",
    "plt.ylabel('log(infidelity)', size = 12)\n",
    "\n",
    "start_fit_points=0  #declare the starting point to fit in the data\n",
    "end_fit_points = -4\n",
    "\n",
    "p = np.polyfit(log_times[start_fit_points: end_fit_points], data1[start_fit_points: end_fit_points], 1)\n",
    "f = np.poly1d(p)\n",
    "\n",
    "t_new = np.linspace(log_times[start_fit_points], log_times[end_fit_points], 50)\n",
    "y_new = f(t_new)\n",
    "\n",
    "data1 = symbols(\"t\")\n",
    "poly = sum(S(\"{:6.2f}\".format(v))*data1**i for i, v in enumerate(p[::-1]))\n",
    "eq_latex = printing.latex(poly)\n",
    "\n",
    "plt.plot(t_new, y_new, 'r--', label=\"${}$\".format(eq_latex))\n",
    "plt.legend(fontsize=\"large\")\n",
    "plt.show()"
   ]
  },
  {
   "cell_type": "markdown",
   "metadata": {},
   "source": [
    "### Composite Simulation"
   ]
  },
  {
   "cell_type": "markdown",
   "metadata": {},
   "source": [
    "##### Time Scaling"
   ]
  },
  {
   "cell_type": "code",
   "execution_count": 5,
   "metadata": {
    "scrolled": true
   },
   "outputs": [
    {
     "name": "stdout",
     "output_type": "stream",
     "text": [
      "Nb is 25\n",
      "There are 7 terms in Trotter\n",
      "There are 1 terms in QDrift\n"
     ]
    }
   ],
   "source": [
    "#Warning if nb_optimizer = True for partition attribute optimize the computation will not finish in your lifetime\n",
    "CompSim = CompositeSim(hamiltonian_list, inner_order=4, outer_order=1, partition = \"prob\", rng_seed = 30, weight_threshold = 0.6, nb = 1, nb_optimizer = False, initial_time = 0.01)\n",
    "#CompSim.simulate(0.1, 70, 4)"
   ]
  },
  {
   "cell_type": "code",
   "execution_count": 10,
   "metadata": {},
   "outputs": [
    {
     "name": "stdout",
     "output_type": "stream",
     "text": [
      "(40,)\n",
      "950\n"
     ]
    },
    {
     "name": "stderr",
     "output_type": "stream",
     "text": [
      "/opt/anaconda3/lib/python3.7/site-packages/ipykernel_launcher.py:16: RuntimeWarning: invalid value encountered in log10\n",
      "  app.launch_new_instance()\n"
     ]
    }
   ],
   "source": [
    "#startTime = time.time()\n",
    "\n",
    "iterations = 10\n",
    "qd_samples = 8\n",
    "mc_samples = 100\n",
    "\n",
    "tStart = 0.0001\n",
    "tFinal = 2\n",
    "tSteps = 40\n",
    "times = np.geomspace(tStart, tFinal, tSteps)\n",
    "\n",
    "comp_compiler_inf = []\n",
    "for t in times:\n",
    "    comp_compiler_inf.append(CompSim.sample_channel_inf(t, qd_samples, iterations, mc_samples, exact_time_evolution(CompSim.unparsed_hamiltonian, t, CompSim.initial_state)))\n",
    "\n",
    "log_comp_compiler_inf = np.log10(comp_compiler_inf)\n",
    "log_times = np.log10(times)\n",
    "print(log_comp_compiler_inf.shape)\n",
    "print(CompSim.gate_count)\n",
    "\n",
    "#executionTime = (time.time() - startTime)\n",
    "#print('Execution time in seconds: ' + str(executionTime))"
   ]
  },
  {
   "cell_type": "code",
   "execution_count": 15,
   "metadata": {},
   "outputs": [
    {
     "data": {
      "image/png": "[encoded data removed]",
      "text/plain": [
       "<Figure size 1080x504 with 1 Axes>"
      ]
     },
     "metadata": {
      "needs_background": "light"
     },
     "output_type": "display_data"
    }
   ],
   "source": [
    "#print(list(log_comp_compiler_inf[:, 0, 0]))\n",
    "data1 = log_comp_compiler_inf #this dimension issue might be causing some slow down\n",
    "plt.figure(figsize = (15, 7))\n",
    "plt.plot(log_times, data1, 'bo-') \n",
    "plt.xlabel('log(time)', size = 12)\n",
    "plt.ylabel('log(infidelity)', size = 12)\n",
    "\n",
    "start_fit_points=10  #declare the starting point to fit in the data\n",
    "end_fit_points = -10\n",
    "\n",
    "p = np.polyfit(log_times[start_fit_points: end_fit_points], data1[start_fit_points: end_fit_points], 1)\n",
    "f = np.poly1d(p)\n",
    "\n",
    "t_new = np.linspace(log_times[start_fit_points], log_times[end_fit_points], 50)\n",
    "y_new = f(t_new)\n",
    "\n",
    "data1 = symbols(\"t\")\n",
    "poly = sum(S(\"{:6.2f}\".format(v))*data1**i for i, v in enumerate(p[::-1]))\n",
    "eq_latex = printing.latex(poly)\n",
    "\n",
    "#plt.ylim(-1.1, -0.8)\n",
    "#plt.locator_params('x', nbins=20)\n",
    "plt.plot(t_new, y_new, 'r--', label=\"${}$\".format(eq_latex))\n",
    "plt.legend(fontsize=\"large\")\n",
    "plt.show()"
   ]
  },
  {
   "cell_type": "markdown",
   "metadata": {},
   "source": [
    "#### Channel Gate Performance using sim_channel_performance()"
   ]
  },
  {
   "cell_type": "code",
   "execution_count": 14,
   "metadata": {},
   "outputs": [
    {
     "name": "stdout",
     "output_type": "stream",
     "text": [
      "Nb is 18\n",
      "There are 10 terms in Trotter\n",
      "There are 6 terms in QDrift\n",
      "There are 16 terms in Trotter\n",
      "There are 0 terms in QDrift\n",
      "There are 16 terms in Trotter\n",
      "There are 0 terms in QDrift\n",
      "There are 0 terms in Trotter\n",
      "There are 16 terms in QDrift\n",
      "50\n"
     ]
    }
   ],
   "source": [
    "#Load sims and test Monte-Carlo\n",
    "CompSim1 = CompositeSim(graph_hamiltonian_list, inner_order=2, outer_order=1, initial_time=2, partition=\"prob\", nb_optimizer=False, weight_threshold=0.5, epsilon=0.05)\n",
    "TrotSim1 = CompositeSim(graph_hamiltonian_list, inner_order=1, outer_order=1, partition=\"trotter\", nb_optimizer=False, weight_threshold=0.5, epsilon=0.05)\n",
    "TrotSim2 = CompositeSim(graph_hamiltonian_list, inner_order=2, outer_order=1, partition=\"trotter\", nb_optimizer=False, weight_threshold=0.5, epsilon=0.05)\n",
    "QDSim1  = CompositeSim(graph_hamiltonian_list, inner_order=1, outer_order=1, partition=\"qdrift\", nb_optimizer=False, weight_threshold=0.5, epsilon=0.05)\n",
    "\n",
    "t = 2\n",
    "samples = 1\n",
    "iterations = 1\n",
    "sample_guess = 4\n",
    "mcsamples = 50\n",
    "#mcsamples = QDSim1.sample_decider(t, samples, iterations, sample_guess) #needs to be evaluated in a region known to be convergent\n",
    "#infidelity = QDSim1.sample_channel_inf(t, samples, iterations, mcsamples, exact_time_evolution(QDSim1.unparsed_hamiltonian, t, QDSim1.initial_state))\n",
    "#print(infidelity)\n",
    "print(mcsamples)"
   ]
  },
  {
   "cell_type": "code",
   "execution_count": 15,
   "metadata": {},
   "outputs": [
    {
     "name": "stdout",
     "output_type": "stream",
     "text": [
      "0.8950571750901729 2\n",
      "0.9603816042541766 4\n",
      "0.94459516619847 16\n",
      "0.9261427277105084 256\n",
      "the upper bound is 65536\n",
      "(-0.011952410615366074, 0.012444176237078233, 65536, 1)\n",
      "(0.02163025014682078, -0.027234761921503467, 32767, 1)\n",
      "(-0.0010876735935847065, 0.006222343223088081, 32767, 16385)\n",
      "(0.0015481882979408307, -0.01441851639063145, 24575, 16385)\n",
      "(0.003632408617393154, -0.011571666126180144, 24575, 20481)\n",
      "(-0.004452996208632001, 0.008829559956097313, 24575, 22529)\n",
      "(0.0007183906924680822, -0.006006324120987158, 23551, 22529)\n",
      "(0.008909748109786772, 0.002447205501886998, 23551, 23041)\n"
     ]
    }
   ],
   "source": [
    "#data1 = CompSim1.sim_channel_performance(t, samples, iterations, mcsamples)\n",
    "#data2 = TrotSim1.sim_channel_performance(t, samples, iterations, mcsamples)\n",
    "#data3 = TrotSim2.sim_channel_performance(t, samples, iterations, mcsamples)\n",
    "data4 = QDSim1.sim_channel_performance(t, samples, iterations, mcsamples)\n",
    "#print('We require ' + str(data2)  +' gates to meet an epsilon of ' + str(CompSim1.epsilon))"
   ]
  },
  {
   "cell_type": "code",
   "execution_count": 19,
   "metadata": {},
   "outputs": [
    {
     "name": "stdout",
     "output_type": "stream",
     "text": [
      "23296.50281834646\n"
     ]
    },
    {
     "data": {
      "image/png": "[encoded data removed]",
      "text/plain": [
       "<Figure size 1080x504 with 1 Axes>"
      ]
     },
     "metadata": {
      "needs_background": "light"
     },
     "output_type": "display_data"
    }
   ],
   "source": [
    "print(data4)\n",
    "plt.figure(figsize = (15, 7))\n",
    "plt.plot(QDSim1.gate_data[:,0], QDSim1.gate_data[:,1], 'go-') \n",
    "plt.xlabel('gate count', size = 12)\n",
    "plt.ylabel('infidelity', size = 12)\n",
    "\n",
    "start_fit_points=0  #declare the starting point to fit in the data\n",
    "end_fit_points = -1\n",
    "order = 1\n",
    "\n",
    "p = np.polyfit(QDSim1.gate_data[:,0][start_fit_points: end_fit_points], QDSim1.gate_data[:,1][start_fit_points: end_fit_points], order)\n",
    "f = np.poly1d(p)\n",
    "\n",
    "t_new = np.linspace(QDSim1.gate_data[:,0][start_fit_points], QDSim1.gate_data[:,0][end_fit_points], 50)\n",
    "y_new = f(t_new)\n",
    "\n",
    "data1 = symbols(\"t\")\n",
    "poly = sum(S(\"{:6.2f}\".format(v))*data1**i for i, v in enumerate(p[::-1]))\n",
    "eq_latex = printing.latex(poly)\n",
    "\n",
    "#plt.ylim(-1.1, -0.8)\n",
    "#plt.locator_params('x', nbins=20)\n",
    "plt.plot(t_new, y_new, 'b--', label=\"${}$\".format(eq_latex))\n",
    "plt.legend(fontsize=\"large\")\n",
    "plt.show()"
   ]
  },
  {
   "cell_type": "markdown",
   "metadata": {},
   "source": [
    "##### Gate Infidelity Scaling"
   ]
  },
  {
   "cell_type": "markdown",
   "metadata": {},
   "source": [
    "In this section we are evaluating the gate performance to achieve an infidelity of at most `0.05`, which corresponds to a fidelity of at least `0.95`. We initially develop our benchmarks with the simple pauli hamiltonian. For Trotter we can determine the number of gates fairly easily, but for the other two channels there are a few possible points of randomization which make this harder:\n",
    "* Number of QDrift samples (NB)\n",
    "* Monte carlo sampling due to using vectors as opposed to density matrices\n",
    "* Additional sampling may be required if using a probabilistic partition.\n",
    "\n",
    "Due to this randomization we need to introduce another arbitrary metric to evaluate how confident we are that the emprical mean infidelity is above this threshold. Since we have no estimates for the true variance of our infidelity estimator, we have to rely on the sample variance which introduces yet another point of decision as we have to set a limit for how many samples must be taken. Our way around this is that we want our empirical mean to be high enough that if we were to take a gaussian `g` with the empirical mean `m` and the empirical variance `v` then we want `Pr[x > 0.95] > 0.99`, where `x ~ g`. This corresponds to our empiric mean being at least two standard deviations above 0.95 (this is incorrect with `Pr[x > 0.95] > 0.99` but this way is simpler until i compute real number of standard devs needed). This might be absurdly costly to achieve and may need to be relaxed. This still leaves the question, how many samples are needed and how do we split with QD and MC?"
   ]
  },
  {
   "cell_type": "markdown",
   "metadata": {},
   "source": [
    "The below section is aimed at understanding how many gates are needed for Trotter, QDrift, and Composite to hit our infidelity targets with the pauli hamiltonian and `t=1`. We also only compare low order trotter and use first order trotter for our composite channel. "
   ]
  },
  {
   "cell_type": "code",
   "execution_count": 4,
   "metadata": {
    "scrolled": true
   },
   "outputs": [
    {
     "name": "stdout",
     "output_type": "stream",
     "text": [
      "There are 2 terms in Trotter\n",
      "There are 6 terms in QDrift\n",
      "There are 6 terms in Trotter\n",
      "There are 2 terms in QDrift\n"
     ]
    }
   ],
   "source": [
    "t = 1.\n",
    "first_order_trott = TrotterSim(pauli_hamiltonian, order=1)\n",
    "second_order_trott = TrotterSim(pauli_hamiltonian, order=2)\n",
    "qdrift_sim = QDriftSim(pauli_hamiltonian)\n",
    "comp_high_thresh = CompositeSim(pauli_hamiltonian, partition=\"chop\", weight_threshold=2.5)\n",
    "comp_low_thresh = CompositeSim(pauli_hamiltonian, partition=\"chop\", weight_threshold=0.6)\n"
   ]
  },
  {
   "cell_type": "markdown",
   "metadata": {},
   "source": [
    "## WARNING: RUN AT YOUR OWN RISK: 223 MIN RUNTIME"
   ]
  },
  {
   "cell_type": "code",
   "execution_count": 13,
   "metadata": {},
   "outputs": [
    {
     "name": "stdout",
     "output_type": "stream",
     "text": [
      "There are 4 terms in Trotter\n",
      "There are 12 terms in QDrift\n",
      "[find_optimal_iterations] beginning search with lower, upper: 1 1\n",
      "[find_optimal_iterations] iters: 1 , inf_mean:  4.981671053450043e-08  +- ( 0.0 )\n",
      "[find_optimal_iterations] Average cost: 16.0\n",
      "[find_optimal_iterations] beginning search with lower, upper: 1 1\n",
      "[find_optimal_iterations] iters: 1 , inf_mean:  0.028213563545527908  +- ( 0.007971359885475959 )\n",
      "[find_optimal_iterations] Average cost: 1.0\n",
      "[find_optimal_iterations] beginning search with lower, upper: 1 1\n",
      "[find_optimal_iterations] iters: 1 , inf_mean:  1.2972052589654836e-06  +- ( 7.208976705323271e-07 )\n",
      "[find_optimal_iterations] Average cost: 5.0\n",
      "[find_optimal_iterations] beginning search with lower, upper: 1 1\n",
      "[find_optimal_iterations] iters: 1 , inf_mean:  1.5158060695519282e-07  +- ( 0.0 )\n",
      "[find_optimal_iterations] Average cost: 16.0\n",
      "[find_optimal_iterations] beginning search with lower, upper: 1 2\n",
      "[find_optimal_iterations] iters: 2 , inf_mean:  0.019520610241073544  +- ( 0.008642480452727428 )\n",
      "[find_optimal_iterations] Average cost: 2.0\n",
      "[find_optimal_iterations] beginning search with lower, upper: 1 1\n",
      "[find_optimal_iterations] iters: 1 , inf_mean:  3.024607722401651e-06  +- ( 1.9448949301287607e-06 )\n",
      "[find_optimal_iterations] Average cost: 5.0\n",
      "[find_optimal_iterations] beginning search with lower, upper: 1 1\n",
      "[find_optimal_iterations] iters: 1 , inf_mean:  4.6030417599762785e-07  +- ( 0.0 )\n",
      "[find_optimal_iterations] Average cost: 16.0\n",
      "[find_optimal_iterations] beginning search with lower, upper: 2 4\n",
      "[find_optimal_iterations] iters: 3 , inf_mean:  0.022521671604143367  +- ( 0.01227827440505389 )\n",
      "[find_optimal_iterations] Average cost: 3.0\n",
      "[find_optimal_iterations] beginning search with lower, upper: 1 1\n",
      "[find_optimal_iterations] iters: 1 , inf_mean:  1.428270632412021e-05  +- ( 5.881659734384166e-06 )\n",
      "[find_optimal_iterations] Average cost: 5.0\n",
      "[find_optimal_iterations] beginning search with lower, upper: 1 1\n",
      "[find_optimal_iterations] iters: 1 , inf_mean:  1.392922973741939e-06  +- ( 0.0 )\n",
      "[find_optimal_iterations] Average cost: 16.0\n",
      "[find_optimal_iterations] beginning search with lower, upper: 8 16\n",
      "[find_optimal_iterations] iters: 16 , inf_mean:  0.008381215094213768  +- ( 0.007861124704269553 )\n",
      "[find_optimal_iterations] Average cost: 16.0\n",
      "[find_optimal_iterations] beginning search with lower, upper: 1 1\n",
      "[find_optimal_iterations] iters: 1 , inf_mean:  4.5898957180445785e-05  +- ( 1.4971612772272539e-05 )\n",
      "[find_optimal_iterations] Average cost: 5.0\n",
      "[find_optimal_iterations] beginning search with lower, upper: 1 1\n",
      "[find_optimal_iterations] iters: 1 , inf_mean:  4.1893214013377644e-06  +- ( 0.0 )\n",
      "[find_optimal_iterations] Average cost: 16.0\n",
      "[find_optimal_iterations] beginning search with lower, upper: 8 16\n",
      "[find_optimal_iterations] iters: 9 , inf_mean:  0.02516293327859658  +- ( 0.02443939811155685 )\n",
      "[find_optimal_iterations] Average cost: 9.0\n",
      "[find_optimal_iterations] beginning search with lower, upper: 1 1\n",
      "[find_optimal_iterations] iters: 1 , inf_mean:  0.00012253004557162274  +- ( 4.880367310453109e-05 )\n",
      "[find_optimal_iterations] Average cost: 5.0\n",
      "[find_optimal_iterations] beginning search with lower, upper: 1 1\n",
      "[find_optimal_iterations] iters: 1 , inf_mean:  1.2464339516848888e-05  +- ( 0.0 )\n",
      "[find_optimal_iterations] Average cost: 16.0\n",
      "[find_optimal_iterations] beginning search with lower, upper: 16 32\n",
      "[find_optimal_iterations] iters: 32 , inf_mean:  0.014957775050946098  +- ( 0.00800872066399586 )\n",
      "[find_optimal_iterations] Average cost: 32.0\n",
      "[find_optimal_iterations] beginning search with lower, upper: 1 1\n",
      "[find_optimal_iterations] iters: 1 , inf_mean:  0.00037402019572918555  +- ( 0.00011699004704981591 )\n",
      "[find_optimal_iterations] Average cost: 5.0\n",
      "[find_optimal_iterations] beginning search with lower, upper: 1 1\n",
      "[find_optimal_iterations] iters: 1 , inf_mean:  3.638370713943129e-05  +- ( 0.0 )\n",
      "[find_optimal_iterations] Average cost: 16.0\n",
      "[find_optimal_iterations] beginning search with lower, upper: 16 32\n",
      "[find_optimal_iterations] iters: 17 , inf_mean:  0.05145909450251601  +- ( 0.023766565557809607 )\n",
      "[find_optimal_iterations] Average cost: 17.0\n",
      "[find_optimal_iterations] beginning search with lower, upper: 1 1\n",
      "[find_optimal_iterations] iters: 1 , inf_mean:  0.0008403898745590443  +- ( 0.0003599177807568609 )\n",
      "[find_optimal_iterations] Average cost: 5.0\n",
      "[find_optimal_iterations] beginning search with lower, upper: 1 1\n",
      "[find_optimal_iterations] iters: 1 , inf_mean:  0.00010267118994289337  +- ( 0.0 )\n",
      "[find_optimal_iterations] Average cost: 16.0\n",
      "[find_optimal_iterations] beginning search with lower, upper: 64 128\n",
      "[find_optimal_iterations] iters: 112 , inf_mean:  0.014440403923586077  +- ( 0.008617070200524022 )\n",
      "[find_optimal_iterations] Average cost: 112.0\n",
      "[find_optimal_iterations] beginning search with lower, upper: 1 1\n",
      "[find_optimal_iterations] iters: 1 , inf_mean:  0.002012321887113666  +- ( 0.0007558568791906053 )\n",
      "[find_optimal_iterations] Average cost: 5.0\n",
      "[find_optimal_iterations] beginning search with lower, upper: 1 1\n",
      "[find_optimal_iterations] iters: 1 , inf_mean:  0.00027291035707432965  +- ( 0.0 )\n",
      "[find_optimal_iterations] Average cost: 16.0\n",
      "[find_optimal_iterations] beginning search with lower, upper: 128 256\n",
      "[find_optimal_iterations] iters: 256 , inf_mean:  0.01239274101952389  +- ( 0.009726775421661622 )\n",
      "[find_optimal_iterations] Average cost: 256.0\n",
      "[find_optimal_iterations] beginning search with lower, upper: 1 1\n",
      "[find_optimal_iterations] iters: 1 , inf_mean:  0.004208604410070149  +- ( 0.0010156049665306242 )\n",
      "[find_optimal_iterations] Average cost: 5.0\n",
      "[find_optimal_iterations] beginning search with lower, upper: 1 1\n",
      "[find_optimal_iterations] iters: 1 , inf_mean:  0.0006551534075190935  +- ( 0.0 )\n",
      "[find_optimal_iterations] Average cost: 16.0\n",
      "[find_optimal_iterations] beginning search with lower, upper: 256 512\n",
      "[find_optimal_iterations] iters: 512 , inf_mean:  0.003909933817534595  +- ( 0.0023597966112848087 )\n",
      "[find_optimal_iterations] Average cost: 512.0\n",
      "[find_optimal_iterations] beginning search with lower, upper: 1 1\n",
      "[find_optimal_iterations] iters: 1 , inf_mean:  0.007463576515890824  +- ( 0.0008154831892707074 )\n",
      "[find_optimal_iterations] Average cost: 5.0\n",
      "[find_optimal_iterations] beginning search with lower, upper: 1 1\n",
      "[find_optimal_iterations] iters: 1 , inf_mean:  0.001359508715612523  +- ( 0.0 )\n",
      "[find_optimal_iterations] Average cost: 16.0\n",
      "[find_optimal_iterations] beginning search with lower, upper: 256 512\n",
      "[find_optimal_iterations] iters: 289 , inf_mean:  0.027487181646055438  +- ( 0.025184875588392993 )\n",
      "[find_optimal_iterations] Average cost: 289.0\n",
      "[find_optimal_iterations] beginning search with lower, upper: 1 1\n",
      "[find_optimal_iterations] iters: 1 , inf_mean:  0.012703884639588936  +- ( 0.0024036744104520115 )\n",
      "[find_optimal_iterations] Average cost: 5.0\n",
      "[find_optimal_iterations] beginning search with lower, upper: 1 1\n",
      "[find_optimal_iterations] iters: 1 , inf_mean:  0.002582897713409249  +- ( 0.0 )\n",
      "[find_optimal_iterations] Average cost: 16.0\n",
      "[find_optimal_iterations] beginning search with lower, upper: 512 1024\n",
      "[find_optimal_iterations] iters: 1024 , inf_mean:  0.012902649941502187  +- ( 0.005302708237286312 )\n",
      "[find_optimal_iterations] Average cost: 1024.0\n",
      "[find_optimal_iterations] beginning search with lower, upper: 1 1\n",
      "[find_optimal_iterations] iters: 1 , inf_mean:  0.025982803824244106  +- ( 0.0016625148564866242 )\n",
      "[find_optimal_iterations] Average cost: 5.0\n",
      "[find_optimal_iterations] beginning search with lower, upper: 1 1\n",
      "[find_optimal_iterations] iters: 1 , inf_mean:  0.004689360717387903  +- ( 0.0 )\n",
      "[find_optimal_iterations] Average cost: 16.0\n",
      "[find_optimal_iterations] beginning search with lower, upper: 512 1024\n",
      "[find_optimal_iterations] iters: 641 , inf_mean:  0.02982476468303965  +- ( 0.021387966920329564 )\n",
      "[find_optimal_iterations] Average cost: 641.0\n",
      "[find_optimal_iterations] beginning search with lower, upper: 1 2\n",
      "[find_optimal_iterations] iters: 2 , inf_mean:  0.01707390228571747  +- ( 0.0048425140415584884 )\n",
      "[find_optimal_iterations] Average cost: 10.0\n",
      "[find_optimal_iterations] beginning search with lower, upper: 1 1\n",
      "[find_optimal_iterations] iters: 1 , inf_mean:  0.0037488275432988605  +- ( 0.0 )\n",
      "[find_optimal_iterations] Average cost: 16.0\n",
      "[find_optimal_iterations] beginning search with lower, upper: 2048 4096\n",
      "[find_optimal_iterations] iters: 4096 , inf_mean:  0.015668547685106792  +- ( 0.009165559650961497 )\n",
      "[find_optimal_iterations] Average cost: 4096.0\n",
      "[find_optimal_iterations] beginning search with lower, upper: 1 2\n",
      "[find_optimal_iterations] iters: 2 , inf_mean:  0.015237669741796888  +- ( 0.009872089821832302 )\n",
      "[find_optimal_iterations] Average cost: 10.0\n",
      "[find_optimal_iterations] beginning search with lower, upper: 1 1\n",
      "[find_optimal_iterations] iters: 1 , inf_mean:  0.010483743570636417  +- ( 0.0 )\n",
      "[find_optimal_iterations] Average cost: 16.0\n",
      "[find_optimal_iterations] beginning search with lower, upper: 2048 4096\n",
      "[find_optimal_iterations] iters: 2081 , inf_mean:  0.03912655389696057  +- ( 0.033051539551161704 )\n",
      "[find_optimal_iterations] Average cost: 2081.0\n",
      "[find_optimal_iterations] beginning search with lower, upper: 2 4\n",
      "[find_optimal_iterations] iters: 4 , inf_mean:  0.019384258396871457  +- ( 0.008315917190611127 )\n",
      "[find_optimal_iterations] Average cost: 20.0\n",
      "[find_optimal_iterations] beginning search with lower, upper: 1 1\n",
      "[find_optimal_iterations] iters: 1 , inf_mean:  0.02405280660638132  +- ( 3.469446951953614e-18 )\n",
      "[find_optimal_iterations] Average cost: 16.0\n",
      "[find_optimal_iterations] beginning search with lower, upper: 8192 16384\n",
      "[find_optimal_iterations] iters: 16384 , inf_mean:  0.005975391858962076  +- ( 0.002922080855597458 )\n",
      "[find_optimal_iterations] Average cost: 16384.0\n",
      "[find_optimal_iterations] beginning search with lower, upper: 4 8\n",
      "[find_optimal_iterations] iters: 8 , inf_mean:  0.01835203615022447  +- ( 0.005573280786263975 )\n",
      "[find_optimal_iterations] Average cost: 40.0\n",
      "[find_optimal_iterations] beginning search with lower, upper: 1 1\n",
      "[find_optimal_iterations] iters: 1 , inf_mean:  0.020526966859133803  +- ( 3.469446951953614e-18 )\n",
      "[find_optimal_iterations] Average cost: 16.0\n",
      "[find_optimal_iterations] beginning search with lower, upper: 8192 16384\n",
      "[find_optimal_iterations] iters: 15616 , inf_mean:  0.015175918826271551  +- ( 0.005306201179282022 )\n",
      "[find_optimal_iterations] Average cost: 15616.0\n",
      "[find_optimal_iterations] beginning search with lower, upper: 4 8\n",
      "[find_optimal_iterations] iters: 5 , inf_mean:  0.0670293741889913  +- ( 0.021382307462961134 )\n",
      "[find_optimal_iterations] Average cost: 25.0\n",
      "[find_optimal_iterations] beginning search with lower, upper: 1 1\n",
      "[find_optimal_iterations] iters: 1 , inf_mean:  0.029206677884319632  +- ( 0.0 )\n",
      "[find_optimal_iterations] Average cost: 16.0\n",
      "[find_optimal_iterations] beginning search with lower, upper: 16384 32768\n",
      "[find_optimal_iterations] iters: 32768 , inf_mean:  0.01126701827687363  +- ( 0.006880424234814618 )\n",
      "[find_optimal_iterations] Average cost: 32768.0\n",
      "[find_optimal_iterations] beginning search with lower, upper: 8 16\n",
      "[find_optimal_iterations] iters: 9 , inf_mean:  0.03716871792948704  +- ( 0.017235981619208546 )\n",
      "[find_optimal_iterations] Average cost: 45.0\n",
      "[find_optimal_iterations] beginning search with lower, upper: 1 1\n",
      "[find_optimal_iterations] iters: 1 , inf_mean:  0.007878462753554527  +- ( 0.0 )\n",
      "[find_optimal_iterations] Average cost: 16.0\n",
      "[find_optimal_iterations] beginning search with lower, upper: 8192 16384\n",
      "[find_optimal_iterations] iters: 8193 , inf_mean:  0.038863518298654885  +- ( 0.021618762534648162 )\n",
      "[find_optimal_iterations] Average cost: 8193.0\n",
      "[find_optimal_iterations] beginning search with lower, upper: 16 32\n",
      "[find_optimal_iterations] iters: 17 , inf_mean:  0.028785948645070482  +- ( 0.01087976279691842 )\n",
      "[find_optimal_iterations] Average cost: 85.0\n",
      "[find_optimal_iterations] beginning search with lower, upper: 1 2\n",
      "[find_optimal_iterations] iters: 2 , inf_mean:  0.014463220009940053  +- ( 5.204170427930421e-18 )\n",
      "[find_optimal_iterations] Average cost: 32.0\n",
      "[find_optimal_iterations] beginning search with lower, upper: 32768 65536\n",
      "[find_optimal_iterations] iters: 32769 , inf_mean:  0.027550494735048038  +- ( 0.027473087683042154 )\n",
      "[find_optimal_iterations] Average cost: 32769.0\n",
      "[find_optimal_iterations] beginning search with lower, upper: 32 64\n",
      "[find_optimal_iterations] iters: 62 , inf_mean:  0.02364533712443422  +- ( 0.014849075135358096 )\n",
      "[find_optimal_iterations] Average cost: 310.0\n"
     ]
    }
   ],
   "source": [
    "qdsim = QDriftSim(graph_hamiltonian_list)\n",
    "compsim = CompositeSim(graph_hamiltonian_list, partition=\"chop\", nb=8)\n",
    "trottsim = TrotterSim(graph_hamiltonian_list)\n",
    "\n",
    "tStart = 0.01\n",
    "tFinal = 2\n",
    "tSteps = 20\n",
    "times = np.geomspace(tStart, tFinal, tSteps)\n",
    "\n",
    "trott_results = dict()\n",
    "qd_results = dict()\n",
    "comp_results = dict()\n",
    "\n",
    "for t in times:\n",
    "    trott_results[t] = find_optimal_iterations(trottsim, graph_hamiltonian_list, time=t)\n",
    "    qd_results[t] = find_optimal_iterations(qdsim, graph_hamiltonian_list, time=t, mc_samples=10)\n",
    "    comp_results[t] = find_optimal_iterations(compsim, graph_hamiltonian_list, time=t, mc_samples=10)\n",
    "\n"
   ]
  },
  {
   "cell_type": "code",
   "execution_count": 14,
   "metadata": {},
   "outputs": [],
   "source": [
    "import json\n",
    "outfile = open(\"channel_gate_performanc_vs_time_MAR25_01.json\", \"w\")\n",
    "json.dump(trott_results, outfile)\n",
    "json.dump(qd_results, outfile)\n",
    "json.dump(comp_results, outfile)\n",
    "outfile.close()"
   ]
  },
  {
   "cell_type": "code",
   "execution_count": 40,
   "metadata": {},
   "outputs": [
    {
     "ename": "NameError",
     "evalue": "name 'times' is not defined",
     "output_type": "error",
     "traceback": [
      "\u001b[0;31m---------------------------------------------------------------------------\u001b[0m",
      "\u001b[0;31mNameError\u001b[0m                                 Traceback (most recent call last)",
      "\u001b[0;32m/var/folders/1k/18s4nj3942q9d2gph57lw0ph0000gn/T/ipykernel_48802/575892156.py\u001b[0m in \u001b[0;36m<module>\u001b[0;34m\u001b[0m\n\u001b[1;32m      6\u001b[0m \u001b[0mcomp_std\u001b[0m \u001b[0;34m=\u001b[0m \u001b[0;34m[\u001b[0m\u001b[0;34m]\u001b[0m\u001b[0;34m\u001b[0m\u001b[0;34m\u001b[0m\u001b[0m\n\u001b[1;32m      7\u001b[0m \u001b[0;34m\u001b[0m\u001b[0m\n\u001b[0;32m----> 8\u001b[0;31m \u001b[0;32mfor\u001b[0m \u001b[0mt\u001b[0m \u001b[0;32min\u001b[0m \u001b[0mtimes\u001b[0m\u001b[0;34m:\u001b[0m\u001b[0;34m\u001b[0m\u001b[0;34m\u001b[0m\u001b[0m\n\u001b[0m\u001b[1;32m      9\u001b[0m     \u001b[0mtrott_infs\u001b[0m\u001b[0;34m,\u001b[0m \u001b[0mtrott_costs\u001b[0m \u001b[0;34m=\u001b[0m \u001b[0mzip\u001b[0m\u001b[0;34m(\u001b[0m\u001b[0;34m*\u001b[0m\u001b[0mtrott_results\u001b[0m\u001b[0;34m.\u001b[0m\u001b[0mget\u001b[0m\u001b[0;34m(\u001b[0m\u001b[0mt\u001b[0m\u001b[0;34m)\u001b[0m\u001b[0;34m)\u001b[0m\u001b[0;34m\u001b[0m\u001b[0;34m\u001b[0m\u001b[0m\n\u001b[1;32m     10\u001b[0m     \u001b[0mqd_infs\u001b[0m\u001b[0;34m,\u001b[0m \u001b[0mqd_costs\u001b[0m \u001b[0;34m=\u001b[0m \u001b[0mzip\u001b[0m\u001b[0;34m(\u001b[0m\u001b[0;34m*\u001b[0m\u001b[0mqd_results\u001b[0m\u001b[0;34m.\u001b[0m\u001b[0mget\u001b[0m\u001b[0;34m(\u001b[0m\u001b[0mt\u001b[0m\u001b[0;34m)\u001b[0m\u001b[0;34m)\u001b[0m\u001b[0;34m\u001b[0m\u001b[0;34m\u001b[0m\u001b[0m\n",
      "\u001b[0;31mNameError\u001b[0m: name 'times' is not defined"
     ]
    }
   ],
   "source": [
    "trott_mean = []\n",
    "trott_std = []\n",
    "qd_mean = []\n",
    "qd_std = []\n",
    "comp_mean = []\n",
    "comp_std = []\n",
    "\n",
    "for t in times:\n",
    "    trott_infs, trott_costs = zip(*trott_results.get(t))\n",
    "    qd_infs, qd_costs = zip(*qd_results.get(t))\n",
    "    comp_infs, comp_costs = zip(*comp_results.get(t))\n",
    "\n",
    "    trott_mean.append(np.mean(list(trott_costs)))\n",
    "    trott_std.append(np.std(list(trott_costs)))\n",
    "\n",
    "    qd_mean.append(np.mean(list(qd_costs)))\n",
    "    qd_std.append(np.std(list(qd_costs)))\n",
    "\n",
    "    comp_mean.append(np.mean(list(comp_costs)))\n",
    "    comp_std.append(np.std(list(comp_costs)))\n",
    "\n",
    "print(len(qd_std))\n",
    "print(len(comp_std))\n",
    "print(len(trott_std))\n",
    "\n",
    "plt.title(\"(4,1) Graph Hamiltonian Gate Cost Comparison: Infidelity threshold=0.05,\\n MC Samples = 10, Chop Partition, Composite Nb = 8\")\n",
    "plt.loglog(times, trott_mean, label=\"Trotter\")\n",
    "plt.loglog(times, qd_mean, label=\"QDrift\")\n",
    "plt.loglog(times, comp_mean, label=\"Composite\")\n",
    "plt.legend()\n",
    "plt.show()\n"
   ]
  },
  {
   "cell_type": "markdown",
   "metadata": {},
   "source": [
    "## Code Profiling"
   ]
  },
  {
   "cell_type": "code",
   "execution_count": 6,
   "metadata": {},
   "outputs": [
    {
     "name": "stdout",
     "output_type": "stream",
     "text": [
      "Nb is 28\n",
      "There are 11 terms in Trotter\n",
      "There are 5 terms in QDrift\n"
     ]
    }
   ],
   "source": [
    "#Use the @profile decorator above any function in the notebook \n",
    "# and then simply execute the function from the classes defined below\n",
    "QDtest = QDriftSim(graph_hamiltonian_list)\n",
    "TrotTest = TrotterSim(graph_hamiltonian_list, order = 2)\n",
    "CompTest = CompositeSim(graph_hamiltonian_list, inner_order =2, partition = \"prob\")"
   ]
  },
  {
   "cell_type": "code",
   "execution_count": 9,
   "metadata": {},
   "outputs": [
    {
     "name": "stdout",
     "output_type": "stream",
     "text": [
      "         218970 function calls (218942 primitive calls) in 0.653 seconds\n",
      "\n",
      "   Ordered by: cumulative time\n",
      "\n",
      "   ncalls  tottime  percall  cumtime  percall filename:lineno(function)\n",
      "        1    0.004    0.004    0.653    0.653 /Users/matthewpocrnic/Desktop/A1 Grad School Assignments/Master's Research/Simulation Code/Trotter-Qdrift-Simulation/compilers.py:709(simulate)\n",
      "      500    0.066    0.000    0.584    0.001 /Users/matthewpocrnic/Desktop/A1 Grad School Assignments/Master's Research/Simulation Code/Trotter-Qdrift-Simulation/compilers.py:369(simulate)\n",
      "      500    0.154    0.000    0.495    0.001 /Users/matthewpocrnic/Desktop/A1 Grad School Assignments/Master's Research/Simulation Code/Trotter-Qdrift-Simulation/compilers.py:355(draw_hamiltonian_samples)\n",
      "    14500    0.013    0.000    0.331    0.000 <__array_function__ internals>:2(sum)\n",
      "16206/16179    0.013    0.000    0.327    0.000 {built-in method numpy.core._multiarray_umath.implement_array_function}\n",
      "    14500    0.030    0.000    0.305    0.000 /opt/anaconda3/lib/python3.7/site-packages/numpy/core/fromnumeric.py:2123(sum)\n",
      "    14527    0.049    0.000    0.271    0.000 /opt/anaconda3/lib/python3.7/site-packages/numpy/core/fromnumeric.py:69(_wrapreduction)\n",
      "    14770    0.195    0.000    0.195    0.000 {method 'reduce' of 'numpy.ufunc' objects}\n",
      "      500    0.052    0.000    0.065    0.000 /Users/matthewpocrnic/Desktop/A1 Grad School Assignments/Master's Research/Simulation Code/Trotter-Qdrift-Simulation/compilers.py:249(simulate)\n",
      "    14000    0.017    0.000    0.017    0.000 {method 'random' of 'numpy.random.mtrand.RandomState' objects}\n",
      "    14814    0.017    0.000    0.017    0.000 {built-in method builtins.getattr}\n",
      "       27    0.000    0.000    0.014    0.001 /opt/anaconda3/lib/python3.7/site-packages/scipy/linalg/matfuncs.py:210(expm)\n",
      "       27    0.000    0.000    0.014    0.001 /opt/anaconda3/lib/python3.7/site-packages/scipy/sparse/linalg/matfuncs.py:546(expm)\n",
      "       27    0.000    0.000    0.014    0.001 /opt/anaconda3/lib/python3.7/site-packages/scipy/sparse/linalg/matfuncs.py:594(_expm)\n",
      "    14527    0.011    0.000    0.011    0.000 /opt/anaconda3/lib/python3.7/site-packages/numpy/core/fromnumeric.py:70(<dictcomp>)\n",
      "     1501    0.002    0.000    0.009    0.000 <__array_function__ internals>:2(copy)\n",
      "     1501    0.001    0.000    0.005    0.000 /opt/anaconda3/lib/python3.7/site-packages/numpy/lib/function_base.py:726(copy)\n",
      "     1501    0.004    0.000    0.004    0.000 {built-in method numpy.array}\n",
      "    14976    0.004    0.000    0.004    0.000 {built-in method builtins.isinstance}\n",
      "       27    0.001    0.000    0.003    0.000 /opt/anaconda3/lib/python3.7/site-packages/scipy/sparse/linalg/matfuncs.py:820(_ell)\n",
      "       27    0.000    0.000    0.003    0.000 /opt/anaconda3/lib/python3.7/site-packages/scipy/sparse/linalg/matfuncs.py:684(_solve_P_Q)\n",
      "       81    0.000    0.000    0.003    0.000 /opt/anaconda3/lib/python3.7/site-packages/scipy/sparse/linalg/_expm_multiply.py:24(_exact_1_norm)\n",
      "    15997    0.002    0.000    0.002    0.000 {built-in method builtins.len}\n",
      "    14500    0.002    0.000    0.002    0.000 /opt/anaconda3/lib/python3.7/site-packages/numpy/core/fromnumeric.py:2118(_sum_dispatcher)\n",
      "       81    0.000    0.000    0.002    0.000 <__array_function__ internals>:2(norm)\n",
      "    14527    0.002    0.000    0.002    0.000 {method 'items' of 'dict' objects}\n",
      "       27    0.000    0.000    0.002    0.000 /opt/anaconda3/lib/python3.7/site-packages/scipy/sparse/linalg/matfuncs.py:440(d4_loose)\n",
      "    14447    0.002    0.000    0.002    0.000 {method 'get' of 'dict' objects}\n",
      "       27    0.000    0.000    0.002    0.000 /opt/anaconda3/lib/python3.7/site-packages/scipy/sparse/linalg/matfuncs.py:416(d4_tight)\n",
      "       81    0.001    0.000    0.002    0.000 /opt/anaconda3/lib/python3.7/site-packages/numpy/linalg/linalg.py:2363(norm)\n",
      "    14016    0.002    0.000    0.002    0.000 {method 'append' of 'list' objects}\n",
      "      108    0.001    0.000    0.002    0.000 /opt/anaconda3/lib/python3.7/site-packages/scipy/sparse/linalg/matfuncs.py:129(_smart_matrix_product)\n",
      "       27    0.000    0.000    0.002    0.000 /opt/anaconda3/lib/python3.7/site-packages/scipy/sparse/linalg/matfuncs.py:114(_is_upper_triangular)\n",
      "       27    0.000    0.000    0.002    0.000 /opt/anaconda3/lib/python3.7/site-packages/scipy/sparse/linalg/matfuncs.py:81(_onenorm_matrix_power_nnm)\n",
      "       27    0.000    0.000    0.002    0.000 <__array_function__ internals>:2(tril)\n",
      "       27    0.000    0.000    0.001    0.000 /opt/anaconda3/lib/python3.7/site-packages/numpy/lib/twodim_base.py:436(tril)\n",
      "       27    0.000    0.000    0.001    0.000 /opt/anaconda3/lib/python3.7/site-packages/scipy/sparse/linalg/matfuncs.py:452(d6_loose)\n",
      "       27    0.000    0.000    0.001    0.000 /opt/anaconda3/lib/python3.7/site-packages/scipy/sparse/linalg/matfuncs.py:422(d6_tight)\n",
      "      221    0.001    0.000    0.001    0.000 {method 'dot' of 'numpy.ndarray' objects}\n",
      "        8    0.001    0.000    0.001    0.000 /opt/anaconda3/lib/python3.7/site-packages/scipy/linalg/basic.py:40(solve)\n",
      "       27    0.001    0.000    0.001    0.000 /opt/anaconda3/lib/python3.7/site-packages/scipy/sparse/linalg/matfuncs.py:488(pade3)\n",
      "       54    0.000    0.000    0.001    0.000 /opt/anaconda3/lib/python3.7/site-packages/scipy/sparse/linalg/matfuncs.py:388(A4)\n",
      "       54    0.000    0.000    0.001    0.000 /opt/anaconda3/lib/python3.7/site-packages/scipy/_lib/_util.py:247(_asarray_validated)\n",
      "       27    0.000    0.000    0.001    0.000 /opt/anaconda3/lib/python3.7/site-packages/numpy/lib/twodim_base.py:370(tri)\n",
      "       19    0.000    0.000    0.001    0.000 /opt/anaconda3/lib/python3.7/site-packages/scipy/linalg/basic.py:264(solve_triangular)\n",
      "      135    0.000    0.000    0.001    0.000 /opt/anaconda3/lib/python3.7/site-packages/scipy/sparse/linalg/matfuncs.py:381(A2)\n",
      "       54    0.000    0.000    0.001    0.000 /opt/anaconda3/lib/python3.7/site-packages/numpy/lib/function_base.py:422(asarray_chkfinite)\n",
      "       54    0.001    0.000    0.001    0.000 {built-in method numpy.arange}\n",
      "       27    0.000    0.000    0.001    0.000 /opt/anaconda3/lib/python3.7/site-packages/scipy/sparse/linalg/matfuncs.py:347(__init__)\n",
      "       27    0.000    0.000    0.000    0.000 /opt/anaconda3/lib/python3.7/site-packages/scipy/sparse/linalg/matfuncs.py:395(A6)\n",
      "       27    0.000    0.000    0.000    0.000 /opt/anaconda3/lib/python3.7/site-packages/scipy/sparse/linalg/_expm_multiply.py:44(_ident_like)\n",
      "       27    0.000    0.000    0.000    0.000 <__array_function__ internals>:2(amax)\n",
      "       81    0.000    0.000    0.000    0.000 {method 'max' of 'numpy.ndarray' objects}\n",
      "       54    0.000    0.000    0.000    0.000 {method 'all' of 'numpy.ndarray' objects}\n",
      "       27    0.000    0.000    0.000    0.000 /opt/anaconda3/lib/python3.7/site-packages/numpy/core/fromnumeric.py:2638(amax)\n",
      "       54    0.000    0.000    0.000    0.000 /opt/anaconda3/lib/python3.7/site-packages/numpy/core/_methods.py:60(_all)\n",
      "     1501    0.000    0.000    0.000    0.000 /opt/anaconda3/lib/python3.7/site-packages/numpy/lib/function_base.py:722(_copy_dispatcher)\n",
      "       81    0.000    0.000    0.000    0.000 /opt/anaconda3/lib/python3.7/site-packages/numpy/core/_methods.py:38(_amax)\n",
      "      314    0.000    0.000    0.000    0.000 /opt/anaconda3/lib/python3.7/site-packages/scipy/sparse/sputils.py:344(is_pydata_spmatrix)\n",
      "      500    0.000    0.000    0.000    0.000 /Users/matthewpocrnic/Desktop/A1 Grad School Assignments/Master's Research/Simulation Code/Trotter-Qdrift-Simulation/compilers.py:336(set_initial_state)\n",
      "       27    0.000    0.000    0.000    0.000 /opt/anaconda3/lib/python3.7/site-packages/numpy/lib/twodim_base.py:161(eye)\n",
      "       27    0.000    0.000    0.000    0.000 /opt/anaconda3/lib/python3.7/site-packages/numpy/core/numeric.py:149(ones)\n",
      "      119    0.000    0.000    0.000    0.000 /opt/anaconda3/lib/python3.7/site-packages/scipy/linalg/blas.py:383(getter)\n",
      "      500    0.000    0.000    0.000    0.000 /Users/matthewpocrnic/Desktop/A1 Grad School Assignments/Master's Research/Simulation Code/Trotter-Qdrift-Simulation/compilers.py:239(set_initial_state)\n",
      "       27    0.000    0.000    0.000    0.000 {method 'any' of 'numpy.ndarray' objects}\n",
      "       27    0.000    0.000    0.000    0.000 {method 'outer' of 'numpy.ufunc' objects}\n",
      "      368    0.000    0.000    0.000    0.000 /opt/anaconda3/lib/python3.7/site-packages/scipy/sparse/base.py:1205(isspmatrix)\n",
      "       27    0.000    0.000    0.000    0.000 <__array_function__ internals>:2(where)\n",
      "       27    0.000    0.000    0.000    0.000 /opt/anaconda3/lib/python3.7/site-packages/numpy/core/_methods.py:54(_any)\n",
      "       27    0.000    0.000    0.000    0.000 <__array_function__ internals>:2(copyto)\n",
      "       54    0.000    0.000    0.000    0.000 /opt/anaconda3/lib/python3.7/site-packages/numpy/lib/twodim_base.py:32(_min_int)\n",
      "       27    0.000    0.000    0.000    0.000 /opt/anaconda3/lib/python3.7/site-packages/numpy/core/numerictypes.py:358(issubdtype)\n",
      "       27    0.000    0.000    0.000    0.000 {built-in method builtins.abs}\n",
      "       57    0.000    0.000    0.000    0.000 {built-in method numpy.zeros}\n",
      "       54    0.000    0.000    0.000    0.000 /opt/anaconda3/lib/python3.7/site-packages/numpy/core/numerictypes.py:284(issubclass_)\n",
      "      162    0.000    0.000    0.000    0.000 {built-in method builtins.issubclass}\n",
      "        8    0.000    0.000    0.000    0.000 <__array_function__ internals>:2(atleast_2d)\n",
      "        8    0.000    0.000    0.000    0.000 <__array_function__ internals>:2(atleast_1d)\n",
      "       27    0.000    0.000    0.000    0.000 {built-in method numpy.empty}\n",
      "       27    0.000    0.000    0.000    0.000 /opt/anaconda3/lib/python3.7/site-packages/scipy/_lib/_util.py:166(float_factorial)\n",
      "       54    0.000    0.000    0.000    0.000 /opt/anaconda3/lib/python3.7/site-packages/numpy/core/getlimits.py:538(max)\n",
      "       27    0.000    0.000    0.000    0.000 /opt/anaconda3/lib/python3.7/site-packages/scipy/special/_basic.py:2170(comb)\n",
      "       54    0.000    0.000    0.000    0.000 {built-in method builtins.max}\n",
      "      162    0.000    0.000    0.000    0.000 {built-in method numpy.core._multiarray_umath.normalize_axis_index}\n",
      "       54    0.000    0.000    0.000    0.000 /opt/anaconda3/lib/python3.7/site-packages/numpy/core/getlimits.py:525(min)\n",
      "       24    0.000    0.000    0.000    0.000 /opt/anaconda3/lib/python3.7/site-packages/scipy/linalg/basic.py:23(_solve_check)\n",
      "        1    0.000    0.000    0.000    0.000 /Users/matthewpocrnic/Desktop/A1 Grad School Assignments/Master's Research/Simulation Code/Trotter-Qdrift-Simulation/compilers.py:486(reset_init_state)\n",
      "      135    0.000    0.000    0.000    0.000 {built-in method numpy.asarray}\n",
      "        8    0.000    0.000    0.000    0.000 /opt/anaconda3/lib/python3.7/site-packages/numpy/core/shape_base.py:81(atleast_2d)\n",
      "       54    0.000    0.000    0.000    0.000 /opt/anaconda3/lib/python3.7/site-packages/numpy/ma/core.py:6374(isMaskedArray)\n",
      "       27    0.000    0.000    0.000    0.000 {scipy.special._comb._comb_int}\n",
      "        8    0.000    0.000    0.000    0.000 /opt/anaconda3/lib/python3.7/site-packages/numpy/core/shape_base.py:23(atleast_1d)\n",
      "       27    0.000    0.000    0.000    0.000 {method 'astype' of 'numpy.ndarray' objects}\n",
      "       81    0.000    0.000    0.000    0.000 /opt/anaconda3/lib/python3.7/site-packages/numpy/linalg/linalg.py:2359(_norm_dispatcher)\n",
      "       27    0.000    0.000    0.000    0.000 /opt/anaconda3/lib/python3.7/site-packages/numpy/lib/twodim_base.py:432(_trilu_dispatcher)\n",
      "       27    0.000    0.000    0.000    0.000 {built-in method math.factorial}\n",
      "      3/2    0.000    0.000    0.000    0.000 /Users/matthewpocrnic/Desktop/A1 Grad School Assignments/Master's Research/Simulation Code/Trotter-Qdrift-Simulation/compilers.py:153(compute_trotter_timesteps)\n",
      "       43    0.000    0.000    0.000    0.000 {built-in method numpy.asanyarray}\n",
      "        2    0.000    0.000    0.000    0.000 {method 'clear' of 'dict' objects}\n",
      "       27    0.000    0.000    0.000    0.000 /opt/anaconda3/lib/python3.7/site-packages/numpy/core/fromnumeric.py:2633(_amax_dispatcher)\n",
      "       27    0.000    0.000    0.000    0.000 /opt/anaconda3/lib/python3.7/site-packages/numpy/core/multiarray.py:1071(copyto)\n",
      "        1    0.000    0.000    0.000    0.000 /Users/matthewpocrnic/Desktop/A1 Grad School Assignments/Master's Research/Simulation Code/Trotter-Qdrift-Simulation/compilers.py:242(reset_init_state)\n",
      "       35    0.000    0.000    0.000    0.000 /opt/anaconda3/lib/python3.7/site-packages/scipy/linalg/misc.py:180(_datacopied)\n",
      "       27    0.000    0.000    0.000    0.000 /opt/anaconda3/lib/python3.7/site-packages/numpy/core/multiarray.py:341(where)\n",
      "        1    0.000    0.000    0.000    0.000 /Users/matthewpocrnic/Desktop/A1 Grad School Assignments/Master's Research/Simulation Code/Trotter-Qdrift-Simulation/compilers.py:339(reset_init_state)\n",
      "        8    0.000    0.000    0.000    0.000 /opt/anaconda3/lib/python3.7/site-packages/numpy/core/shape_base.py:77(_atleast_2d_dispatcher)\n",
      "        2    0.000    0.000    0.000    0.000 /Users/matthewpocrnic/Desktop/A1 Grad School Assignments/Master's Research/Simulation Code/Trotter-Qdrift-Simulation/compilers.py:159(<listcomp>)\n",
      "        8    0.000    0.000    0.000    0.000 /opt/anaconda3/lib/python3.7/site-packages/numpy/core/shape_base.py:19(_atleast_1d_dispatcher)\n",
      "        1    0.000    0.000    0.000    0.000 {method 'copy' of 'list' objects}\n",
      "        1    0.000    0.000    0.000    0.000 {method 'reverse' of 'list' objects}\n",
      "        1    0.000    0.000    0.000    0.000 {method 'disable' of '_lsprof.Profiler' objects}\n",
      "\n",
      "\n",
      "\n"
     ]
    },
    {
     "data": {
      "text/plain": [
       "array([[ 0.04657303+8.98447138e-03j],\n",
       "       [-0.0081226 -1.05209938e-01j],\n",
       "       [ 0.00043893+4.53157983e-03j],\n",
       "       [ 0.0104241 -1.15266977e-02j],\n",
       "       [-0.03289562+1.12467799e-01j],\n",
       "       [ 0.26043223+4.73684174e-03j],\n",
       "       [-0.01007516-1.15135397e-03j],\n",
       "       [ 0.01950316+2.80811059e-02j],\n",
       "       [ 0.05212141-1.40581937e-01j],\n",
       "       [-0.3312342 -2.74534659e-02j],\n",
       "       [ 0.01443539-5.90420141e-04j],\n",
       "       [-0.03004891-3.93644517e-02j],\n",
       "       [ 0.34153119+1.03827494e-01j],\n",
       "       [ 0.02018393-7.92414014e-01j],\n",
       "       [-0.00339412+2.90928113e-02j],\n",
       "       [ 0.08686583-6.11311439e-02j]])"
      ]
     },
     "execution_count": 9,
     "metadata": {},
     "output_type": "execute_result"
    }
   ],
   "source": [
    "CompTest.simulate(1, 40, 500)"
   ]
  },
  {
   "cell_type": "code",
   "execution_count": null,
   "metadata": {},
   "outputs": [],
   "source": []
  }
 ],
 "metadata": {
  "interpreter": {
   "hash": "40d3a090f54c6569ab1632332b64b2c03c39dcf918b08424e98f38b5ae0af88f"
  },
  "kernelspec": {
   "display_name": "Python 3.7.13 ('base')",
   "language": "python",
   "name": "python3"
  },
  "language_info": {
   "codemirror_mode": {
    "name": "ipython",
    "version": 3
   },
   "file_extension": ".py",
   "mimetype": "text/x-python",
   "name": "python",
   "nbconvert_exporter": "python",
   "pygments_lexer": "ipython3",
   "version": "3.7.13"
  }
 },
 "nbformat": 4,
 "nbformat_minor": 2
}
