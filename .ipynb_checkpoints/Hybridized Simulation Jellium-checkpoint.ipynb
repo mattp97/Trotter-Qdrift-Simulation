{
 "cells": [
  {
   "cell_type": "code",
   "execution_count": 1,
   "metadata": {},
   "outputs": [
    {
     "name": "stdout",
     "output_type": "stream",
     "text": [
      "Defaulting to user installation because normal site-packages is not writeable\n",
      "Collecting openfermion\n",
      "  Cloning https://github.com/quantumlib/OpenFermion.git (to revision master) to /private/var/folders/1k/18s4nj3942q9d2gph57lw0ph0000gn/T/pip-install-rqkykiel/openfermion_b98f16bbfab84e9dafa83d19f033d560\n",
      "  Running command git clone --filter=blob:none --quiet https://github.com/quantumlib/OpenFermion.git /private/var/folders/1k/18s4nj3942q9d2gph57lw0ph0000gn/T/pip-install-rqkykiel/openfermion_b98f16bbfab84e9dafa83d19f033d560\n",
      "  Resolved https://github.com/quantumlib/OpenFermion.git to commit 3145a724da124457faf45c3bf7b618a67462527f\n",
      "  Preparing metadata (setup.py) ... \u001b[?25ldone\n",
      "\u001b[?25hRequirement already satisfied: cirq-core>=0.12.0 in /Users/matthewpocrnic/Library/Python/3.8/lib/python/site-packages (from openfermion) (0.14.1)\n",
      "Requirement already satisfied: cirq-google>=0.12.0 in /Users/matthewpocrnic/Library/Python/3.8/lib/python/site-packages (from openfermion) (0.14.1)\n",
      "Requirement already satisfied: deprecation in /Users/matthewpocrnic/Library/Python/3.8/lib/python/site-packages (from openfermion) (2.1.0)\n",
      "Requirement already satisfied: h5py>=2.8 in /Users/matthewpocrnic/Library/Python/3.8/lib/python/site-packages (from openfermion) (3.6.0)\n",
      "Requirement already satisfied: networkx in /Users/matthewpocrnic/Library/Python/3.8/lib/python/site-packages (from openfermion) (2.8)\n",
      "Requirement already satisfied: numpy>=1.11.0 in /Users/matthewpocrnic/Library/Python/3.8/lib/python/site-packages (from openfermion) (1.22.3)\n",
      "Requirement already satisfied: pubchempy in /Users/matthewpocrnic/Library/Python/3.8/lib/python/site-packages (from openfermion) (1.0.4)\n",
      "Requirement already satisfied: requests>=2.18 in /Users/matthewpocrnic/Library/Python/3.8/lib/python/site-packages (from openfermion) (2.27.1)\n",
      "Requirement already satisfied: scipy>=1.1.0 in /Users/matthewpocrnic/Library/Python/3.8/lib/python/site-packages (from openfermion) (1.8.0)\n",
      "Requirement already satisfied: sympy in /Users/matthewpocrnic/Library/Python/3.8/lib/python/site-packages (from openfermion) (1.9)\n",
      "Requirement already satisfied: sortedcontainers~=2.0 in /Users/matthewpocrnic/Library/Python/3.8/lib/python/site-packages (from cirq-core>=0.12.0->openfermion) (2.4.0)\n",
      "Requirement already satisfied: tqdm in /Users/matthewpocrnic/Library/Python/3.8/lib/python/site-packages (from cirq-core>=0.12.0->openfermion) (4.64.0)\n",
      "Requirement already satisfied: duet~=0.2.0 in /Users/matthewpocrnic/Library/Python/3.8/lib/python/site-packages (from cirq-core>=0.12.0->openfermion) (0.2.6)\n",
      "Requirement already satisfied: typing-extensions in /Users/matthewpocrnic/Library/Python/3.8/lib/python/site-packages (from cirq-core>=0.12.0->openfermion) (4.2.0)\n",
      "Requirement already satisfied: matplotlib~=3.0 in /Users/matthewpocrnic/Library/Python/3.8/lib/python/site-packages (from cirq-core>=0.12.0->openfermion) (3.5.1)\n",
      "Requirement already satisfied: pandas in /Users/matthewpocrnic/Library/Python/3.8/lib/python/site-packages (from cirq-core>=0.12.0->openfermion) (1.4.2)\n",
      "Requirement already satisfied: protobuf>=3.13.0 in /Users/matthewpocrnic/Library/Python/3.8/lib/python/site-packages (from cirq-google>=0.12.0->openfermion) (3.20.1)\n",
      "Requirement already satisfied: google-api-core[grpc]<2.0.0dev,>=1.14.0 in /Users/matthewpocrnic/Library/Python/3.8/lib/python/site-packages (from cirq-google>=0.12.0->openfermion) (1.31.5)\n",
      "Requirement already satisfied: urllib3<1.27,>=1.21.1 in /Users/matthewpocrnic/Library/Python/3.8/lib/python/site-packages (from requests>=2.18->openfermion) (1.26.9)\n",
      "Requirement already satisfied: charset-normalizer~=2.0.0 in /Users/matthewpocrnic/Library/Python/3.8/lib/python/site-packages (from requests>=2.18->openfermion) (2.0.12)\n",
      "Requirement already satisfied: certifi>=2017.4.17 in /Users/matthewpocrnic/Library/Python/3.8/lib/python/site-packages (from requests>=2.18->openfermion) (2021.10.8)\n",
      "Requirement already satisfied: idna<4,>=2.5 in /Users/matthewpocrnic/Library/Python/3.8/lib/python/site-packages (from requests>=2.18->openfermion) (3.3)\n",
      "Requirement already satisfied: mpmath>=0.19 in /Users/matthewpocrnic/Library/Python/3.8/lib/python/site-packages (from sympy->openfermion) (1.2.1)\n",
      "Requirement already satisfied: packaging in /Users/matthewpocrnic/Library/Python/3.8/lib/python/site-packages (from deprecation->openfermion) (21.3)\n",
      "Requirement already satisfied: six>=1.13.0 in /Applications/Xcode.app/Contents/Developer/Library/Frameworks/Python3.framework/Versions/3.8/lib/python3.8/site-packages (from google-api-core[grpc]<2.0.0dev,>=1.14.0->cirq-google>=0.12.0->openfermion) (1.15.0)\n",
      "Requirement already satisfied: googleapis-common-protos<2.0dev,>=1.6.0 in /Users/matthewpocrnic/Library/Python/3.8/lib/python/site-packages (from google-api-core[grpc]<2.0.0dev,>=1.14.0->cirq-google>=0.12.0->openfermion) (1.56.0)\n",
      "Requirement already satisfied: google-auth<2.0dev,>=1.25.0 in /Users/matthewpocrnic/Library/Python/3.8/lib/python/site-packages (from google-api-core[grpc]<2.0.0dev,>=1.14.0->cirq-google>=0.12.0->openfermion) (1.35.0)\n",
      "Requirement already satisfied: setuptools>=40.3.0 in /Applications/Xcode.app/Contents/Developer/Library/Frameworks/Python3.framework/Versions/3.8/lib/python3.8/site-packages (from google-api-core[grpc]<2.0.0dev,>=1.14.0->cirq-google>=0.12.0->openfermion) (49.2.1)\n",
      "Requirement already satisfied: pytz in /Users/matthewpocrnic/Library/Python/3.8/lib/python/site-packages (from google-api-core[grpc]<2.0.0dev,>=1.14.0->cirq-google>=0.12.0->openfermion) (2022.1)\n",
      "Requirement already satisfied: grpcio<2.0dev,>=1.29.0 in /Users/matthewpocrnic/Library/Python/3.8/lib/python/site-packages (from google-api-core[grpc]<2.0.0dev,>=1.14.0->cirq-google>=0.12.0->openfermion) (1.44.0)\n",
      "Requirement already satisfied: pyparsing>=2.2.1 in /Users/matthewpocrnic/Library/Python/3.8/lib/python/site-packages (from matplotlib~=3.0->cirq-core>=0.12.0->openfermion) (3.0.8)\n",
      "Requirement already satisfied: cycler>=0.10 in /Users/matthewpocrnic/Library/Python/3.8/lib/python/site-packages (from matplotlib~=3.0->cirq-core>=0.12.0->openfermion) (0.11.0)\n",
      "Requirement already satisfied: kiwisolver>=1.0.1 in /Users/matthewpocrnic/Library/Python/3.8/lib/python/site-packages (from matplotlib~=3.0->cirq-core>=0.12.0->openfermion) (1.4.2)\n",
      "Requirement already satisfied: fonttools>=4.22.0 in /Users/matthewpocrnic/Library/Python/3.8/lib/python/site-packages (from matplotlib~=3.0->cirq-core>=0.12.0->openfermion) (4.33.3)\n",
      "Requirement already satisfied: python-dateutil>=2.7 in /Users/matthewpocrnic/Library/Python/3.8/lib/python/site-packages (from matplotlib~=3.0->cirq-core>=0.12.0->openfermion) (2.8.2)\n",
      "Requirement already satisfied: pillow>=6.2.0 in /Users/matthewpocrnic/Library/Python/3.8/lib/python/site-packages (from matplotlib~=3.0->cirq-core>=0.12.0->openfermion) (9.1.0)\n",
      "Requirement already satisfied: rsa<5,>=3.1.4 in /Users/matthewpocrnic/Library/Python/3.8/lib/python/site-packages (from google-auth<2.0dev,>=1.25.0->google-api-core[grpc]<2.0.0dev,>=1.14.0->cirq-google>=0.12.0->openfermion) (4.8)\n",
      "Requirement already satisfied: cachetools<5.0,>=2.0.0 in /Users/matthewpocrnic/Library/Python/3.8/lib/python/site-packages (from google-auth<2.0dev,>=1.25.0->google-api-core[grpc]<2.0.0dev,>=1.14.0->cirq-google>=0.12.0->openfermion) (4.2.4)\n",
      "Requirement already satisfied: pyasn1-modules>=0.2.1 in /Users/matthewpocrnic/Library/Python/3.8/lib/python/site-packages (from google-auth<2.0dev,>=1.25.0->google-api-core[grpc]<2.0.0dev,>=1.14.0->cirq-google>=0.12.0->openfermion) (0.2.8)\n",
      "Requirement already satisfied: pyasn1<0.5.0,>=0.4.6 in /Users/matthewpocrnic/Library/Python/3.8/lib/python/site-packages (from pyasn1-modules>=0.2.1->google-auth<2.0dev,>=1.25.0->google-api-core[grpc]<2.0.0dev,>=1.14.0->cirq-google>=0.12.0->openfermion) (0.4.8)\n"
     ]
    }
   ],
   "source": [
    "try:\n",
    "    import openfermion\n",
    "except ImportError:\n",
    "    !pip3 install git+https://github.com/quantumlib/OpenFermion.git@master#egg=openfermion"
   ]
  },
  {
   "cell_type": "code",
   "execution_count": 2,
   "metadata": {},
   "outputs": [],
   "source": [
    "import numpy as np\n",
    "import matplotlib.pyplot as plt \n",
    "%matplotlib inline\n",
    "import scipy.linalg as la\n",
    "import math\n",
    "from numpy import random\n",
    "import cmath\n",
    "import time\n",
    "from sympy import S, symbols, printing"
   ]
  },
  {
   "cell_type": "code",
   "execution_count": 3,
   "metadata": {},
   "outputs": [
    {
     "ename": "ModuleNotFoundError",
     "evalue": "No module named 'openfermion'",
     "output_type": "error",
     "traceback": [
      "\u001b[0;31m---------------------------------------------------------------------------\u001b[0m",
      "\u001b[0;31mModuleNotFoundError\u001b[0m                       Traceback (most recent call last)",
      "\u001b[0;32m<ipython-input-3-01bdd6a7bf2b>\u001b[0m in \u001b[0;36m<module>\u001b[0;34m\u001b[0m\n\u001b[0;32m----> 1\u001b[0;31m \u001b[0;32mimport\u001b[0m \u001b[0mopenfermion\u001b[0m\u001b[0;34m\u001b[0m\u001b[0;34m\u001b[0m\u001b[0m\n\u001b[0m\u001b[1;32m      2\u001b[0m \u001b[0;32mfrom\u001b[0m \u001b[0mopenfermion\u001b[0m\u001b[0;34m.\u001b[0m\u001b[0mhamiltonians\u001b[0m \u001b[0;32mimport\u001b[0m \u001b[0mjellium_model\u001b[0m\u001b[0;34m\u001b[0m\u001b[0;34m\u001b[0m\u001b[0m\n\u001b[1;32m      3\u001b[0m \u001b[0;32mfrom\u001b[0m \u001b[0mopenfermion\u001b[0m\u001b[0;34m.\u001b[0m\u001b[0mutils\u001b[0m \u001b[0;32mimport\u001b[0m \u001b[0mGrid\u001b[0m\u001b[0;34m\u001b[0m\u001b[0;34m\u001b[0m\u001b[0m\n\u001b[1;32m      4\u001b[0m \u001b[0;32mfrom\u001b[0m \u001b[0mopenfermion\u001b[0m\u001b[0;34m.\u001b[0m\u001b[0mlinalg\u001b[0m \u001b[0;32mimport\u001b[0m \u001b[0meigenspectrum\u001b[0m\u001b[0;34m\u001b[0m\u001b[0;34m\u001b[0m\u001b[0m\n\u001b[1;32m      5\u001b[0m \u001b[0;32mfrom\u001b[0m \u001b[0mopenfermion\u001b[0m\u001b[0;34m.\u001b[0m\u001b[0mtransforms\u001b[0m \u001b[0;32mimport\u001b[0m \u001b[0mjordan_wigner\u001b[0m\u001b[0;34m,\u001b[0m \u001b[0mfourier_transform\u001b[0m\u001b[0;34m\u001b[0m\u001b[0;34m\u001b[0m\u001b[0m\n",
      "\u001b[0;31mModuleNotFoundError\u001b[0m: No module named 'openfermion'"
     ]
    }
   ],
   "source": [
    "import openfermion\n",
    "from openfermion.hamiltonians import jellium_model\n",
    "from openfermion.utils import Grid\n",
    "from openfermion.linalg import eigenspectrum\n",
    "from openfermion.transforms import jordan_wigner, fourier_transform"
   ]
  },
  {
   "cell_type": "markdown",
   "metadata": {},
   "source": [
    " ### Hamiltonian Initialization"
   ]
  },
  {
   "cell_type": "code",
   "execution_count": 6,
   "metadata": {},
   "outputs": [],
   "source": [
    "X = np.array([[0, 1],\n",
    "     [1, 0]])\n",
    "Z = np.array([[1, 0],\n",
    "     [0, -1]])\n",
    "I = np.array([[1, 0],\n",
    "     [0, 1]])\n",
    "XX = np.kron(X, X) #tensor products between two Pauli's\n",
    "XZ = np.kron(X, Z)\n",
    "ZZ = np.kron(Z, Z)\n",
    "ZX = np.kron(Z, X)\n",
    "II = np.kron(I, I)\n",
    "IX = np.kron(I, X)\n",
    "XI = np.kron(X, I)\n",
    "IZ = np.kron(I, Z)\n",
    "ZI = np.kron(Z, I)"
   ]
  },
  {
   "cell_type": "code",
   "execution_count": 7,
   "metadata": {},
   "outputs": [
    {
     "name": "stdout",
     "output_type": "stream",
     "text": [
      "(8, 4, 4)\n",
      "(8, 4, 4)\n"
     ]
    }
   ],
   "source": [
    "#List of Hamiltonian decomposition terms H_j for H = \\sum_j h_j H_j\n",
    "Hlist = np.array([XX, XZ, ZX, ZZ, IX, IZ, XI, ZI])\n",
    "hj = [1.0, 2.0, 3.0, 4.0, 2.0, 1.0, 0.5, 0.25] #list of normalized coefficients\n",
    "\n",
    "print(Hlist.shape)\n",
    "\n",
    "hamiltonian_list = []\n",
    "for i in range(len(hj)):\n",
    "    hamiltonian_list.append(hj[i] * Hlist[i, :, :]);\n",
    "hamiltonian_list = np.array(hamiltonian_list)\n",
    "print(hamiltonian_list.shape)"
   ]
  },
  {
   "cell_type": "markdown",
   "metadata": {},
   "source": [
    "## Notebook using compilers.py"
   ]
  },
  {
   "cell_type": "markdown",
   "metadata": {},
   "source": [
    "The goal is to compare the functions in compilers.py to the ones witten here in both output and runtimes. The only part of the previous sections that this section will reference is \"Hamiltonian Initialization\""
   ]
  },
  {
   "cell_type": "markdown",
   "metadata": {},
   "source": [
    "### Trotter Simulation"
   ]
  },
  {
   "cell_type": "code",
   "execution_count": null,
   "metadata": {},
   "outputs": [],
   "source": [
    "from compilers import TrotterSim"
   ]
  },
  {
   "cell_type": "code",
   "execution_count": null,
   "metadata": {},
   "outputs": [],
   "source": [
    "#Example, does not need to be run\n",
    "#use array hamiltonian_list\n",
    "sim = TrotterSim([np.array([[0,1], [1,0]])])\n",
    "print(sim.simulate(np.pi / 2, 4)) #output state should be sigma_X |0> = |1>"
   ]
  },
  {
   "cell_type": "code",
   "execution_count": null,
   "metadata": {},
   "outputs": [],
   "source": [
    "sim1 = TrotterSim(hamiltonian_list, 2)\n",
    "#sim1.initial_state = InitialState"
   ]
  },
  {
   "cell_type": "code",
   "execution_count": null,
   "metadata": {},
   "outputs": [],
   "source": [
    "startTime = time.time()\n",
    "\n",
    "tStart = 0.001\n",
    "tFinal = 0.1\n",
    "tSteps = 100\n",
    "times = np.linspace(tStart, tFinal, tSteps)\n",
    "\n",
    "trot_compiler_inf = []\n",
    "for t in times:\n",
    "    trot_compiler_inf.append(sim1.infidelity(t, 1))\n",
    "\n",
    "log_trot_compiler_inf = np.log10(trot_compiler_inf)\n",
    "log_times = np.log10(times)\n",
    "print(log_trot_compiler_inf.shape)\n",
    "\n",
    "executionTime = (time.time() - startTime)\n",
    "print('Execution time in seconds: ' + str(executionTime))"
   ]
  },
  {
   "cell_type": "code",
   "execution_count": null,
   "metadata": {},
   "outputs": [],
   "source": [
    "#data = log_trot_compiler_inf[:, 0, 0]\n",
    "data = log_trot_compiler_inf\n",
    "plt.figure(figsize = (15, 7))\n",
    "plt.plot(log_times, data, 'bo-') \n",
    "plt.xlabel('log(time)', size = 12)\n",
    "plt.ylabel('log(infidelity)', size = 12)\n",
    "\n",
    "fit_points = 5 #declare the starting point to fit in the data\n",
    "\n",
    "p = np.polyfit(log_times[fit_points: -10], data[fit_points: -10], 1)\n",
    "f = np.poly1d(p)\n",
    "\n",
    "t_new = np.linspace(log_times[fit_points], log_times[-10], 50)\n",
    "y_new = f(t_new)\n",
    "\n",
    "data = symbols(\"t\")\n",
    "poly = sum(S(\"{:6.2f}\".format(v))*data**i for i, v in enumerate(p[::-1]))\n",
    "eq_latex = printing.latex(poly)\n",
    "\n",
    "plt.plot(t_new, y_new, 'r--', label=\"${}$\".format(eq_latex))\n",
    "plt.legend(fontsize=\"large\")\n",
    "plt.show()"
   ]
  },
  {
   "cell_type": "markdown",
   "metadata": {},
   "source": [
    "### Trotter Sim with Matrix Vector Mult."
   ]
  },
  {
   "cell_type": "code",
   "execution_count": null,
   "metadata": {},
   "outputs": [],
   "source": [
    "from compilers import TrotterSim2 #fourth order is broken\n",
    "sim2 = TrotterSim2(hamiltonian_list, 2)\n",
    "print(sim2.simulate(1, 1))"
   ]
  },
  {
   "cell_type": "code",
   "execution_count": null,
   "metadata": {},
   "outputs": [],
   "source": [
    "startTime = time.time()\n",
    "\n",
    "tStart = 0.0001\n",
    "tFinal = 0.01\n",
    "tSteps = 100\n",
    "times = np.linspace(tStart, tFinal, tSteps)\n",
    "\n",
    "trot_compiler_inf = []\n",
    "for t in times:\n",
    "    trot_compiler_inf.append(sim2.infidelity(t, 1))\n",
    "\n",
    "log_trot_compiler_inf = np.log10(trot_compiler_inf)\n",
    "log_times = np.log10(times)\n",
    "print(log_trot_compiler_inf.shape)\n",
    "\n",
    "#data = log_trot_compiler_inf[:, 0, 0]\n",
    "data = log_trot_compiler_inf\n",
    "executionTime = (time.time() - startTime)\n",
    "print('Execution time in seconds: ' + str(executionTime))"
   ]
  },
  {
   "cell_type": "code",
   "execution_count": null,
   "metadata": {},
   "outputs": [],
   "source": [
    "plt.figure(figsize = (15, 7))\n",
    "plt.plot(log_times, data, 'bo-') \n",
    "plt.xlabel('log(time)', size = 12)\n",
    "plt.ylabel('log(infidelity)', size = 12)\n",
    "\n",
    "fit_points = 1 #declare the starting point to fit in the data\n",
    "\n",
    "p = np.polyfit(log_times[fit_points: -10], data[fit_points: -10], 1)\n",
    "f = np.poly1d(p)\n",
    "\n",
    "t_new = np.linspace(log_times[fit_points], log_times[-10], 50)\n",
    "y_new = f(t_new)\n",
    "\n",
    "data = symbols(\"t\")\n",
    "poly = sum(S(\"{:6.2f}\".format(v))*data**i for i, v in enumerate(p[::-1]))\n",
    "eq_latex = printing.latex(poly)\n",
    "\n",
    "plt.plot(t_new, y_new, 'r--', label=\"${}$\".format(eq_latex))\n",
    "plt.legend(fontsize=\"large\")\n",
    "plt.show()"
   ]
  },
  {
   "cell_type": "markdown",
   "metadata": {},
   "source": [
    "### QDrift Simulation"
   ]
  },
  {
   "cell_type": "code",
   "execution_count": null,
   "metadata": {},
   "outputs": [],
   "source": [
    "from compilers import QDriftSimulator"
   ]
  },
  {
   "cell_type": "code",
   "execution_count": null,
   "metadata": {},
   "outputs": [],
   "source": [
    "QDsim = QDriftSimulator(hamiltonian_list)\n",
    "QDsim.simulate(1, 1000)"
   ]
  },
  {
   "cell_type": "code",
   "execution_count": null,
   "metadata": {},
   "outputs": [],
   "source": [
    "QDsim.sample_channel_inf(1, 1, 40)"
   ]
  },
  {
   "cell_type": "code",
   "execution_count": null,
   "metadata": {},
   "outputs": [],
   "source": [
    "startTime = time.time()\n",
    "\n",
    "tStart = 0.0001\n",
    "tFinal = 0.05\n",
    "tSteps = 100\n",
    "times = np.linspace(tStart, tFinal, tSteps) #using logspace seems to break the scaling in the figure?\n",
    "\n",
    "qd_compiler_inf = []\n",
    "for t in times:\n",
    "    qd_compiler_inf.append(QDsim.sample_channel_inf(t, 10, 200))\n",
    "\n",
    "log_qd_compiler_inf = np.log10(qd_compiler_inf)\n",
    "log_times = np.log10(times)\n",
    "print(log_qd_compiler_inf.shape)\n",
    "\n",
    "executionTime = (time.time() - startTime)\n",
    "print('Execution time in seconds: ' + str(executionTime))"
   ]
  },
  {
   "cell_type": "code",
   "execution_count": null,
   "metadata": {},
   "outputs": [],
   "source": [
    "data1 = log_qd_compiler_inf[:, 0, 0]\n",
    "plt.figure(figsize = (15, 7))\n",
    "plt.plot(log_times, data1, 'bo-') \n",
    "plt.xlabel('log(time)', size = 12)\n",
    "plt.ylabel('log(infidelity)', size = 12)\n",
    "\n",
    "fit_points = 5 #declare the starting point to fit in the data\n",
    "\n",
    "p = np.polyfit(log_times[fit_points: -1], data1[fit_points: -1], 1)\n",
    "f = np.poly1d(p)\n",
    "\n",
    "t_new = np.linspace(log_times[fit_points], log_times[-1], 50)\n",
    "y_new = f(t_new)\n",
    "\n",
    "data1 = symbols(\"t\")\n",
    "poly = sum(S(\"{:6.2f}\".format(v))*data1**i for i, v in enumerate(p[::-1]))\n",
    "eq_latex = printing.latex(poly)\n",
    "\n",
    "plt.plot(t_new, y_new, 'r--', label=\"${}$\".format(eq_latex))\n",
    "plt.legend(fontsize=\"large\")\n",
    "plt.show()"
   ]
  },
  {
   "cell_type": "markdown",
   "metadata": {},
   "source": [
    "### Composite Simulation"
   ]
  },
  {
   "cell_type": "code",
   "execution_count": 8,
   "metadata": {},
   "outputs": [],
   "source": [
    "from compilers import CompositeSim"
   ]
  },
  {
   "cell_type": "code",
   "execution_count": 9,
   "metadata": {},
   "outputs": [
    {
     "name": "stderr",
     "output_type": "stream",
     "text": [
      "/opt/anaconda3/lib/python3.7/site-packages/scipy/optimize/_minimize.py:516: RuntimeWarning: Method Nelder-Mead cannot handle constraints nor bounds.\n",
      "  RuntimeWarning)\n"
     ]
    },
    {
     "name": "stdout",
     "output_type": "stream",
     "text": [
      "[ 1.15747739e+15  1.46791806e+14  5.64014044e+14 -8.19623051e+14\n",
      "  6.77439556e+13  4.05743732e+14 -5.23487666e+14 -5.76395050e+14]\n",
      "There are 5 terms in Trotter\n",
      "There are 3 terms in QDrift\n"
     ]
    },
    {
     "data": {
      "text/plain": [
       "array([[ 7.25376629e-01+0.42885835j],\n",
       "       [ 8.88318895e-03+0.45350208j],\n",
       "       [-3.77679242e-02+0.27239595j],\n",
       "       [ 3.88761192e-04+0.09241264j]])"
      ]
     },
     "execution_count": 9,
     "metadata": {},
     "output_type": "execute_result"
    }
   ],
   "source": [
    "CompSim = CompositeSim(hamiltonian_list, 2, \"optimize\", 23, nb_optimizer = False, weight_threshold = 1)\n",
    "CompSim.simulate(0.1, 5, 10, False)"
   ]
  },
  {
   "cell_type": "code",
   "execution_count": 18,
   "metadata": {},
   "outputs": [
    {
     "name": "stdout",
     "output_type": "stream",
     "text": [
      "(40, 1, 1)\n",
      "Execution time in seconds: 205.31311774253845\n"
     ]
    }
   ],
   "source": [
    "startTime = time.time()\n",
    "\n",
    "tStart = 0.0001\n",
    "tFinal = 0.01\n",
    "tSteps = 40\n",
    "times = np.logspace(tStart, tFinal, tSteps)\n",
    "\n",
    "comp_compiler_inf = []\n",
    "for t in times:\n",
    "    comp_compiler_inf.append(CompSim.sample_channel_inf(t, 10, 10, 100, False))\n",
    "\n",
    "log_comp_compiler_inf = np.log10(comp_compiler_inf)\n",
    "log_times = np.log10(times)\n",
    "print(log_comp_compiler_inf.shape)\n",
    "\n",
    "executionTime = (time.time() - startTime)\n",
    "print('Execution time in seconds: ' + str(executionTime))"
   ]
  },
  {
   "cell_type": "code",
   "execution_count": 19,
   "metadata": {},
   "outputs": [
    {
     "data": {
      "image/png": "[encoded data removed]",
      "text/plain": [
       "<Figure size 1080x504 with 1 Axes>"
      ]
     },
     "metadata": {
      "needs_background": "light"
     },
     "output_type": "display_data"
    }
   ],
   "source": [
    "data1 = log_comp_compiler_inf[:, 0, 0]\n",
    "plt.figure(figsize = (15, 7))\n",
    "plt.plot(log_times, data1, 'bo-') \n",
    "plt.xlabel('log(time)', size = 12)\n",
    "plt.ylabel('log(infidelity)', size = 12)\n",
    "\n",
    "fit_points = 1 #declare the starting point to fit in the data\n",
    "\n",
    "p = np.polyfit(log_times[fit_points: -1], data1[fit_points: -1], 1)\n",
    "f = np.poly1d(p)\n",
    "\n",
    "t_new = np.linspace(log_times[fit_points], log_times[-1], 50)\n",
    "y_new = f(t_new)\n",
    "\n",
    "data1 = symbols(\"t\")\n",
    "poly = sum(S(\"{:6.2f}\".format(v))*data1**i for i, v in enumerate(p[::-1]))\n",
    "eq_latex = printing.latex(poly)\n",
    "\n",
    "plt.plot(t_new, y_new, 'r--', label=\"${}$\".format(eq_latex))\n",
    "plt.legend(fontsize=\"large\")\n",
    "plt.show()"
   ]
  },
  {
   "cell_type": "code",
   "execution_count": null,
   "metadata": {},
   "outputs": [],
   "source": []
  }
 ],
 "metadata": {
  "kernelspec": {
   "display_name": "Python 3",
   "language": "python",
   "name": "python3"
  },
  "language_info": {
   "codemirror_mode": {
    "name": "ipython",
    "version": 3
   },
   "file_extension": ".py",
   "mimetype": "text/x-python",
   "name": "python",
   "nbconvert_exporter": "python",
   "pygments_lexer": "ipython3",
   "version": "3.7.4"
  }
 },
 "nbformat": 4,
 "nbformat_minor": 2
}
