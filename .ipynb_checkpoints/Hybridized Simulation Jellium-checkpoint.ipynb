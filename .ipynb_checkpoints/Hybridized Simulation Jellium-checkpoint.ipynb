{
 "cells": [
  {
   "cell_type": "code",
   "execution_count": null,
   "metadata": {},
   "outputs": [],
   "source": [
    "#Remove 3 in \"pip3\" if conda pip installed\n",
    "try:\n",
    "    import openfermion\n",
    "except ImportError:\n",
    "    !pip3 install git+https://github.com/quantumlib/OpenFermion.git@master#egg=openfermion"
   ]
  },
  {
   "cell_type": "code",
   "execution_count": 1,
   "metadata": {},
   "outputs": [],
   "source": [
    "import numpy as np\n",
    "import matplotlib.pyplot as plt \n",
    "%matplotlib inline\n",
    "import scipy.linalg as la\n",
    "import math\n",
    "from numpy import random\n",
    "import cmath\n",
    "import time\n",
    "from sympy import S, symbols, printing\n",
    "\n",
    "from compilers import TrotterSim\n",
    "from compilers import QDriftSimulator\n",
    "from compilers import CompositeSim"
   ]
  },
  {
   "cell_type": "markdown",
   "metadata": {},
   "source": [
    " ### Hamiltonian Initialization"
   ]
  },
  {
   "cell_type": "markdown",
   "metadata": {},
   "source": [
    "#### Arbitrary Tensored 4x4 Pauli"
   ]
  },
  {
   "cell_type": "code",
   "execution_count": 2,
   "metadata": {},
   "outputs": [],
   "source": [
    "X = np.array([[0, 1],\n",
    "     [1, 0]])\n",
    "Z = np.array([[1, 0],\n",
    "     [0, -1]])\n",
    "Y = np.array([[0, -1j],\n",
    "     [1j, 0]])\n",
    "I = np.array([[1, 0],\n",
    "     [0, 1]])\n",
    "XX = np.kron(X, X) #tensor products between two Pauli's\n",
    "XZ = np.kron(X, Z)\n",
    "ZZ = np.kron(Z, Z)\n",
    "ZX = np.kron(Z, X)\n",
    "II = np.kron(I, I)\n",
    "IX = np.kron(I, X)\n",
    "XI = np.kron(X, I)\n",
    "IZ = np.kron(I, Z)\n",
    "ZI = np.kron(Z, I)"
   ]
  },
  {
   "cell_type": "code",
   "execution_count": 3,
   "metadata": {},
   "outputs": [
    {
     "name": "stdout",
     "output_type": "stream",
     "text": [
      "(8, 4, 4)\n",
      "(8, 4, 4)\n"
     ]
    }
   ],
   "source": [
    "#List of Hamiltonian decomposition terms H_j for H = \\sum_j h_j H_j\n",
    "Hlist = np.array([XX, XZ, ZX, ZZ, IX, IZ, XI, ZI])\n",
    "hj = [1.0, 2.0, 3.0, 4.0, 2.0, 1.0, 0.5, 0.25] #list of normalized coefficients\n",
    "\n",
    "print(Hlist.shape)\n",
    "\n",
    "hamiltonian_list = []\n",
    "for i in range(len(hj)):\n",
    "    hamiltonian_list.append(hj[i] * Hlist[i, :, :]);\n",
    "hamiltonian_list = np.array(hamiltonian_list)\n",
    "print(hamiltonian_list.shape)\n",
    "#print(hamiltonian_list)"
   ]
  },
  {
   "cell_type": "markdown",
   "metadata": {},
   "source": [
    "#### Graph Hamiltonian"
   ]
  },
  {
   "cell_type": "code",
   "execution_count": 4,
   "metadata": {},
   "outputs": [],
   "source": [
    "def dist(site1, site2):\n",
    "    distance_vec = site1 - site2\n",
    "    distance = np.abs(distance_vec[0]) + np.abs(distance_vec[1])\n",
    "    return distance\n",
    "\n",
    "def initialize_graph(x_sites, y_sites):\n",
    "    coord_list = []\n",
    "    for i in range(x_sites):\n",
    "        for j in range(y_sites):\n",
    "            coord_list.append([i,j])\n",
    "    return np.array(coord_list)\n",
    "\n",
    "def initialize_operator(operator_2d, acting_space, space_dimension):\n",
    "    if acting_space>space_dimension:\n",
    "        return 'error'\n",
    "    for i in range(acting_space):\n",
    "        operator_2d = np.kron(operator_2d, I)\n",
    "    for j in range(space_dimension - acting_space-1):\n",
    "        operator_2d = np.kron(I, operator_2d)\n",
    "    return operator_2d"
   ]
  },
  {
   "cell_type": "code",
   "execution_count": 5,
   "metadata": {},
   "outputs": [
    {
     "name": "stdout",
     "output_type": "stream",
     "text": [
      "[[0 0]\n",
      " [0 1]\n",
      " [1 0]\n",
      " [1 1]\n",
      " [2 0]\n",
      " [2 1]]\n",
      "1\n",
      "[[ 1  0  0  0]\n",
      " [ 0 -1  0  0]\n",
      " [ 0  0  1  0]\n",
      " [ 0  0  0 -1]]\n"
     ]
    }
   ],
   "source": [
    "#Tests\n",
    "graph = initialize_graph(3,2)\n",
    "print(graph)\n",
    "print(dist(graph[0], graph[2]))\n",
    "op = initialize_operator(Z, 0 , 2)\n",
    "print(op)"
   ]
  },
  {
   "cell_type": "code",
   "execution_count": 6,
   "metadata": {
    "scrolled": true
   },
   "outputs": [
    {
     "name": "stdout",
     "output_type": "stream",
     "text": [
      "(64, 256, 256)\n"
     ]
    }
   ],
   "source": [
    "#Initialize Hamiltonian \n",
    "def graph_hamiltonian(x_dim, y_dim, rng_seed):\n",
    "    np.random.seed(rng_seed)\n",
    "    hamiltonian_list = []\n",
    "    graph = initialize_graph(x_dim, y_dim)\n",
    "    for i in range(x_dim*y_dim):\n",
    "        for j in range(y_dim*x_dim):\n",
    "            if i != j:\n",
    "                alpha = np.random.normal()\n",
    "                hamiltonian_list.append(alpha * \n",
    "                    np.matmul(initialize_operator(Z, i, x_dim*y_dim), initialize_operator(Z, j, x_dim*y_dim)) *\n",
    "                        10.0**(-dist(graph[i], graph[j])))\n",
    "            \n",
    "        alpha = np.random.normal()\n",
    "        hamiltonian_list.append(4* alpha * initialize_operator(Z, i, x_dim*y_dim))\n",
    "                \n",
    "    return np.array(hamiltonian_list)\n",
    "\n",
    "graph_hamiltonian_list = graph_hamiltonian(4, 2, 1)\n",
    "print(graph_hamiltonian_list.shape)"
   ]
  },
  {
   "cell_type": "markdown",
   "metadata": {},
   "source": [
    "#### Jellium Hamiltonian"
   ]
  },
  {
   "cell_type": "code",
   "execution_count": null,
   "metadata": {},
   "outputs": [],
   "source": [
    "from openfermion.hamiltonians import jellium_model\n",
    "from openfermion.utils import Grid\n",
    "from openfermion.linalg import eigenspectrum\n",
    "from openfermion.transforms import jordan_wigner, fourier_transform\n",
    "\n",
    "#small model in 2 dimensions\n",
    "grid = Grid(dimensions=2, length=3, scale=1.0)\n",
    "spinless = True\n",
    "\n",
    "# Get the momentum Hamiltonian.\n",
    "momentum_hamiltonian = jellium_model(grid, spinless)\n",
    "momentum_qubit_operator = jordan_wigner(momentum_hamiltonian)\n",
    "momentum_qubit_operator.compress()\n",
    "print(momentum_qubit_operator)"
   ]
  },
  {
   "cell_type": "markdown",
   "metadata": {},
   "source": [
    "## Notebook using compilers.py"
   ]
  },
  {
   "cell_type": "markdown",
   "metadata": {},
   "source": [
    "The goal is to compare the functions in compilers.py to the ones witten here in both output and runtimes. The only part of the previous sections that this section will reference is \"Hamiltonian Initialization\""
   ]
  },
  {
   "cell_type": "markdown",
   "metadata": {},
   "source": [
    "### Trotter Simulation"
   ]
  },
  {
   "cell_type": "code",
   "execution_count": 9,
   "metadata": {},
   "outputs": [
    {
     "name": "stdout",
     "output_type": "stream",
     "text": [
      "[[0.92387953+0.j        ]\n",
      " [0.        +0.38268343j]]\n"
     ]
    }
   ],
   "source": [
    "#Example, does not need to be run\n",
    "#use array hamiltonian_list\n",
    "sim = TrotterSim([np.array([[0,1], [1,0]])])\n",
    "print(sim.simulate(np.pi / 2, 4)) #output state should be sigma_X |0> = |1>"
   ]
  },
  {
   "cell_type": "code",
   "execution_count": 10,
   "metadata": {},
   "outputs": [],
   "source": [
    "sim1 = TrotterSim(hamiltonian_list, 2)\n",
    "#sim1.initial_state = InitialState"
   ]
  },
  {
   "cell_type": "code",
   "execution_count": 11,
   "metadata": {},
   "outputs": [
    {
     "name": "stdout",
     "output_type": "stream",
     "text": [
      "(100,)\n",
      "Execution time in seconds: 0.45668816566467285\n"
     ]
    }
   ],
   "source": [
    "startTime = time.time()\n",
    "\n",
    "tStart = 0.001\n",
    "tFinal = 0.1\n",
    "tSteps = 100\n",
    "times = np.linspace(tStart, tFinal, tSteps)\n",
    "\n",
    "trot_compiler_inf = []\n",
    "for t in times:\n",
    "    trot_compiler_inf.append(sim1.infidelity(t, 1))\n",
    "\n",
    "log_trot_compiler_inf = np.log10(trot_compiler_inf)\n",
    "log_times = np.log10(times)\n",
    "print(log_trot_compiler_inf.shape)\n",
    "\n",
    "executionTime = (time.time() - startTime)\n",
    "print('Execution time in seconds: ' + str(executionTime))"
   ]
  },
  {
   "cell_type": "code",
   "execution_count": 12,
   "metadata": {},
   "outputs": [
    {
     "data": {
      "image/png": "[encoded data removed]",
      "text/plain": [
       "<Figure size 1080x504 with 1 Axes>"
      ]
     },
     "metadata": {
      "needs_background": "light"
     },
     "output_type": "display_data"
    }
   ],
   "source": [
    "#data = log_trot_compiler_inf[:, 0, 0]\n",
    "data = log_trot_compiler_inf\n",
    "plt.figure(figsize = (15, 7))\n",
    "plt.plot(log_times, data, 'bo-') \n",
    "plt.xlabel('log(time)', size = 12)\n",
    "plt.ylabel('log(infidelity)', size = 12)\n",
    "\n",
    "fit_points = 5 #declare the starting point to fit in the data\n",
    "\n",
    "p = np.polyfit(log_times[fit_points: -10], data[fit_points: -10], 1)\n",
    "f = np.poly1d(p)\n",
    "\n",
    "t_new = np.linspace(log_times[fit_points], log_times[-10], 50)\n",
    "y_new = f(t_new)\n",
    "\n",
    "data = symbols(\"t\")\n",
    "poly = sum(S(\"{:6.2f}\".format(v))*data**i for i, v in enumerate(p[::-1]))\n",
    "eq_latex = printing.latex(poly)\n",
    "\n",
    "plt.plot(t_new, y_new, 'r--', label=\"${}$\".format(eq_latex))\n",
    "plt.legend(fontsize=\"large\")\n",
    "plt.show()"
   ]
  },
  {
   "cell_type": "markdown",
   "metadata": {},
   "source": [
    "### QDrift Simulation"
   ]
  },
  {
   "cell_type": "code",
   "execution_count": null,
   "metadata": {},
   "outputs": [],
   "source": [
    "QDsim = QDriftSimulator(hamiltonian_list)\n",
    "QDsim.simulate(1, 1000)"
   ]
  },
  {
   "cell_type": "code",
   "execution_count": null,
   "metadata": {},
   "outputs": [],
   "source": [
    "QDsim.sample_channel_inf(1, 1, 40)"
   ]
  },
  {
   "cell_type": "code",
   "execution_count": null,
   "metadata": {},
   "outputs": [],
   "source": [
    "startTime = time.time()\n",
    "\n",
    "tStart = 0.0001\n",
    "tFinal = 0.05\n",
    "tSteps = 100\n",
    "times = np.geomspace(tStart, tFinal, tSteps) #using logspace seems to break the scaling in the figure?\n",
    "\n",
    "qd_compiler_inf = []\n",
    "for t in times:\n",
    "    qd_compiler_inf.append(QDsim.sample_channel_inf(t, 10, 200))\n",
    "\n",
    "log_qd_compiler_inf = np.log10(qd_compiler_inf)\n",
    "log_times = np.log10(times)\n",
    "print(log_qd_compiler_inf.shape)\n",
    "\n",
    "executionTime = (time.time() - startTime)\n",
    "print('Execution time in seconds: ' + str(executionTime))"
   ]
  },
  {
   "cell_type": "code",
   "execution_count": null,
   "metadata": {},
   "outputs": [],
   "source": [
    "data1 = log_qd_compiler_inf[:, 0, 0]\n",
    "plt.figure(figsize = (15, 7))\n",
    "plt.plot(log_times, data1, 'bo-') \n",
    "plt.xlabel('log(time)', size = 12)\n",
    "plt.ylabel('log(infidelity)', size = 12)\n",
    "\n",
    "fit_points = 5 #declare the starting point to fit in the data\n",
    "\n",
    "p = np.polyfit(log_times[fit_points: -1], data1[fit_points: -1], 1)\n",
    "f = np.poly1d(p)\n",
    "\n",
    "t_new = np.linspace(log_times[fit_points], log_times[-1], 50)\n",
    "y_new = f(t_new)\n",
    "\n",
    "data1 = symbols(\"t\")\n",
    "poly = sum(S(\"{:6.2f}\".format(v))*data1**i for i, v in enumerate(p[::-1]))\n",
    "eq_latex = printing.latex(poly)\n",
    "\n",
    "plt.plot(t_new, y_new, 'r--', label=\"${}$\".format(eq_latex))\n",
    "plt.legend(fontsize=\"large\")\n",
    "plt.show()"
   ]
  },
  {
   "cell_type": "markdown",
   "metadata": {},
   "source": [
    "### Composite Simulation"
   ]
  },
  {
   "cell_type": "code",
   "execution_count": 8,
   "metadata": {},
   "outputs": [
    {
     "name": "stdout",
     "output_type": "stream",
     "text": [
      "There are 64 terms in Trotter\n",
      "There are 0 terms in QDrift\n"
     ]
    },
    {
     "data": {
      "text/plain": [
       "array([[0.83929137+0.54368189j],\n",
       "       [0.        +0.j        ],\n",
       "       [0.        +0.j        ],\n",
       "       [0.        +0.j        ],\n",
       "       [0.        +0.j        ],\n",
       "       [0.        +0.j        ],\n",
       "       [0.        +0.j        ],\n",
       "       [0.        +0.j        ],\n",
       "       [0.        +0.j        ],\n",
       "       [0.        +0.j        ],\n",
       "       [0.        +0.j        ],\n",
       "       [0.        +0.j        ],\n",
       "       [0.        +0.j        ],\n",
       "       [0.        +0.j        ],\n",
       "       [0.        +0.j        ],\n",
       "       [0.        +0.j        ],\n",
       "       [0.        +0.j        ],\n",
       "       [0.        +0.j        ],\n",
       "       [0.        +0.j        ],\n",
       "       [0.        +0.j        ],\n",
       "       [0.        +0.j        ],\n",
       "       [0.        +0.j        ],\n",
       "       [0.        +0.j        ],\n",
       "       [0.        +0.j        ],\n",
       "       [0.        +0.j        ],\n",
       "       [0.        +0.j        ],\n",
       "       [0.        +0.j        ],\n",
       "       [0.        +0.j        ],\n",
       "       [0.        +0.j        ],\n",
       "       [0.        +0.j        ],\n",
       "       [0.        +0.j        ],\n",
       "       [0.        +0.j        ],\n",
       "       [0.        +0.j        ],\n",
       "       [0.        +0.j        ],\n",
       "       [0.        +0.j        ],\n",
       "       [0.        +0.j        ],\n",
       "       [0.        +0.j        ],\n",
       "       [0.        +0.j        ],\n",
       "       [0.        +0.j        ],\n",
       "       [0.        +0.j        ],\n",
       "       [0.        +0.j        ],\n",
       "       [0.        +0.j        ],\n",
       "       [0.        +0.j        ],\n",
       "       [0.        +0.j        ],\n",
       "       [0.        +0.j        ],\n",
       "       [0.        +0.j        ],\n",
       "       [0.        +0.j        ],\n",
       "       [0.        +0.j        ],\n",
       "       [0.        +0.j        ],\n",
       "       [0.        +0.j        ],\n",
       "       [0.        +0.j        ],\n",
       "       [0.        +0.j        ],\n",
       "       [0.        +0.j        ],\n",
       "       [0.        +0.j        ],\n",
       "       [0.        +0.j        ],\n",
       "       [0.        +0.j        ],\n",
       "       [0.        +0.j        ],\n",
       "       [0.        +0.j        ],\n",
       "       [0.        +0.j        ],\n",
       "       [0.        +0.j        ],\n",
       "       [0.        +0.j        ],\n",
       "       [0.        +0.j        ],\n",
       "       [0.        +0.j        ],\n",
       "       [0.        +0.j        ],\n",
       "       [0.        +0.j        ],\n",
       "       [0.        +0.j        ],\n",
       "       [0.        +0.j        ],\n",
       "       [0.        +0.j        ],\n",
       "       [0.        +0.j        ],\n",
       "       [0.        +0.j        ],\n",
       "       [0.        +0.j        ],\n",
       "       [0.        +0.j        ],\n",
       "       [0.        +0.j        ],\n",
       "       [0.        +0.j        ],\n",
       "       [0.        +0.j        ],\n",
       "       [0.        +0.j        ],\n",
       "       [0.        +0.j        ],\n",
       "       [0.        +0.j        ],\n",
       "       [0.        +0.j        ],\n",
       "       [0.        +0.j        ],\n",
       "       [0.        +0.j        ],\n",
       "       [0.        +0.j        ],\n",
       "       [0.        +0.j        ],\n",
       "       [0.        +0.j        ],\n",
       "       [0.        +0.j        ],\n",
       "       [0.        +0.j        ],\n",
       "       [0.        +0.j        ],\n",
       "       [0.        +0.j        ],\n",
       "       [0.        +0.j        ],\n",
       "       [0.        +0.j        ],\n",
       "       [0.        +0.j        ],\n",
       "       [0.        +0.j        ],\n",
       "       [0.        +0.j        ],\n",
       "       [0.        +0.j        ],\n",
       "       [0.        +0.j        ],\n",
       "       [0.        +0.j        ],\n",
       "       [0.        +0.j        ],\n",
       "       [0.        +0.j        ],\n",
       "       [0.        +0.j        ],\n",
       "       [0.        +0.j        ],\n",
       "       [0.        +0.j        ],\n",
       "       [0.        +0.j        ],\n",
       "       [0.        +0.j        ],\n",
       "       [0.        +0.j        ],\n",
       "       [0.        +0.j        ],\n",
       "       [0.        +0.j        ],\n",
       "       [0.        +0.j        ],\n",
       "       [0.        +0.j        ],\n",
       "       [0.        +0.j        ],\n",
       "       [0.        +0.j        ],\n",
       "       [0.        +0.j        ],\n",
       "       [0.        +0.j        ],\n",
       "       [0.        +0.j        ],\n",
       "       [0.        +0.j        ],\n",
       "       [0.        +0.j        ],\n",
       "       [0.        +0.j        ],\n",
       "       [0.        +0.j        ],\n",
       "       [0.        +0.j        ],\n",
       "       [0.        +0.j        ],\n",
       "       [0.        +0.j        ],\n",
       "       [0.        +0.j        ],\n",
       "       [0.        +0.j        ],\n",
       "       [0.        +0.j        ],\n",
       "       [0.        +0.j        ],\n",
       "       [0.        +0.j        ],\n",
       "       [0.        +0.j        ],\n",
       "       [0.        +0.j        ],\n",
       "       [0.        +0.j        ],\n",
       "       [0.        +0.j        ],\n",
       "       [0.        +0.j        ],\n",
       "       [0.        +0.j        ],\n",
       "       [0.        +0.j        ],\n",
       "       [0.        +0.j        ],\n",
       "       [0.        +0.j        ],\n",
       "       [0.        +0.j        ],\n",
       "       [0.        +0.j        ],\n",
       "       [0.        +0.j        ],\n",
       "       [0.        +0.j        ],\n",
       "       [0.        +0.j        ],\n",
       "       [0.        +0.j        ],\n",
       "       [0.        +0.j        ],\n",
       "       [0.        +0.j        ],\n",
       "       [0.        +0.j        ],\n",
       "       [0.        +0.j        ],\n",
       "       [0.        +0.j        ],\n",
       "       [0.        +0.j        ],\n",
       "       [0.        +0.j        ],\n",
       "       [0.        +0.j        ],\n",
       "       [0.        +0.j        ],\n",
       "       [0.        +0.j        ],\n",
       "       [0.        +0.j        ],\n",
       "       [0.        +0.j        ],\n",
       "       [0.        +0.j        ],\n",
       "       [0.        +0.j        ],\n",
       "       [0.        +0.j        ],\n",
       "       [0.        +0.j        ],\n",
       "       [0.        +0.j        ],\n",
       "       [0.        +0.j        ],\n",
       "       [0.        +0.j        ],\n",
       "       [0.        +0.j        ],\n",
       "       [0.        +0.j        ],\n",
       "       [0.        +0.j        ],\n",
       "       [0.        +0.j        ],\n",
       "       [0.        +0.j        ],\n",
       "       [0.        +0.j        ],\n",
       "       [0.        +0.j        ],\n",
       "       [0.        +0.j        ],\n",
       "       [0.        +0.j        ],\n",
       "       [0.        +0.j        ],\n",
       "       [0.        +0.j        ],\n",
       "       [0.        +0.j        ],\n",
       "       [0.        +0.j        ],\n",
       "       [0.        +0.j        ],\n",
       "       [0.        +0.j        ],\n",
       "       [0.        +0.j        ],\n",
       "       [0.        +0.j        ],\n",
       "       [0.        +0.j        ],\n",
       "       [0.        +0.j        ],\n",
       "       [0.        +0.j        ],\n",
       "       [0.        +0.j        ],\n",
       "       [0.        +0.j        ],\n",
       "       [0.        +0.j        ],\n",
       "       [0.        +0.j        ],\n",
       "       [0.        +0.j        ],\n",
       "       [0.        +0.j        ],\n",
       "       [0.        +0.j        ],\n",
       "       [0.        +0.j        ],\n",
       "       [0.        +0.j        ],\n",
       "       [0.        +0.j        ],\n",
       "       [0.        +0.j        ],\n",
       "       [0.        +0.j        ],\n",
       "       [0.        +0.j        ],\n",
       "       [0.        +0.j        ],\n",
       "       [0.        +0.j        ],\n",
       "       [0.        +0.j        ],\n",
       "       [0.        +0.j        ],\n",
       "       [0.        +0.j        ],\n",
       "       [0.        +0.j        ],\n",
       "       [0.        +0.j        ],\n",
       "       [0.        +0.j        ],\n",
       "       [0.        +0.j        ],\n",
       "       [0.        +0.j        ],\n",
       "       [0.        +0.j        ],\n",
       "       [0.        +0.j        ],\n",
       "       [0.        +0.j        ],\n",
       "       [0.        +0.j        ],\n",
       "       [0.        +0.j        ],\n",
       "       [0.        +0.j        ],\n",
       "       [0.        +0.j        ],\n",
       "       [0.        +0.j        ],\n",
       "       [0.        +0.j        ],\n",
       "       [0.        +0.j        ],\n",
       "       [0.        +0.j        ],\n",
       "       [0.        +0.j        ],\n",
       "       [0.        +0.j        ],\n",
       "       [0.        +0.j        ],\n",
       "       [0.        +0.j        ],\n",
       "       [0.        +0.j        ],\n",
       "       [0.        +0.j        ],\n",
       "       [0.        +0.j        ],\n",
       "       [0.        +0.j        ],\n",
       "       [0.        +0.j        ],\n",
       "       [0.        +0.j        ],\n",
       "       [0.        +0.j        ],\n",
       "       [0.        +0.j        ],\n",
       "       [0.        +0.j        ],\n",
       "       [0.        +0.j        ],\n",
       "       [0.        +0.j        ],\n",
       "       [0.        +0.j        ],\n",
       "       [0.        +0.j        ],\n",
       "       [0.        +0.j        ],\n",
       "       [0.        +0.j        ],\n",
       "       [0.        +0.j        ],\n",
       "       [0.        +0.j        ],\n",
       "       [0.        +0.j        ],\n",
       "       [0.        +0.j        ],\n",
       "       [0.        +0.j        ],\n",
       "       [0.        +0.j        ],\n",
       "       [0.        +0.j        ],\n",
       "       [0.        +0.j        ],\n",
       "       [0.        +0.j        ],\n",
       "       [0.        +0.j        ],\n",
       "       [0.        +0.j        ],\n",
       "       [0.        +0.j        ],\n",
       "       [0.        +0.j        ],\n",
       "       [0.        +0.j        ],\n",
       "       [0.        +0.j        ],\n",
       "       [0.        +0.j        ],\n",
       "       [0.        +0.j        ],\n",
       "       [0.        +0.j        ],\n",
       "       [0.        +0.j        ],\n",
       "       [0.        +0.j        ],\n",
       "       [0.        +0.j        ],\n",
       "       [0.        +0.j        ],\n",
       "       [0.        +0.j        ],\n",
       "       [0.        +0.j        ]])"
      ]
     },
     "execution_count": 8,
     "metadata": {},
     "output_type": "execute_result"
    }
   ],
   "source": [
    "#Warning if nb_optimizer = True the computation will not finish in your lifetime\n",
    "CompSim = CompositeSim(graph_hamiltonian_list, order = 2, partition = \"prob\", rng_seed = 9, nb_optimizer = False, weight_threshold = 2)\n",
    "CompSim.simulate(0.1, 10, 4, False, False) "
   ]
  },
  {
   "cell_type": "code",
   "execution_count": 26,
   "metadata": {},
   "outputs": [
    {
     "name": "stdout",
     "output_type": "stream",
     "text": [
      "(30, 1, 1)\n",
      "Execution time in seconds: 6.99384880065918\n"
     ]
    }
   ],
   "source": [
    "startTime = time.time()\n",
    "\n",
    "tStart = 0.001\n",
    "tFinal = 0.1\n",
    "tSteps = 30\n",
    "times = np.geomspace(tStart, tFinal, tSteps)\n",
    "\n",
    "comp_compiler_inf = []\n",
    "for t in times:\n",
    "    comp_compiler_inf.append(CompSim.sample_channel_inf(t, 10, 1, 100, False, False))\n",
    "\n",
    "log_comp_compiler_inf = np.log10(comp_compiler_inf)\n",
    "log_times = np.log10(times)\n",
    "print(log_comp_compiler_inf.shape)\n",
    "\n",
    "executionTime = (time.time() - startTime)\n",
    "print('Execution time in seconds: ' + str(executionTime))"
   ]
  },
  {
   "cell_type": "code",
   "execution_count": 27,
   "metadata": {},
   "outputs": [
    {
     "data": {
      "image/png": "[encoded data removed]",
      "text/plain": [
       "<Figure size 1080x504 with 1 Axes>"
      ]
     },
     "metadata": {
      "needs_background": "light"
     },
     "output_type": "display_data"
    }
   ],
   "source": [
    "#print(list(log_comp_compiler_inf[:, 0, 0]))\n",
    "data1 = log_comp_compiler_inf[:, 0, 0] #this dimension issue might be causing some slow down\n",
    "plt.figure(figsize = (15, 7))\n",
    "plt.plot(log_times, data1, 'bo-') \n",
    "plt.xlabel('log(time)', size = 12)\n",
    "plt.ylabel('log(infidelity)', size = 12)\n",
    "\n",
    "start_fit_points= 1 #declare the starting point to fit in the data\n",
    "end_fit_points = -12\n",
    "\n",
    "p = np.polyfit(log_times[start_fit_points: end_fit_points], data1[start_fit_points: end_fit_points], 1)\n",
    "f = np.poly1d(p)\n",
    "\n",
    "t_new = np.linspace(log_times[start_fit_points], log_times[end_fit_points], 50)\n",
    "y_new = f(t_new)\n",
    "\n",
    "data1 = symbols(\"t\")\n",
    "poly = sum(S(\"{:6.2f}\".format(v))*data1**i for i, v in enumerate(p[::-1]))\n",
    "eq_latex = printing.latex(poly)\n",
    "\n",
    "#plt.ylim(-1.1, -0.8)\n",
    "#plt.locator_params('x', nbins=20)\n",
    "plt.plot(t_new, y_new, 'r--', label=\"${}$\".format(eq_latex))\n",
    "plt.legend(fontsize=\"large\")\n",
    "plt.show()"
   ]
  },
  {
   "cell_type": "code",
   "execution_count": 12,
   "metadata": {},
   "outputs": [
    {
     "data": {
      "text/plain": [
       "array([[0.00341493]])"
      ]
     },
     "execution_count": 12,
     "metadata": {},
     "output_type": "execute_result"
    }
   ],
   "source": [
    "#Testing for single times, potentially test convergence of mc_samples below\n",
    "t = 0.1 \n",
    "samples = 10\n",
    "iterations = 10\n",
    "mcsamples = 100\n",
    "do_outer_loop = False\n",
    "repartition = False\n",
    "CompSim.sample_channel_inf(t, samples, iterations, mcsamples, do_outer_loop, repartition)"
   ]
  },
  {
   "cell_type": "code",
   "execution_count": 29,
   "metadata": {
    "scrolled": true
   },
   "outputs": [
    {
     "name": "stdout",
     "output_type": "stream",
     "text": [
      "There are 4 terms in Trotter\n",
      "There are 4 terms in QDrift\n",
      "We require [828.] gates to meet an epsilon of 0.0028\n"
     ]
    }
   ],
   "source": [
    "#Test function sim_channel_performance\n",
    "epsilon = 0.0028\n",
    "CompSim1 = CompositeSim(hamiltonian_list, order = 2, partition = \"chop\", rng_seed = 9, nb_optimizer = False, weight_threshold = 2, epsilon = 0.0028)\n",
    "#CompSim1.simulate(0.1, 10, 10, False, False)\n",
    "data2 = CompSim1.sim_channel_performance(0.1, 10, 10, 100, False, False)\n",
    "print('We require ' + str(data2)  +' gates to meet an epsilon of ' + str(epsilon))"
   ]
  },
  {
   "cell_type": "code",
   "execution_count": null,
   "metadata": {},
   "outputs": [],
   "source": []
  }
 ],
 "metadata": {
  "kernelspec": {
   "display_name": "Python 3",
   "language": "python",
   "name": "python3"
  },
  "language_info": {
   "codemirror_mode": {
    "name": "ipython",
    "version": 3
   },
   "file_extension": ".py",
   "mimetype": "text/x-python",
   "name": "python",
   "nbconvert_exporter": "python",
   "pygments_lexer": "ipython3",
   "version": "3.7.4"
  }
 },
 "nbformat": 4,
 "nbformat_minor": 2
}
