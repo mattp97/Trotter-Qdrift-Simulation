{
 "cells": [
  {
   "cell_type": "code",
   "execution_count": 3,
   "metadata": {},
   "outputs": [],
   "source": [
    "import numpy as np\n",
    "import matplotlib.pyplot as plt \n",
    "%matplotlib inline\n",
    "import scipy.linalg as la\n",
    "import math\n",
    "from numpy import random\n",
    "import cmath\n",
    "import time"
   ]
  },
  {
   "cell_type": "code",
   "execution_count": 27,
   "metadata": {},
   "outputs": [
    {
     "name": "stdout",
     "output_type": "stream",
     "text": [
      "[[0.+0.j]\n",
      " [0.+1.j]]\n"
     ]
    }
   ],
   "source": [
    "from compilers import TrotterSim\n",
    "sim = TrotterSim([np.array([[0,1], [1,0]])])\n",
    "print(sim.simulate(np.pi / 2, 4)) #output state should be sigma_X |0> = |1>"
   ]
  },
  {
   "cell_type": "markdown",
   "metadata": {},
   "source": [
    "### Hamiltonian Generation"
   ]
  },
  {
   "cell_type": "code",
   "execution_count": 4,
   "metadata": {},
   "outputs": [],
   "source": [
    "epsilon = 0.01\n",
    "X = np.array([[0, 1],\n",
    "     [1, 0]])\n",
    "Z = np.array([[1, 0],\n",
    "     [0, -1]])\n",
    "I = np.array([[1, 0],\n",
    "     [0, 1]])\n",
    "XX = np.kron(X, X) #tensor products between two Pauli's\n",
    "XZ = np.kron(X, Z)\n",
    "ZZ = np.kron(Z, Z)\n",
    "ZX = np.kron(Z, X)\n",
    "II = np.kron(I, I)"
   ]
  },
  {
   "cell_type": "code",
   "execution_count": 5,
   "metadata": {},
   "outputs": [
    {
     "name": "stdout",
     "output_type": "stream",
     "text": [
      "(4, 4, 4)\n"
     ]
    }
   ],
   "source": [
    "#List of Hamiltonian decomposition terms H_j for H = \\sum_j h_j H_j\n",
    "Hlist = np.array([XX, XZ, ZX, ZZ])\n",
    "hj = [1.0, 2.0, 3.0, 4.0] #list of normalized coefficients\n",
    "lambd = sum(hj)\n",
    "#t = 10\n",
    "gamma = 2\n",
    "alphacomm = 4 * lambd**3\n",
    "#r = int(((t**3)* 4 * (gamma**4))/(epsilon * 3)) #omitted alphacomm might be prohibitive\n",
    "\n",
    "L = 4 #number of terms in the Hamiltonian\n",
    "InitialState = [1/(2**(1/2)), 0, 1/(2**(1/2)), 0]\n",
    "print(Hlist.shape)"
   ]
  },
  {
   "cell_type": "markdown",
   "metadata": {},
   "source": [
    "### Trotter-Suzuki Second Order Simulation"
   ]
  },
  {
   "cell_type": "code",
   "execution_count": 6,
   "metadata": {
    "scrolled": true
   },
   "outputs": [],
   "source": [
    "def S2Trotter(Hlist, t, r): #Creates a list of all of the evolution operators in 2nd order Trotter-Suzuki\n",
    "    U = []\n",
    "    for i in range(0, 4):\n",
    "        U.append((math.cos(t*hj[i]/(2*r)))*(Hlist[i, :, :]) - 1j*math.sin(t*hj[i]/(2*r))*II)\n",
    "    for i in range(1, 5): \n",
    "        U.append((math.cos(t*hj[-i]/(2*r)))*(Hlist[-i, :, :]) - 1j*math.sin(t*hj[-i]/(2*r))*II)\n",
    "    return U #Takes in Hamiltonian terms and converts them each into evolution operators"
   ]
  },
  {
   "cell_type": "code",
   "execution_count": 7,
   "metadata": {},
   "outputs": [
    {
     "ename": "TypeError",
     "evalue": "S2Trotter() missing 2 required positional arguments: 't' and 'r'",
     "output_type": "error",
     "traceback": [
      "\u001b[0;31m---------------------------------------------------------------------------\u001b[0m",
      "\u001b[0;31mTypeError\u001b[0m                                 Traceback (most recent call last)",
      "Input \u001b[0;32mIn [7]\u001b[0m, in \u001b[0;36m<cell line: 1>\u001b[0;34m()\u001b[0m\n\u001b[0;32m----> 1\u001b[0m S2 \u001b[38;5;241m=\u001b[39m \u001b[43mS2Trotter\u001b[49m\u001b[43m(\u001b[49m\u001b[43mHlist\u001b[49m\u001b[43m)\u001b[49m \u001b[38;5;66;03m#A list of all of the evolution operators in 2nd order Trotter-Suzuki\u001b[39;00m\n\u001b[1;32m      2\u001b[0m \u001b[38;5;66;03m#dim = len(S2)\u001b[39;00m\n\u001b[1;32m      3\u001b[0m \u001b[38;5;28;01mdef\u001b[39;00m \u001b[38;5;21mEvolveStore\u001b[39m(S2): \u001b[38;5;66;03m#Applies each of the evolution operators storing the previous state in a matrix row\u001b[39;00m\n",
      "\u001b[0;31mTypeError\u001b[0m: S2Trotter() missing 2 required positional arguments: 't' and 'r'"
     ]
    }
   ],
   "source": [
    "S2 = S2Trotter(Hlist) #A list of all of the evolution operators in 2nd order Trotter-Suzuki\n",
    "#dim = len(S2)\n",
    "def EvolveStore(S2): #Applies each of the evolution operators storing the previous state in a matrix row\n",
    "    Psi = np.zeros((r*dim + 1, 4), dtype = complex)\n",
    "    Psi[0, :] = InitialState\n",
    "    for i in range(dim*r):\n",
    "        Psi[i+1, :] = S2[i%8] @ Psi[i, :] # %8 is because one application of S2 trotter has 8 ops when N=4\n",
    "    return Psi"
   ]
  },
  {
   "cell_type": "code",
   "execution_count": 8,
   "metadata": {},
   "outputs": [],
   "source": [
    "def S2_Comp(OperatorCoeffs, OperatorList, t, r, TrueState): #Applies each of the evolution operators storing the previous state in a matrix row\n",
    "    TrotterOps = S2Trotter(Hlist, t, r)\n",
    "    infidelity = 0\n",
    "    dim = len(TrotterOps)\n",
    "    Psi = np.zeros((4), dtype = complex)\n",
    "    Psi = InitialState\n",
    "    for i in range(1, dim*r):\n",
    "        Psi = TrotterOps[i%8] @ Psi # %8 is because one application of S2 trotter has 8 ops when N=4, also = 2L\n",
    "    \n",
    "    infidelity = math.sqrt((TrueState - Psi) @ np.conjugate(TrueState - Psi))\n",
    "    \n",
    "    return infidelity"
   ]
  },
  {
   "cell_type": "code",
   "execution_count": 9,
   "metadata": {},
   "outputs": [
    {
     "ename": "NameError",
     "evalue": "name 'EvolveStore' is not defined",
     "output_type": "error",
     "traceback": [
      "\u001b[0;31m---------------------------------------------------------------------------\u001b[0m",
      "\u001b[0;31mNameError\u001b[0m                                 Traceback (most recent call last)",
      "Input \u001b[0;32mIn [9]\u001b[0m, in \u001b[0;36m<cell line: 1>\u001b[0;34m()\u001b[0m\n\u001b[0;32m----> 1\u001b[0m A \u001b[38;5;241m=\u001b[39m \u001b[43mEvolveStore\u001b[49m(S2)\n\u001b[1;32m      3\u001b[0m \u001b[38;5;28msum\u001b[39m(np\u001b[38;5;241m.\u001b[39mabs(A[\u001b[38;5;241m48\u001b[39m, :])\u001b[38;5;241m*\u001b[39m\u001b[38;5;241m*\u001b[39m\u001b[38;5;241m2\u001b[39m)\n",
      "\u001b[0;31mNameError\u001b[0m: name 'EvolveStore' is not defined"
     ]
    }
   ],
   "source": [
    "A = EvolveStore(S2)\n",
    "\n",
    "sum(np.abs(A[48, :])**2) #checks normalization at any point in time (as in after a certain number of gates).\n"
   ]
  },
  {
   "cell_type": "code",
   "execution_count": 10,
   "metadata": {},
   "outputs": [
    {
     "name": "stdout",
     "output_type": "stream",
     "text": [
      "1\n",
      "range(0, 9)\n"
     ]
    }
   ],
   "source": [
    "l = [1, 2, 3, 4]\n",
    "print(l[4%4])\n",
    "print(range(0,9))"
   ]
  },
  {
   "cell_type": "markdown",
   "metadata": {},
   "source": [
    "### QDRIFT Simulator"
   ]
  },
  {
   "cell_type": "code",
   "execution_count": 11,
   "metadata": {},
   "outputs": [
    {
     "name": "stdout",
     "output_type": "stream",
     "text": [
      "0.4435133095901205\n"
     ]
    }
   ],
   "source": [
    "x=random.rand()\n",
    "print(x)"
   ]
  },
  {
   "cell_type": "code",
   "execution_count": 12,
   "metadata": {},
   "outputs": [],
   "source": [
    "lambd = sum(hj)\n",
    "#N = int(2*(lambd**2)*(t**2)/epsilon)\n",
    "#tau = t*lambd/N\n",
    "def QdriftPool(Hlist,t, N):\n",
    "    tau = t*lambd/N\n",
    "    U = []\n",
    "    for i in range(0, 4):\n",
    "        U.append((math.cos(tau))*(Hlist[i, :, :]) - 1j*math.sin(tau)*II)\n",
    "    return U\n",
    "\n",
    "def SumRange(hj, m, n):\n",
    "    #list of terms hj, m, n the min and max of the sum range\n",
    "    l = 0\n",
    "    for i in range(m, n):\n",
    "          l += hj[i]\n",
    "    return l"
   ]
  },
  {
   "cell_type": "code",
   "execution_count": 13,
   "metadata": {},
   "outputs": [
    {
     "ename": "TypeError",
     "evalue": "QdriftPool() missing 2 required positional arguments: 't' and 'N'",
     "output_type": "error",
     "traceback": [
      "\u001b[0;31m---------------------------------------------------------------------------\u001b[0m",
      "\u001b[0;31mTypeError\u001b[0m                                 Traceback (most recent call last)",
      "Input \u001b[0;32mIn [13]\u001b[0m, in \u001b[0;36m<cell line: 1>\u001b[0;34m()\u001b[0m\n\u001b[0;32m----> 1\u001b[0m DriftOps \u001b[38;5;241m=\u001b[39m \u001b[43mQdriftPool\u001b[49m\u001b[43m(\u001b[49m\u001b[43mHlist\u001b[49m\u001b[43m)\u001b[49m \u001b[38;5;66;03m#requires that hj be ordered least to greatest at the moment \u001b[39;00m\n\u001b[1;32m      2\u001b[0m \u001b[38;5;28;01mdef\u001b[39;00m \u001b[38;5;21mQDRIFTstoring\u001b[39m(Hlist, hj): \u001b[38;5;66;03m# also does not work if 2 terms are the same size \u001b[39;00m\n\u001b[1;32m      3\u001b[0m     Psi \u001b[38;5;241m=\u001b[39m np\u001b[38;5;241m.\u001b[39mzeros((N \u001b[38;5;241m+\u001b[39m \u001b[38;5;241m1\u001b[39m, \u001b[38;5;241m4\u001b[39m), dtype \u001b[38;5;241m=\u001b[39m \u001b[38;5;28mcomplex\u001b[39m)\n",
      "\u001b[0;31mTypeError\u001b[0m: QdriftPool() missing 2 required positional arguments: 't' and 'N'"
     ]
    }
   ],
   "source": [
    "DriftOps = QdriftPool(Hlist) #requires that hj be ordered least to greatest at the moment \n",
    "def QDRIFTstoring(Hlist, hj): # also does not work if 2 terms are the same size \n",
    "    Psi = np.zeros((N + 1, 4), dtype = complex)\n",
    "    Psi[0, :] = InitialState\n",
    "    for i in range(0, N):\n",
    "        x = random.rand() \n",
    "        for j in range(L):\n",
    "            if SumRange(hj, 0, j)/lambd < x <= SumRange(hj, 0, j+1)/lambd: #fix this with sums\n",
    "                   Psi[i+1, :] = DriftOps[j+1] @ Psi[i]\n",
    "            \n",
    "            elif (sum(hj) - hj[3])/lambd < x <=1:\n",
    "                Psi[i+1, :] = DriftOps[3] @ Psi[i]\n",
    "            \n",
    "            elif 0 < x <=hj[0]/lambd:\n",
    "                Psi[i+1, :] = DriftOps[0] @ Psi[i] #elif statements are written knowing max and min of hj\n",
    "            \n",
    "            else:\n",
    "                pass\n",
    "    return Psi #not working correctly see below"
   ]
  },
  {
   "cell_type": "code",
   "execution_count": 14,
   "metadata": {},
   "outputs": [],
   "source": [
    "def QDRIFT_comp(OperatorCoeffs, OperatorBin, N, t, TrueState): #same as the above function but does not store intermediate states\n",
    "    Psi = np.zeros((4), dtype = complex)\n",
    "    DriftOps = QdriftPool(Hlist, t, N)\n",
    "    Psi = InitialState\n",
    "    fidelity = 0\n",
    "    for i in range(0, N):\n",
    "        x = random.rand() \n",
    "        for j in range(L):\n",
    "            if SumRange(hj, 0, j)/lambd < x <= SumRange(hj, 0, j+1)/lambd: #fix this with sums\n",
    "                   Psi = DriftOps[j] @ Psi\n",
    "            \n",
    "            #elif (sum(hj) - hj[3])/lambd < x <=1:\n",
    "                #Psi = DriftOps[3] @ Psi\n",
    "            \n",
    "            #elif 0 < x <=hj[0]/lambd:\n",
    "                #Psi = DriftOps[0] @ Psi #elif statements are written knowing max and min of hj\n",
    "            \n",
    "            #else:\n",
    "                #pass\n",
    "            #TheSummdiff function solves the ordering problem, and removes the need for these bins\n",
    "        \n",
    "        fidelity += (np.abs(TrueState @ np.conjugate(Psi)))**2\n",
    "        \n",
    "    infidelity = 1 - ((1/N) * fidelity)\n",
    "    #infidelity = 1 - (np.abs(TrueState @ np.conjugate(Psi)))**2\n",
    "    \n",
    "    return infidelity"
   ]
  },
  {
   "cell_type": "code",
   "execution_count": 15,
   "metadata": {},
   "outputs": [
    {
     "ename": "NameError",
     "evalue": "name 'QDRIFTstoring' is not defined",
     "output_type": "error",
     "traceback": [
      "\u001b[0;31m---------------------------------------------------------------------------\u001b[0m",
      "\u001b[0;31mNameError\u001b[0m                                 Traceback (most recent call last)",
      "Input \u001b[0;32mIn [15]\u001b[0m, in \u001b[0;36m<cell line: 1>\u001b[0;34m()\u001b[0m\n\u001b[0;32m----> 1\u001b[0m B \u001b[38;5;241m=\u001b[39m \u001b[43mQDRIFTstoring\u001b[49m(Hlist, hj)\n",
      "\u001b[0;31mNameError\u001b[0m: name 'QDRIFTstoring' is not defined"
     ]
    }
   ],
   "source": [
    "B = QDRIFTstoring(Hlist, hj)\n",
    "#C = QDRIFT(Hlist)"
   ]
  },
  {
   "cell_type": "markdown",
   "metadata": {},
   "source": [
    "### Plotting Comparisons"
   ]
  },
  {
   "cell_type": "code",
   "execution_count": 16,
   "metadata": {
    "scrolled": true
   },
   "outputs": [
    {
     "ename": "NameError",
     "evalue": "name 'B' is not defined",
     "output_type": "error",
     "traceback": [
      "\u001b[0;31m---------------------------------------------------------------------------\u001b[0m",
      "\u001b[0;31mNameError\u001b[0m                                 Traceback (most recent call last)",
      "Input \u001b[0;32mIn [16]\u001b[0m, in \u001b[0;36m<cell line: 2>\u001b[0;34m()\u001b[0m\n\u001b[1;32m      1\u001b[0m \u001b[38;5;66;03m#QDRIFT plot\u001b[39;00m\n\u001b[0;32m----> 2\u001b[0m B2 \u001b[38;5;241m=\u001b[39m np\u001b[38;5;241m.\u001b[39mabs(\u001b[43mB\u001b[49m)\u001b[38;5;241m*\u001b[39m\u001b[38;5;241m*\u001b[39m\u001b[38;5;241m2\u001b[39m\n\u001b[1;32m      3\u001b[0m plt\u001b[38;5;241m.\u001b[39mfigure(figsize \u001b[38;5;241m=\u001b[39m (\u001b[38;5;241m12\u001b[39m,\u001b[38;5;241m8\u001b[39m))\n\u001b[1;32m      4\u001b[0m plt\u001b[38;5;241m.\u001b[39mylim(\u001b[38;5;241m0\u001b[39m,\u001b[38;5;241m4\u001b[39m) \u001b[38;5;66;03m#limits the range the plot shows\u001b[39;00m\n",
      "\u001b[0;31mNameError\u001b[0m: name 'B' is not defined"
     ]
    }
   ],
   "source": [
    "#QDRIFT plot\n",
    "B2 = np.abs(B)**2\n",
    "plt.figure(figsize = (12,8))\n",
    "plt.ylim(0,4) #limits the range the plot shows\n",
    "plt.xlabel('Gate operations', size = 12)\n",
    "plt.ylabel('Quantum State', size = 12)\n",
    "plt.imshow(np.transpose(B2), origin = 'bottom left', aspect = 'auto', \n",
    "           cmap = 'inferno', vmax = 0.6, interpolation = 'none', extent = [0, N+1, 0, 4]) \n",
    "# vmax alters the sensitivity of the colour plot, so increase for large particle numbers\n",
    "cbar = plt.colorbar(pad = 0.01) #pad chooses the distance of the colour bar from the plot\n",
    "cbar.set_label('Wave function coefficient squared',size=12) \n",
    "print(B2[N, :]) #final state\n",
    "print(sum(B2[N, :])) #norm of final state"
   ]
  },
  {
   "cell_type": "code",
   "execution_count": 17,
   "metadata": {
    "scrolled": true
   },
   "outputs": [
    {
     "ename": "NameError",
     "evalue": "name 'A' is not defined",
     "output_type": "error",
     "traceback": [
      "\u001b[0;31m---------------------------------------------------------------------------\u001b[0m",
      "\u001b[0;31mNameError\u001b[0m                                 Traceback (most recent call last)",
      "Input \u001b[0;32mIn [17]\u001b[0m, in \u001b[0;36m<cell line: 2>\u001b[0;34m()\u001b[0m\n\u001b[1;32m      1\u001b[0m \u001b[38;5;66;03m#Trotter plot\u001b[39;00m\n\u001b[0;32m----> 2\u001b[0m A2 \u001b[38;5;241m=\u001b[39m np\u001b[38;5;241m.\u001b[39mabs(\u001b[43mA\u001b[49m)\u001b[38;5;241m*\u001b[39m\u001b[38;5;241m*\u001b[39m\u001b[38;5;241m2\u001b[39m\n\u001b[1;32m      3\u001b[0m plt\u001b[38;5;241m.\u001b[39mfigure(figsize \u001b[38;5;241m=\u001b[39m (\u001b[38;5;241m12\u001b[39m,\u001b[38;5;241m8\u001b[39m))\n\u001b[1;32m      4\u001b[0m plt\u001b[38;5;241m.\u001b[39mylim(\u001b[38;5;241m0\u001b[39m,\u001b[38;5;241m4\u001b[39m) \u001b[38;5;66;03m#limits the range the plot shows\u001b[39;00m\n",
      "\u001b[0;31mNameError\u001b[0m: name 'A' is not defined"
     ]
    }
   ],
   "source": [
    "#Trotter plot\n",
    "A2 = np.abs(A)**2\n",
    "plt.figure(figsize = (12,8))\n",
    "plt.ylim(0,4) #limits the range the plot shows\n",
    "plt.xlabel('Gate operations', size = 12)\n",
    "plt.ylabel('Quantum State', size = 12)\n",
    "plt.imshow(np.transpose(A2), origin = 'bottom left', aspect = 'auto', \n",
    "           cmap = 'inferno', vmax = 0.7, interpolation = 'none', extent = [0, dim*r+1, 0, 4]) \n",
    "# vmax alters the sensitivity of the colour plot, so increase for large particle numbers\n",
    "cbar = plt.colorbar(pad = 0.01) #pad chooses the distance of the colour bar from the plot\n",
    "cbar.set_label('Wave function coefficient squared',size=12) \n",
    "print(A2[48, :]) #final state"
   ]
  },
  {
   "cell_type": "markdown",
   "metadata": {},
   "source": [
    "### Solution by exact diagonalization"
   ]
  },
  {
   "cell_type": "code",
   "execution_count": 18,
   "metadata": {},
   "outputs": [
    {
     "ename": "NameError",
     "evalue": "name 'H' is not defined",
     "output_type": "error",
     "traceback": [
      "\u001b[0;31m---------------------------------------------------------------------------\u001b[0m",
      "\u001b[0;31mNameError\u001b[0m                                 Traceback (most recent call last)",
      "Input \u001b[0;32mIn [18]\u001b[0m, in \u001b[0;36m<cell line: 7>\u001b[0;34m()\u001b[0m\n\u001b[1;32m      5\u001b[0m     H \u001b[38;5;241m=\u001b[39m \u001b[38;5;28msum\u001b[39m(U)\n\u001b[1;32m      6\u001b[0m     \u001b[38;5;28;01mreturn\u001b[39;00m H\n\u001b[0;32m----> 7\u001b[0m \u001b[38;5;28mprint\u001b[39m(\u001b[43mH\u001b[49m)\n",
      "\u001b[0;31mNameError\u001b[0m: name 'H' is not defined"
     ]
    }
   ],
   "source": [
    "def HamiltonianMat(Hlist, hj): #just makes one hamiltonian matrix based on the lists\n",
    "    U = []\n",
    "    for i in range (0, L):\n",
    "        U.append(hj[i]*Hlist[i, :, :])\n",
    "    H = sum(U)\n",
    "    return H\n",
    "print(H)"
   ]
  },
  {
   "cell_type": "code",
   "execution_count": 19,
   "metadata": {},
   "outputs": [
    {
     "name": "stdout",
     "output_type": "stream",
     "text": [
      "[-5.83095189 -5.09901951  5.09901951  5.83095189]\n"
     ]
    }
   ],
   "source": [
    "H = HamiltonianMat(Hlist, hj)\n",
    "(Y,V) = la.eigh(H) #Diagonalizes the hamiltonian\n",
    "print(Y)\n",
    "#This calculates the eigen vectors V and the eigenvalues Y of the Hamiltonian. Note: the eigenvalues are ordered."
   ]
  },
  {
   "cell_type": "code",
   "execution_count": 112,
   "metadata": {},
   "outputs": [
    {
     "name": "stdout",
     "output_type": "stream",
     "text": [
      "0.9999999999999998\n"
     ]
    }
   ],
   "source": [
    "V_i = np.array(V, dtype = complex)\n",
    "Psi_t = (V_i) @ np.diag(np.exp(-1j*Y*t)) @ np.conjugate(V_i.T) @ InitialState #evolves the system by applying U directly\n",
    "print(InitialState @ np.conjugate(InitialState))"
   ]
  },
  {
   "cell_type": "code",
   "execution_count": 110,
   "metadata": {},
   "outputs": [
    {
     "name": "stdout",
     "output_type": "stream",
     "text": [
      "Exact solution:  [0.42350788 0.22622643 0.31413531 0.03613038]\n",
      "0.727485504788216\n"
     ]
    }
   ],
   "source": [
    "print(\"Exact solution: \", np.abs(Psi_t ** 2))\n",
    "#print(\"QDRIFT solution: \", B2[N, :])\n",
    "#print(\"2nd Order Trotter Solution: \", A2[r*dim, :])\n",
    "print(QDRIFT_comp(hj, Hlist, 100, 2, Psi_t))"
   ]
  },
  {
   "cell_type": "markdown",
   "metadata": {},
   "source": [
    "### QDRIFT Performance"
   ]
  },
  {
   "cell_type": "code",
   "execution_count": 115,
   "metadata": {},
   "outputs": [
    {
     "name": "stdout",
     "output_type": "stream",
     "text": [
      "Execution time in seconds: 367.72733211517334\n"
     ]
    }
   ],
   "source": [
    "#Test the simulator for varying t\n",
    "startTime = time.time()\n",
    "\n",
    "tStart = 0.01\n",
    "tFinal = 4\n",
    "tSteps = 100\n",
    "times = np.linspace(tStart, tFinal, tSteps)\n",
    "\n",
    "N = int(2*(lambd**2)*(tFinal**2)/epsilon)\n",
    "infidel_t = []\n",
    "\n",
    "for t in times:\n",
    "    Psi_t = (V_i) @ np.diag(np.exp(-1j*Y*t)) @ np.conjugate(V_i.T) @ InitialState #recalculate the exact solution\n",
    "    infidel = QDRIFT_comp(hj, Hlist, N, t, Psi_t)\n",
    "    infidel_t.append(infidel)\n",
    "\n",
    "executionTime = (time.time() - startTime)\n",
    "print('Execution time in seconds: ' + str(executionTime))"
   ]
  },
  {
   "cell_type": "code",
   "execution_count": 116,
   "metadata": {},
   "outputs": [
    {
     "data": {
      "text/plain": [
       "Text(0, 0.5, 'log(infidelity)')"
      ]
     },
     "execution_count": 116,
     "metadata": {},
     "output_type": "execute_result"
    },
    {
     "data": {
      "image/png": "[encoded data removed]",
      "text/plain": [
       "<Figure size 1080x504 with 1 Axes>"
      ]
     },
     "metadata": {
      "needs_background": "light"
     },
     "output_type": "display_data"
    }
   ],
   "source": [
    "#print(infidel_t)\n",
    "log_infidelity = np.log10(infidel_t)\n",
    "log_time = np.log10(times)\n",
    "\n",
    "plt.figure (figsize = (15, 7))\n",
    "plt.plot(log_time, log_infidelity, 'ro-') #Remove the squared to simply see the wavefunction\n",
    "plt.xlabel('log(time)', size = 12)\n",
    "plt.ylabel('log(infidelity)', size = 12)\n",
    "#plt.xlim(-25, 25) #Set limit on the x-axis. Comment this out if you wish to study the entire plot"
   ]
  },
  {
   "cell_type": "code",
   "execution_count": 98,
   "metadata": {},
   "outputs": [
    {
     "name": "stdout",
     "output_type": "stream",
     "text": [
      "Execution time in seconds: 95.791170835495\n"
     ]
    }
   ],
   "source": [
    "#Test the simulator for varying number of samples N (which must be an integer)\n",
    "startTime = time.time()\n",
    "t_fixed = 2\n",
    "N = (2*(lambd**2)*(t_fixed**2)/epsilon) #int omitted to avoid rounding issues\n",
    "\n",
    "NStart = 0.1 * N\n",
    "NFinal = 10 * N\n",
    "NSteps = 20\n",
    "NValues = np.linspace(NStart, NFinal, NSteps)\n",
    "NValues = [int(x + 1) for x in NValues] #+1 because Qdrift rounds up in protocol\n",
    "\n",
    "Sample_infidel_N = []\n",
    "for i in NValues:\n",
    "    Sample_infidel = QDRIFT_comp(hj, Hlist, i, t_fixed, Psi_t)\n",
    "    Sample_infidel_N.append(Sample_infidel)\n",
    "\n",
    "executionTime = (time.time() - startTime)\n",
    "print('Execution time in seconds: ' + str(executionTime))"
   ]
  },
  {
   "cell_type": "code",
   "execution_count": 104,
   "metadata": {},
   "outputs": [
    {
     "data": {
      "text/plain": [
       "Text(0, 0.5, 'log(infidelity)')"
      ]
     },
     "execution_count": 104,
     "metadata": {},
     "output_type": "execute_result"
    },
    {
     "data": {
      "image/png": "[encoded data removed]",
      "text/plain": [
       "<Figure size 1080x504 with 1 Axes>"
      ]
     },
     "metadata": {
      "needs_background": "light"
     },
     "output_type": "display_data"
    }
   ],
   "source": [
    "log_infidelity = np.log10(infidel_t)\n",
    "log_time = np.log10(times)\n",
    "\n",
    "plt.figure (figsize = (15, 7))\n",
    "plt.plot(np.log10(NValues), np.log10(Sample_infidel_N), 'ro-') \n",
    "plt.xlabel('log(Samples N)', size = 12)\n",
    "plt.ylabel('log(infidelity)', size = 12)"
   ]
  },
  {
   "cell_type": "markdown",
   "metadata": {},
   "source": [
    "### Trotter S2 Performance"
   ]
  },
  {
   "cell_type": "code",
   "execution_count": 20,
   "metadata": {},
   "outputs": [
    {
     "ename": "NameError",
     "evalue": "name 't' is not defined",
     "output_type": "error",
     "traceback": [
      "\u001b[0;31m---------------------------------------------------------------------------\u001b[0m",
      "\u001b[0;31mNameError\u001b[0m                                 Traceback (most recent call last)",
      "Input \u001b[0;32mIn [20]\u001b[0m, in \u001b[0;36m<cell line: 2>\u001b[0;34m()\u001b[0m\n\u001b[1;32m      1\u001b[0m \u001b[38;5;66;03m#Evaluate Trotter performance for varying t\u001b[39;00m\n\u001b[0;32m----> 2\u001b[0m \u001b[38;5;28;01mdel\u001b[39;00m t\n\u001b[1;32m      3\u001b[0m \u001b[38;5;28;01mdel\u001b[39;00m Psi_t\n\u001b[1;32m      4\u001b[0m startTime \u001b[38;5;241m=\u001b[39m time\u001b[38;5;241m.\u001b[39mtime()\n",
      "\u001b[0;31mNameError\u001b[0m: name 't' is not defined"
     ]
    }
   ],
   "source": [
    "#Evaluate Trotter performance for varying t\n",
    "del t\n",
    "del Psi_t\n",
    "startTime = time.time()\n",
    "\n",
    "tStart = 0.01\n",
    "tFinal = 2\n",
    "tSteps = 100\n",
    "times = np.linspace(tStart, tFinal, tSteps)\n",
    "\n",
    "r = int(((tFinal**3)* 4 * (gamma**4))/(epsilon * 3)) * 100 #omitted alphacomm might be prohibitive\n",
    "Trot_infidel_t = []\n",
    "\n",
    "for t in times:\n",
    "    Psi_t = (V_i) @ np.diag(np.exp(-1j*Y*t)) @ np.conjugate(V_i.T) @ InitialState #recalculate the exact solution\n",
    "    #r = int(((t**3)* 4 * (gamma**4))/(epsilon * 3))\n",
    "    Trot_infidel = S2_Comp(hj, Hlist, t, r, Psi_t)\n",
    "    Trot_infidel_t.append(Trot_infidel)\n",
    "\n",
    "executionTime = (time.time() - startTime)\n",
    "print('Execution time in seconds: ' + str(executionTime))"
   ]
  },
  {
   "cell_type": "code",
   "execution_count": 21,
   "metadata": {},
   "outputs": [
    {
     "ename": "NameError",
     "evalue": "name 'Trot_infidel_t' is not defined",
     "output_type": "error",
     "traceback": [
      "\u001b[0;31m---------------------------------------------------------------------------\u001b[0m",
      "\u001b[0;31mNameError\u001b[0m                                 Traceback (most recent call last)",
      "Input \u001b[0;32mIn [21]\u001b[0m, in \u001b[0;36m<cell line: 2>\u001b[0;34m()\u001b[0m\n\u001b[1;32m      1\u001b[0m \u001b[38;5;66;03m#print(Trot_infidel_t)\u001b[39;00m\n\u001b[0;32m----> 2\u001b[0m Trot_log_infidelity \u001b[38;5;241m=\u001b[39m np\u001b[38;5;241m.\u001b[39mlog10(\u001b[43mTrot_infidel_t\u001b[49m)\n\u001b[1;32m      3\u001b[0m Trot_log_time \u001b[38;5;241m=\u001b[39m np\u001b[38;5;241m.\u001b[39mlog10(times)\n\u001b[1;32m      5\u001b[0m plt\u001b[38;5;241m.\u001b[39mfigure(figsize \u001b[38;5;241m=\u001b[39m (\u001b[38;5;241m15\u001b[39m, \u001b[38;5;241m7\u001b[39m))\n",
      "\u001b[0;31mNameError\u001b[0m: name 'Trot_infidel_t' is not defined"
     ]
    }
   ],
   "source": [
    "#print(Trot_infidel_t)\n",
    "Trot_log_infidelity = np.log10(Trot_infidel_t)\n",
    "Trot_log_time = np.log10(times)\n",
    "\n",
    "plt.figure(figsize = (15, 7))\n",
    "plt.plot(Trot_log_time, Trot_log_infidelity, 'bo-') #Remove the squared to simply see the wavefunction\n",
    "plt.xlabel('log(time)', size = 12)\n",
    "plt.ylabel('log(infidelity)', size = 12)\n",
    "#plt.xlim(-25, 25) #Set limit on the x-axis. Comment this out if you wish to study the entire plot"
   ]
  },
  {
   "cell_type": "code",
   "execution_count": 22,
   "metadata": {},
   "outputs": [
    {
     "ename": "NameError",
     "evalue": "name 'times' is not defined",
     "output_type": "error",
     "traceback": [
      "\u001b[0;31m---------------------------------------------------------------------------\u001b[0m",
      "\u001b[0;31mNameError\u001b[0m                                 Traceback (most recent call last)",
      "Input \u001b[0;32mIn [22]\u001b[0m, in \u001b[0;36m<cell line: 3>\u001b[0;34m()\u001b[0m\n\u001b[1;32m      1\u001b[0m \u001b[38;5;66;03m#derivative of plot above\u001b[39;00m\n\u001b[1;32m      2\u001b[0m m \u001b[38;5;241m=\u001b[39m []\n\u001b[0;32m----> 3\u001b[0m \u001b[38;5;28;01mfor\u001b[39;00m i \u001b[38;5;129;01min\u001b[39;00m \u001b[38;5;28mrange\u001b[39m(\u001b[38;5;241m0\u001b[39m, \u001b[38;5;28mlen\u001b[39m(\u001b[43mtimes\u001b[49m)\u001b[38;5;241m-\u001b[39m\u001b[38;5;241m1\u001b[39m):\n\u001b[1;32m      4\u001b[0m     m\u001b[38;5;241m.\u001b[39mappend((Trot_log_infidelity[i\u001b[38;5;241m+\u001b[39m\u001b[38;5;241m1\u001b[39m] \u001b[38;5;241m-\u001b[39m Trot_log_infidelity[i]) \u001b[38;5;241m/\u001b[39m (Trot_log_time[i\u001b[38;5;241m+\u001b[39m\u001b[38;5;241m1\u001b[39m] \u001b[38;5;241m-\u001b[39m Trot_log_time[i]))\n\u001b[1;32m      6\u001b[0m plt\u001b[38;5;241m.\u001b[39mfigure(figsize \u001b[38;5;241m=\u001b[39m (\u001b[38;5;241m15\u001b[39m, \u001b[38;5;241m7\u001b[39m))\n",
      "\u001b[0;31mNameError\u001b[0m: name 'times' is not defined"
     ]
    }
   ],
   "source": [
    "#derivative of plot above\n",
    "m = []\n",
    "for i in range(0, len(times)-1):\n",
    "    m.append((Trot_log_infidelity[i+1] - Trot_log_infidelity[i]) / (Trot_log_time[i+1] - Trot_log_time[i]))\n",
    "\n",
    "plt.figure(figsize = (15, 7))\n",
    "plt.plot(Trot_log_time[0:99], m, 'bo-') #Remove the squared to simply see the wavefunction\n",
    "plt.xlabel('log(time)', size = 12)\n",
    "plt.ylabel('d/dlog(t) log(infidelity)', size = 12)"
   ]
  },
  {
   "cell_type": "code",
   "execution_count": 54,
   "metadata": {},
   "outputs": [
    {
     "name": "stdout",
     "output_type": "stream",
     "text": [
      "Execution time in seconds: 2529.195280790329\n"
     ]
    }
   ],
   "source": [
    "#Evaluate Trotter performance for varying r\n",
    "startTime = time.time()\n",
    "\n",
    "t_fixed = 1\n",
    "r = (((t_fixed**3)* 4 * (gamma**4))/(epsilon * 3)) * alphacomm #omit alphacomm if prohibitive, omiited int to avoid rounding error\n",
    "\n",
    "rStart = 0.01 * r\n",
    "rFinal = 5 * r\n",
    "rSteps = 10\n",
    "rValues = np.linspace(rStart, rFinal, rSteps)\n",
    "rValues = [int(y+1) for y in rValues]\n",
    "\n",
    "Trot_infidel_r = []\n",
    "for i in rValues:\n",
    "    Trotter_infidel = S2_Comp(hj, Hlist, t_fixed, i, Psi_t)\n",
    "    Trot_infidel_r.append(Trotter_infidel)\n",
    "\n",
    "executionTime = (time.time() - startTime)\n",
    "print('Execution time in seconds: ' + str(executionTime))"
   ]
  },
  {
   "cell_type": "code",
   "execution_count": 105,
   "metadata": {},
   "outputs": [
    {
     "data": {
      "text/plain": [
       "Text(0, 0.5, 'log(infidelity)')"
      ]
     },
     "execution_count": 105,
     "metadata": {},
     "output_type": "execute_result"
    },
    {
     "data": {
      "image/png": "[encoded data removed]",
      "text/plain": [
       "<Figure size 1080x504 with 1 Axes>"
      ]
     },
     "metadata": {
      "needs_background": "light"
     },
     "output_type": "display_data"
    }
   ],
   "source": [
    "plt.figure (figsize = (15, 7))\n",
    "plt.plot(np.log10(rValues), np.log10(Trot_infidel_r), \"bo-\") #Remove the squared to simply see the wavefunction\n",
    "plt.xlabel('log(r)', size = 12)\n",
    "plt.ylabel('log(infidelity)', size = 12)"
   ]
  },
  {
   "cell_type": "code",
   "execution_count": 80,
   "metadata": {},
   "outputs": [
    {
     "name": "stdout",
     "output_type": "stream",
     "text": [
      "4000.0\n"
     ]
    }
   ],
   "source": [
    "print(alphacomm)"
   ]
  },
  {
   "cell_type": "code",
   "execution_count": null,
   "metadata": {},
   "outputs": [],
   "source": []
  }
 ],
 "metadata": {
  "kernelspec": {
   "display_name": "venv",
   "language": "python",
   "name": "venv"
  },
  "language_info": {
   "codemirror_mode": {
    "name": "ipython",
    "version": 3
   },
   "file_extension": ".py",
   "mimetype": "text/x-python",
   "name": "python",
   "nbconvert_exporter": "python",
   "pygments_lexer": "ipython3",
   "version": "3.10.2"
  }
 },
 "nbformat": 4,
 "nbformat_minor": 2
}
