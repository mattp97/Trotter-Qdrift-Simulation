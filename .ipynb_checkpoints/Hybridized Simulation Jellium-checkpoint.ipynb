{
 "cells": [
  {
   "cell_type": "code",
   "execution_count": 1,
   "metadata": {},
   "outputs": [],
   "source": [
    "import numpy as np\n",
    "import matplotlib.pyplot as plt \n",
    "%matplotlib inline\n",
    "import scipy.linalg as la\n",
    "import math\n",
    "from numpy import random\n",
    "import cmath\n",
    "import time\n",
    "from sympy import S, symbols, printing"
   ]
  },
  {
   "cell_type": "markdown",
   "metadata": {},
   "source": [
    " ### Hamiltonian Initialization"
   ]
  },
  {
   "cell_type": "code",
   "execution_count": 2,
   "metadata": {},
   "outputs": [],
   "source": [
    "epsilon = 0.01\n",
    "X = np.array([[0, 1],\n",
    "     [1, 0]])\n",
    "Z = np.array([[1, 0],\n",
    "     [0, -1]])\n",
    "I = np.array([[1, 0],\n",
    "     [0, 1]])\n",
    "XX = np.kron(X, X) #tensor products between two Pauli's\n",
    "XZ = np.kron(X, Z)\n",
    "ZZ = np.kron(Z, Z)\n",
    "ZX = np.kron(Z, X)\n",
    "II = np.kron(I, I)\n",
    "IX = np.kron(I, X)\n",
    "XI = np.kron(X, I)\n",
    "IZ = np.kron(I, Z)"
   ]
  },
  {
   "cell_type": "code",
   "execution_count": 3,
   "metadata": {},
   "outputs": [
    {
     "name": "stdout",
     "output_type": "stream",
     "text": [
      "(6, 4, 4)\n",
      "(6, 4, 4)\n"
     ]
    }
   ],
   "source": [
    "#List of Hamiltonian decomposition terms H_j for H = \\sum_j h_j H_j\n",
    "Hlist = np.array([XX, XZ, ZX, ZZ, IX, IZ])\n",
    "hj = [1.0, 2.0, 3.0, 4.0, 2.0, 1.0] #list of normalized coefficients\n",
    "lambd = sum(hj)\n",
    "#t = 10\n",
    "gamma = 2\n",
    "alphacomm = 4 * lambd**3\n",
    "#r = int(((t**3)* 4 * (gamma**4))/(epsilon * 3)) #omitted alphacomm might be prohibitive\n",
    "\n",
    "L = len(hj) #number of terms in the Hamiltonian\n",
    "InitialState = np.array([1/(2**(1/2)), 0, 1/(2**(1/2)), 0])\n",
    "#InitialState = np.array([1, 0, 0, 0])\n",
    "print(Hlist.shape)\n",
    "\n",
    "hamiltonian_list = []\n",
    "for i in range(L):\n",
    "    hamiltonian_list.append(hj[i] * Hlist[i, :, :]);\n",
    "hamiltonian_list = np.array(hamiltonian_list)\n",
    "print(hamiltonian_list.shape)"
   ]
  },
  {
   "cell_type": "markdown",
   "metadata": {},
   "source": [
    "### Trotter 2nd Order"
   ]
  },
  {
   "cell_type": "code",
   "execution_count": 15,
   "metadata": {},
   "outputs": [],
   "source": [
    "def S2Trotter(Hlist, t, r): #Creates a list of all of the evolution operators in 2nd order Trotter-Suzuki\n",
    "    U = []\n",
    "    for i in range(0, L):\n",
    "        U.append((math.cos(t*hj[i]/(2*r)))*(II) + 1j*math.sin(t*hj[i]/(2*r))*Hlist[i, :, :])\n",
    "    for i in range(1, L+1): \n",
    "        U.append((math.cos(t*hj[-i]/(2*r)))*(II) + 1j*math.sin(t*hj[-i]/(2*r))*Hlist[-i, :, :])\n",
    "    return U #Takes in Hamiltonian terms and converts them each into evolution operators"
   ]
  },
  {
   "cell_type": "code",
   "execution_count": 16,
   "metadata": {},
   "outputs": [],
   "source": [
    "def S2TrotterAuto(Hlist, t, r):\n",
    "    U = []\n",
    "    for i in range(0, L):\n",
    "        U.append(la.expm(1j*hj[i]*t*Hlist[i, :, :]/(2*r)))\n",
    "    for i in range(1, L+1):\n",
    "        U.append(la.expm(1j*hj[-i]*t*Hlist[-i, :, :]/(2*r)))\n",
    "    return U"
   ]
  },
  {
   "cell_type": "code",
   "execution_count": 17,
   "metadata": {},
   "outputs": [],
   "source": [
    "def S2_Comp(OperatorCoeffs, OperatorList, t, r, TrueState): #Applies each of the evolution operators storing the previous state in a matrix row\n",
    "    TrotterOps = S2Trotter(Hlist, t, r)\n",
    "    infidelity = 0\n",
    "    dim = len(TrotterOps)\n",
    "    Psi = np.zeros((4), dtype = complex)\n",
    "    Psi = InitialState\n",
    "    for i in range(0, (dim*r)):\n",
    "        Psi = TrotterOps[i%dim] @ Psi # %8 is because one application of S2 trotter has 8 ops when N=4, also = 2L\n",
    "    \n",
    "    infidelity = 1- (np.abs(np.conjugate(Psi) @ TrueState))**2\n",
    "    \n",
    "    return infidelity"
   ]
  },
  {
   "cell_type": "code",
   "execution_count": 18,
   "metadata": {},
   "outputs": [],
   "source": [
    "def S2_CompAuto(OperatorCoeffs, OperatorList, t, r, TrueState): #Applies each of the evolution operators storing the previous state in a matrix row\n",
    "    TrotterOps = S2TrotterAuto(Hlist, t, r)\n",
    "    infidelity = 0\n",
    "    dim = len(TrotterOps)\n",
    "    Psi = np.zeros((4), dtype = complex)\n",
    "    Psi = InitialState\n",
    "    for i in range(0, (dim*r)):\n",
    "        Psi = TrotterOps[i%dim] @ Psi # %8 is because one application of S2 trotter has 8 ops when N=4, also = 2L\n",
    "    \n",
    "    infidelity = 1- (np.abs(TrueState @ np.conjugate(Psi)))**2\n",
    "    \n",
    "    return infidelity"
   ]
  },
  {
   "cell_type": "markdown",
   "metadata": {},
   "source": [
    "### QDRIFT"
   ]
  },
  {
   "cell_type": "code",
   "execution_count": null,
   "metadata": {},
   "outputs": [],
   "source": [
    "lambd = sum(hj)\n",
    "#N = int(2*(lambd**2)*(t**2)/epsilon)\n",
    "#tau = t*lambd/N\n",
    "def QdriftPool(Hlist,t, N):\n",
    "    tau = t*lambd/N\n",
    "    dim = len(Hlist)\n",
    "    U = []\n",
    "    for i in range(0, dim):\n",
    "        U.append((math.cos(tau))*(II) + 1j*math.sin(tau)*Hlist[i, :, :])\n",
    "    return U\n",
    "\n",
    "def SumRange(hj, m, n):\n",
    "    #list of terms hj, m, n the min and max of the sum range\n",
    "    l = 0\n",
    "    for i in range(m, n):\n",
    "          l += hj[i]\n",
    "    return l\n",
    "\n",
    "def product(lst):\n",
    "    p = 1\n",
    "    for i in lst:\n",
    "        p *= i\n",
    "    return p"
   ]
  },
  {
   "cell_type": "code",
   "execution_count": null,
   "metadata": {},
   "outputs": [],
   "source": [
    "def QDRIFT_comp(OperatorCoeffs, OperatorBin, N, t, TrueState): #same as the above function but does not store intermediate states\n",
    "    Psi = np.zeros((4), dtype = complex)\n",
    "    DriftOps = QdriftPool(Hlist, t, N)\n",
    "    Psi = InitialState\n",
    "    fidelity = 0\n",
    "    dim = len(OperatorCoeffs)\n",
    "   # np.random.seed(97)\n",
    "   # for i in range(0, N):\n",
    "      #  x = random.rand()\n",
    "      #  for j in range(L):\n",
    "      #      if SumRange(hj, 0, j)/lambd < x <= SumRange(hj, 0, j+1)/lambd:\n",
    "      #              Psi = DriftOps[j] @ Psi\n",
    "      #              p_i = hj[j]/lambd\n",
    "      #      else:\n",
    "     #           pass\n",
    "    #Above is all working!\n",
    "    \n",
    "    #Monte Carlo\n",
    "    B = math.factorial(dim) #number of permutations of vector i\n",
    "    Nsample = int(B/8) #number of times we sample from biased distribution hj, need analytics to support choice\n",
    "    #np.random.seed(97)\n",
    "    for i in range(1, Nsample+1):\n",
    "        #p_i = []\n",
    "        for j in range(0, N):\n",
    "            sample = random.rand()\n",
    "            for k in range(0, dim):\n",
    "                if SumRange(hj, 0, k)/lambd < sample <= SumRange(hj, 0, k+1)/lambd:\n",
    "                    Psi = DriftOps[k] @ Psi\n",
    "                    #p_i.append(hj[k]/lambd)\n",
    "                else:\n",
    "                    pass\n",
    "        \n",
    "        fidelity += (np.abs(TrueState @ np.conjugate(Psi))**2) \n",
    "        #print(p_i)\n",
    "        \n",
    "    #infidelity = 1 - fidelity*B\n",
    "    \n",
    "    return 1- fidelity/Nsample"
   ]
  },
  {
   "cell_type": "markdown",
   "metadata": {},
   "source": [
    "### Exact Diagonalization"
   ]
  },
  {
   "cell_type": "code",
   "execution_count": 22,
   "metadata": {},
   "outputs": [
    {
     "name": "stdout",
     "output_type": "stream",
     "text": [
      "[-7.54379893 -3.6181622   3.6181622   7.54379893]\n",
      "0.9999999999999998\n"
     ]
    }
   ],
   "source": [
    "def HamiltonianMat(Hlist, hj): #just makes one hamiltonian matrix based on the lists\n",
    "    U = []\n",
    "    for i in range (0, L):\n",
    "        U.append(hj[i]*Hlist[i, :, :])\n",
    "    H = sum(U)\n",
    "    return H\n",
    "\n",
    "H = HamiltonianMat(Hlist, hj)\n",
    "\n",
    "(Y,V) = la.eigh(H) #Diagonalizes the hamiltonian\n",
    "print(Y)\n",
    "#This calculates the eigen vectors V and the eigenvalues Y of the Hamiltonian. Note: the eigenvalues are ordered.\n",
    "\n",
    "V_i = np.array(V, dtype = complex)\n",
    "V_i_dagger = np.conjugate(V_i.T)\n",
    "Psi_t = (V_i) @ np.diag(np.exp(1j*Y*1)) @ V_i_dagger @ InitialState #evolves the system by applying U directly\n",
    "print(InitialState @ np.conjugate(InitialState))"
   ]
  },
  {
   "cell_type": "markdown",
   "metadata": {},
   "source": [
    "### QDRIFT Performance"
   ]
  },
  {
   "cell_type": "code",
   "execution_count": null,
   "metadata": {},
   "outputs": [],
   "source": [
    "#Test the simulator for varying t\n",
    "startTime = time.time()\n",
    "\n",
    "tStart = 0.01\n",
    "tFinal = 1\n",
    "tSteps = 100\n",
    "times = np.linspace(tStart, tFinal, tSteps)\n",
    "\n",
    "#N = int(2*(lambd**2)*(tFinal**2)/epsilon)\n",
    "N = 1000\n",
    "infidel_t = []\n",
    "\n",
    "for t in times:\n",
    "    Psi_t = (V_i) @ np.diag(np.exp(-1j*Y*t)) @ V_i_dagger @ InitialState #recalculate the exact solution\n",
    "    infidel = QDRIFT_comp(hj, Hlist, N, t, Psi_t)\n",
    "    infidel_t.append(infidel)\n",
    "\n",
    "executionTime = (time.time() - startTime)\n",
    "print('Execution time in seconds: ' + str(executionTime))"
   ]
  },
  {
   "cell_type": "code",
   "execution_count": null,
   "metadata": {},
   "outputs": [],
   "source": [
    "print(infidel_t)\n",
    "log_infidelity = np.log10(infidel_t)\n",
    "log_time = np.log10(times)\n",
    "\n",
    "plt.figure (figsize = (15, 7))\n",
    "plt.plot(log_time, log_infidelity, 'ro-') \n",
    "plt.xlabel('log(time)', size = 12)\n",
    "plt.ylabel('log(infidelity)', size = 12)\n",
    "\n",
    "fit_points = 0 #declare the starting point to fit in the data\n",
    "\n",
    "p = np.polyfit(log_time[fit_points: -1], log_infidelity[fit_points: -1], 1)\n",
    "f = np.poly1d(p)\n",
    "\n",
    "t_new = np.linspace(log_time[fit_points], log_time[-1], 50)\n",
    "y_new = f(t_new)\n",
    "\n",
    "A_Trot_log_time = symbols(\"t\")\n",
    "poly = sum(S(\"{:6.2f}\".format(v))*A_Trot_log_time**i for i, v in enumerate(p[::-1]))\n",
    "eq_latex = printing.latex(poly)\n",
    "\n",
    "plt.plot(t_new, y_new, 'b--', label=\"${}$\".format(eq_latex))\n",
    "plt.legend(fontsize=\"large\")\n",
    "plt.show()"
   ]
  },
  {
   "cell_type": "code",
   "execution_count": null,
   "metadata": {},
   "outputs": [],
   "source": [
    "#Test the simulator for varying number of samples N (which must be an integer)\n",
    "startTime = time.time()\n",
    "t_fixed = 2\n",
    "Psi_t = (V_i) @ np.diag(np.exp(-1j*Y*t_fixed)) @ V_i_dagger @ InitialState\n",
    "N = (2*(lambd**2)*(t_fixed**2)/epsilon) #int omitted to avoid rounding issues\n",
    "\n",
    "NStart = 0.1 * N\n",
    "NFinal = 5 * N\n",
    "NSteps = 40\n",
    "NValues = np.linspace(NStart, NFinal, NSteps)\n",
    "NValues = [int(x + 1) for x in NValues] #+1 because Qdrift rounds up in protocol\n",
    "\n",
    "Sample_infidel_N = []\n",
    "for i in NValues:\n",
    "    Sample_infidel = QDRIFT_comp(hj, Hlist, i, t_fixed, Psi_t)\n",
    "    Sample_infidel_N.append(Sample_infidel)\n",
    "\n",
    "executionTime = (time.time() - startTime)\n",
    "print('Execution time in seconds: ' + str(executionTime))"
   ]
  },
  {
   "cell_type": "code",
   "execution_count": null,
   "metadata": {},
   "outputs": [],
   "source": [
    "plt.figure (figsize = (15, 7))\n",
    "plt.plot(np.log10(NValues), np.log10(Sample_infidel_N), 'ro-') \n",
    "plt.xlabel('log(Samples N)', size = 12)\n",
    "plt.ylabel('log(infidelity)', size = 12)"
   ]
  },
  {
   "cell_type": "markdown",
   "metadata": {},
   "source": [
    "### Trotter S2 Performance"
   ]
  },
  {
   "cell_type": "code",
   "execution_count": 28,
   "metadata": {},
   "outputs": [
    {
     "name": "stdout",
     "output_type": "stream",
     "text": [
      "Execution time in seconds: 7.365288972854614\n"
     ]
    }
   ],
   "source": [
    "#Evaluate Trotter performance for varying t, done with AutoDiag functions from la\n",
    "\n",
    "startTime = time.time()\n",
    "\n",
    "tStart = 0.01\n",
    "tFinal = 10\n",
    "tSteps = 100\n",
    "times = np.linspace(tStart, tFinal, tSteps)\n",
    "temp_t = 3\n",
    "\n",
    "r = 4000\n",
    "#int(((temp_t**3)* 4 * (gamma**4))/(epsilon * 3)) #omitted alphacomm might be prohibitive\n",
    "A_Trot_infidel_t = []\n",
    "\n",
    "for t in times:\n",
    "    Psi_t = (V_i) @ np.diag(np.exp(1j*Y*t)) @ V_i_dagger @ InitialState #recalculate the exact solution\n",
    "    #r = int(((t**3)* 4 * (gamma**4))/(epsilon * 3))\n",
    "    A_Trot_infidel = S2_CompAuto(hj, Hlist, t, r, Psi_t)\n",
    "    A_Trot_infidel_t.append(A_Trot_infidel)\n",
    "\n",
    "executionTime = (time.time() - startTime)\n",
    "print('Execution time in seconds: ' + str(executionTime))"
   ]
  },
  {
   "cell_type": "code",
   "execution_count": 29,
   "metadata": {},
   "outputs": [
    {
     "name": "stderr",
     "output_type": "stream",
     "text": [
      "/opt/anaconda3/lib/python3.7/site-packages/ipykernel_launcher.py:1: RuntimeWarning: invalid value encountered in log10\n",
      "  \"\"\"Entry point for launching an IPython kernel.\n"
     ]
    },
    {
     "data": {
      "image/png": "[encoded data removed]",
      "text/plain": [
       "<Figure size 1080x504 with 1 Axes>"
      ]
     },
     "metadata": {
      "needs_background": "light"
     },
     "output_type": "display_data"
    }
   ],
   "source": [
    "A_Trot_log_infidelity = np.log10(A_Trot_infidel_t)\n",
    "A_Trot_log_time = np.log10(times)\n",
    "\n",
    "plt.figure(figsize = (15, 7))\n",
    "plt.plot(A_Trot_log_time, A_Trot_log_infidelity, 'bo-') \n",
    "plt.xlabel('log(time)', size = 12)\n",
    "plt.ylabel('log(infidelity)', size = 12)\n",
    "\n",
    "fit_points = 25 #declare the starting point to fit in the data\n",
    "\n",
    "p = np.polyfit(A_Trot_log_time[fit_points: -1], A_Trot_log_infidelity[fit_points: -1], 1)\n",
    "f = np.poly1d(p)\n",
    "\n",
    "t_new = np.linspace(A_Trot_log_time[fit_points], A_Trot_log_time[-1], 50)\n",
    "y_new = f(t_new)\n",
    "\n",
    "A_Trot_log_time = symbols(\"t\")\n",
    "poly = sum(S(\"{:6.2f}\".format(v))*A_Trot_log_time**i for i, v in enumerate(p[::-1]))\n",
    "eq_latex = printing.latex(poly)\n",
    "\n",
    "plt.plot(t_new, y_new, 'r--', label=\"${}$\".format(eq_latex))\n",
    "plt.legend(fontsize=\"large\")\n",
    "plt.show()"
   ]
  },
  {
   "cell_type": "code",
   "execution_count": 30,
   "metadata": {},
   "outputs": [
    {
     "name": "stdout",
     "output_type": "stream",
     "text": [
      "Execution time in seconds: 7.92350697517395\n"
     ]
    }
   ],
   "source": [
    "#Evaluate Trotter performance for varying t\n",
    "del t\n",
    "del Psi_t\n",
    "startTime = time.time()\n",
    "\n",
    "tStart = 0.01\n",
    "tFinal = 30\n",
    "tSteps = 100\n",
    "times = np.linspace(tStart, tFinal, tSteps)\n",
    "temp_t = 3\n",
    "\n",
    "r = 4000\n",
    "#int(((temp_t**3)* 4 * (gamma**4))/(epsilon * 3)) #omitted alphacomm might be prohibitive\n",
    "Trot_infidel_t = []\n",
    "\n",
    "for t in times:\n",
    "    Psi_t = (V_i) @ np.diag(np.exp(1j*Y*t)) @ V_i_dagger @ InitialState #recalculate the exact solution\n",
    "    Trot_infidel = S2_Comp(hj, Hlist, t, r, Psi_t)\n",
    "    Trot_infidel_t.append(Trot_infidel)\n",
    "\n",
    "executionTime = (time.time() - startTime)\n",
    "print('Execution time in seconds: ' + str(executionTime))"
   ]
  },
  {
   "cell_type": "code",
   "execution_count": 31,
   "metadata": {},
   "outputs": [
    {
     "name": "stderr",
     "output_type": "stream",
     "text": [
      "/opt/anaconda3/lib/python3.7/site-packages/ipykernel_launcher.py:2: RuntimeWarning: invalid value encountered in log10\n",
      "  \n"
     ]
    },
    {
     "data": {
      "image/png": "[encoded data removed]",
      "text/plain": [
       "<Figure size 1080x504 with 1 Axes>"
      ]
     },
     "metadata": {
      "needs_background": "light"
     },
     "output_type": "display_data"
    }
   ],
   "source": [
    "#print(Trot_infidel_t)\n",
    "Trot_log_infidelity = np.log10(Trot_infidel_t)\n",
    "Trot_log_time = np.log10(times)\n",
    "\n",
    "plt.figure(figsize = (15, 7))\n",
    "plt.plot(Trot_log_time, Trot_log_infidelity, 'bo-') \n",
    "plt.xlabel('log(time)', size = 12)\n",
    "plt.ylabel('log(infidelity)', size = 12)\n",
    "\n",
    "fit_points = 10 #declare the starting point to fit in the data\n",
    "\n",
    "p = np.polyfit(Trot_log_time[fit_points: -1], Trot_log_infidelity[fit_points: -1], 1)\n",
    "f = np.poly1d(p)\n",
    "\n",
    "t_new = np.linspace(Trot_log_time[fit_points], Trot_log_time[-1], 50)\n",
    "y_new = f(t_new)\n",
    "\n",
    "A_Trot_log_time = symbols(\"t\")\n",
    "poly = sum(S(\"{:6.2f}\".format(v))*A_Trot_log_time**i for i, v in enumerate(p[::-1]))\n",
    "eq_latex = printing.latex(poly)\n",
    "\n",
    "plt.plot(t_new, y_new, 'r--', label=\"${}$\".format(eq_latex))\n",
    "plt.legend(fontsize=\"large\")\n",
    "plt.show()"
   ]
  },
  {
   "cell_type": "code",
   "execution_count": null,
   "metadata": {},
   "outputs": [],
   "source": [
    "#Evaluate Trotter performance for varying r\n",
    "startTime = time.time()\n",
    "\n",
    "t_fixed = 1\n",
    "r = (((t_fixed**3)* 4 * (gamma**4))/(epsilon * 3)) * (alphacomm/10) #omit alphacomm if prohibitive, omiited int to avoid rounding error\n",
    "Psi_t = (V_i) @ np.diag(np.exp(-1j*Y*t_fixed)) @ V_i_dagger @ InitialState\n",
    "\n",
    "rStart = 0.00001 * r\n",
    "rFinal = 0.01 * r\n",
    "rSteps = 100\n",
    "rValues = np.linspace(rStart, rFinal, rSteps)\n",
    "rValues = [int(y+1) for y in rValues]\n",
    "\n",
    "Trot_infidel_r = []\n",
    "for i in rValues:\n",
    "    Trotter_infidel = S2_Comp(hj, Hlist, t_fixed, i, Psi_t)\n",
    "    Trot_infidel_r.append(Trotter_infidel)\n",
    "\n",
    "executionTime = (time.time() - startTime)\n",
    "print('Execution time in seconds: ' + str(executionTime))"
   ]
  },
  {
   "cell_type": "code",
   "execution_count": null,
   "metadata": {},
   "outputs": [],
   "source": [
    "plt.figure (figsize = (15, 7))\n",
    "plt.plot(np.log10(rValues), np.log10(Trot_infidel_r), \"bo-\") #Remove the squared to simply see the wavefunction\n",
    "plt.xlabel('log(r)', size = 12)\n",
    "plt.ylabel('log(infidelity)', size = 12)"
   ]
  },
  {
   "cell_type": "markdown",
   "metadata": {},
   "source": [
    "## Notebook using compilers.py"
   ]
  },
  {
   "cell_type": "markdown",
   "metadata": {},
   "source": [
    "The goal is to compare the functions in compilers.py to the ones witten here in both output and runtimes. The only part of the previous sections that this section will reference is \"Hamiltonian Initialization\""
   ]
  },
  {
   "cell_type": "markdown",
   "metadata": {},
   "source": [
    "### Trotter Simulation"
   ]
  },
  {
   "cell_type": "code",
   "execution_count": 2,
   "metadata": {},
   "outputs": [],
   "source": [
    "from compilers import TrotterSim"
   ]
  },
  {
   "cell_type": "code",
   "execution_count": 7,
   "metadata": {},
   "outputs": [
    {
     "name": "stdout",
     "output_type": "stream",
     "text": [
      "[[0.+0.j]\n",
      " [0.+1.j]]\n"
     ]
    }
   ],
   "source": [
    "#Example, does not need to be run\n",
    "#use array hamiltonian_list\n",
    "sim = TrotterSim([np.array([[0,1], [1,0]])])\n",
    "print(sim.simulate(np.pi / 2, 4)) #output state should be sigma_X |0> = |1>"
   ]
  },
  {
   "cell_type": "code",
   "execution_count": 9,
   "metadata": {},
   "outputs": [],
   "source": [
    "sim1 = TrotterSim(hamiltonian_list, 6)\n",
    "#sim1.initial_state = InitialState"
   ]
  },
  {
   "cell_type": "code",
   "execution_count": 11,
   "metadata": {},
   "outputs": [
    {
     "name": "stdout",
     "output_type": "stream",
     "text": [
      "(100, 1, 1)\n"
     ]
    }
   ],
   "source": [
    "startTime = time.time()\n",
    "\n",
    "tStart = 0.0001\n",
    "tFinal = 0.5\n",
    "tSteps = 100\n",
    "times = np.linspace(tStart, tFinal, tSteps)\n",
    "\n",
    "trot_compiler_inf = []\n",
    "for t in times:\n",
    "    trot_compiler_inf.append(sim1.trotter_infidelity(t, 1))\n",
    "\n",
    "log_trot_compiler_inf = np.log10(trot_compiler_inf)\n",
    "log_times = np.log10(times)\n",
    "print(log_trot_compiler_inf.shape)\n",
    "\n",
    "data = log_trot_compiler_inf[:, 0, 0]\n",
    "\n",
    "executionTime = (time.time() - startTime)\n",
    "print('Execution time in seconds: ' + str(executionTime))"
   ]
  },
  {
   "cell_type": "code",
   "execution_count": 12,
   "metadata": {},
   "outputs": [
    {
     "data": {
      "image/png": "[encoded data removed]",
      "text/plain": [
       "<Figure size 1080x504 with 1 Axes>"
      ]
     },
     "metadata": {
      "needs_background": "light"
     },
     "output_type": "display_data"
    }
   ],
   "source": [
    "plt.figure(figsize = (15, 7))\n",
    "plt.plot(log_times, data, 'bo-') \n",
    "plt.xlabel('log(time)', size = 12)\n",
    "plt.ylabel('log(infidelity)', size = 12)\n",
    "\n",
    "fit_points = 10 #declare the starting point to fit in the data\n",
    "\n",
    "p = np.polyfit(log_times[fit_points: -1], data[fit_points: -1], 1)\n",
    "f = np.poly1d(p)\n",
    "\n",
    "t_new = np.linspace(log_times[fit_points], log_times[-1], 50)\n",
    "y_new = f(t_new)\n",
    "\n",
    "data = symbols(\"t\")\n",
    "poly = sum(S(\"{:6.2f}\".format(v))*data**i for i, v in enumerate(p[::-1]))\n",
    "eq_latex = printing.latex(poly)\n",
    "\n",
    "plt.plot(t_new, y_new, 'r--', label=\"${}$\".format(eq_latex))\n",
    "plt.legend(fontsize=\"large\")\n",
    "plt.show()"
   ]
  },
  {
   "cell_type": "code",
   "execution_count": 23,
   "metadata": {},
   "outputs": [
    {
     "name": "stdout",
     "output_type": "stream",
     "text": [
      "[ 4.94974747  4.24264069 -0.70710678  0.        ]\n",
      "[[ 4.94974747]\n",
      " [ 4.24264069]\n",
      " [-0.70710678]\n",
      " [ 0.        ]]\n"
     ]
    }
   ],
   "source": [
    "po = sum(hamiltonian_list) @ InitialState\n",
    "print(po)\n",
    "\n",
    "op = np.matmul(sum(hamiltonian_list), InitialState.reshape((4, 1)))\n",
    "print(op)"
   ]
  },
  {
   "cell_type": "markdown",
   "metadata": {},
   "source": [
    "### QDrift Simulation"
   ]
  },
  {
   "cell_type": "code",
   "execution_count": 4,
   "metadata": {},
   "outputs": [],
   "source": [
    "from compilers import QDriftSimulator"
   ]
  },
  {
   "cell_type": "code",
   "execution_count": 5,
   "metadata": {},
   "outputs": [
    {
     "data": {
      "text/plain": [
       "array([[0.36340479+0.71730382j],\n",
       "       [0.14723754+0.50873945j],\n",
       "       [0.11122723-0.0034909j ],\n",
       "       [0.02966142-0.24424165j]])"
      ]
     },
     "execution_count": 5,
     "metadata": {},
     "output_type": "execute_result"
    }
   ],
   "source": [
    "QDsim = QDriftSimulator(hamiltonian_list)\n",
    "QDsim.simulate(1, 1000)"
   ]
  },
  {
   "cell_type": "code",
   "execution_count": 14,
   "metadata": {},
   "outputs": [
    {
     "data": {
      "text/plain": [
       "array([[0.4852464]])"
      ]
     },
     "execution_count": 14,
     "metadata": {},
     "output_type": "execute_result"
    }
   ],
   "source": [
    "QDsim.sample_channel_inf(1, 1, 40)"
   ]
  },
  {
   "cell_type": "code",
   "execution_count": 26,
   "metadata": {},
   "outputs": [
    {
     "name": "stdout",
     "output_type": "stream",
     "text": [
      "(100, 1, 1)\n",
      "Execution time in seconds: 121.33921813964844\n"
     ]
    }
   ],
   "source": [
    "startTime = time.time()\n",
    "\n",
    "tStart = 0.0001\n",
    "tFinal = 0.05\n",
    "tSteps = 100\n",
    "times = np.linspace(tStart, tFinal, tSteps)\n",
    "\n",
    "qd_compiler_inf = []\n",
    "for t in times:\n",
    "    qd_compiler_inf.append(QDsim.sample_channel_inf(t, 10, 400))\n",
    "\n",
    "log_qd_compiler_inf = np.log10(qd_compiler_inf)\n",
    "log_times = np.log10(times)\n",
    "print(log_qd_compiler_inf.shape)\n",
    "\n",
    "executionTime = (time.time() - startTime)\n",
    "print('Execution time in seconds: ' + str(executionTime))"
   ]
  },
  {
   "cell_type": "code",
   "execution_count": 27,
   "metadata": {},
   "outputs": [
    {
     "data": {
      "image/png": "[encoded data removed]",
      "text/plain": [
       "<Figure size 1080x504 with 1 Axes>"
      ]
     },
     "metadata": {
      "needs_background": "light"
     },
     "output_type": "display_data"
    }
   ],
   "source": [
    "data1 = log_qd_compiler_inf[:, 0, 0]\n",
    "plt.figure(figsize = (15, 7))\n",
    "plt.plot(log_times, data1, 'bo-') \n",
    "plt.xlabel('log(time)', size = 12)\n",
    "plt.ylabel('log(infidelity)', size = 12)\n",
    "\n",
    "fit_points = 0 #declare the starting point to fit in the data\n",
    "\n",
    "p = np.polyfit(log_times[fit_points: -50], data1[fit_points: -50], 1)\n",
    "f = np.poly1d(p)\n",
    "\n",
    "t_new = np.linspace(log_times[fit_points], log_times[-50], 50)\n",
    "y_new = f(t_new)\n",
    "\n",
    "data1 = symbols(\"t\")\n",
    "poly = sum(S(\"{:6.2f}\".format(v))*data1**i for i, v in enumerate(p[::-1]))\n",
    "eq_latex = printing.latex(poly)\n",
    "\n",
    "plt.plot(t_new, y_new, 'r--', label=\"${}$\".format(eq_latex))\n",
    "plt.legend(fontsize=\"large\")\n",
    "plt.show()"
   ]
  },
  {
   "cell_type": "code",
   "execution_count": null,
   "metadata": {},
   "outputs": [],
   "source": []
  }
 ],
 "metadata": {
  "kernelspec": {
   "display_name": "Python 3",
   "language": "python",
   "name": "python3"
  },
  "language_info": {
   "codemirror_mode": {
    "name": "ipython",
    "version": 3
   },
   "file_extension": ".py",
   "mimetype": "text/x-python",
   "name": "python",
   "nbconvert_exporter": "python",
   "pygments_lexer": "ipython3",
   "version": "3.7.4"
  }
 },
 "nbformat": 4,
 "nbformat_minor": 2
}
