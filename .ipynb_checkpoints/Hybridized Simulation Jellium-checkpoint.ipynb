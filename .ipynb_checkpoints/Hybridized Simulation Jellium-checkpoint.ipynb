{
 "cells": [
  {
   "cell_type": "code",
   "execution_count": null,
   "metadata": {},
   "outputs": [],
   "source": [
    "#Remove 3 in \"pip3\" if conda pip installed\n",
    "try:\n",
    "    import openfermion\n",
    "except ImportError:\n",
    "    !pip3 install git+https://github.com/quantumlib/OpenFermion.git@master#egg=openfermion"
   ]
  },
  {
   "cell_type": "code",
   "execution_count": 1,
   "metadata": {},
   "outputs": [],
   "source": [
    "import numpy as np\n",
    "import matplotlib.pyplot as plt \n",
    "%matplotlib inline\n",
    "import scipy.linalg as la\n",
    "import math\n",
    "from numpy import random\n",
    "import cmath\n",
    "import time\n",
    "from sympy import S, symbols, printing\n",
    "\n",
    "from compilers import TrotterSim\n",
    "from compilers import QDriftSimulator\n",
    "from compilers import CompositeSim"
   ]
  },
  {
   "cell_type": "markdown",
   "metadata": {},
   "source": [
    " ### Hamiltonian Initialization"
   ]
  },
  {
   "cell_type": "markdown",
   "metadata": {},
   "source": [
    "#### Arbitrary Tensored 4x4 Pauli"
   ]
  },
  {
   "cell_type": "code",
   "execution_count": 2,
   "metadata": {},
   "outputs": [],
   "source": [
    "X = np.array([[0, 1],\n",
    "     [1, 0]])\n",
    "Z = np.array([[1, 0],\n",
    "     [0, -1]])\n",
    "Y = np.array([[0, -1j],\n",
    "     [1j, 0]])\n",
    "I = np.array([[1, 0],\n",
    "     [0, 1]])\n",
    "XX = np.kron(X, X) #tensor products between two Pauli's\n",
    "XZ = np.kron(X, Z)\n",
    "ZZ = np.kron(Z, Z)\n",
    "ZX = np.kron(Z, X)\n",
    "II = np.kron(I, I)\n",
    "IX = np.kron(I, X)\n",
    "XI = np.kron(X, I)\n",
    "IZ = np.kron(I, Z)\n",
    "ZI = np.kron(Z, I)"
   ]
  },
  {
   "cell_type": "code",
   "execution_count": 3,
   "metadata": {},
   "outputs": [
    {
     "name": "stdout",
     "output_type": "stream",
     "text": [
      "(8, 4, 4)\n",
      "(8, 4, 4)\n"
     ]
    }
   ],
   "source": [
    "#List of Hamiltonian decomposition terms H_j for H = \\sum_j h_j H_j\n",
    "Hlist = np.array([XX, XZ, ZX, ZZ, IX, IZ, XI, ZI])\n",
    "hj = [1.0, 2.0, 3.0, 4.0, 2.0, 1.0, 0.5, 0.25] #list of normalized coefficients\n",
    "\n",
    "print(Hlist.shape)\n",
    "\n",
    "hamiltonian_list = []\n",
    "for i in range(len(hj)):\n",
    "    hamiltonian_list.append(hj[i] * Hlist[i, :, :]);\n",
    "hamiltonian_list = np.array(hamiltonian_list)\n",
    "print(hamiltonian_list.shape)\n",
    "#print(hamiltonian_list)"
   ]
  },
  {
   "cell_type": "markdown",
   "metadata": {},
   "source": [
    "#### Graph Hamiltonian"
   ]
  },
  {
   "cell_type": "code",
   "execution_count": 4,
   "metadata": {},
   "outputs": [],
   "source": [
    "def dist(site1, site2):\n",
    "    distance_vec = site1 - site2\n",
    "    distance = np.abs(distance_vec[0]) + np.abs(distance_vec[1])\n",
    "    return distance\n",
    "\n",
    "def initialize_graph(x_sites, y_sites):\n",
    "    coord_list = []\n",
    "    for i in range(x_sites):\n",
    "        for j in range(y_sites):\n",
    "            coord_list.append([i,j])\n",
    "    return np.array(coord_list)\n",
    "\n",
    "def initialize_operator(operator_2d, acting_space, space_dimension):\n",
    "    if acting_space>space_dimension:\n",
    "        return 'error'\n",
    "    for i in range(acting_space):\n",
    "        operator_2d = np.kron(operator_2d, I)\n",
    "    for j in range(space_dimension - acting_space-1):\n",
    "        operator_2d = np.kron(I, operator_2d)\n",
    "    return operator_2d"
   ]
  },
  {
   "cell_type": "code",
   "execution_count": 5,
   "metadata": {},
   "outputs": [
    {
     "name": "stdout",
     "output_type": "stream",
     "text": [
      "[[0 0]\n",
      " [0 1]\n",
      " [1 0]\n",
      " [1 1]\n",
      " [2 0]\n",
      " [2 1]]\n",
      "1\n",
      "[[ 1  0  0  0]\n",
      " [ 0 -1  0  0]\n",
      " [ 0  0  1  0]\n",
      " [ 0  0  0 -1]]\n"
     ]
    }
   ],
   "source": [
    "#Tests\n",
    "graph = initialize_graph(3,2)\n",
    "print(graph)\n",
    "print(dist(graph[0], graph[2]))\n",
    "op = initialize_operator(Z, 0 , 2)\n",
    "print(op)"
   ]
  },
  {
   "cell_type": "code",
   "execution_count": 6,
   "metadata": {
    "scrolled": true
   },
   "outputs": [
    {
     "name": "stdout",
     "output_type": "stream",
     "text": [
      "(64, 256, 256)\n"
     ]
    }
   ],
   "source": [
    "#Initialize Hamiltonian \n",
    "def graph_hamiltonian(x_dim, y_dim, rng_seed):\n",
    "    np.random.seed(rng_seed)\n",
    "    hamiltonian_list = []\n",
    "    graph = initialize_graph(x_dim, y_dim)\n",
    "    for i in range(x_dim*y_dim):\n",
    "        for j in range(y_dim*x_dim):\n",
    "            if i != j:\n",
    "                alpha = np.random.normal()\n",
    "                hamiltonian_list.append(alpha * \n",
    "                    np.matmul(initialize_operator(Z, i, x_dim*y_dim), initialize_operator(Z, j, x_dim*y_dim)) *\n",
    "                        10.0**(-dist(graph[i], graph[j])))\n",
    "            \n",
    "        alpha = np.random.normal()\n",
    "        hamiltonian_list.append(4* alpha * initialize_operator(X, i, x_dim*y_dim))\n",
    "                \n",
    "    return np.array(hamiltonian_list)\n",
    "\n",
    "graph_hamiltonian_list = graph_hamiltonian(4, 2, 1)\n",
    "print(graph_hamiltonian_list.shape)"
   ]
  },
  {
   "cell_type": "markdown",
   "metadata": {},
   "source": [
    "#### Jellium Hamiltonian"
   ]
  },
  {
   "cell_type": "code",
   "execution_count": null,
   "metadata": {},
   "outputs": [],
   "source": [
    "from openfermion.hamiltonians import jellium_model\n",
    "from openfermion.utils import Grid\n",
    "from openfermion.linalg import eigenspectrum\n",
    "from openfermion.transforms import jordan_wigner, fourier_transform\n",
    "\n",
    "#small model in 2 dimensions\n",
    "grid = Grid(dimensions=2, length=3, scale=1.0)\n",
    "spinless = True\n",
    "\n",
    "# Get the momentum Hamiltonian.\n",
    "momentum_hamiltonian = jellium_model(grid, spinless)\n",
    "momentum_qubit_operator = jordan_wigner(momentum_hamiltonian)\n",
    "momentum_qubit_operator.compress()\n",
    "print(momentum_qubit_operator)"
   ]
  },
  {
   "cell_type": "markdown",
   "metadata": {},
   "source": [
    "## Notebook using compilers.py"
   ]
  },
  {
   "cell_type": "markdown",
   "metadata": {},
   "source": [
    "The goal is to compare the functions in compilers.py to the ones witten here in both output and runtimes. The only part of the previous sections that this section will reference is \"Hamiltonian Initialization\""
   ]
  },
  {
   "cell_type": "markdown",
   "metadata": {},
   "source": [
    "### Trotter Simulation"
   ]
  },
  {
   "cell_type": "code",
   "execution_count": 9,
   "metadata": {},
   "outputs": [
    {
     "name": "stdout",
     "output_type": "stream",
     "text": [
      "[[0.92387953+0.j        ]\n",
      " [0.        +0.38268343j]]\n"
     ]
    }
   ],
   "source": [
    "#Example, does not need to be run\n",
    "#use array hamiltonian_list\n",
    "sim = TrotterSim([np.array([[0,1], [1,0]])])\n",
    "print(sim.simulate(np.pi / 2, 4)) #output state should be sigma_X |0> = |1>"
   ]
  },
  {
   "cell_type": "code",
   "execution_count": 10,
   "metadata": {},
   "outputs": [],
   "source": [
    "sim1 = TrotterSim(hamiltonian_list, 2)\n",
    "#sim1.initial_state = InitialState"
   ]
  },
  {
   "cell_type": "code",
   "execution_count": 11,
   "metadata": {},
   "outputs": [
    {
     "name": "stdout",
     "output_type": "stream",
     "text": [
      "(100,)\n",
      "Execution time in seconds: 0.45668816566467285\n"
     ]
    }
   ],
   "source": [
    "startTime = time.time()\n",
    "\n",
    "tStart = 0.001\n",
    "tFinal = 0.1\n",
    "tSteps = 100\n",
    "times = np.linspace(tStart, tFinal, tSteps)\n",
    "\n",
    "trot_compiler_inf = []\n",
    "for t in times:\n",
    "    trot_compiler_inf.append(sim1.infidelity(t, 1))\n",
    "\n",
    "log_trot_compiler_inf = np.log10(trot_compiler_inf)\n",
    "log_times = np.log10(times)\n",
    "print(log_trot_compiler_inf.shape)\n",
    "\n",
    "executionTime = (time.time() - startTime)\n",
    "print('Execution time in seconds: ' + str(executionTime))"
   ]
  },
  {
   "cell_type": "code",
   "execution_count": 12,
   "metadata": {},
   "outputs": [
    {
     "data": {
      "image/png": "[encoded data removed]",
      "text/plain": [
       "<Figure size 1080x504 with 1 Axes>"
      ]
     },
     "metadata": {
      "needs_background": "light"
     },
     "output_type": "display_data"
    }
   ],
   "source": [
    "#data = log_trot_compiler_inf[:, 0, 0]\n",
    "data = log_trot_compiler_inf\n",
    "plt.figure(figsize = (15, 7))\n",
    "plt.plot(log_times, data, 'bo-') \n",
    "plt.xlabel('log(time)', size = 12)\n",
    "plt.ylabel('log(infidelity)', size = 12)\n",
    "\n",
    "fit_points = 5 #declare the starting point to fit in the data\n",
    "\n",
    "p = np.polyfit(log_times[fit_points: -10], data[fit_points: -10], 1)\n",
    "f = np.poly1d(p)\n",
    "\n",
    "t_new = np.linspace(log_times[fit_points], log_times[-10], 50)\n",
    "y_new = f(t_new)\n",
    "\n",
    "data = symbols(\"t\")\n",
    "poly = sum(S(\"{:6.2f}\".format(v))*data**i for i, v in enumerate(p[::-1]))\n",
    "eq_latex = printing.latex(poly)\n",
    "\n",
    "plt.plot(t_new, y_new, 'r--', label=\"${}$\".format(eq_latex))\n",
    "plt.legend(fontsize=\"large\")\n",
    "plt.show()"
   ]
  },
  {
   "cell_type": "markdown",
   "metadata": {},
   "source": [
    "### QDrift Simulation"
   ]
  },
  {
   "cell_type": "code",
   "execution_count": null,
   "metadata": {},
   "outputs": [],
   "source": [
    "QDsim = QDriftSimulator(hamiltonian_list)\n",
    "QDsim.simulate(1, 1000)"
   ]
  },
  {
   "cell_type": "code",
   "execution_count": null,
   "metadata": {},
   "outputs": [],
   "source": [
    "QDsim.sample_channel_inf(1, 1, 40)"
   ]
  },
  {
   "cell_type": "code",
   "execution_count": null,
   "metadata": {},
   "outputs": [],
   "source": [
    "startTime = time.time()\n",
    "\n",
    "tStart = 0.0001\n",
    "tFinal = 0.05\n",
    "tSteps = 100\n",
    "times = np.geomspace(tStart, tFinal, tSteps) #using logspace seems to break the scaling in the figure?\n",
    "\n",
    "qd_compiler_inf = []\n",
    "for t in times:\n",
    "    qd_compiler_inf.append(QDsim.sample_channel_inf(t, 10, 200))\n",
    "\n",
    "log_qd_compiler_inf = np.log10(qd_compiler_inf)\n",
    "log_times = np.log10(times)\n",
    "print(log_qd_compiler_inf.shape)\n",
    "\n",
    "executionTime = (time.time() - startTime)\n",
    "print('Execution time in seconds: ' + str(executionTime))"
   ]
  },
  {
   "cell_type": "code",
   "execution_count": null,
   "metadata": {},
   "outputs": [],
   "source": [
    "data1 = log_qd_compiler_inf[:, 0, 0]\n",
    "plt.figure(figsize = (15, 7))\n",
    "plt.plot(log_times, data1, 'bo-') \n",
    "plt.xlabel('log(time)', size = 12)\n",
    "plt.ylabel('log(infidelity)', size = 12)\n",
    "\n",
    "fit_points = 5 #declare the starting point to fit in the data\n",
    "\n",
    "p = np.polyfit(log_times[fit_points: -1], data1[fit_points: -1], 1)\n",
    "f = np.poly1d(p)\n",
    "\n",
    "t_new = np.linspace(log_times[fit_points], log_times[-1], 50)\n",
    "y_new = f(t_new)\n",
    "\n",
    "data1 = symbols(\"t\")\n",
    "poly = sum(S(\"{:6.2f}\".format(v))*data1**i for i, v in enumerate(p[::-1]))\n",
    "eq_latex = printing.latex(poly)\n",
    "\n",
    "plt.plot(t_new, y_new, 'r--', label=\"${}$\".format(eq_latex))\n",
    "plt.legend(fontsize=\"large\")\n",
    "plt.show()"
   ]
  },
  {
   "cell_type": "markdown",
   "metadata": {},
   "source": [
    "### Composite Simulation"
   ]
  },
  {
   "cell_type": "code",
   "execution_count": 26,
   "metadata": {},
   "outputs": [
    {
     "name": "stdout",
     "output_type": "stream",
     "text": [
      "162.7858414270961\n",
      "There are 26 terms in Trotter\n",
      "There are 38 terms in QDrift\n",
      "5326.003535602994\n"
     ]
    },
    {
     "data": {
      "text/plain": [
       "array([[ 5.14512746e-01+1.56337218e-02j],\n",
       "       [ 3.23188288e-03-1.61724809e-01j],\n",
       "       [ 1.09519054e-03-2.42279501e-01j],\n",
       "       [-7.61206646e-02-1.72526294e-03j],\n",
       "       [-4.44327524e-03+1.04784687e-01j],\n",
       "       [ 3.29506426e-02+6.19691224e-04j],\n",
       "       [ 4.93583803e-02+7.20656783e-04j],\n",
       "       [ 3.03444968e-04-1.55107862e-02j],\n",
       "       [ 3.87574788e-04-8.23708060e-02j],\n",
       "       [-2.58848068e-02+1.37000016e-04j],\n",
       "       [-3.87727804e-02+3.67285596e-04j],\n",
       "       [-1.10460916e-04+1.21842699e-02j],\n",
       "       [ 1.67806268e-02+2.65962153e-04j],\n",
       "       [-3.86504467e-05-5.27362008e-03j],\n",
       "       [-1.99780822e-06-7.90002435e-03j],\n",
       "       [-2.48261512e-03-1.26771708e-05j],\n",
       "       [-9.07044788e-03+1.57171010e-01j],\n",
       "       [ 4.94225058e-02+2.22591120e-03j],\n",
       "       [ 7.40635736e-02+2.34356575e-03j],\n",
       "       [ 1.10642212e-03-2.32612979e-02j],\n",
       "       [-3.20011885e-02-2.20524534e-03j],\n",
       "       [-4.33139255e-04+1.00703884e-02j],\n",
       "       [-6.16799571e-04+1.50853041e-02j],\n",
       "       [ 4.74045540e-03+2.06731890e-04j],\n",
       "       [ 2.51792656e-02+7.72092894e-04j],\n",
       "       [ 1.45752019e-04-7.91497817e-03j],\n",
       "       [ 1.93490697e-04-1.18566512e-02j],\n",
       "       [-3.72451144e-03-1.21508086e-04j],\n",
       "       [-2.10126870e-04+5.12833182e-03j],\n",
       "       [ 1.61267008e-03+2.50469003e-05j],\n",
       "       [ 2.41533761e-03+5.96493822e-05j],\n",
       "       [ 2.11103882e-05-7.58987945e-04j],\n",
       "       [-6.13589810e-03+5.74305782e-01j],\n",
       "       [ 1.80482114e-01+5.74943058e-05j],\n",
       "       [ 2.70271970e-01-5.02066826e-03j],\n",
       "       [-3.43030608e-05-8.49524144e-02j],\n",
       "       [-1.16995701e-01-2.31138933e-03j],\n",
       "       [ 1.39374442e-04+3.67705899e-02j],\n",
       "       [ 6.29347146e-04+5.50715046e-02j],\n",
       "       [ 1.73085142e-02-1.11399070e-04j],\n",
       "       [ 9.19172951e-02+7.61928287e-04j],\n",
       "       [-4.84923212e-05-2.88857305e-02j],\n",
       "       [-4.01959632e-04-4.32645621e-02j],\n",
       "       [-1.35959535e-02-1.26134119e-04j],\n",
       "       [-3.08996539e-04+1.87259359e-02j],\n",
       "       [ 5.88500281e-03-3.91202859e-05j],\n",
       "       [ 8.81525782e-03-2.64739032e-05j],\n",
       "       [ 6.60824465e-06-2.77029262e-03j],\n",
       "       [-1.75609205e-01-3.40994481e-03j],\n",
       "       [-3.75690670e-04+5.51931336e-02j],\n",
       "       [ 8.26739613e-04+8.26630786e-02j],\n",
       "       [ 2.59795399e-02+1.53952610e-04j],\n",
       "       [ 9.88972392e-04-3.57725561e-02j],\n",
       "       [-1.12450245e-02-2.08208450e-05j],\n",
       "       [-1.68426141e-02+6.23236212e-05j],\n",
       "       [ 5.04248727e-06+5.29331996e-03j],\n",
       "       [-4.41298675e-04+2.81088980e-02j],\n",
       "       [ 8.83417636e-03+3.08035255e-05j],\n",
       "       [ 1.32322291e-02-2.69885737e-05j],\n",
       "       [ 5.93967499e-05-4.15788678e-03j],\n",
       "       [-5.72627259e-03-1.32085186e-04j],\n",
       "       [ 4.19007113e-06+1.79984855e-03j],\n",
       "       [-9.17018303e-06+2.69598053e-03j],\n",
       "       [ 8.47231405e-04+5.54640481e-06j],\n",
       "       [-4.42371623e-03+1.22971775e-01j],\n",
       "       [ 3.86558672e-02+9.73449590e-04j],\n",
       "       [ 5.79147198e-02+5.85079411e-04j],\n",
       "       [ 5.06968986e-04-1.81943338e-02j],\n",
       "       [-2.50368393e-02-1.30973651e-03j],\n",
       "       [-2.22961666e-04+7.87505624e-03j],\n",
       "       [-2.88909394e-04+1.17967564e-02j],\n",
       "       [ 3.70699214e-03+1.07760767e-04j],\n",
       "       [ 1.96898317e-02+2.05668375e-04j],\n",
       "       [ 3.79692462e-07-6.18783316e-03j],\n",
       "       [-3.45982464e-05-9.26896154e-03j],\n",
       "       [-2.91246344e-03-4.19994781e-05j],\n",
       "       [-1.03864834e-04+4.01051539e-03j],\n",
       "       [ 1.26067856e-03+2.93682910e-06j],\n",
       "       [ 1.88838756e-03+1.84905416e-05j],\n",
       "       [ 8.76220624e-06-5.93408541e-04j],\n",
       "       [-3.75889577e-02-1.91109549e-03j],\n",
       "       [-4.46656863e-04+1.18189333e-02j],\n",
       "       [-4.39001289e-04+1.77098504e-02j],\n",
       "       [ 5.56283131e-03+2.24273787e-04j],\n",
       "       [ 5.07740743e-04-7.65180570e-03j],\n",
       "       [-2.40780407e-03-9.64957658e-05j],\n",
       "       [-3.60679268e-03-1.38282048e-04j],\n",
       "       [-4.61024419e-05+1.13343491e-03j],\n",
       "       [-1.44308428e-04+6.02067777e-03j],\n",
       "       [ 1.89241076e-03+2.14548474e-05j],\n",
       "       [ 2.83480003e-03+2.72932654e-05j],\n",
       "       [ 2.27474678e-05-8.90592379e-04j],\n",
       "       [-1.22613191e-03-4.73096158e-05j],\n",
       "       [-4.91940772e-06+3.85550614e-04j],\n",
       "       [-1.28826649e-05+5.77460297e-04j],\n",
       "       [ 1.81462207e-04+4.54390579e-06j],\n",
       "       [-1.37280896e-01-2.00796043e-03j],\n",
       "       [-1.67171315e-04+4.31439092e-02j],\n",
       "       [ 9.45494912e-04+6.46126780e-02j],\n",
       "       [ 2.03077814e-02+6.40177315e-05j],\n",
       "       [ 7.83143489e-04-2.79620243e-02j],\n",
       "       [-8.78994794e-03-3.57772922e-05j],\n",
       "       [-1.31655014e-02+4.18780225e-05j],\n",
       "       [-5.89464379e-06+4.13766361e-03j],\n",
       "       [-2.72226977e-04+2.19720001e-02j],\n",
       "       [ 6.90516135e-03+1.40547801e-05j],\n",
       "       [ 1.03427381e-02-5.36839829e-05j],\n",
       "       [ 4.22238401e-05-3.24999440e-03j],\n",
       "       [-4.47563427e-03-1.11484092e-04j],\n",
       "       [-1.92912645e-06+1.40683919e-03j],\n",
       "       [-1.13820250e-05+2.10725537e-03j],\n",
       "       [ 6.62204995e-04+6.88986901e-06j],\n",
       "       [ 4.58842586e-04-4.19854235e-02j],\n",
       "       [-1.31943045e-02+2.72625922e-05j],\n",
       "       [-1.97584901e-02+3.65338929e-04j],\n",
       "       [ 1.83034665e-05+6.21054123e-03j],\n",
       "       [ 8.55241558e-03+2.00645854e-04j],\n",
       "       [-7.30347307e-06-2.68813391e-03j],\n",
       "       [-3.17387486e-05-4.02616042e-03j],\n",
       "       [-1.26535783e-03+6.98622615e-06j],\n",
       "       [-6.72019347e-03-4.95214681e-05j],\n",
       "       [ 1.10413965e-05+2.11181562e-03j],\n",
       "       [ 3.27986873e-05+3.16304945e-03j],\n",
       "       [ 9.94038552e-04+5.53599380e-06j],\n",
       "       [ 2.60655030e-05-1.36899648e-03j],\n",
       "       [-4.30248886e-04+2.89936296e-06j],\n",
       "       [-6.44484110e-04+4.01782471e-07j],\n",
       "       [-4.32564559e-07+2.02536335e-04j],\n",
       "       [ 3.25152645e-04-6.16618972e-02j],\n",
       "       [-1.93768954e-02+9.92465510e-05j],\n",
       "       [-2.90172147e-02+5.84596613e-04j],\n",
       "       [ 1.82716288e-05+9.12085654e-03j],\n",
       "       [ 1.25615859e-02+2.17475926e-04j],\n",
       "       [-2.47251621e-05-3.94778989e-03j],\n",
       "       [-5.93030437e-05-5.91293851e-03j],\n",
       "       [-1.85835681e-03+9.41741052e-06j],\n",
       "       [-9.86621477e-03+2.04499971e-04j],\n",
       "       [ 9.52577368e-05+3.09964448e-03j],\n",
       "       [ 1.60058074e-04+4.64248347e-03j],\n",
       "       [ 1.45956636e-03-2.32457754e-05j],\n",
       "       [-1.91932265e-05-2.01049915e-03j],\n",
       "       [-6.31464786e-04+2.06708485e-05j],\n",
       "       [-9.46123065e-04+2.38551363e-05j],\n",
       "       [ 5.90313936e-06+2.97362663e-04j],\n",
       "       [ 1.88471501e-02+6.31167977e-04j],\n",
       "       [ 1.23473856e-04-5.92468905e-03j],\n",
       "       [ 7.01250425e-05-8.87563468e-03j],\n",
       "       [-2.78864116e-03-6.63757203e-05j],\n",
       "       [-1.71568104e-04+3.83841093e-03j],\n",
       "       [ 1.20714918e-03+2.27576091e-05j],\n",
       "       [ 1.80816980e-03+3.10478892e-05j],\n",
       "       [ 1.13021321e-05-5.68241887e-04j],\n",
       "       [ 1.85753615e-05-3.01767881e-03j],\n",
       "       [-9.48308914e-04+5.77159109e-06j],\n",
       "       [-1.42048666e-03+1.09976372e-05j],\n",
       "       [-3.81787786e-06+4.46390225e-04j],\n",
       "       [ 6.14767407e-04+1.01369413e-05j],\n",
       "       [-1.72593281e-06-1.93201542e-04j],\n",
       "       [ 1.93026769e-07-2.89424901e-04j],\n",
       "       [-9.09547692e-05-3.44044148e-07j],\n",
       "       [ 6.88038493e-02+8.95253241e-04j],\n",
       "       [ 5.72115170e-05-2.16229113e-02j],\n",
       "       [-5.11954215e-04-3.23822824e-02j],\n",
       "       [-1.01779389e-02-2.40413937e-05j],\n",
       "       [-3.10041777e-04+1.40163153e-02j],\n",
       "       [ 4.40543477e-03-6.28907686e-06j],\n",
       "       [ 6.59825204e-03-5.69177752e-05j],\n",
       "       [-7.53731016e-06-2.07374452e-03j],\n",
       "       [ 1.13320238e-04-1.10113051e-02j],\n",
       "       [-3.46045773e-03-1.11784177e-06j],\n",
       "       [-5.18315998e-03+3.55071661e-05j],\n",
       "       [-1.90851644e-05+1.62874006e-03j],\n",
       "       [ 2.24327024e-03+4.15878106e-05j],\n",
       "       [-3.25026712e-06-7.05026225e-04j],\n",
       "       [-5.57189833e-07-1.05607469e-03j],\n",
       "       [-3.31878440e-04-1.61327298e-06j],\n",
       "       [-4.77121714e-04+2.10388278e-02j],\n",
       "       [ 6.61267873e-03+6.65626830e-05j],\n",
       "       [ 9.90451055e-03-6.24343087e-05j],\n",
       "       [ 2.99547121e-05-3.11262714e-03j],\n",
       "       [-4.28564487e-03-1.32612310e-04j],\n",
       "       [-6.93310733e-06+1.34729862e-03j],\n",
       "       [-6.58297106e-08+2.01801753e-03j],\n",
       "       [ 6.34218622e-04+1.76334416e-06j],\n",
       "       [ 3.36739667e-03+6.27467504e-05j],\n",
       "       [ 6.79466291e-06-1.05835735e-03j],\n",
       "       [ 2.11135374e-06-1.58529464e-03j],\n",
       "       [-4.98110280e-04-8.79545652e-06j],\n",
       "       [-1.78610418e-05+6.85988391e-04j],\n",
       "       [ 2.15632286e-04+1.38118076e-07j],\n",
       "       [ 3.22990522e-04+2.19906624e-06j],\n",
       "       [ 1.01030674e-06-1.01500989e-04j],\n",
       "       [ 1.47390057e-02+2.18114359e-04j],\n",
       "       [ 1.86053336e-05-4.63211448e-03j],\n",
       "       [-7.36776531e-05-6.93764989e-03j],\n",
       "       [-2.18031446e-03-1.55571428e-05j],\n",
       "       [-9.35066117e-05+3.00183090e-03j],\n",
       "       [ 9.43714608e-04+6.77591678e-06j],\n",
       "       [ 1.41354584e-03+5.37105439e-06j],\n",
       "       [ 3.72069336e-06-4.44232072e-04j],\n",
       "       [-2.60481478e-05-2.35889145e-03j],\n",
       "       [-7.41153005e-04+1.58821861e-05j],\n",
       "       [-1.11010894e-03+2.75151760e-05j],\n",
       "       [ 2.31311653e-06+3.48947986e-04j],\n",
       "       [ 4.80623132e-04+2.13423183e-06j],\n",
       "       [-2.88788933e-06-1.51004408e-04j],\n",
       "       [-2.53871274e-06-2.26226739e-04j],\n",
       "       [-7.10970887e-05+4.44229008e-07j],\n",
       "       [-1.37803410e-04+4.50631637e-03j],\n",
       "       [ 1.41652957e-03+2.48570113e-05j],\n",
       "       [ 2.12198816e-03+1.05992089e-05j],\n",
       "       [ 1.36741441e-05-6.66741325e-04j],\n",
       "       [-9.17604061e-04-4.23009466e-05j],\n",
       "       [-5.73305988e-06+2.88591087e-04j],\n",
       "       [-8.02736456e-06+4.32274853e-04j],\n",
       "       [ 1.35848711e-04+2.83963825e-06j],\n",
       "       [ 7.21457541e-04+2.45885903e-06j],\n",
       "       [-2.09012838e-06-2.26708903e-04j],\n",
       "       [-3.56222872e-06-3.39592434e-04j],\n",
       "       [-1.06721910e-04-5.78373628e-07j],\n",
       "       [-2.65232587e-06+1.46969529e-04j],\n",
       "       [ 4.61893707e-05-3.58514030e-07j],\n",
       "       [ 6.91931445e-05+1.53892932e-07j],\n",
       "       [ 1.07721477e-07-2.17445816e-05j],\n",
       "       [-3.43680630e-04+1.64453357e-02j],\n",
       "       [ 5.16870170e-03+5.24352651e-05j],\n",
       "       [ 7.74169066e-03-6.13463480e-05j],\n",
       "       [ 2.39910136e-05-2.43292271e-03j],\n",
       "       [-3.34940280e-03-1.14947433e-04j],\n",
       "       [-1.09262840e-05+1.05305432e-03j],\n",
       "       [-5.61990901e-06+1.57733958e-03j],\n",
       "       [ 4.95711678e-04+4.04927856e-06j],\n",
       "       [ 2.63195827e-03+4.82575544e-05j],\n",
       "       [ 6.60075041e-06-8.27199037e-04j],\n",
       "       [ 1.47687508e-06-1.23906525e-03j],\n",
       "       [-3.89305405e-04-7.54322297e-06j],\n",
       "       [-1.65615057e-05+5.36085806e-04j],\n",
       "       [ 1.68533190e-04+1.23887617e-06j],\n",
       "       [ 2.52434921e-04+2.98371402e-06j],\n",
       "       [ 1.33453068e-06-7.93250629e-05j],\n",
       "       [-5.02993884e-03-9.11992481e-05j],\n",
       "       [-8.11746555e-06+1.58085360e-03j],\n",
       "       [ 2.56862618e-05+2.36764326e-03j],\n",
       "       [ 7.44115334e-04+3.49181337e-06j],\n",
       "       [ 3.14552606e-05-1.02451080e-03j],\n",
       "       [-3.22078214e-04-1.45568466e-06j],\n",
       "       [-4.82415988e-04+1.00230308e-07j],\n",
       "       [-3.26589749e-07+1.51612862e-04j],\n",
       "       [-1.14681475e-05+8.05058301e-04j],\n",
       "       [ 2.53011058e-04+4.16664685e-07j],\n",
       "       [ 3.78973808e-04-1.15792077e-06j],\n",
       "       [ 1.53421694e-06-1.19084619e-04j],\n",
       "       [-1.63989444e-04-4.25620326e-06j],\n",
       "       [-8.86329822e-09+5.15479158e-05j],\n",
       "       [-5.19311582e-07+7.72125101e-05j],\n",
       "       [ 2.42643988e-05+2.30149490e-07j]])"
      ]
     },
     "execution_count": 26,
     "metadata": {},
     "output_type": "execute_result"
    }
   ],
   "source": [
    "#Warning if nb_optimizer = True the computation will not finish in your lifetime\n",
    "CompSim = CompositeSim(graph_hamiltonian_list, inner_order = 2, partition = \"prob\", rng_seed = 9, nb_optimizer = False, weight_threshold = 2, nb = 33, repartition = True)\n",
    "CompSim.simulate(0.1, 70, 4)"
   ]
  },
  {
   "cell_type": "code",
   "execution_count": 18,
   "metadata": {},
   "outputs": [
    {
     "name": "stdout",
     "output_type": "stream",
     "text": [
      "(10, 1, 1)\n",
      "Execution time in seconds: 2226.8972527980804\n"
     ]
    }
   ],
   "source": [
    "startTime = time.time()\n",
    "\n",
    "tStart = 0.01\n",
    "tFinal = 0.1\n",
    "tSteps = 10\n",
    "times = np.geomspace(tStart, tFinal, tSteps)\n",
    "\n",
    "comp_compiler_inf = []\n",
    "for t in times:\n",
    "    comp_compiler_inf.append(CompSim.sample_channel_inf(t, 50, 5, 50, False, False))\n",
    "\n",
    "log_comp_compiler_inf = np.log10(comp_compiler_inf)\n",
    "log_times = np.log10(times)\n",
    "print(log_comp_compiler_inf.shape)\n",
    "\n",
    "executionTime = (time.time() - startTime)\n",
    "print('Execution time in seconds: ' + str(executionTime))"
   ]
  },
  {
   "cell_type": "code",
   "execution_count": 19,
   "metadata": {},
   "outputs": [
    {
     "data": {
      "image/png": "[encoded data removed]",
      "text/plain": [
       "<Figure size 1080x504 with 1 Axes>"
      ]
     },
     "metadata": {
      "needs_background": "light"
     },
     "output_type": "display_data"
    }
   ],
   "source": [
    "#print(list(log_comp_compiler_inf[:, 0, 0]))\n",
    "data1 = log_comp_compiler_inf[:, 0, 0] #this dimension issue might be causing some slow down\n",
    "plt.figure(figsize = (15, 7))\n",
    "plt.plot(log_times, data1, 'bo-') \n",
    "plt.xlabel('log(time)', size = 12)\n",
    "plt.ylabel('log(infidelity)', size = 12)\n",
    "\n",
    "start_fit_points=1  #declare the starting point to fit in the data\n",
    "end_fit_points = -1\n",
    "\n",
    "p = np.polyfit(log_times[start_fit_points: end_fit_points], data1[start_fit_points: end_fit_points], 1)\n",
    "f = np.poly1d(p)\n",
    "\n",
    "t_new = np.linspace(log_times[start_fit_points], log_times[end_fit_points], 50)\n",
    "y_new = f(t_new)\n",
    "\n",
    "data1 = symbols(\"t\")\n",
    "poly = sum(S(\"{:6.2f}\".format(v))*data1**i for i, v in enumerate(p[::-1]))\n",
    "eq_latex = printing.latex(poly)\n",
    "\n",
    "#plt.ylim(-1.1, -0.8)\n",
    "#plt.locator_params('x', nbins=20)\n",
    "plt.plot(t_new, y_new, 'r--', label=\"${}$\".format(eq_latex))\n",
    "plt.legend(fontsize=\"large\")\n",
    "plt.show()"
   ]
  },
  {
   "cell_type": "code",
   "execution_count": 12,
   "metadata": {},
   "outputs": [
    {
     "data": {
      "text/plain": [
       "array([[0.00341493]])"
      ]
     },
     "execution_count": 12,
     "metadata": {},
     "output_type": "execute_result"
    }
   ],
   "source": [
    "#Testing for single times, potentially test convergence of mc_samples below\n",
    "t = 0.1 \n",
    "samples = 10\n",
    "iterations = 10\n",
    "mcsamples = 100\n",
    "do_outer_loop = False\n",
    "repartition = False\n",
    "CompSim.sample_channel_inf(t, samples, iterations, mcsamples, do_outer_loop, repartition)"
   ]
  },
  {
   "cell_type": "code",
   "execution_count": 29,
   "metadata": {
    "scrolled": true
   },
   "outputs": [
    {
     "name": "stdout",
     "output_type": "stream",
     "text": [
      "There are 4 terms in Trotter\n",
      "There are 4 terms in QDrift\n",
      "We require [828.] gates to meet an epsilon of 0.0028\n"
     ]
    }
   ],
   "source": [
    "#Test function sim_channel_performance\n",
    "epsilon = 0.0028\n",
    "CompSim1 = CompositeSim(hamiltonian_list, order = 2, partition = \"chop\", rng_seed = 9, nb_optimizer = False, weight_threshold = 2, epsilon = 0.0028)\n",
    "#CompSim1.simulate(0.1, 10, 10, False, False)\n",
    "data2 = CompSim1.sim_channel_performance(0.1, 10, 10, 100, False, False)\n",
    "print('We require ' + str(data2)  +' gates to meet an epsilon of ' + str(epsilon))"
   ]
  },
  {
   "cell_type": "code",
   "execution_count": null,
   "metadata": {},
   "outputs": [],
   "source": []
  }
 ],
 "metadata": {
  "kernelspec": {
   "display_name": "Python 3",
   "language": "python",
   "name": "python3"
  },
  "language_info": {
   "codemirror_mode": {
    "name": "ipython",
    "version": 3
   },
   "file_extension": ".py",
   "mimetype": "text/x-python",
   "name": "python",
   "nbconvert_exporter": "python",
   "pygments_lexer": "ipython3",
   "version": "3.7.4"
  }
 },
 "nbformat": 4,
 "nbformat_minor": 2
}
