{
 "cells": [
  {
   "cell_type": "code",
   "execution_count": 1,
   "metadata": {},
   "outputs": [],
   "source": [
    "import numpy as np\n",
    "import matplotlib.pyplot as plt \n",
    "%matplotlib inline\n",
    "import scipy.linalg as la\n",
    "import math\n",
    "from numpy import random\n",
    "import cmath\n",
    "import time\n",
    "from sympy import S, symbols, printing"
   ]
  },
  {
   "cell_type": "markdown",
   "metadata": {},
   "source": [
    " ### Hamiltonian Initialization"
   ]
  },
  {
   "cell_type": "code",
   "execution_count": 2,
   "metadata": {},
   "outputs": [],
   "source": [
    "X = np.array([[0, 1],\n",
    "     [1, 0]])\n",
    "Z = np.array([[1, 0],\n",
    "     [0, -1]])\n",
    "I = np.array([[1, 0],\n",
    "     [0, 1]])\n",
    "XX = np.kron(X, X) #tensor products between two Pauli's\n",
    "XZ = np.kron(X, Z)\n",
    "ZZ = np.kron(Z, Z)\n",
    "ZX = np.kron(Z, X)\n",
    "II = np.kron(I, I)\n",
    "IX = np.kron(I, X)\n",
    "XI = np.kron(X, I)\n",
    "IZ = np.kron(I, Z)\n",
    "ZI = np.kron(Z, I)"
   ]
  },
  {
   "cell_type": "code",
   "execution_count": 3,
   "metadata": {},
   "outputs": [
    {
     "name": "stdout",
     "output_type": "stream",
     "text": [
      "(8, 4, 4)\n",
      "(8, 4, 4)\n"
     ]
    }
   ],
   "source": [
    "#List of Hamiltonian decomposition terms H_j for H = \\sum_j h_j H_j\n",
    "Hlist = np.array([XX, XZ, ZX, ZZ, IX, IZ, XI, ZI])\n",
    "hj = [1.0, 2.0, 3.0, 4.0, 2.0, 1.0, 0.5, 0.25] #list of normalized coefficients\n",
    "\n",
    "print(Hlist.shape)\n",
    "\n",
    "hamiltonian_list = []\n",
    "for i in range(len(hj)):\n",
    "    hamiltonian_list.append(hj[i] * Hlist[i, :, :]);\n",
    "hamiltonian_list = np.array(hamiltonian_list)\n",
    "print(hamiltonian_list.shape)"
   ]
  },
  {
   "cell_type": "markdown",
   "metadata": {},
   "source": [
    "## Notebook using compilers.py"
   ]
  },
  {
   "cell_type": "markdown",
   "metadata": {},
   "source": [
    "The goal is to compare the functions in compilers.py to the ones witten here in both output and runtimes. The only part of the previous sections that this section will reference is \"Hamiltonian Initialization\""
   ]
  },
  {
   "cell_type": "markdown",
   "metadata": {},
   "source": [
    "### Trotter Simulation"
   ]
  },
  {
   "cell_type": "code",
   "execution_count": null,
   "metadata": {},
   "outputs": [],
   "source": [
    "from compilers import TrotterSim"
   ]
  },
  {
   "cell_type": "code",
   "execution_count": null,
   "metadata": {},
   "outputs": [],
   "source": [
    "#Example, does not need to be run\n",
    "#use array hamiltonian_list\n",
    "sim = TrotterSim([np.array([[0,1], [1,0]])])\n",
    "print(sim.simulate(np.pi / 2, 4)) #output state should be sigma_X |0> = |1>"
   ]
  },
  {
   "cell_type": "code",
   "execution_count": null,
   "metadata": {},
   "outputs": [],
   "source": [
    "sim1 = TrotterSim(hamiltonian_list, 2)\n",
    "#sim1.initial_state = InitialState"
   ]
  },
  {
   "cell_type": "code",
   "execution_count": null,
   "metadata": {},
   "outputs": [],
   "source": [
    "startTime = time.time()\n",
    "\n",
    "tStart = 0.001\n",
    "tFinal = 0.1\n",
    "tSteps = 100\n",
    "times = np.linspace(tStart, tFinal, tSteps)\n",
    "\n",
    "trot_compiler_inf = []\n",
    "for t in times:\n",
    "    trot_compiler_inf.append(sim1.infidelity(t, 1))\n",
    "\n",
    "log_trot_compiler_inf = np.log10(trot_compiler_inf)\n",
    "log_times = np.log10(times)\n",
    "print(log_trot_compiler_inf.shape)\n",
    "\n",
    "executionTime = (time.time() - startTime)\n",
    "print('Execution time in seconds: ' + str(executionTime))"
   ]
  },
  {
   "cell_type": "code",
   "execution_count": null,
   "metadata": {},
   "outputs": [],
   "source": [
    "#data = log_trot_compiler_inf[:, 0, 0]\n",
    "data = log_trot_compiler_inf\n",
    "plt.figure(figsize = (15, 7))\n",
    "plt.plot(log_times, data, 'bo-') \n",
    "plt.xlabel('log(time)', size = 12)\n",
    "plt.ylabel('log(infidelity)', size = 12)\n",
    "\n",
    "fit_points = 5 #declare the starting point to fit in the data\n",
    "\n",
    "p = np.polyfit(log_times[fit_points: -10], data[fit_points: -10], 1)\n",
    "f = np.poly1d(p)\n",
    "\n",
    "t_new = np.linspace(log_times[fit_points], log_times[-10], 50)\n",
    "y_new = f(t_new)\n",
    "\n",
    "data = symbols(\"t\")\n",
    "poly = sum(S(\"{:6.2f}\".format(v))*data**i for i, v in enumerate(p[::-1]))\n",
    "eq_latex = printing.latex(poly)\n",
    "\n",
    "plt.plot(t_new, y_new, 'r--', label=\"${}$\".format(eq_latex))\n",
    "plt.legend(fontsize=\"large\")\n",
    "plt.show()"
   ]
  },
  {
   "cell_type": "markdown",
   "metadata": {},
   "source": [
    "### Trotter Sim with Matrix Vector Mult."
   ]
  },
  {
   "cell_type": "code",
   "execution_count": null,
   "metadata": {},
   "outputs": [],
   "source": [
    "from compilers import TrotterSim2 #fourth order is broken\n",
    "sim2 = TrotterSim2(hamiltonian_list, 2)\n",
    "print(sim2.simulate(1, 1))"
   ]
  },
  {
   "cell_type": "code",
   "execution_count": null,
   "metadata": {},
   "outputs": [],
   "source": [
    "startTime = time.time()\n",
    "\n",
    "tStart = 0.0001\n",
    "tFinal = 0.01\n",
    "tSteps = 100\n",
    "times = np.linspace(tStart, tFinal, tSteps)\n",
    "\n",
    "trot_compiler_inf = []\n",
    "for t in times:\n",
    "    trot_compiler_inf.append(sim2.infidelity(t, 1))\n",
    "\n",
    "log_trot_compiler_inf = np.log10(trot_compiler_inf)\n",
    "log_times = np.log10(times)\n",
    "print(log_trot_compiler_inf.shape)\n",
    "\n",
    "#data = log_trot_compiler_inf[:, 0, 0]\n",
    "data = log_trot_compiler_inf\n",
    "executionTime = (time.time() - startTime)\n",
    "print('Execution time in seconds: ' + str(executionTime))"
   ]
  },
  {
   "cell_type": "code",
   "execution_count": null,
   "metadata": {},
   "outputs": [],
   "source": [
    "plt.figure(figsize = (15, 7))\n",
    "plt.plot(log_times, data, 'bo-') \n",
    "plt.xlabel('log(time)', size = 12)\n",
    "plt.ylabel('log(infidelity)', size = 12)\n",
    "\n",
    "fit_points = 1 #declare the starting point to fit in the data\n",
    "\n",
    "p = np.polyfit(log_times[fit_points: -10], data[fit_points: -10], 1)\n",
    "f = np.poly1d(p)\n",
    "\n",
    "t_new = np.linspace(log_times[fit_points], log_times[-10], 50)\n",
    "y_new = f(t_new)\n",
    "\n",
    "data = symbols(\"t\")\n",
    "poly = sum(S(\"{:6.2f}\".format(v))*data**i for i, v in enumerate(p[::-1]))\n",
    "eq_latex = printing.latex(poly)\n",
    "\n",
    "plt.plot(t_new, y_new, 'r--', label=\"${}$\".format(eq_latex))\n",
    "plt.legend(fontsize=\"large\")\n",
    "plt.show()"
   ]
  },
  {
   "cell_type": "markdown",
   "metadata": {},
   "source": [
    "### QDrift Simulation"
   ]
  },
  {
   "cell_type": "code",
   "execution_count": null,
   "metadata": {},
   "outputs": [],
   "source": [
    "from compilers import QDriftSimulator"
   ]
  },
  {
   "cell_type": "code",
   "execution_count": null,
   "metadata": {},
   "outputs": [],
   "source": [
    "QDsim = QDriftSimulator(hamiltonian_list)\n",
    "QDsim.simulate(1, 1000)"
   ]
  },
  {
   "cell_type": "code",
   "execution_count": null,
   "metadata": {},
   "outputs": [],
   "source": [
    "QDsim.sample_channel_inf(1, 1, 40)"
   ]
  },
  {
   "cell_type": "code",
   "execution_count": null,
   "metadata": {},
   "outputs": [],
   "source": [
    "startTime = time.time()\n",
    "\n",
    "tStart = 0.0001\n",
    "tFinal = 0.05\n",
    "tSteps = 100\n",
    "times = np.linspace(tStart, tFinal, tSteps) #using logspace seems to break the scaling in the figure?\n",
    "\n",
    "qd_compiler_inf = []\n",
    "for t in times:\n",
    "    qd_compiler_inf.append(QDsim.sample_channel_inf(t, 10, 200))\n",
    "\n",
    "log_qd_compiler_inf = np.log10(qd_compiler_inf)\n",
    "log_times = np.log10(times)\n",
    "print(log_qd_compiler_inf.shape)\n",
    "\n",
    "executionTime = (time.time() - startTime)\n",
    "print('Execution time in seconds: ' + str(executionTime))"
   ]
  },
  {
   "cell_type": "code",
   "execution_count": null,
   "metadata": {},
   "outputs": [],
   "source": [
    "data1 = log_qd_compiler_inf[:, 0, 0]\n",
    "plt.figure(figsize = (15, 7))\n",
    "plt.plot(log_times, data1, 'bo-') \n",
    "plt.xlabel('log(time)', size = 12)\n",
    "plt.ylabel('log(infidelity)', size = 12)\n",
    "\n",
    "fit_points = 5 #declare the starting point to fit in the data\n",
    "\n",
    "p = np.polyfit(log_times[fit_points: -1], data1[fit_points: -1], 1)\n",
    "f = np.poly1d(p)\n",
    "\n",
    "t_new = np.linspace(log_times[fit_points], log_times[-1], 50)\n",
    "y_new = f(t_new)\n",
    "\n",
    "data1 = symbols(\"t\")\n",
    "poly = sum(S(\"{:6.2f}\".format(v))*data1**i for i, v in enumerate(p[::-1]))\n",
    "eq_latex = printing.latex(poly)\n",
    "\n",
    "plt.plot(t_new, y_new, 'r--', label=\"${}$\".format(eq_latex))\n",
    "plt.legend(fontsize=\"large\")\n",
    "plt.show()"
   ]
  },
  {
   "cell_type": "markdown",
   "metadata": {},
   "source": [
    "### Composite Simulation"
   ]
  },
  {
   "cell_type": "code",
   "execution_count": 4,
   "metadata": {},
   "outputs": [],
   "source": [
    "from compilers import CompositeSim"
   ]
  },
  {
   "cell_type": "code",
   "execution_count": 5,
   "metadata": {},
   "outputs": [
    {
     "name": "stdout",
     "output_type": "stream",
     "text": [
      "5\n",
      "3\n"
     ]
    },
    {
     "data": {
      "text/plain": [
       "array([[ 0.58797489+0.01090594j],\n",
       "       [ 0.10147776+0.12254191j],\n",
       "       [-0.15406611+0.16897079j],\n",
       "       [ 0.00786103+0.75927797j]])"
      ]
     },
     "execution_count": 5,
     "metadata": {},
     "output_type": "execute_result"
    }
   ],
   "source": [
    "CompSim = CompositeSim(hamiltonian_list, 1, \"random\", 97)\n",
    "CompSim.simulate(0.1, 5, 10)"
   ]
  },
  {
   "cell_type": "code",
   "execution_count": 10,
   "metadata": {},
   "outputs": [
    {
     "name": "stdout",
     "output_type": "stream",
     "text": [
      "(100, 1, 1)\n",
      "Execution time in seconds: 44.486335039138794\n"
     ]
    }
   ],
   "source": [
    "startTime = time.time()\n",
    "\n",
    "tStart = 0.001\n",
    "tFinal = 0.1\n",
    "tSteps = 100\n",
    "times = np.linspace(tStart, tFinal, tSteps)\n",
    "\n",
    "comp_compiler_inf = []\n",
    "for t in times:\n",
    "    comp_compiler_inf.append(CompSim.sample_channel_inf(t, 10, 10, 100))\n",
    "\n",
    "log_comp_compiler_inf = np.log10(comp_compiler_inf)\n",
    "log_times = np.log10(times)\n",
    "print(log_comp_compiler_inf.shape)\n",
    "\n",
    "executionTime = (time.time() - startTime)\n",
    "print('Execution time in seconds: ' + str(executionTime))"
   ]
  },
  {
   "cell_type": "code",
   "execution_count": 11,
   "metadata": {},
   "outputs": [
    {
     "data": {
      "image/png": "[encoded data removed]",
      "text/plain": [
       "<Figure size 1080x504 with 1 Axes>"
      ]
     },
     "metadata": {
      "needs_background": "light"
     },
     "output_type": "display_data"
    }
   ],
   "source": [
    "data1 = log_comp_compiler_inf[:, 0, 0]\n",
    "plt.figure(figsize = (15, 7))\n",
    "plt.plot(log_times, data1, 'bo-') \n",
    "plt.xlabel('log(time)', size = 12)\n",
    "plt.ylabel('log(infidelity)', size = 12)\n",
    "\n",
    "fit_points = 5 #declare the starting point to fit in the data\n",
    "\n",
    "p = np.polyfit(log_times[fit_points: -1], data1[fit_points: -1], 1)\n",
    "f = np.poly1d(p)\n",
    "\n",
    "t_new = np.linspace(log_times[fit_points], log_times[-1], 50)\n",
    "y_new = f(t_new)\n",
    "\n",
    "data1 = symbols(\"t\")\n",
    "poly = sum(S(\"{:6.2f}\".format(v))*data1**i for i, v in enumerate(p[::-1]))\n",
    "eq_latex = printing.latex(poly)\n",
    "\n",
    "plt.plot(t_new, y_new, 'r--', label=\"${}$\".format(eq_latex))\n",
    "plt.legend(fontsize=\"large\")\n",
    "plt.show()"
   ]
  },
  {
   "cell_type": "code",
   "execution_count": null,
   "metadata": {},
   "outputs": [],
   "source": []
  }
 ],
 "metadata": {
  "kernelspec": {
   "display_name": "Python 3",
   "language": "python",
   "name": "python3"
  },
  "language_info": {
   "codemirror_mode": {
    "name": "ipython",
    "version": 3
   },
   "file_extension": ".py",
   "mimetype": "text/x-python",
   "name": "python",
   "nbconvert_exporter": "python",
   "pygments_lexer": "ipython3",
   "version": "3.7.4"
  }
 },
 "nbformat": 4,
 "nbformat_minor": 2
}
